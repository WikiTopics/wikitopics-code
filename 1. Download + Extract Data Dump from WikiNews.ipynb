{
 "cells": [
  {
   "cell_type": "code",
   "execution_count": 1,
   "id": "96e715d4",
   "metadata": {
    "_cell_guid": "b1076dfc-b9ad-4769-8c92-a6c4dae69d19",
    "_uuid": "8f2839f25d086af736a60e9eeb907d3b93b6e0e5",
    "execution": {
     "iopub.execute_input": "2024-12-04T01:19:03.047610Z",
     "iopub.status.busy": "2024-12-04T01:19:03.047072Z",
     "iopub.status.idle": "2024-12-04T01:20:41.627355Z",
     "shell.execute_reply": "2024-12-04T01:20:41.625481Z"
    },
    "papermill": {
     "duration": 98.586685,
     "end_time": "2024-12-04T01:20:41.630130",
     "exception": false,
     "start_time": "2024-12-04T01:19:03.043445",
     "status": "completed"
    },
    "tags": []
   },
   "outputs": [
    {
     "name": "stdout",
     "output_type": "stream",
     "text": [
      "Collecting mwxml\n",
      "  Downloading mwxml-0.3.4-py2.py3-none-any.whl.metadata (2.2 kB)\n",
      "Collecting mwtypes>=0.4.0 (from mwxml)\n",
      "  Downloading mwtypes-0.4.0-py2.py3-none-any.whl.metadata (1.3 kB)\n",
      "Collecting mwcli>=0.0.2 (from mwxml)\n",
      "  Downloading mwcli-0.0.3-py2.py3-none-any.whl.metadata (1.2 kB)\n",
      "Collecting para>=0.0.1 (from mwxml)\n",
      "  Downloading para-0.0.8-py3-none-any.whl.metadata (2.0 kB)\n",
      "Requirement already satisfied: jsonschema>=2.5.1 in /opt/conda/lib/python3.10/site-packages (from mwxml) (4.22.0)\n",
      "Requirement already satisfied: attrs>=22.2.0 in /opt/conda/lib/python3.10/site-packages (from jsonschema>=2.5.1->mwxml) (23.2.0)\n",
      "Requirement already satisfied: jsonschema-specifications>=2023.03.6 in /opt/conda/lib/python3.10/site-packages (from jsonschema>=2.5.1->mwxml) (2023.12.1)\n",
      "Requirement already satisfied: referencing>=0.28.4 in /opt/conda/lib/python3.10/site-packages (from jsonschema>=2.5.1->mwxml) (0.35.1)\n",
      "Requirement already satisfied: rpds-py>=0.7.1 in /opt/conda/lib/python3.10/site-packages (from jsonschema>=2.5.1->mwxml) (0.18.1)\n",
      "Requirement already satisfied: docopt in /opt/conda/lib/python3.10/site-packages (from mwcli>=0.0.2->mwxml) (0.6.2)\n",
      "Collecting jsonable>=0.3.0 (from mwtypes>=0.4.0->mwxml)\n",
      "  Downloading jsonable-0.3.1-py2.py3-none-any.whl.metadata (1.6 kB)\n",
      "Downloading mwxml-0.3.4-py2.py3-none-any.whl (27 kB)\n",
      "Downloading mwcli-0.0.3-py2.py3-none-any.whl (8.4 kB)\n",
      "Downloading mwtypes-0.4.0-py2.py3-none-any.whl (20 kB)\n",
      "Downloading para-0.0.8-py3-none-any.whl (6.5 kB)\n",
      "Downloading jsonable-0.3.1-py2.py3-none-any.whl (11 kB)\n",
      "Installing collected packages: para, jsonable, mwtypes, mwcli, mwxml\n",
      "Successfully installed jsonable-0.3.1 mwcli-0.0.3 mwtypes-0.4.0 mwxml-0.3.4 para-0.0.8\n",
      "Reading package lists...\n",
      "Building dependency tree...\n",
      "Reading state information...\n",
      "The following additional packages will be installed:\n",
      "  libcurl4 libcurl4-openssl-dev\n",
      "Suggested packages:\n",
      "  libcurl4-doc libidn11-dev libkrb5-dev libldap2-dev librtmp-dev libssh2-1-dev\n",
      "  libssl-dev doc-base\n",
      "The following NEW packages will be installed:\n",
      "  pv\n",
      "The following packages will be upgraded:\n",
      "  curl libcurl4 libcurl4-openssl-dev\n",
      "3 upgraded, 1 newly installed, 0 to remove and 54 not upgraded.\n",
      "Need to get 767 kB of archives.\n",
      "After this operation, 123 kB of additional disk space will be used.\n",
      "Get:1 http://archive.ubuntu.com/ubuntu focal-updates/main amd64 libcurl4-openssl-dev amd64 7.68.0-1ubuntu2.24 [322 kB]\n",
      "Get:2 http://archive.ubuntu.com/ubuntu focal-updates/main amd64 curl amd64 7.68.0-1ubuntu2.24 [162 kB]\n",
      "Get:3 http://archive.ubuntu.com/ubuntu focal-updates/main amd64 libcurl4 amd64 7.68.0-1ubuntu2.24 [235 kB]\n",
      "Get:4 http://archive.ubuntu.com/ubuntu focal/main amd64 pv amd64 1.6.6-1 [48.3 kB]\n"
     ]
    },
    {
     "name": "stderr",
     "output_type": "stream",
     "text": [
      "dpkg-preconfigure: unable to re-open stdin: No such file or directory\n"
     ]
    },
    {
     "name": "stdout",
     "output_type": "stream",
     "text": [
      "Fetched 767 kB in 1s (1054 kB/s)\n",
      "(Reading database ... 115958 files and directories currently installed.)\r\n",
      "Preparing to unpack .../libcurl4-openssl-dev_7.68.0-1ubuntu2.24_amd64.deb ...\r\n",
      "Unpacking libcurl4-openssl-dev:amd64 (7.68.0-1ubuntu2.24) over (7.68.0-1ubuntu2.22) ...\r\n",
      "Preparing to unpack .../curl_7.68.0-1ubuntu2.24_amd64.deb ...\r\n",
      "Unpacking curl (7.68.0-1ubuntu2.24) over (7.68.0-1ubuntu2.22) ...\r\n",
      "Preparing to unpack .../libcurl4_7.68.0-1ubuntu2.24_amd64.deb ...\r\n",
      "Unpacking libcurl4:amd64 (7.68.0-1ubuntu2.24) over (7.68.0-1ubuntu2.22) ...\r\n",
      "Selecting previously unselected package pv.\r\n",
      "Preparing to unpack .../archives/pv_1.6.6-1_amd64.deb ...\r\n",
      "Unpacking pv (1.6.6-1) ...\r\n",
      "Setting up pv (1.6.6-1) ...\r\n",
      "Setting up libcurl4:amd64 (7.68.0-1ubuntu2.24) ...\r\n",
      "Setting up curl (7.68.0-1ubuntu2.24) ...\r\n",
      "Setting up libcurl4-openssl-dev:amd64 (7.68.0-1ubuntu2.24) ...\r\n",
      "Processing triggers for man-db (2.9.1-1) ...\r\n",
      "Processing triggers for libc-bin (2.31-0ubuntu9.16) ...\r\n"
     ]
    },
    {
     "name": "stderr",
     "output_type": "stream",
     "text": [
      "curl: /opt/conda/lib/libcurl.so.4: no version information available (required by curl)\n",
      "  % Total    % Received % Xferd  Average Speed   Time    Time     Time  Current\n",
      "                                 Dload  Upload   Total   Spent    Left  Speed\n",
      "100 43.4M  100 43.4M    0     0  3855k      0  0:00:11  0:00:11 --:--:-- 4076k\n"
     ]
    }
   ],
   "source": [
    "%%bash\n",
    "\n",
    "pip install mwxml\n",
    "sudo apt-get install curl pv -y\n",
    "\n",
    "curl https://dumps.wikimedia.org/enwikinews/20241120/enwikinews-20241120-pages-articles.xml.bz2 > enwikinews-20241120-pages-articles.xml.bz2\n",
    "\n",
    "mwxml dump2revdocs enwikinews-20241120-pages-articles.xml.bz2 | pv | jq '.id as $revision_id | .page.id as $page_id | .page.namespace as $page_namespace | .page.title as $page_title | .slots.contents.main.text as $page_text | .timestamp as $last_update_timestamp | {revision_id: $revision_id, page_id: $page_id, page_namespace: $page_namespace, page_title: $page_title, page_text: $page_text, last_update_timestamp: $last_update_timestamp}' -c | jq 'select(.page_namespace == 0) | select(.page_text | (test(\"^#REDIRECT \\\\[\\\\[\") == false) and (test(\"^#redirect \\\\[\\\\[\") == false))' -c | gzip -9 > enwikinews_news_pages.jsonl.gz"
   ]
  }
 ],
 "metadata": {
  "kaggle": {
   "accelerator": "none",
   "dataSources": [],
   "dockerImageVersionId": 30804,
   "isGpuEnabled": false,
   "isInternetEnabled": true,
   "language": "python",
   "sourceType": "notebook"
  },
  "kernelspec": {
   "display_name": "Python 3",
   "language": "python",
   "name": "python3"
  },
  "language_info": {
   "codemirror_mode": {
    "name": "ipython",
    "version": 3
   },
   "file_extension": ".py",
   "mimetype": "text/x-python",
   "name": "python",
   "nbconvert_exporter": "python",
   "pygments_lexer": "ipython3",
   "version": "3.10.14"
  },
  "papermill": {
   "default_parameters": {},
   "duration": 101.825935,
   "end_time": "2024-12-04T01:20:42.057033",
   "environment_variables": {},
   "exception": null,
   "input_path": "__notebook__.ipynb",
   "output_path": "__notebook__.ipynb",
   "parameters": {},
   "start_time": "2024-12-04T01:19:00.231098",
   "version": "2.6.0"
  }
 },
 "nbformat": 4,
 "nbformat_minor": 5
}
