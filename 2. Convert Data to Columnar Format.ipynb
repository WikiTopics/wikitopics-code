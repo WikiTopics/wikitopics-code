{
 "cells": [
  {
   "cell_type": "markdown",
   "id": "c85b44eb",
   "metadata": {
    "papermill": {
     "duration": 0.012526,
     "end_time": "2024-12-11T01:55:31.147241",
     "exception": false,
     "start_time": "2024-12-11T01:55:31.134715",
     "status": "completed"
    },
    "tags": []
   },
   "source": [
    "# Step 1: Loading the Data\n",
    "\n",
    "This step is relatively self-explanatory. We load the data from the jsonlines format it was left in by the previous notebook and convert it to a columnar format."
   ]
  },
  {
   "cell_type": "code",
   "execution_count": 1,
   "id": "cd1f3946",
   "metadata": {
    "execution": {
     "iopub.execute_input": "2024-12-11T01:55:31.175301Z",
     "iopub.status.busy": "2024-12-11T01:55:31.174436Z",
     "iopub.status.idle": "2024-12-11T01:55:33.888043Z",
     "shell.execute_reply": "2024-12-11T01:55:33.886904Z"
    },
    "papermill": {
     "duration": 2.729512,
     "end_time": "2024-12-11T01:55:33.890468",
     "exception": false,
     "start_time": "2024-12-11T01:55:31.160956",
     "status": "completed"
    },
    "tags": []
   },
   "outputs": [
    {
     "name": "stderr",
     "output_type": "stream",
     "text": [
      "23956it [00:01, 12342.46it/s]\n"
     ]
    },
    {
     "data": {
      "text/html": [
       "<div><style>\n",
       ".dataframe > thead > tr,\n",
       ".dataframe > tbody > tr {\n",
       "  text-align: right;\n",
       "  white-space: pre-wrap;\n",
       "}\n",
       "</style>\n",
       "<small>shape: (23_956, 6)</small><table border=\"1\" class=\"dataframe\"><thead><tr><th>revision_id</th><th>page_id</th><th>page_namespace</th><th>page_title</th><th>page_text</th><th>last_update_timestamp</th></tr><tr><td>i64</td><td>i64</td><td>i64</td><td>str</td><td>str</td><td>str</td></tr></thead><tbody><tr><td>4568285</td><td>3</td><td>0</td><td>&quot;Main Page&quot;</td><td>&quot;&lt;templatestyles src=&quot;Main Page…</td><td>&quot;2020-06-05T08:22:20Z&quot;</td></tr><tr><td>4516743</td><td>736</td><td>0</td><td>&quot;President of China lunches wit…</td><td>&quot;{{date|November 13, 2004}}\n",
       "{{B…</td><td>&quot;2019-09-28T09:51:53Z&quot;</td></tr><tr><td>4516759</td><td>741</td><td>0</td><td>&quot;Palestinians to elect new pres…</td><td>&quot;[[File:Mahmoud abbas.jpg|frame…</td><td>&quot;2019-09-28T10:45:51Z&quot;</td></tr><tr><td>2280888</td><td>743</td><td>0</td><td>&quot;Brazilian delegation returns f…</td><td>&quot;{{date|November 13, 2004}}\n",
       "{{P…</td><td>&quot;2014-01-02T19:36:05Z&quot;</td></tr><tr><td>4516758</td><td>764</td><td>0</td><td>&quot;Hearing begins over David Hook…</td><td>&quot;{{Crime and law}}{{byline|date…</td><td>&quot;2019-09-28T10:39:36Z&quot;</td></tr><tr><td>&hellip;</td><td>&hellip;</td><td>&hellip;</td><td>&hellip;</td><td>&hellip;</td><td>&hellip;</td></tr><tr><td>4805240</td><td>3003827</td><td>0</td><td>&quot;2024 ARPS Conference&quot;</td><td>&quot;{{develop}}\n",
       "{{date|November 12…</td><td>&quot;2024-11-19T12:19:00Z&quot;</td></tr><tr><td>4805272</td><td>3003842</td><td>0</td><td>&quot;Japan&#x27;s oldest Princess Yuriko…</td><td>&quot;{{tasks|src|re-review}}{{date|…</td><td>&quot;2024-11-19T18:23:32Z&quot;</td></tr><tr><td>4804984</td><td>3003865</td><td>0</td><td>&quot;Music director PVR Raja comple…</td><td>&quot;{{delete|Spam}} __NOINDEX__{{d…</td><td>&quot;2024-11-16T09:10:37Z&quot;</td></tr><tr><td>4805304</td><td>3003969</td><td>0</td><td>&quot;US sanctions far-right Israeli…</td><td>&quot;{{review}}\n",
       "\n",
       "{{Date|November 18…</td><td>&quot;2024-11-20T05:45:46Z&quot;</td></tr><tr><td>4805279</td><td>3004021</td><td>0</td><td>&quot;Radwa mohamed (Dodo)&quot;</td><td>&quot;{{Topic cat\n",
       "|intro&nbsp;&nbsp;&nbsp;&nbsp;&nbsp;&nbsp;&nbsp;&nbsp;&nbsp;&nbsp;= …</td><td>&quot;2024-11-19T18:36:45Z&quot;</td></tr></tbody></table></div>"
      ],
      "text/plain": [
       "shape: (23_956, 6)\n",
       "┌─────────────┬─────────┬────────────────┬───────────────────┬──────────────────┬──────────────────┐\n",
       "│ revision_id ┆ page_id ┆ page_namespace ┆ page_title        ┆ page_text        ┆ last_update_time │\n",
       "│ ---         ┆ ---     ┆ ---            ┆ ---               ┆ ---              ┆ stamp            │\n",
       "│ i64         ┆ i64     ┆ i64            ┆ str               ┆ str              ┆ ---              │\n",
       "│             ┆         ┆                ┆                   ┆                  ┆ str              │\n",
       "╞═════════════╪═════════╪════════════════╪═══════════════════╪══════════════════╪══════════════════╡\n",
       "│ 4568285     ┆ 3       ┆ 0              ┆ Main Page         ┆ <templatestyles  ┆ 2020-06-05T08:22 │\n",
       "│             ┆         ┆                ┆                   ┆ src=\"Main Page…  ┆ :20Z             │\n",
       "│ 4516743     ┆ 736     ┆ 0              ┆ President of      ┆ {{date|November  ┆ 2019-09-28T09:51 │\n",
       "│             ┆         ┆                ┆ China lunches     ┆ 13, 2004}}       ┆ :53Z             │\n",
       "│             ┆         ┆                ┆ wit…              ┆ {{B…             ┆                  │\n",
       "│ 4516759     ┆ 741     ┆ 0              ┆ Palestinians to   ┆ [[File:Mahmoud   ┆ 2019-09-28T10:45 │\n",
       "│             ┆         ┆                ┆ elect new pres…   ┆ abbas.jpg|frame… ┆ :51Z             │\n",
       "│ 2280888     ┆ 743     ┆ 0              ┆ Brazilian         ┆ {{date|November  ┆ 2014-01-02T19:36 │\n",
       "│             ┆         ┆                ┆ delegation        ┆ 13, 2004}}       ┆ :05Z             │\n",
       "│             ┆         ┆                ┆ returns f…        ┆ {{P…             ┆                  │\n",
       "│ 4516758     ┆ 764     ┆ 0              ┆ Hearing begins    ┆ {{Crime and law} ┆ 2019-09-28T10:39 │\n",
       "│             ┆         ┆                ┆ over David Hook…  ┆ }{{byline|date…  ┆ :36Z             │\n",
       "│ …           ┆ …       ┆ …              ┆ …                 ┆ …                ┆ …                │\n",
       "│ 4805240     ┆ 3003827 ┆ 0              ┆ 2024 ARPS         ┆ {{develop}}      ┆ 2024-11-19T12:19 │\n",
       "│             ┆         ┆                ┆ Conference        ┆ {{date|November  ┆ :00Z             │\n",
       "│             ┆         ┆                ┆                   ┆ 12…              ┆                  │\n",
       "│ 4805272     ┆ 3003842 ┆ 0              ┆ Japan's oldest    ┆ {{tasks|src|re-r ┆ 2024-11-19T18:23 │\n",
       "│             ┆         ┆                ┆ Princess Yuriko…  ┆ eview}}{{date|…  ┆ :32Z             │\n",
       "│ 4804984     ┆ 3003865 ┆ 0              ┆ Music director    ┆ {{delete|Spam}}  ┆ 2024-11-16T09:10 │\n",
       "│             ┆         ┆                ┆ PVR Raja comple…  ┆ __NOINDEX__{{d…  ┆ :37Z             │\n",
       "│ 4805304     ┆ 3003969 ┆ 0              ┆ US sanctions      ┆ {{review}}       ┆ 2024-11-20T05:45 │\n",
       "│             ┆         ┆                ┆ far-right         ┆                  ┆ :46Z             │\n",
       "│             ┆         ┆                ┆ Israeli…          ┆ {{Date|November  ┆                  │\n",
       "│             ┆         ┆                ┆                   ┆ 18…              ┆                  │\n",
       "│ 4805279     ┆ 3004021 ┆ 0              ┆ Radwa mohamed     ┆ {{Topic cat      ┆ 2024-11-19T18:36 │\n",
       "│             ┆         ┆                ┆ (Dodo)            ┆ |intro           ┆ :45Z             │\n",
       "│             ┆         ┆                ┆                   ┆ = …              ┆                  │\n",
       "└─────────────┴─────────┴────────────────┴───────────────────┴──────────────────┴──────────────────┘"
      ]
     },
     "execution_count": 1,
     "metadata": {},
     "output_type": "execute_result"
    }
   ],
   "source": [
    "import gzip\n",
    "import json\n",
    "from tqdm import tqdm\n",
    "import polars as pl\n",
    "\n",
    "revdocs_lines = [json.loads(line) for line in tqdm(gzip.open(\"/kaggle/input/wikipedia-downloader-extractor-final-stage-1/enwikinews_news_pages.jsonl.gz\", \"rt\"))]\n",
    "df = pl.from_dicts(revdocs_lines)\n",
    "del revdocs_lines\n",
    "\n",
    "df"
   ]
  },
  {
   "cell_type": "markdown",
   "id": "66bd1e56",
   "metadata": {
    "papermill": {
     "duration": 0.012401,
     "end_time": "2024-12-11T01:55:33.916676",
     "exception": false,
     "start_time": "2024-12-11T01:55:33.904275",
     "status": "completed"
    },
    "tags": []
   },
   "source": [
    "# Step 2: Fixing issues with the Data\n",
    "\n",
    "The WikiNews website, designed to be mostly viewed by people, is not particularly organized from a computer perspective. Many pages are mostly administrative and meant for navigation as opposed to actual content. The format by which the news article refers to date is also not consistent.\n",
    "\n",
    "The text is also in a format known as WikiText, which needs to be converted to plain text. While the specifics of WikiText are not particularly important, it should be noted that `[[title]]` is a link to the page with title \"title\", and `{{template}}` or `{{template|arg1|arg2}}` are ways of instantiating a template with one or more string arguments. Much of WikiNews uses these templates to organize things - we simply need to manipulate them in a way that allows us to extract the actual article text."
   ]
  },
  {
   "cell_type": "markdown",
   "id": "1d5cd972",
   "metadata": {
    "papermill": {
     "duration": 0.012458,
     "end_time": "2024-12-11T01:55:33.941910",
     "exception": false,
     "start_time": "2024-12-11T01:55:33.929452",
     "status": "completed"
    },
    "tags": []
   },
   "source": [
    "## Issue #1 - Main page included in export\n",
    "\n",
    "The main page of WikiNews is simply a \"hub\" page that links to the current day's articles, and therefore should be removed."
   ]
  },
  {
   "cell_type": "code",
   "execution_count": 2,
   "id": "5714c732",
   "metadata": {
    "execution": {
     "iopub.execute_input": "2024-12-11T01:55:33.969030Z",
     "iopub.status.busy": "2024-12-11T01:55:33.968518Z",
     "iopub.status.idle": "2024-12-11T01:55:34.034206Z",
     "shell.execute_reply": "2024-12-11T01:55:34.032879Z"
    },
    "papermill": {
     "duration": 0.0821,
     "end_time": "2024-12-11T01:55:34.036841",
     "exception": false,
     "start_time": "2024-12-11T01:55:33.954741",
     "status": "completed"
    },
    "tags": []
   },
   "outputs": [
    {
     "name": "stdout",
     "output_type": "stream",
     "text": [
      "<templatestyles src=\"Main Page/minerva.css\" />\n",
      "<!-- DO NOT, UNDER ANY CIRCUMSTANCE, ADD CSS TO THE MAIN PAGE OR ITS TEMPLATES.\n",
      "     Use [[MediaWiki:Common.css/Main Page]] or [[MediaWiki:Common.css]] for all\n",
      "     your CSS needs. Else, beware the wrath of SGN -->\n",
      "{| class=\"the_table\"\n",
      "!colspan=\"3\"|\n",
      "{{Main page header}}\n",
      "|-\n",
      "|colspan=\"2\" class=\"lead_big upper_lead\"|\n",
      "<!-- Lead 1 -->\n",
      "{{Lead article 1}}\n",
      "|rowspan=\"3\" class=\"latest_news\" id=\"MainPage_latest_news\"|\n",
      "<!-- Latest News -->\n",
      "{{Main headlines}}\n",
      "|-\n",
      "|class=\"lead_normal upper_lead\"|\n",
      "<!-- Lead 2 -->\n",
      "{{Lead article 2}}\n",
      "|class=\"lead_normal\"|\n",
      "<!-- Lead 3 -->\n",
      "{{Lead article 3}}\n",
      "|-\n",
      "|class=\"lead_normal\"|\n",
      "<!-- Lead 4 -->\n",
      "{{Lead article 4}}\n",
      "|class=\"lead_normal\"|\n",
      "<!-- Lead 5 -->\n",
      "{{Lead article 5}}\n",
      "|-\n",
      "|colspan=\"3\" class=\"portals\"|\n",
      "{{Main page portals}}\n",
      "|-\n",
      "|class=\"main_popular\" id=\"writeAnArticleCell\"|<div id=\"mf-write\">{{Main write}}</div>\n",
      "|class=\"recent_interviews\"|{{Main interviews}}\n",
      "|class=\"original_stories\"|{{Main original}} \n",
      "|-\n",
      "|colspan=\"3\" class=\"breaker\"| <hr> \n",
      "|-\n",
      "|class=\"main_about\"|{{Main about}}\n",
      "|class=\"main_write\"|{{Main featured}}<!-- Should be: {{Main around}}-->\n",
      "|class=\"main_devel\"|{{Main around}}\n",
      "|- <!-- Templates that can be rotated in/out above:\n",
      "   Main historical, Main popular, Main interviews, Main original,\n",
      "   Main about, Main write, Main around, Main devel, Main local -->\n",
      "|colspan=\"3\"|\n",
      "----\n",
      "<span class=\"minihead\">Wikinews in other languages</span>\n",
      "{{Wikinewslang}} \n",
      "|-\n",
      "|colspan=\"3\"|\n",
      "----\n",
      "<span class=\"minihead\">Sister projects</span>\n",
      "{{Sisterprojects}} \n",
      "|}\n",
      "<!-- ugly hack for mobile--><span style=\"display:none\"><span id=\"mf-more-news\">[[Template:Latest news|» More Wikinews stories]]</span></span>\n",
      "__NOEDITSECTION__\n",
      "__NOTOC__\n",
      "\n",
      "[[Category:Portal|*]]\n",
      "[[Category:No publish]]\n",
      "\n",
      "[[ar:الصفحة الرئيسية]]\n",
      "[[bg:Начална страница]]\n",
      "[[bs:Početna strana]]\n",
      "[[ca:Portada]]\n",
      "[[cs:Wikizprávy:Hlavní strana]]\n",
      "[[de:Hauptseite]]\n",
      "[[eo:Ĉefpaĝo]]\n",
      "[[el:Κύρια Σελίδα]]\n",
      "[[es:Portada]]\n",
      "[[fa:صفحهٔ اصلی]]\n",
      "[[fi:Etusivu]]\n",
      "[[fr:Accueil]]\n",
      "[[he:עמוד ראשי]]\n",
      "[[it:Pagina principale]]\n",
      "[[ja:メインページ]]\n",
      "[[ko:대문]]\n",
      "[[no:Forside]]\n",
      "[[pl:Strona główna]]\n",
      "[[pt:Página principal]]\n",
      "[[ro:Pagina principală]]\n",
      "[[ru:Заглавная страница]]\n",
      "[[sq:Faqja Kryesore]]\n",
      "[[sr:Главна страна]]\n",
      "[[sv:Huvudsida]]\n",
      "[[ta:முதற் பக்கம்]]\n",
      "[[th:หน้าหลัก]]\n",
      "[[tr:Ana Sayfa]]\n",
      "[[uk:Головна]]\n",
      "[[zh:Wikinews:首页]]\n"
     ]
    }
   ],
   "source": [
    "print(df.filter(df[\"page_id\"] == 3)[\"page_text\"][0])"
   ]
  },
  {
   "cell_type": "code",
   "execution_count": 3,
   "id": "c23aa734",
   "metadata": {
    "execution": {
     "iopub.execute_input": "2024-12-11T01:55:34.064569Z",
     "iopub.status.busy": "2024-12-11T01:55:34.064168Z",
     "iopub.status.idle": "2024-12-11T01:55:34.076210Z",
     "shell.execute_reply": "2024-12-11T01:55:34.074864Z"
    },
    "papermill": {
     "duration": 0.028114,
     "end_time": "2024-12-11T01:55:34.078331",
     "exception": false,
     "start_time": "2024-12-11T01:55:34.050217",
     "status": "completed"
    },
    "tags": []
   },
   "outputs": [
    {
     "data": {
      "text/html": [
       "<div><style>\n",
       ".dataframe > thead > tr,\n",
       ".dataframe > tbody > tr {\n",
       "  text-align: right;\n",
       "  white-space: pre-wrap;\n",
       "}\n",
       "</style>\n",
       "<small>shape: (23_955, 6)</small><table border=\"1\" class=\"dataframe\"><thead><tr><th>revision_id</th><th>page_id</th><th>page_namespace</th><th>page_title</th><th>page_text</th><th>last_update_timestamp</th></tr><tr><td>i64</td><td>i64</td><td>i64</td><td>str</td><td>str</td><td>str</td></tr></thead><tbody><tr><td>4516743</td><td>736</td><td>0</td><td>&quot;President of China lunches wit…</td><td>&quot;{{date|November 13, 2004}}\n",
       "{{B…</td><td>&quot;2019-09-28T09:51:53Z&quot;</td></tr><tr><td>4516759</td><td>741</td><td>0</td><td>&quot;Palestinians to elect new pres…</td><td>&quot;[[File:Mahmoud abbas.jpg|frame…</td><td>&quot;2019-09-28T10:45:51Z&quot;</td></tr><tr><td>2280888</td><td>743</td><td>0</td><td>&quot;Brazilian delegation returns f…</td><td>&quot;{{date|November 13, 2004}}\n",
       "{{P…</td><td>&quot;2014-01-02T19:36:05Z&quot;</td></tr><tr><td>4516758</td><td>764</td><td>0</td><td>&quot;Hearing begins over David Hook…</td><td>&quot;{{Crime and law}}{{byline|date…</td><td>&quot;2019-09-28T10:39:36Z&quot;</td></tr><tr><td>1973838</td><td>779</td><td>0</td><td>&quot;Iran close to decision on nucl…</td><td>&quot;{{date|November 13, 2004}}\n",
       "{{I…</td><td>&quot;2013-08-21T16:07:41Z&quot;</td></tr><tr><td>&hellip;</td><td>&hellip;</td><td>&hellip;</td><td>&hellip;</td><td>&hellip;</td><td>&hellip;</td></tr><tr><td>4805240</td><td>3003827</td><td>0</td><td>&quot;2024 ARPS Conference&quot;</td><td>&quot;{{develop}}\n",
       "{{date|November 12…</td><td>&quot;2024-11-19T12:19:00Z&quot;</td></tr><tr><td>4805272</td><td>3003842</td><td>0</td><td>&quot;Japan&#x27;s oldest Princess Yuriko…</td><td>&quot;{{tasks|src|re-review}}{{date|…</td><td>&quot;2024-11-19T18:23:32Z&quot;</td></tr><tr><td>4804984</td><td>3003865</td><td>0</td><td>&quot;Music director PVR Raja comple…</td><td>&quot;{{delete|Spam}} __NOINDEX__{{d…</td><td>&quot;2024-11-16T09:10:37Z&quot;</td></tr><tr><td>4805304</td><td>3003969</td><td>0</td><td>&quot;US sanctions far-right Israeli…</td><td>&quot;{{review}}\n",
       "\n",
       "{{Date|November 18…</td><td>&quot;2024-11-20T05:45:46Z&quot;</td></tr><tr><td>4805279</td><td>3004021</td><td>0</td><td>&quot;Radwa mohamed (Dodo)&quot;</td><td>&quot;{{Topic cat\n",
       "|intro&nbsp;&nbsp;&nbsp;&nbsp;&nbsp;&nbsp;&nbsp;&nbsp;&nbsp;&nbsp;= …</td><td>&quot;2024-11-19T18:36:45Z&quot;</td></tr></tbody></table></div>"
      ],
      "text/plain": [
       "shape: (23_955, 6)\n",
       "┌─────────────┬─────────┬────────────────┬───────────────────┬──────────────────┬──────────────────┐\n",
       "│ revision_id ┆ page_id ┆ page_namespace ┆ page_title        ┆ page_text        ┆ last_update_time │\n",
       "│ ---         ┆ ---     ┆ ---            ┆ ---               ┆ ---              ┆ stamp            │\n",
       "│ i64         ┆ i64     ┆ i64            ┆ str               ┆ str              ┆ ---              │\n",
       "│             ┆         ┆                ┆                   ┆                  ┆ str              │\n",
       "╞═════════════╪═════════╪════════════════╪═══════════════════╪══════════════════╪══════════════════╡\n",
       "│ 4516743     ┆ 736     ┆ 0              ┆ President of      ┆ {{date|November  ┆ 2019-09-28T09:51 │\n",
       "│             ┆         ┆                ┆ China lunches     ┆ 13, 2004}}       ┆ :53Z             │\n",
       "│             ┆         ┆                ┆ wit…              ┆ {{B…             ┆                  │\n",
       "│ 4516759     ┆ 741     ┆ 0              ┆ Palestinians to   ┆ [[File:Mahmoud   ┆ 2019-09-28T10:45 │\n",
       "│             ┆         ┆                ┆ elect new pres…   ┆ abbas.jpg|frame… ┆ :51Z             │\n",
       "│ 2280888     ┆ 743     ┆ 0              ┆ Brazilian         ┆ {{date|November  ┆ 2014-01-02T19:36 │\n",
       "│             ┆         ┆                ┆ delegation        ┆ 13, 2004}}       ┆ :05Z             │\n",
       "│             ┆         ┆                ┆ returns f…        ┆ {{P…             ┆                  │\n",
       "│ 4516758     ┆ 764     ┆ 0              ┆ Hearing begins    ┆ {{Crime and law} ┆ 2019-09-28T10:39 │\n",
       "│             ┆         ┆                ┆ over David Hook…  ┆ }{{byline|date…  ┆ :36Z             │\n",
       "│ 1973838     ┆ 779     ┆ 0              ┆ Iran close to     ┆ {{date|November  ┆ 2013-08-21T16:07 │\n",
       "│             ┆         ┆                ┆ decision on nucl… ┆ 13, 2004}}       ┆ :41Z             │\n",
       "│             ┆         ┆                ┆                   ┆ {{I…             ┆                  │\n",
       "│ …           ┆ …       ┆ …              ┆ …                 ┆ …                ┆ …                │\n",
       "│ 4805240     ┆ 3003827 ┆ 0              ┆ 2024 ARPS         ┆ {{develop}}      ┆ 2024-11-19T12:19 │\n",
       "│             ┆         ┆                ┆ Conference        ┆ {{date|November  ┆ :00Z             │\n",
       "│             ┆         ┆                ┆                   ┆ 12…              ┆                  │\n",
       "│ 4805272     ┆ 3003842 ┆ 0              ┆ Japan's oldest    ┆ {{tasks|src|re-r ┆ 2024-11-19T18:23 │\n",
       "│             ┆         ┆                ┆ Princess Yuriko…  ┆ eview}}{{date|…  ┆ :32Z             │\n",
       "│ 4804984     ┆ 3003865 ┆ 0              ┆ Music director    ┆ {{delete|Spam}}  ┆ 2024-11-16T09:10 │\n",
       "│             ┆         ┆                ┆ PVR Raja comple…  ┆ __NOINDEX__{{d…  ┆ :37Z             │\n",
       "│ 4805304     ┆ 3003969 ┆ 0              ┆ US sanctions      ┆ {{review}}       ┆ 2024-11-20T05:45 │\n",
       "│             ┆         ┆                ┆ far-right         ┆                  ┆ :46Z             │\n",
       "│             ┆         ┆                ┆ Israeli…          ┆ {{Date|November  ┆                  │\n",
       "│             ┆         ┆                ┆                   ┆ 18…              ┆                  │\n",
       "│ 4805279     ┆ 3004021 ┆ 0              ┆ Radwa mohamed     ┆ {{Topic cat      ┆ 2024-11-19T18:36 │\n",
       "│             ┆         ┆                ┆ (Dodo)            ┆ |intro           ┆ :45Z             │\n",
       "│             ┆         ┆                ┆                   ┆ = …              ┆                  │\n",
       "└─────────────┴─────────┴────────────────┴───────────────────┴──────────────────┴──────────────────┘"
      ]
     },
     "execution_count": 3,
     "metadata": {},
     "output_type": "execute_result"
    }
   ],
   "source": [
    "df = df.filter(df[\"page_id\"] != 3)\n",
    "df"
   ]
  },
  {
   "cell_type": "markdown",
   "id": "b55b89e3",
   "metadata": {
    "papermill": {
     "duration": 0.013699,
     "end_time": "2024-12-11T01:55:34.105260",
     "exception": false,
     "start_time": "2024-12-11T01:55:34.091561",
     "status": "completed"
    },
    "tags": []
   },
   "source": [
    "## Issue #2 - Article date of creation format\n",
    "\n",
    "Most articles on WikiNews declare the date at the top of the article by instantiating a \"date\" template - for example, `{{date|November 30, 2024}}`. We need to extract this so it is accessible programmatically while not being present in the article."
   ]
  },
  {
   "cell_type": "code",
   "execution_count": 4,
   "id": "382c62cc",
   "metadata": {
    "execution": {
     "iopub.execute_input": "2024-12-11T01:55:34.134553Z",
     "iopub.status.busy": "2024-12-11T01:55:34.134180Z",
     "iopub.status.idle": "2024-12-11T01:55:34.741515Z",
     "shell.execute_reply": "2024-12-11T01:55:34.740389Z"
    },
    "papermill": {
     "duration": 0.625933,
     "end_time": "2024-12-11T01:55:34.744345",
     "exception": false,
     "start_time": "2024-12-11T01:55:34.118412",
     "status": "completed"
    },
    "tags": []
   },
   "outputs": [
    {
     "data": {
      "text/html": [
       "<div><style>\n",
       ".dataframe > thead > tr,\n",
       ".dataframe > tbody > tr {\n",
       "  text-align: right;\n",
       "  white-space: pre-wrap;\n",
       "}\n",
       "</style>\n",
       "<small>shape: (2_934, 7)</small><table border=\"1\" class=\"dataframe\"><thead><tr><th>revision_id</th><th>page_id</th><th>page_namespace</th><th>page_title</th><th>page_text</th><th>last_update_timestamp</th><th>page_dates</th></tr><tr><td>i64</td><td>i64</td><td>i64</td><td>str</td><td>str</td><td>str</td><td>list[str]</td></tr></thead><tbody><tr><td>4516759</td><td>741</td><td>0</td><td>&quot;Palestinians to elect new pres…</td><td>&quot;[[File:Mahmoud abbas.jpg|frame…</td><td>&quot;2019-09-28T10:45:51Z&quot;</td><td>[]</td></tr><tr><td>4516758</td><td>764</td><td>0</td><td>&quot;Hearing begins over David Hook…</td><td>&quot;{{Crime and law}}{{byline|date…</td><td>&quot;2019-09-28T10:39:36Z&quot;</td><td>[]</td></tr><tr><td>1975609</td><td>783</td><td>0</td><td>&quot;Iran Agrees to Suspend Uranium…</td><td>&quot;{{Iran nuclear program}}{{byli…</td><td>&quot;2013-08-25T23:36:57Z&quot;</td><td>[]</td></tr><tr><td>4516766</td><td>797</td><td>0</td><td>&quot;Brazilian soccer player&#x27;s moth…</td><td>&quot;{{Brazil}}{{byline|date=Novemb…</td><td>&quot;2019-09-28T10:59:26Z&quot;</td><td>[]</td></tr><tr><td>1886435</td><td>798</td><td>0</td><td>&quot;Colin Powell Resigns as U.S. S…</td><td>&quot;{{United States infobox}}[[Fil…</td><td>&quot;2013-04-27T00:32:50Z&quot;</td><td>[]</td></tr><tr><td>&hellip;</td><td>&hellip;</td><td>&hellip;</td><td>&hellip;</td><td>&hellip;</td><td>&hellip;</td><td>&hellip;</td></tr><tr><td>4804406</td><td>3003613</td><td>0</td><td>&quot;Potchefstroom university&quot;</td><td>&quot;{{delete|not news}}\n",
       "Also known…</td><td>&quot;2024-11-10T22:50:18Z&quot;</td><td>[]</td></tr><tr><td>4804681</td><td>3003730</td><td>0</td><td>&quot;Filter&quot;</td><td>&quot;{{delete|a3}}\n",
       "Your spirit\n",
       "\n",
       "{{h…</td><td>&quot;2024-11-13T14:19:39Z&quot;</td><td>[]</td></tr><tr><td>4804945</td><td>3003809</td><td>0</td><td>&quot;1 Ceres&quot;</td><td>&quot;{{delete|a1}}\n",
       "dwarf planet&quot;</td><td>&quot;2024-11-15T15:48:46Z&quot;</td><td>[]</td></tr><tr><td>4805304</td><td>3003969</td><td>0</td><td>&quot;US sanctions far-right Israeli…</td><td>&quot;{{review}}\n",
       "\n",
       "{{Date|November 18…</td><td>&quot;2024-11-20T05:45:46Z&quot;</td><td>[]</td></tr><tr><td>4805279</td><td>3004021</td><td>0</td><td>&quot;Radwa mohamed (Dodo)&quot;</td><td>&quot;{{Topic cat\n",
       "|intro&nbsp;&nbsp;&nbsp;&nbsp;&nbsp;&nbsp;&nbsp;&nbsp;&nbsp;&nbsp;= …</td><td>&quot;2024-11-19T18:36:45Z&quot;</td><td>[]</td></tr></tbody></table></div>"
      ],
      "text/plain": [
       "shape: (2_934, 7)\n",
       "┌─────────────┬─────────┬───────────────┬───────────────┬──────────────┬──────────────┬────────────┐\n",
       "│ revision_id ┆ page_id ┆ page_namespac ┆ page_title    ┆ page_text    ┆ last_update_ ┆ page_dates │\n",
       "│ ---         ┆ ---     ┆ e             ┆ ---           ┆ ---          ┆ timestamp    ┆ ---        │\n",
       "│ i64         ┆ i64     ┆ ---           ┆ str           ┆ str          ┆ ---          ┆ list[str]  │\n",
       "│             ┆         ┆ i64           ┆               ┆              ┆ str          ┆            │\n",
       "╞═════════════╪═════════╪═══════════════╪═══════════════╪══════════════╪══════════════╪════════════╡\n",
       "│ 4516759     ┆ 741     ┆ 0             ┆ Palestinians  ┆ [[File:Mahmo ┆ 2019-09-28T1 ┆ []         │\n",
       "│             ┆         ┆               ┆ to elect new  ┆ ud abbas.jpg ┆ 0:45:51Z     ┆            │\n",
       "│             ┆         ┆               ┆ pres…         ┆ |frame…      ┆              ┆            │\n",
       "│ 4516758     ┆ 764     ┆ 0             ┆ Hearing       ┆ {{Crime and  ┆ 2019-09-28T1 ┆ []         │\n",
       "│             ┆         ┆               ┆ begins over   ┆ law}}{{bylin ┆ 0:39:36Z     ┆            │\n",
       "│             ┆         ┆               ┆ David Hook…   ┆ e|date…      ┆              ┆            │\n",
       "│ 1975609     ┆ 783     ┆ 0             ┆ Iran Agrees   ┆ {{Iran       ┆ 2013-08-25T2 ┆ []         │\n",
       "│             ┆         ┆               ┆ to Suspend    ┆ nuclear prog ┆ 3:36:57Z     ┆            │\n",
       "│             ┆         ┆               ┆ Uranium…      ┆ ram}}{{byli… ┆              ┆            │\n",
       "│ 4516766     ┆ 797     ┆ 0             ┆ Brazilian     ┆ {{Brazil}}{{ ┆ 2019-09-28T1 ┆ []         │\n",
       "│             ┆         ┆               ┆ soccer        ┆ byline|date= ┆ 0:59:26Z     ┆            │\n",
       "│             ┆         ┆               ┆ player's      ┆ Novemb…      ┆              ┆            │\n",
       "│             ┆         ┆               ┆ moth…         ┆              ┆              ┆            │\n",
       "│ 1886435     ┆ 798     ┆ 0             ┆ Colin Powell  ┆ {{United     ┆ 2013-04-27T0 ┆ []         │\n",
       "│             ┆         ┆               ┆ Resigns as    ┆ States infob ┆ 0:32:50Z     ┆            │\n",
       "│             ┆         ┆               ┆ U.S. S…       ┆ ox}}[[Fil…   ┆              ┆            │\n",
       "│ …           ┆ …       ┆ …             ┆ …             ┆ …            ┆ …            ┆ …          │\n",
       "│ 4804406     ┆ 3003613 ┆ 0             ┆ Potchefstroom ┆ {{delete|not ┆ 2024-11-10T2 ┆ []         │\n",
       "│             ┆         ┆               ┆ university    ┆ news}}       ┆ 2:50:18Z     ┆            │\n",
       "│             ┆         ┆               ┆               ┆ Also known…  ┆              ┆            │\n",
       "│ 4804681     ┆ 3003730 ┆ 0             ┆ Filter        ┆ {{delete|a3} ┆ 2024-11-13T1 ┆ []         │\n",
       "│             ┆         ┆               ┆               ┆ }            ┆ 4:19:39Z     ┆            │\n",
       "│             ┆         ┆               ┆               ┆ Your spirit  ┆              ┆            │\n",
       "│             ┆         ┆               ┆               ┆              ┆              ┆            │\n",
       "│             ┆         ┆               ┆               ┆ {{h…         ┆              ┆            │\n",
       "│ 4804945     ┆ 3003809 ┆ 0             ┆ 1 Ceres       ┆ {{delete|a1} ┆ 2024-11-15T1 ┆ []         │\n",
       "│             ┆         ┆               ┆               ┆ }            ┆ 5:48:46Z     ┆            │\n",
       "│             ┆         ┆               ┆               ┆ dwarf planet ┆              ┆            │\n",
       "│ 4805304     ┆ 3003969 ┆ 0             ┆ US sanctions  ┆ {{review}}   ┆ 2024-11-20T0 ┆ []         │\n",
       "│             ┆         ┆               ┆ far-right     ┆              ┆ 5:45:46Z     ┆            │\n",
       "│             ┆         ┆               ┆ Israeli…      ┆ {{Date|Novem ┆              ┆            │\n",
       "│             ┆         ┆               ┆               ┆ ber 18…      ┆              ┆            │\n",
       "│ 4805279     ┆ 3004021 ┆ 0             ┆ Radwa mohamed ┆ {{Topic cat  ┆ 2024-11-19T1 ┆ []         │\n",
       "│             ┆         ┆               ┆ (Dodo)        ┆ |intro       ┆ 8:36:45Z     ┆            │\n",
       "│             ┆         ┆               ┆               ┆ = …          ┆              ┆            │\n",
       "└─────────────┴─────────┴───────────────┴───────────────┴──────────────┴──────────────┴────────────┘"
      ]
     },
     "execution_count": 4,
     "metadata": {},
     "output_type": "execute_result"
    }
   ],
   "source": [
    "import re\n",
    "article_publish_date_regex = \"{{date\\|[A-Za-z0-9,\\. ]+}}\"\n",
    "\n",
    "def get_date_elements(article_text):\n",
    "    return re.findall(article_publish_date_regex, article_text)\n",
    "\n",
    "df = df.with_columns(\n",
    "    pl.col(\"page_text\").map_elements(get_date_elements, return_dtype=pl.List(str), strategy='thread_local').alias('page_dates')\n",
    ")\n",
    "df.filter(df[\"page_dates\"].map_elements(len, return_dtype=int) == 0)"
   ]
  },
  {
   "cell_type": "code",
   "execution_count": 5,
   "id": "cf01122c",
   "metadata": {
    "execution": {
     "iopub.execute_input": "2024-12-11T01:55:34.774207Z",
     "iopub.status.busy": "2024-12-11T01:55:34.773801Z",
     "iopub.status.idle": "2024-12-11T01:55:34.780054Z",
     "shell.execute_reply": "2024-12-11T01:55:34.779044Z"
    },
    "papermill": {
     "duration": 0.024354,
     "end_time": "2024-12-11T01:55:34.782547",
     "exception": false,
     "start_time": "2024-12-11T01:55:34.758193",
     "status": "completed"
    },
    "tags": []
   },
   "outputs": [
    {
     "name": "stdout",
     "output_type": "stream",
     "text": [
      "[[File:Mahmoud abbas.jpg|frame|left|Mahmoud Abbas]] \n",
      "{{Palestine}}{{byline|date=November 14, 2004|location=[[w:Ramallah|RAMALLAH]]}} Acting president {{w|Rawhi Fattuh|Rawhi Fattuh}} has announced today that [[Palestine|Palestinian]] elections will be held on January 9. Futtuh, head of the {{w|Palestinian National Authority|Palestinian parliament}}, was sworn in hours after the death of {{w|Yasser Arafat|Yasser Arafat}} on Thursday, and Palestinian Basic Law dictates that he may only serve up to two months before elections are held.\n",
      "\n",
      "New leadership could prove to be the key to revitalizing the peace process in the {{w|Middle East|Middle East}}, as both [[Israel]] and the [[United States]] had refused to work with Arafat.\n",
      "\n",
      "The ''{{w|Haaretz|Haaretz}}'' had initially reported that former prime minister {{w|Mahmoud Abbas|Mahmoud Abbas}} was selected by the {{w|Fatah|Fatah}} central committee as their candidate for president, but Abbas has denied this, saying, \"the matter is still being discussed.\" There have also been conflicting reports on whether or not jailed Palestinian leader {{w|Marwan Barghouti|Marwan Barghouti}} will run.\n",
      "\n",
      "Barghouti is currently serving five life sentences in Israel for attacks against Israelis. Nonetheless, he remains a popular figure among Palestinians for his role in the Palestinian uprising, and could potentially win the election if he decided to run.\n",
      "\n",
      "A win by Barghouti could put Israel in an awkward spot; however an Israeli official said this week that he would not be freed, and a landslide win by Barghouti would signify to them that the Palestinians were not yet ready for peace.\n",
      "== Sources ==\n",
      "{{wikipedia|Palestinian presidential election, 2005}}\n",
      "*{{source|url=http://www.reuters.com/newsArticle.jhtml?type=worldNews&storyID=6805746\n",
      " |title=Palestinians Set Jan. 9 Election to Replace Arafat\n",
      " |author=\n",
      " |pub=Reuters\n",
      " |date=November 14, 2004\n",
      " | brokenURL = true}}\n",
      "*{{source|url=http://www.haaretz.com/hasen/pages/ShArt.jhtml?itemNo=501491\n",
      " |title=Abbas: I am not candidate for PA chairman\n",
      " |author=Arnon Regular, Aluf Benn and Nathan Guttman\n",
      " |pub=Haaretz\n",
      " |date=November 14, 2004\n",
      " | brokenURL = true}}\n",
      "*{{source|url=http://articles.latimes.com/2004/nov/14/world/fg-mideast14\n",
      " |title=Vote for Successor to Arafat Planned\n",
      " |author=Laura King\n",
      " |pub=Los Angeles Times\n",
      " |date=November 14, 2004}}\n",
      "*{{source|url=http://www.redorbit.com/news/general/102802/barghouti_to_run_for_palestinian_leader/\n",
      " |title=Barghouti to Run for Palestinian Leader\n",
      " |author=Ravi Nessman for ''[[w:Associated Press|Associated Press]]''\n",
      " |pub=redOrbit\n",
      " |date=November 13, 2004\n",
      "| brokenURL           = true\n",
      "| archiveurl          = http://web.archive.org/web/20120624051833/http://www.redorbit.com/news/general/102802/barghouti_to_run_for_palestinian_leader/\n",
      "| archivedescription  = archived on archive.org}}\n",
      "<!--\n",
      "Note: The redOrbit source above was previously the source below. However, the source is offline. Ravi Nessman is an Associated Press correspondent based in Jerusalem. The redOrbit source is by Associated Press with the same title and date, so I'm assuming the article is the same. ~~~~\n",
      "*{{source|url=http://www.guardian.co.uk/worldlatest/story/0,1280,-4613488,00.html\n",
      " |title=Barghouti to Run for Palestinian Leader\n",
      " |author=Ravi Nessman\n",
      " |pub=The Guardian\n",
      " |date=November 13, 2004}} {{Source offline}}\n",
      "-->\n",
      "\n",
      "{{publish}}\n",
      "{{archive}}\n",
      "{{PD-Article}}\n",
      "\n",
      "[[Category:Palestine]]\n",
      "[[Category:Elections]]\n",
      "[[Category:Mahmoud Abbas]]\n",
      "[[Category:Yasser Arafat]]\n",
      "[[Category:Fatah]]\n",
      "[[Category:Middle East]]\n",
      "[[Category:Palestinian National Authority]]\n"
     ]
    }
   ],
   "source": [
    "print(df.filter(df[\"page_id\"] == 741)[\"page_text\"][0])"
   ]
  },
  {
   "cell_type": "markdown",
   "id": "2e5d3536",
   "metadata": {
    "papermill": {
     "duration": 0.013808,
     "end_time": "2024-12-11T01:55:34.809881",
     "exception": false,
     "start_time": "2024-12-11T01:55:34.796073",
     "status": "completed"
    },
    "tags": []
   },
   "source": [
    "## Issue #3: date format (again)\n",
    "\n",
    "Some articles specify both a date and location using the byline template. This looks like this: `{{byline|location=[A-Za-z0-9,\\. ]+|date=[A-Za-z0-9,\\. ]+}}`. The location and date arguments in the byline template are also interchangeable. The location argument is also often a wikilink which links to a page about that location."
   ]
  },
  {
   "cell_type": "code",
   "execution_count": 6,
   "id": "3e727109",
   "metadata": {
    "execution": {
     "iopub.execute_input": "2024-12-11T01:55:34.841430Z",
     "iopub.status.busy": "2024-12-11T01:55:34.841081Z",
     "iopub.status.idle": "2024-12-11T01:55:35.371433Z",
     "shell.execute_reply": "2024-12-11T01:55:35.370296Z"
    },
    "papermill": {
     "duration": 0.549839,
     "end_time": "2024-12-11T01:55:35.373740",
     "exception": false,
     "start_time": "2024-12-11T01:55:34.823901",
     "status": "completed"
    },
    "tags": []
   },
   "outputs": [
    {
     "data": {
      "text/html": [
       "<div><style>\n",
       ".dataframe > thead > tr,\n",
       ".dataframe > tbody > tr {\n",
       "  text-align: right;\n",
       "  white-space: pre-wrap;\n",
       "}\n",
       "</style>\n",
       "<small>shape: (2_697, 7)</small><table border=\"1\" class=\"dataframe\"><thead><tr><th>revision_id</th><th>page_id</th><th>page_namespace</th><th>page_title</th><th>page_text</th><th>last_update_timestamp</th><th>page_dates</th></tr><tr><td>i64</td><td>i64</td><td>i64</td><td>str</td><td>str</td><td>str</td><td>list[str]</td></tr></thead><tbody><tr><td>1975609</td><td>783</td><td>0</td><td>&quot;Iran Agrees to Suspend Uranium…</td><td>&quot;{{Iran nuclear program}}{{byli…</td><td>&quot;2013-08-25T23:36:57Z&quot;</td><td>[]</td></tr><tr><td>4516766</td><td>797</td><td>0</td><td>&quot;Brazilian soccer player&#x27;s moth…</td><td>&quot;{{Brazil}}{{byline|date=Novemb…</td><td>&quot;2019-09-28T10:59:26Z&quot;</td><td>[]</td></tr><tr><td>2630053</td><td>880</td><td>0</td><td>&quot;Australians talk tough ahead o…</td><td>&quot;&#x27;&#x27;November 17, Brisbane, Austr…</td><td>&quot;2014-05-19T01:52:41Z&quot;</td><td>[]</td></tr><tr><td>4329095</td><td>1027</td><td>0</td><td>&quot;Kanchi Shankaracharya Jayendra…</td><td>&quot;&#x27;&#x27;Thursday, November 18 2004, …</td><td>&quot;2017-07-08T14:31:52Z&quot;</td><td>[]</td></tr><tr><td>1535509</td><td>1037</td><td>0</td><td>&quot;Kyoto Treaty becomes legally b…</td><td>&quot;&#x27;&#x27;November 18 2004, Nairobi.&#x27;&#x27;…</td><td>&quot;2012-06-21T15:27:08Z&quot;</td><td>[]</td></tr><tr><td>&hellip;</td><td>&hellip;</td><td>&hellip;</td><td>&hellip;</td><td>&hellip;</td><td>&hellip;</td><td>&hellip;</td></tr><tr><td>4804406</td><td>3003613</td><td>0</td><td>&quot;Potchefstroom university&quot;</td><td>&quot;{{delete|not news}}\n",
       "Also known…</td><td>&quot;2024-11-10T22:50:18Z&quot;</td><td>[]</td></tr><tr><td>4804681</td><td>3003730</td><td>0</td><td>&quot;Filter&quot;</td><td>&quot;{{delete|a3}}\n",
       "Your spirit\n",
       "\n",
       "{{h…</td><td>&quot;2024-11-13T14:19:39Z&quot;</td><td>[]</td></tr><tr><td>4804945</td><td>3003809</td><td>0</td><td>&quot;1 Ceres&quot;</td><td>&quot;{{delete|a1}}\n",
       "dwarf planet&quot;</td><td>&quot;2024-11-15T15:48:46Z&quot;</td><td>[]</td></tr><tr><td>4805304</td><td>3003969</td><td>0</td><td>&quot;US sanctions far-right Israeli…</td><td>&quot;{{review}}\n",
       "\n",
       "{{Date|November 18…</td><td>&quot;2024-11-20T05:45:46Z&quot;</td><td>[]</td></tr><tr><td>4805279</td><td>3004021</td><td>0</td><td>&quot;Radwa mohamed (Dodo)&quot;</td><td>&quot;{{Topic cat\n",
       "|intro&nbsp;&nbsp;&nbsp;&nbsp;&nbsp;&nbsp;&nbsp;&nbsp;&nbsp;&nbsp;= …</td><td>&quot;2024-11-19T18:36:45Z&quot;</td><td>[]</td></tr></tbody></table></div>"
      ],
      "text/plain": [
       "shape: (2_697, 7)\n",
       "┌─────────────┬─────────┬───────────────┬───────────────┬──────────────┬──────────────┬────────────┐\n",
       "│ revision_id ┆ page_id ┆ page_namespac ┆ page_title    ┆ page_text    ┆ last_update_ ┆ page_dates │\n",
       "│ ---         ┆ ---     ┆ e             ┆ ---           ┆ ---          ┆ timestamp    ┆ ---        │\n",
       "│ i64         ┆ i64     ┆ ---           ┆ str           ┆ str          ┆ ---          ┆ list[str]  │\n",
       "│             ┆         ┆ i64           ┆               ┆              ┆ str          ┆            │\n",
       "╞═════════════╪═════════╪═══════════════╪═══════════════╪══════════════╪══════════════╪════════════╡\n",
       "│ 1975609     ┆ 783     ┆ 0             ┆ Iran Agrees   ┆ {{Iran       ┆ 2013-08-25T2 ┆ []         │\n",
       "│             ┆         ┆               ┆ to Suspend    ┆ nuclear prog ┆ 3:36:57Z     ┆            │\n",
       "│             ┆         ┆               ┆ Uranium…      ┆ ram}}{{byli… ┆              ┆            │\n",
       "│ 4516766     ┆ 797     ┆ 0             ┆ Brazilian     ┆ {{Brazil}}{{ ┆ 2019-09-28T1 ┆ []         │\n",
       "│             ┆         ┆               ┆ soccer        ┆ byline|date= ┆ 0:59:26Z     ┆            │\n",
       "│             ┆         ┆               ┆ player's      ┆ Novemb…      ┆              ┆            │\n",
       "│             ┆         ┆               ┆ moth…         ┆              ┆              ┆            │\n",
       "│ 2630053     ┆ 880     ┆ 0             ┆ Australians   ┆ ''November   ┆ 2014-05-19T0 ┆ []         │\n",
       "│             ┆         ┆               ┆ talk tough    ┆ 17,          ┆ 1:52:41Z     ┆            │\n",
       "│             ┆         ┆               ┆ ahead o…      ┆ Brisbane,    ┆              ┆            │\n",
       "│             ┆         ┆               ┆               ┆ Austr…       ┆              ┆            │\n",
       "│ 4329095     ┆ 1027    ┆ 0             ┆ Kanchi Shanka ┆ ''Thursday,  ┆ 2017-07-08T1 ┆ []         │\n",
       "│             ┆         ┆               ┆ racharya      ┆ November 18  ┆ 4:31:52Z     ┆            │\n",
       "│             ┆         ┆               ┆ Jayendra…     ┆ 2004, …      ┆              ┆            │\n",
       "│ 1535509     ┆ 1037    ┆ 0             ┆ Kyoto Treaty  ┆ ''November   ┆ 2012-06-21T1 ┆ []         │\n",
       "│             ┆         ┆               ┆ becomes       ┆ 18 2004,     ┆ 5:27:08Z     ┆            │\n",
       "│             ┆         ┆               ┆ legally b…    ┆ Nairobi.''…  ┆              ┆            │\n",
       "│ …           ┆ …       ┆ …             ┆ …             ┆ …            ┆ …            ┆ …          │\n",
       "│ 4804406     ┆ 3003613 ┆ 0             ┆ Potchefstroom ┆ {{delete|not ┆ 2024-11-10T2 ┆ []         │\n",
       "│             ┆         ┆               ┆ university    ┆ news}}       ┆ 2:50:18Z     ┆            │\n",
       "│             ┆         ┆               ┆               ┆ Also known…  ┆              ┆            │\n",
       "│ 4804681     ┆ 3003730 ┆ 0             ┆ Filter        ┆ {{delete|a3} ┆ 2024-11-13T1 ┆ []         │\n",
       "│             ┆         ┆               ┆               ┆ }            ┆ 4:19:39Z     ┆            │\n",
       "│             ┆         ┆               ┆               ┆ Your spirit  ┆              ┆            │\n",
       "│             ┆         ┆               ┆               ┆              ┆              ┆            │\n",
       "│             ┆         ┆               ┆               ┆ {{h…         ┆              ┆            │\n",
       "│ 4804945     ┆ 3003809 ┆ 0             ┆ 1 Ceres       ┆ {{delete|a1} ┆ 2024-11-15T1 ┆ []         │\n",
       "│             ┆         ┆               ┆               ┆ }            ┆ 5:48:46Z     ┆            │\n",
       "│             ┆         ┆               ┆               ┆ dwarf planet ┆              ┆            │\n",
       "│ 4805304     ┆ 3003969 ┆ 0             ┆ US sanctions  ┆ {{review}}   ┆ 2024-11-20T0 ┆ []         │\n",
       "│             ┆         ┆               ┆ far-right     ┆              ┆ 5:45:46Z     ┆            │\n",
       "│             ┆         ┆               ┆ Israeli…      ┆ {{Date|Novem ┆              ┆            │\n",
       "│             ┆         ┆               ┆               ┆ ber 18…      ┆              ┆            │\n",
       "│ 4805279     ┆ 3004021 ┆ 0             ┆ Radwa mohamed ┆ {{Topic cat  ┆ 2024-11-19T1 ┆ []         │\n",
       "│             ┆         ┆               ┆ (Dodo)        ┆ |intro       ┆ 8:36:45Z     ┆            │\n",
       "│             ┆         ┆               ┆               ┆ = …          ┆              ┆            │\n",
       "└─────────────┴─────────┴───────────────┴───────────────┴──────────────┴──────────────┴────────────┘"
      ]
     },
     "execution_count": 6,
     "metadata": {},
     "output_type": "execute_result"
    }
   ],
   "source": [
    "article_publish_date_regexes = [\n",
    "    \"{{date\\|[A-Za-z0-9,\\. ]+}}\",\n",
    "    \"{{byline\\|date=[A-Za-z0-9,\\. ]+\\|location=[^}{]+}}\",\n",
    "    \"{{byline\\|location=[^}{]+\\|date=[A-Za-z0-9,\\. ]+}}\",\n",
    "]\n",
    "full_article_publish_date_regex = \"|\".join(article_publish_date_regexes)\n",
    "\n",
    "def get_date_elements(article_text):\n",
    "    return re.findall(full_article_publish_date_regex, article_text)\n",
    "\n",
    "df = df.with_columns(\n",
    "    pl.col(\"page_text\").map_elements(get_date_elements, return_dtype=pl.List(str)).alias('page_dates')\n",
    ")\n",
    "df.filter(df[\"page_dates\"].map_elements(len, return_dtype=int) == 0)"
   ]
  },
  {
   "cell_type": "code",
   "execution_count": 7,
   "id": "463872c5",
   "metadata": {
    "execution": {
     "iopub.execute_input": "2024-12-11T01:55:35.404077Z",
     "iopub.status.busy": "2024-12-11T01:55:35.403672Z",
     "iopub.status.idle": "2024-12-11T01:55:35.409786Z",
     "shell.execute_reply": "2024-12-11T01:55:35.408564Z"
    },
    "papermill": {
     "duration": 0.024341,
     "end_time": "2024-12-11T01:55:35.412654",
     "exception": false,
     "start_time": "2024-12-11T01:55:35.388313",
     "status": "completed"
    },
    "tags": []
   },
   "outputs": [
    {
     "name": "stdout",
     "output_type": "stream",
     "text": [
      "''November 17, Brisbane, Australia'' - The Australian [[w:cricket|cricket]] team has brashly talked up their chances of winning the first [[w:Trans-Tasman|trans-Tasman]] test, which is due to begin in [[w:Brisbane|Brisbane]] tomorrow.\n",
      "\n",
      "Bowler [[w:Shane Warne|Shane Warne]] has stated that he will be targeting New Zealand captain [[w:Stephen Fleming|Stephen Fleming]], [[w:Glenn McGrath|Glenn McGrath]] has revealed that he will be after [[w:Nathan Astle|Nathan Astle]], and Australian batsman [[w:Matthew Hayden|Matthew Hayden]] has vowed to hit New Zealand bowler [[w:Daniel Vettori|Daniel Vettori]] out of the ground.\n",
      "\n",
      "The New Zealand team's reaction to this Australian bravado was muted.  \"It's just history repeating itself\", said former New Zealand coach and former test player [[w:John Bracewell|John Bracewell]].  \"They just have a set of lines they've been using since I've been coming over here and it's exactly the same story, just a different name saying it. It's just repetitious\", he went on to say.  New Zealand batsman [[w:Scott Styris|Scott Styris]] went further, labelling the Australians' comments as \"a yawn\".\n",
      "\n",
      "Australia is widely tipped to win the opening match of the two test series, especially due to New Zealand's loss of frontline players [[w:James Franklin|James Franklin]], [[w:Darryl Tuffey|Darryl Tuffey]] and [[w:Shane Bond|Shane Bond]] to injury.\n",
      "\n",
      "==Sources==\n",
      "\n",
      "* Cricinfo [http://aus.cricinfo.com/link_to_database/ARCHIVE/CRICKET_NEWS/2004/NOV/103192_AUS_17NOV2004.html New Zealand lose Franklin to groin injury],  November 17, 2004\n",
      "* BBC [http://news.bbc.co.uk/sport2/hi/cricket/other_international/4015129.stm New Zealand suffer Franklin blow],  November 17, 2004\n",
      "*The New Zealand Herald [http://www.nzherald.co.nz/sports/sportsstorydisplay.cfm?storyID=3611248&thesection=sport&thesubsection=cricket&thesecondsubsection=blackcaps Black Caps shrug off Aussie sledging],  November 17, 2004\n",
      "\n",
      "{{reviewed}}\n",
      "\n",
      "{{publish}}\n",
      "{{archive}}\n",
      "[[Category:November 17, 2004]]\n",
      "[[Category:Australia]]\n",
      "[[Category:New Zealand]]\n",
      "[[Category:Cricket]]\n",
      "[[Category:Queensland]]\n",
      "[[Category:Brisbane]]\n"
     ]
    }
   ],
   "source": [
    "print(df.filter(df[\"page_id\"] == 880)[\"page_text\"][0])"
   ]
  },
  {
   "cell_type": "code",
   "execution_count": 8,
   "id": "dd5b7b4a",
   "metadata": {
    "execution": {
     "iopub.execute_input": "2024-12-11T01:55:35.444614Z",
     "iopub.status.busy": "2024-12-11T01:55:35.443746Z",
     "iopub.status.idle": "2024-12-11T01:55:36.605188Z",
     "shell.execute_reply": "2024-12-11T01:55:36.603907Z"
    },
    "papermill": {
     "duration": 1.18141,
     "end_time": "2024-12-11T01:55:36.608555",
     "exception": false,
     "start_time": "2024-12-11T01:55:35.427145",
     "status": "completed"
    },
    "tags": []
   },
   "outputs": [
    {
     "data": {
      "text/html": [
       "<div><style>\n",
       ".dataframe > thead > tr,\n",
       ".dataframe > tbody > tr {\n",
       "  text-align: right;\n",
       "  white-space: pre-wrap;\n",
       "}\n",
       "</style>\n",
       "<small>shape: (2_565, 7)</small><table border=\"1\" class=\"dataframe\"><thead><tr><th>revision_id</th><th>page_id</th><th>page_namespace</th><th>page_title</th><th>page_text</th><th>last_update_timestamp</th><th>page_dates</th></tr><tr><td>i64</td><td>i64</td><td>i64</td><td>str</td><td>str</td><td>str</td><td>list[str]</td></tr></thead><tbody><tr><td>1975609</td><td>783</td><td>0</td><td>&quot;Iran Agrees to Suspend Uranium…</td><td>&quot;{{Iran nuclear program}}{{byli…</td><td>&quot;2013-08-25T23:36:57Z&quot;</td><td>[]</td></tr><tr><td>4516766</td><td>797</td><td>0</td><td>&quot;Brazilian soccer player&#x27;s moth…</td><td>&quot;{{Brazil}}{{byline|date=Novemb…</td><td>&quot;2019-09-28T10:59:26Z&quot;</td><td>[]</td></tr><tr><td>4516748</td><td>1053</td><td>0</td><td>&quot;New Beta Version of MSN Search…</td><td>&quot;{{Microsoft}}{{byline|date=Nov…</td><td>&quot;2019-09-28T10:07:56Z&quot;</td><td>[]</td></tr><tr><td>4663471</td><td>1181</td><td>0</td><td>&quot;Ukraine election results delay…</td><td>&quot;{{Ukraine}}{{byline|date=Novem…</td><td>&quot;2022-02-26T03:49:45Z&quot;</td><td>[]</td></tr><tr><td>440494</td><td>1255</td><td>0</td><td>&quot;US Secretary of Homeland Secur…</td><td>&quot;{{Byline|date=November 30, 200…</td><td>&quot;2007-06-09T00:31:59Z&quot;</td><td>[]</td></tr><tr><td>&hellip;</td><td>&hellip;</td><td>&hellip;</td><td>&hellip;</td><td>&hellip;</td><td>&hellip;</td><td>&hellip;</td></tr><tr><td>4804406</td><td>3003613</td><td>0</td><td>&quot;Potchefstroom university&quot;</td><td>&quot;{{delete|not news}}\n",
       "Also known…</td><td>&quot;2024-11-10T22:50:18Z&quot;</td><td>[]</td></tr><tr><td>4804681</td><td>3003730</td><td>0</td><td>&quot;Filter&quot;</td><td>&quot;{{delete|a3}}\n",
       "Your spirit\n",
       "\n",
       "{{h…</td><td>&quot;2024-11-13T14:19:39Z&quot;</td><td>[]</td></tr><tr><td>4804945</td><td>3003809</td><td>0</td><td>&quot;1 Ceres&quot;</td><td>&quot;{{delete|a1}}\n",
       "dwarf planet&quot;</td><td>&quot;2024-11-15T15:48:46Z&quot;</td><td>[]</td></tr><tr><td>4805304</td><td>3003969</td><td>0</td><td>&quot;US sanctions far-right Israeli…</td><td>&quot;{{review}}\n",
       "\n",
       "{{Date|November 18…</td><td>&quot;2024-11-20T05:45:46Z&quot;</td><td>[]</td></tr><tr><td>4805279</td><td>3004021</td><td>0</td><td>&quot;Radwa mohamed (Dodo)&quot;</td><td>&quot;{{Topic cat\n",
       "|intro&nbsp;&nbsp;&nbsp;&nbsp;&nbsp;&nbsp;&nbsp;&nbsp;&nbsp;&nbsp;= …</td><td>&quot;2024-11-19T18:36:45Z&quot;</td><td>[]</td></tr></tbody></table></div>"
      ],
      "text/plain": [
       "shape: (2_565, 7)\n",
       "┌─────────────┬─────────┬───────────────┬───────────────┬──────────────┬──────────────┬────────────┐\n",
       "│ revision_id ┆ page_id ┆ page_namespac ┆ page_title    ┆ page_text    ┆ last_update_ ┆ page_dates │\n",
       "│ ---         ┆ ---     ┆ e             ┆ ---           ┆ ---          ┆ timestamp    ┆ ---        │\n",
       "│ i64         ┆ i64     ┆ ---           ┆ str           ┆ str          ┆ ---          ┆ list[str]  │\n",
       "│             ┆         ┆ i64           ┆               ┆              ┆ str          ┆            │\n",
       "╞═════════════╪═════════╪═══════════════╪═══════════════╪══════════════╪══════════════╪════════════╡\n",
       "│ 1975609     ┆ 783     ┆ 0             ┆ Iran Agrees   ┆ {{Iran       ┆ 2013-08-25T2 ┆ []         │\n",
       "│             ┆         ┆               ┆ to Suspend    ┆ nuclear prog ┆ 3:36:57Z     ┆            │\n",
       "│             ┆         ┆               ┆ Uranium…      ┆ ram}}{{byli… ┆              ┆            │\n",
       "│ 4516766     ┆ 797     ┆ 0             ┆ Brazilian     ┆ {{Brazil}}{{ ┆ 2019-09-28T1 ┆ []         │\n",
       "│             ┆         ┆               ┆ soccer        ┆ byline|date= ┆ 0:59:26Z     ┆            │\n",
       "│             ┆         ┆               ┆ player's      ┆ Novemb…      ┆              ┆            │\n",
       "│             ┆         ┆               ┆ moth…         ┆              ┆              ┆            │\n",
       "│ 4516748     ┆ 1053    ┆ 0             ┆ New Beta      ┆ {{Microsoft} ┆ 2019-09-28T1 ┆ []         │\n",
       "│             ┆         ┆               ┆ Version of    ┆ }{{byline|da ┆ 0:07:56Z     ┆            │\n",
       "│             ┆         ┆               ┆ MSN Search…   ┆ te=Nov…      ┆              ┆            │\n",
       "│ 4663471     ┆ 1181    ┆ 0             ┆ Ukraine       ┆ {{Ukraine}}{ ┆ 2022-02-26T0 ┆ []         │\n",
       "│             ┆         ┆               ┆ election      ┆ {byline|date ┆ 3:49:45Z     ┆            │\n",
       "│             ┆         ┆               ┆ results       ┆ =Novem…      ┆              ┆            │\n",
       "│             ┆         ┆               ┆ delay…        ┆              ┆              ┆            │\n",
       "│ 440494      ┆ 1255    ┆ 0             ┆ US Secretary  ┆ {{Byline|dat ┆ 2007-06-09T0 ┆ []         │\n",
       "│             ┆         ┆               ┆ of Homeland   ┆ e=November   ┆ 0:31:59Z     ┆            │\n",
       "│             ┆         ┆               ┆ Secur…        ┆ 30, 200…     ┆              ┆            │\n",
       "│ …           ┆ …       ┆ …             ┆ …             ┆ …            ┆ …            ┆ …          │\n",
       "│ 4804406     ┆ 3003613 ┆ 0             ┆ Potchefstroom ┆ {{delete|not ┆ 2024-11-10T2 ┆ []         │\n",
       "│             ┆         ┆               ┆ university    ┆ news}}       ┆ 2:50:18Z     ┆            │\n",
       "│             ┆         ┆               ┆               ┆ Also known…  ┆              ┆            │\n",
       "│ 4804681     ┆ 3003730 ┆ 0             ┆ Filter        ┆ {{delete|a3} ┆ 2024-11-13T1 ┆ []         │\n",
       "│             ┆         ┆               ┆               ┆ }            ┆ 4:19:39Z     ┆            │\n",
       "│             ┆         ┆               ┆               ┆ Your spirit  ┆              ┆            │\n",
       "│             ┆         ┆               ┆               ┆              ┆              ┆            │\n",
       "│             ┆         ┆               ┆               ┆ {{h…         ┆              ┆            │\n",
       "│ 4804945     ┆ 3003809 ┆ 0             ┆ 1 Ceres       ┆ {{delete|a1} ┆ 2024-11-15T1 ┆ []         │\n",
       "│             ┆         ┆               ┆               ┆ }            ┆ 5:48:46Z     ┆            │\n",
       "│             ┆         ┆               ┆               ┆ dwarf planet ┆              ┆            │\n",
       "│ 4805304     ┆ 3003969 ┆ 0             ┆ US sanctions  ┆ {{review}}   ┆ 2024-11-20T0 ┆ []         │\n",
       "│             ┆         ┆               ┆ far-right     ┆              ┆ 5:45:46Z     ┆            │\n",
       "│             ┆         ┆               ┆ Israeli…      ┆ {{Date|Novem ┆              ┆            │\n",
       "│             ┆         ┆               ┆               ┆ ber 18…      ┆              ┆            │\n",
       "│ 4805279     ┆ 3004021 ┆ 0             ┆ Radwa mohamed ┆ {{Topic cat  ┆ 2024-11-19T1 ┆ []         │\n",
       "│             ┆         ┆               ┆ (Dodo)        ┆ |intro       ┆ 8:36:45Z     ┆            │\n",
       "│             ┆         ┆               ┆               ┆ = …          ┆              ┆            │\n",
       "└─────────────┴─────────┴───────────────┴───────────────┴──────────────┴──────────────┴────────────┘"
      ]
     },
     "execution_count": 8,
     "metadata": {},
     "output_type": "execute_result"
    }
   ],
   "source": [
    "article_publish_date_regexes = [\n",
    "    \"{{date\\|[A-Za-z0-9,\\. ]+}}\",\n",
    "    \"{{byline\\|date=[A-Za-z0-9,\\. ]+\\|location=[^}{]+}}\",\n",
    "    \"{{byline\\|location=[^}{]+\\|date=[A-Za-z0-9,\\. ]+}}\",\n",
    "    r\"\\[\\[Category:\\s*[A-Za-z]+\\s*[0-9]+[A-Za-z]{0,2},\\s*[0-9]+\\]\\]\",\n",
    "]\n",
    "full_article_publish_date_regex = \"|\".join(article_publish_date_regexes)\n",
    "\n",
    "def get_date_elements(article_text):\n",
    "    return re.findall(full_article_publish_date_regex, article_text)\n",
    "\n",
    "df = df.with_columns(\n",
    "    pl.col(\"page_text\").map_elements(get_date_elements, return_dtype=pl.List(str)).alias('page_dates')\n",
    ")\n",
    "df.filter(df[\"page_dates\"].map_elements(len, return_dtype=int) == 0)"
   ]
  },
  {
   "cell_type": "markdown",
   "id": "9c67231b",
   "metadata": {
    "papermill": {
     "duration": 0.015994,
     "end_time": "2024-12-11T01:55:36.640902",
     "exception": false,
     "start_time": "2024-12-11T01:55:36.624908",
     "status": "completed"
    },
    "tags": []
   },
   "source": [
    "## Issue #4: redirect pages\n",
    "\n",
    "Some redirect pages were included, which start with the text `#REDIRECT` and do nothing other than redirect to a different page when loaded. These should be removed."
   ]
  },
  {
   "cell_type": "code",
   "execution_count": 9,
   "id": "bb5e30fe",
   "metadata": {
    "execution": {
     "iopub.execute_input": "2024-12-11T01:55:36.672743Z",
     "iopub.status.busy": "2024-12-11T01:55:36.672228Z",
     "iopub.status.idle": "2024-12-11T01:55:36.679057Z",
     "shell.execute_reply": "2024-12-11T01:55:36.678000Z"
    },
    "papermill": {
     "duration": 0.025679,
     "end_time": "2024-12-11T01:55:36.681489",
     "exception": false,
     "start_time": "2024-12-11T01:55:36.655810",
     "status": "completed"
    },
    "tags": []
   },
   "outputs": [
    {
     "name": "stdout",
     "output_type": "stream",
     "text": [
      "#REDIRECT: [[Main Page]]\n",
      "\n",
      "[[Category:Protected mainspace redirects]]\n",
      "[[Category:Non-news mainspace redirects]]\n"
     ]
    }
   ],
   "source": [
    "print(df.filter(df[\"page_id\"] == 1354)[\"page_text\"][0])"
   ]
  },
  {
   "cell_type": "code",
   "execution_count": 10,
   "id": "4f5eb496",
   "metadata": {
    "execution": {
     "iopub.execute_input": "2024-12-11T01:55:36.713217Z",
     "iopub.status.busy": "2024-12-11T01:55:36.712323Z",
     "iopub.status.idle": "2024-12-11T01:55:38.292085Z",
     "shell.execute_reply": "2024-12-11T01:55:38.290993Z"
    },
    "papermill": {
     "duration": 1.598096,
     "end_time": "2024-12-11T01:55:38.294359",
     "exception": false,
     "start_time": "2024-12-11T01:55:36.696263",
     "status": "completed"
    },
    "tags": []
   },
   "outputs": [
    {
     "data": {
      "text/html": [
       "<div><style>\n",
       ".dataframe > thead > tr,\n",
       ".dataframe > tbody > tr {\n",
       "  text-align: right;\n",
       "  white-space: pre-wrap;\n",
       "}\n",
       "</style>\n",
       "<small>shape: (22_136, 7)</small><table border=\"1\" class=\"dataframe\"><thead><tr><th>revision_id</th><th>page_id</th><th>page_namespace</th><th>page_title</th><th>page_text</th><th>last_update_timestamp</th><th>page_dates</th></tr><tr><td>i64</td><td>i64</td><td>i64</td><td>str</td><td>str</td><td>str</td><td>list[str]</td></tr></thead><tbody><tr><td>4516743</td><td>736</td><td>0</td><td>&quot;President of China lunches wit…</td><td>&quot;{{date|November 13, 2004}}\n",
       "{{B…</td><td>&quot;2019-09-28T09:51:53Z&quot;</td><td>[&quot;{{date|November 13, 2004}}&quot;]</td></tr><tr><td>4516759</td><td>741</td><td>0</td><td>&quot;Palestinians to elect new pres…</td><td>&quot;[[File:Mahmoud abbas.jpg|frame…</td><td>&quot;2019-09-28T10:45:51Z&quot;</td><td>[&quot;{{byline|date=November 14, 2004|location=[[w:Ramallah|RAMALLAH]]}}&quot;]</td></tr><tr><td>2280888</td><td>743</td><td>0</td><td>&quot;Brazilian delegation returns f…</td><td>&quot;{{date|November 13, 2004}}\n",
       "{{P…</td><td>&quot;2014-01-02T19:36:05Z&quot;</td><td>[&quot;{{date|November 13, 2004}}&quot;]</td></tr><tr><td>4516758</td><td>764</td><td>0</td><td>&quot;Hearing begins over David Hook…</td><td>&quot;{{Crime and law}}{{byline|date…</td><td>&quot;2019-09-28T10:39:36Z&quot;</td><td>[&quot;{{byline|date=November 15, 2004|location=[[Melbourne|MELBOURNE]], [[Victoria, Australia|Victoria]]}}&quot;]</td></tr><tr><td>1973838</td><td>779</td><td>0</td><td>&quot;Iran close to decision on nucl…</td><td>&quot;{{date|November 13, 2004}}\n",
       "{{I…</td><td>&quot;2013-08-21T16:07:41Z&quot;</td><td>[&quot;{{date|November 13, 2004}}&quot;]</td></tr><tr><td>&hellip;</td><td>&hellip;</td><td>&hellip;</td><td>&hellip;</td><td>&hellip;</td><td>&hellip;</td><td>&hellip;</td></tr><tr><td>4805240</td><td>3003827</td><td>0</td><td>&quot;2024 ARPS Conference&quot;</td><td>&quot;{{develop}}\n",
       "{{date|November 12…</td><td>&quot;2024-11-19T12:19:00Z&quot;</td><td>[&quot;{{date|November 12, 2024}}&quot;]</td></tr><tr><td>4805272</td><td>3003842</td><td>0</td><td>&quot;Japan&#x27;s oldest Princess Yuriko…</td><td>&quot;{{tasks|src|re-review}}{{date|…</td><td>&quot;2024-11-19T18:23:32Z&quot;</td><td>[&quot;{{date|November 15, 2024}}&quot;]</td></tr><tr><td>4804984</td><td>3003865</td><td>0</td><td>&quot;Music director PVR Raja comple…</td><td>&quot;{{delete|Spam}} __NOINDEX__{{d…</td><td>&quot;2024-11-16T09:10:37Z&quot;</td><td>[&quot;{{date|August 5, 2022}}&quot;]</td></tr><tr><td>4805304</td><td>3003969</td><td>0</td><td>&quot;US sanctions far-right Israeli…</td><td>&quot;{{review}}\n",
       "\n",
       "{{Date|November 18…</td><td>&quot;2024-11-20T05:45:46Z&quot;</td><td>[]</td></tr><tr><td>4805279</td><td>3004021</td><td>0</td><td>&quot;Radwa mohamed (Dodo)&quot;</td><td>&quot;{{Topic cat\n",
       "|intro&nbsp;&nbsp;&nbsp;&nbsp;&nbsp;&nbsp;&nbsp;&nbsp;&nbsp;&nbsp;= …</td><td>&quot;2024-11-19T18:36:45Z&quot;</td><td>[]</td></tr></tbody></table></div>"
      ],
      "text/plain": [
       "shape: (22_136, 7)\n",
       "┌─────────────┬─────────┬──────────────┬──────────────┬──────────────┬──────────────┬──────────────┐\n",
       "│ revision_id ┆ page_id ┆ page_namespa ┆ page_title   ┆ page_text    ┆ last_update_ ┆ page_dates   │\n",
       "│ ---         ┆ ---     ┆ ce           ┆ ---          ┆ ---          ┆ timestamp    ┆ ---          │\n",
       "│ i64         ┆ i64     ┆ ---          ┆ str          ┆ str          ┆ ---          ┆ list[str]    │\n",
       "│             ┆         ┆ i64          ┆              ┆              ┆ str          ┆              │\n",
       "╞═════════════╪═════════╪══════════════╪══════════════╪══════════════╪══════════════╪══════════════╡\n",
       "│ 4516743     ┆ 736     ┆ 0            ┆ President of ┆ {{date|Novem ┆ 2019-09-28T0 ┆ [\"{{date|Nov │\n",
       "│             ┆         ┆              ┆ China        ┆ ber 13,      ┆ 9:51:53Z     ┆ ember 13,    │\n",
       "│             ┆         ┆              ┆ lunches wit… ┆ 2004}}       ┆              ┆ 2004}}\"]     │\n",
       "│             ┆         ┆              ┆              ┆ {{B…         ┆              ┆              │\n",
       "│ 4516759     ┆ 741     ┆ 0            ┆ Palestinians ┆ [[File:Mahmo ┆ 2019-09-28T1 ┆ [\"{{byline|d │\n",
       "│             ┆         ┆              ┆ to elect new ┆ ud abbas.jpg ┆ 0:45:51Z     ┆ ate=November │\n",
       "│             ┆         ┆              ┆ pres…        ┆ |frame…      ┆              ┆ 14, 2…       │\n",
       "│ 2280888     ┆ 743     ┆ 0            ┆ Brazilian    ┆ {{date|Novem ┆ 2014-01-02T1 ┆ [\"{{date|Nov │\n",
       "│             ┆         ┆              ┆ delegation   ┆ ber 13,      ┆ 9:36:05Z     ┆ ember 13,    │\n",
       "│             ┆         ┆              ┆ returns f…   ┆ 2004}}       ┆              ┆ 2004}}\"]     │\n",
       "│             ┆         ┆              ┆              ┆ {{P…         ┆              ┆              │\n",
       "│ 4516758     ┆ 764     ┆ 0            ┆ Hearing      ┆ {{Crime and  ┆ 2019-09-28T1 ┆ [\"{{byline|d │\n",
       "│             ┆         ┆              ┆ begins over  ┆ law}}{{bylin ┆ 0:39:36Z     ┆ ate=November │\n",
       "│             ┆         ┆              ┆ David Hook…  ┆ e|date…      ┆              ┆ 15, 2…       │\n",
       "│ 1973838     ┆ 779     ┆ 0            ┆ Iran close   ┆ {{date|Novem ┆ 2013-08-21T1 ┆ [\"{{date|Nov │\n",
       "│             ┆         ┆              ┆ to decision  ┆ ber 13,      ┆ 6:07:41Z     ┆ ember 13,    │\n",
       "│             ┆         ┆              ┆ on nucl…     ┆ 2004}}       ┆              ┆ 2004}}\"]     │\n",
       "│             ┆         ┆              ┆              ┆ {{I…         ┆              ┆              │\n",
       "│ …           ┆ …       ┆ …            ┆ …            ┆ …            ┆ …            ┆ …            │\n",
       "│ 4805240     ┆ 3003827 ┆ 0            ┆ 2024 ARPS    ┆ {{develop}}  ┆ 2024-11-19T1 ┆ [\"{{date|Nov │\n",
       "│             ┆         ┆              ┆ Conference   ┆ {{date|Novem ┆ 2:19:00Z     ┆ ember 12,    │\n",
       "│             ┆         ┆              ┆              ┆ ber 12…      ┆              ┆ 2024}}\"]     │\n",
       "│ 4805272     ┆ 3003842 ┆ 0            ┆ Japan's      ┆ {{tasks|src| ┆ 2024-11-19T1 ┆ [\"{{date|Nov │\n",
       "│             ┆         ┆              ┆ oldest       ┆ re-review}}{ ┆ 8:23:32Z     ┆ ember 15,    │\n",
       "│             ┆         ┆              ┆ Princess     ┆ {date|…      ┆              ┆ 2024}}\"]     │\n",
       "│             ┆         ┆              ┆ Yuriko…      ┆              ┆              ┆              │\n",
       "│ 4804984     ┆ 3003865 ┆ 0            ┆ Music        ┆ {{delete|Spa ┆ 2024-11-16T0 ┆ [\"{{date|Aug │\n",
       "│             ┆         ┆              ┆ director PVR ┆ m}} __NOINDE ┆ 9:10:37Z     ┆ ust 5,       │\n",
       "│             ┆         ┆              ┆ Raja comple… ┆ X__{{d…      ┆              ┆ 2022}}\"]     │\n",
       "│ 4805304     ┆ 3003969 ┆ 0            ┆ US sanctions ┆ {{review}}   ┆ 2024-11-20T0 ┆ []           │\n",
       "│             ┆         ┆              ┆ far-right    ┆              ┆ 5:45:46Z     ┆              │\n",
       "│             ┆         ┆              ┆ Israeli…     ┆ {{Date|Novem ┆              ┆              │\n",
       "│             ┆         ┆              ┆              ┆ ber 18…      ┆              ┆              │\n",
       "│ 4805279     ┆ 3004021 ┆ 0            ┆ Radwa        ┆ {{Topic cat  ┆ 2024-11-19T1 ┆ []           │\n",
       "│             ┆         ┆              ┆ mohamed      ┆ |intro       ┆ 8:36:45Z     ┆              │\n",
       "│             ┆         ┆              ┆ (Dodo)       ┆ = …          ┆              ┆              │\n",
       "└─────────────┴─────────┴──────────────┴──────────────┴──────────────┴──────────────┴──────────────┘"
      ]
     },
     "execution_count": 10,
     "metadata": {},
     "output_type": "execute_result"
    }
   ],
   "source": [
    "df = df.filter(df[\"page_text\"].map_elements(lambda p:re.search(\"^\\s*#redirect\", p.lower()) == None, return_dtype=bool))\n",
    "df"
   ]
  },
  {
   "cell_type": "markdown",
   "id": "e819d26b",
   "metadata": {
    "papermill": {
     "duration": 0.01397,
     "end_time": "2024-12-11T01:55:38.323159",
     "exception": false,
     "start_time": "2024-12-11T01:55:38.309189",
     "status": "completed"
    },
    "tags": []
   },
   "source": [
    "## Issue #5: pages marked for deletion\n",
    "\n",
    "Some pages included are either deleted or marked for deletion from WikiNews. This is implemented by using the `delete` template with the syntax: `{{delete|<deletion reason>}}`. (This template expands into a large red banner saying \"This page has been marked for deletion for reason \\<reason\\>\" on the actual website.) We should remove any page containing this template from our dataset.\n",
    "\n",
    "Alternative forms of the deletion banner include `{{Delete|<deletion reason>}}` (the case of the first character doesn't matter) and `{{speedy|<deletion reason>}}` for [speedy deletion](https://en.wikinews.org/wiki/Wikinews:Criteria_for_speedy_deletion)."
   ]
  },
  {
   "cell_type": "code",
   "execution_count": 11,
   "id": "d3e212f7",
   "metadata": {
    "execution": {
     "iopub.execute_input": "2024-12-11T01:55:38.353669Z",
     "iopub.status.busy": "2024-12-11T01:55:38.353271Z",
     "iopub.status.idle": "2024-12-11T01:55:38.359326Z",
     "shell.execute_reply": "2024-12-11T01:55:38.358221Z"
    },
    "papermill": {
     "duration": 0.024522,
     "end_time": "2024-12-11T01:55:38.361931",
     "exception": false,
     "start_time": "2024-12-11T01:55:38.337409",
     "status": "completed"
    },
    "tags": []
   },
   "outputs": [
    {
     "name": "stdout",
     "output_type": "stream",
     "text": [
      "{{delete|a3}}\n",
      "{{date|September 1, 1976}}\n",
      "\n",
      "On Wednesday, Don Felder got stuck at Hotel California, where he checked in and stayed for the night. A woman stood in the doorway and showed him the way, and voices in the distance said, “Welcome to the Hotel California, what a lovely place.”\n",
      "\n",
      "{{haveyoursay}}\n",
      "\n",
      "== Sources ==\n",
      "<!--Use at least two independent sources.-->\n",
      "*{{source\n",
      "|url        = \n",
      "|title      = \n",
      "|author     = \n",
      "|pub        = \n",
      "|date       = e.g. December 31, 1999\n",
      "|archiveurl = \n",
      "}}\n",
      "*{{source\n",
      "|url        = \n",
      "|title      = \n",
      "|author     = \n",
      "|pub        = \n",
      "|date       = \n",
      "|archiveurl = \n",
      "}}\n"
     ]
    }
   ],
   "source": [
    "print(df.filter(df[\"page_id\"] == 3002171)[\"page_text\"][0])"
   ]
  },
  {
   "cell_type": "code",
   "execution_count": 12,
   "id": "7bb0cd1a",
   "metadata": {
    "execution": {
     "iopub.execute_input": "2024-12-11T01:55:38.394164Z",
     "iopub.status.busy": "2024-12-11T01:55:38.393729Z",
     "iopub.status.idle": "2024-12-11T01:55:38.444193Z",
     "shell.execute_reply": "2024-12-11T01:55:38.442888Z"
    },
    "papermill": {
     "duration": 0.069741,
     "end_time": "2024-12-11T01:55:38.446378",
     "exception": false,
     "start_time": "2024-12-11T01:55:38.376637",
     "status": "completed"
    },
    "tags": []
   },
   "outputs": [
    {
     "data": {
      "text/html": [
       "<div><style>\n",
       ".dataframe > thead > tr,\n",
       ".dataframe > tbody > tr {\n",
       "  text-align: right;\n",
       "  white-space: pre-wrap;\n",
       "}\n",
       "</style>\n",
       "<small>shape: (27, 7)</small><table border=\"1\" class=\"dataframe\"><thead><tr><th>revision_id</th><th>page_id</th><th>page_namespace</th><th>page_title</th><th>page_text</th><th>last_update_timestamp</th><th>page_dates</th></tr><tr><td>i64</td><td>i64</td><td>i64</td><td>str</td><td>str</td><td>str</td><td>list[str]</td></tr></thead><tbody><tr><td>4800971</td><td>3002171</td><td>0</td><td>&quot;Eagles member Felder gets stuc…</td><td>&quot;{{delete|a3}}\n",
       "{{date|September…</td><td>&quot;2024-10-09T13:15:00Z&quot;</td><td>[&quot;{{date|September 1, 1976}}&quot;]</td></tr><tr><td>4801814</td><td>3002220</td><td>0</td><td>&quot;Hotel California hasn’t had “t…</td><td>&quot;{{delete|a3}}\n",
       "{{date|June 21, …</td><td>&quot;2024-10-16T13:56:17Z&quot;</td><td>[&quot;{{date|June 21, 1974}}&quot;]</td></tr><tr><td>4802559</td><td>3002329</td><td>0</td><td>&quot;Florida officials warn hurrica…</td><td>&quot;{{Delete|1=Author&#x27;s request}}\n",
       "…</td><td>&quot;2024-10-22T00:02:19Z&quot;</td><td>[&quot;{{date|October 12, 2024}}&quot;]</td></tr><tr><td>4801449</td><td>3002361</td><td>0</td><td>&quot;How to Craft Effective Global …</td><td>&quot;{{speedy|spam}}\n",
       "== &#x27;&#x27;&#x27;&#x27;&#x27;How to…</td><td>&quot;2024-10-13T14:35:56Z&quot;</td><td>[]</td></tr><tr><td>4801716</td><td>3002384</td><td>0</td><td>&quot;Drone attack hurts more than 6…</td><td>&quot;{{delete|Author request please…</td><td>&quot;2024-10-15T18:01:10Z&quot;</td><td>[&quot;{{date|October 13, 2024}}&quot;]</td></tr><tr><td>&hellip;</td><td>&hellip;</td><td>&hellip;</td><td>&hellip;</td><td>&hellip;</td><td>&hellip;</td><td>&hellip;</td></tr><tr><td>4804681</td><td>3003730</td><td>0</td><td>&quot;Filter&quot;</td><td>&quot;{{delete|a3}}\n",
       "Your spirit\n",
       "\n",
       "{{h…</td><td>&quot;2024-11-13T14:19:39Z&quot;</td><td>[]</td></tr><tr><td>4804682</td><td>3003731</td><td>0</td><td>&quot;Number of seconds in days&quot;</td><td>&quot;{{delete|a3}}\n",
       "{{date|November …</td><td>&quot;2024-11-13T14:19:54Z&quot;</td><td>[&quot;{{date|November 13, 2024}}&quot;]</td></tr><tr><td>4804783</td><td>3003774</td><td>0</td><td>&quot;Sdad&quot;</td><td>&quot;{{delete|nonsense}}\n",
       "{{develop}…</td><td>&quot;2024-11-14T00:38:38Z&quot;</td><td>[&quot;{{date|November 13, 2024}}&quot;]</td></tr><tr><td>4804945</td><td>3003809</td><td>0</td><td>&quot;1 Ceres&quot;</td><td>&quot;{{delete|a1}}\n",
       "dwarf planet&quot;</td><td>&quot;2024-11-15T15:48:46Z&quot;</td><td>[]</td></tr><tr><td>4804984</td><td>3003865</td><td>0</td><td>&quot;Music director PVR Raja comple…</td><td>&quot;{{delete|Spam}} __NOINDEX__{{d…</td><td>&quot;2024-11-16T09:10:37Z&quot;</td><td>[&quot;{{date|August 5, 2022}}&quot;]</td></tr></tbody></table></div>"
      ],
      "text/plain": [
       "shape: (27, 7)\n",
       "┌─────────────┬─────────┬──────────────┬──────────────┬──────────────┬──────────────┬──────────────┐\n",
       "│ revision_id ┆ page_id ┆ page_namespa ┆ page_title   ┆ page_text    ┆ last_update_ ┆ page_dates   │\n",
       "│ ---         ┆ ---     ┆ ce           ┆ ---          ┆ ---          ┆ timestamp    ┆ ---          │\n",
       "│ i64         ┆ i64     ┆ ---          ┆ str          ┆ str          ┆ ---          ┆ list[str]    │\n",
       "│             ┆         ┆ i64          ┆              ┆              ┆ str          ┆              │\n",
       "╞═════════════╪═════════╪══════════════╪══════════════╪══════════════╪══════════════╪══════════════╡\n",
       "│ 4800971     ┆ 3002171 ┆ 0            ┆ Eagles       ┆ {{delete|a3} ┆ 2024-10-09T1 ┆ [\"{{date|Sep │\n",
       "│             ┆         ┆              ┆ member       ┆ }            ┆ 3:15:00Z     ┆ tember 1,    │\n",
       "│             ┆         ┆              ┆ Felder gets  ┆ {{date|Septe ┆              ┆ 1976}}\"]     │\n",
       "│             ┆         ┆              ┆ stuc…        ┆ mber…        ┆              ┆              │\n",
       "│ 4801814     ┆ 3002220 ┆ 0            ┆ Hotel        ┆ {{delete|a3} ┆ 2024-10-16T1 ┆ [\"{{date|Jun │\n",
       "│             ┆         ┆              ┆ California   ┆ }            ┆ 3:56:17Z     ┆ e 21,        │\n",
       "│             ┆         ┆              ┆ hasn’t had   ┆ {{date|June  ┆              ┆ 1974}}\"]     │\n",
       "│             ┆         ┆              ┆ “t…          ┆ 21, …        ┆              ┆              │\n",
       "│ 4802559     ┆ 3002329 ┆ 0            ┆ Florida      ┆ {{Delete|1=A ┆ 2024-10-22T0 ┆ [\"{{date|Oct │\n",
       "│             ┆         ┆              ┆ officials    ┆ uthor's      ┆ 0:02:19Z     ┆ ober 12,     │\n",
       "│             ┆         ┆              ┆ warn         ┆ request}}    ┆              ┆ 2024}}\"]     │\n",
       "│             ┆         ┆              ┆ hurrica…     ┆ …            ┆              ┆              │\n",
       "│ 4801449     ┆ 3002361 ┆ 0            ┆ How to Craft ┆ {{speedy|spa ┆ 2024-10-13T1 ┆ []           │\n",
       "│             ┆         ┆              ┆ Effective    ┆ m}}          ┆ 4:35:56Z     ┆              │\n",
       "│             ┆         ┆              ┆ Global …     ┆ == '''''How  ┆              ┆              │\n",
       "│             ┆         ┆              ┆              ┆ to…          ┆              ┆              │\n",
       "│ 4801716     ┆ 3002384 ┆ 0            ┆ Drone attack ┆ {{delete|Aut ┆ 2024-10-15T1 ┆ [\"{{date|Oct │\n",
       "│             ┆         ┆              ┆ hurts more   ┆ hor request  ┆ 8:01:10Z     ┆ ober 13,     │\n",
       "│             ┆         ┆              ┆ than 6…      ┆ please…      ┆              ┆ 2024}}\"]     │\n",
       "│ …           ┆ …       ┆ …            ┆ …            ┆ …            ┆ …            ┆ …            │\n",
       "│ 4804681     ┆ 3003730 ┆ 0            ┆ Filter       ┆ {{delete|a3} ┆ 2024-11-13T1 ┆ []           │\n",
       "│             ┆         ┆              ┆              ┆ }            ┆ 4:19:39Z     ┆              │\n",
       "│             ┆         ┆              ┆              ┆ Your spirit  ┆              ┆              │\n",
       "│             ┆         ┆              ┆              ┆              ┆              ┆              │\n",
       "│             ┆         ┆              ┆              ┆ {{h…         ┆              ┆              │\n",
       "│ 4804682     ┆ 3003731 ┆ 0            ┆ Number of    ┆ {{delete|a3} ┆ 2024-11-13T1 ┆ [\"{{date|Nov │\n",
       "│             ┆         ┆              ┆ seconds in   ┆ }            ┆ 4:19:54Z     ┆ ember 13,    │\n",
       "│             ┆         ┆              ┆ days         ┆ {{date|Novem ┆              ┆ 2024}}\"]     │\n",
       "│             ┆         ┆              ┆              ┆ ber …        ┆              ┆              │\n",
       "│ 4804783     ┆ 3003774 ┆ 0            ┆ Sdad         ┆ {{delete|non ┆ 2024-11-14T0 ┆ [\"{{date|Nov │\n",
       "│             ┆         ┆              ┆              ┆ sense}}      ┆ 0:38:38Z     ┆ ember 13,    │\n",
       "│             ┆         ┆              ┆              ┆ {{develop}…  ┆              ┆ 2024}}\"]     │\n",
       "│ 4804945     ┆ 3003809 ┆ 0            ┆ 1 Ceres      ┆ {{delete|a1} ┆ 2024-11-15T1 ┆ []           │\n",
       "│             ┆         ┆              ┆              ┆ }            ┆ 5:48:46Z     ┆              │\n",
       "│             ┆         ┆              ┆              ┆ dwarf planet ┆              ┆              │\n",
       "│ 4804984     ┆ 3003865 ┆ 0            ┆ Music        ┆ {{delete|Spa ┆ 2024-11-16T0 ┆ [\"{{date|Aug │\n",
       "│             ┆         ┆              ┆ director PVR ┆ m}} __NOINDE ┆ 9:10:37Z     ┆ ust 5,       │\n",
       "│             ┆         ┆              ┆ Raja comple… ┆ X__{{d…      ┆              ┆ 2022}}\"]     │\n",
       "└─────────────┴─────────┴──────────────┴──────────────┴──────────────┴──────────────┴──────────────┘"
      ]
     },
     "execution_count": 12,
     "metadata": {},
     "output_type": "execute_result"
    }
   ],
   "source": [
    "deletion_regexes = [\n",
    "    \"\\{\\{delete\\|[^\\}\\{]+\\}\\}\",\n",
    "    \"\\{\\{Delete\\|[^\\}\\{]+\\}\\}\",\n",
    "    \"\\{\\{speedy\\|[^\\}\\{]+\\}\\}\"\n",
    "]\n",
    "full_deletion_regex = \"|\".join(deletion_regexes)\n",
    "\n",
    "df.filter(df[\"page_text\"].str.contains(full_deletion_regex))"
   ]
  },
  {
   "cell_type": "code",
   "execution_count": 13,
   "id": "00446431",
   "metadata": {
    "execution": {
     "iopub.execute_input": "2024-12-11T01:55:38.477190Z",
     "iopub.status.busy": "2024-12-11T01:55:38.476791Z",
     "iopub.status.idle": "2024-12-11T01:55:38.510655Z",
     "shell.execute_reply": "2024-12-11T01:55:38.509487Z"
    },
    "papermill": {
     "duration": 0.052365,
     "end_time": "2024-12-11T01:55:38.513389",
     "exception": false,
     "start_time": "2024-12-11T01:55:38.461024",
     "status": "completed"
    },
    "tags": []
   },
   "outputs": [
    {
     "data": {
      "text/html": [
       "<div><style>\n",
       ".dataframe > thead > tr,\n",
       ".dataframe > tbody > tr {\n",
       "  text-align: right;\n",
       "  white-space: pre-wrap;\n",
       "}\n",
       "</style>\n",
       "<small>shape: (22_109, 7)</small><table border=\"1\" class=\"dataframe\"><thead><tr><th>revision_id</th><th>page_id</th><th>page_namespace</th><th>page_title</th><th>page_text</th><th>last_update_timestamp</th><th>page_dates</th></tr><tr><td>i64</td><td>i64</td><td>i64</td><td>str</td><td>str</td><td>str</td><td>list[str]</td></tr></thead><tbody><tr><td>4516743</td><td>736</td><td>0</td><td>&quot;President of China lunches wit…</td><td>&quot;{{date|November 13, 2004}}\n",
       "{{B…</td><td>&quot;2019-09-28T09:51:53Z&quot;</td><td>[&quot;{{date|November 13, 2004}}&quot;]</td></tr><tr><td>4516759</td><td>741</td><td>0</td><td>&quot;Palestinians to elect new pres…</td><td>&quot;[[File:Mahmoud abbas.jpg|frame…</td><td>&quot;2019-09-28T10:45:51Z&quot;</td><td>[&quot;{{byline|date=November 14, 2004|location=[[w:Ramallah|RAMALLAH]]}}&quot;]</td></tr><tr><td>2280888</td><td>743</td><td>0</td><td>&quot;Brazilian delegation returns f…</td><td>&quot;{{date|November 13, 2004}}\n",
       "{{P…</td><td>&quot;2014-01-02T19:36:05Z&quot;</td><td>[&quot;{{date|November 13, 2004}}&quot;]</td></tr><tr><td>4516758</td><td>764</td><td>0</td><td>&quot;Hearing begins over David Hook…</td><td>&quot;{{Crime and law}}{{byline|date…</td><td>&quot;2019-09-28T10:39:36Z&quot;</td><td>[&quot;{{byline|date=November 15, 2004|location=[[Melbourne|MELBOURNE]], [[Victoria, Australia|Victoria]]}}&quot;]</td></tr><tr><td>1973838</td><td>779</td><td>0</td><td>&quot;Iran close to decision on nucl…</td><td>&quot;{{date|November 13, 2004}}\n",
       "{{I…</td><td>&quot;2013-08-21T16:07:41Z&quot;</td><td>[&quot;{{date|November 13, 2004}}&quot;]</td></tr><tr><td>&hellip;</td><td>&hellip;</td><td>&hellip;</td><td>&hellip;</td><td>&hellip;</td><td>&hellip;</td><td>&hellip;</td></tr><tr><td>4805088</td><td>3003768</td><td>0</td><td>&quot;Prison riot in Ecuador, at lea…</td><td>&quot;{{tasks|src|npov|mos|re-review…</td><td>&quot;2024-11-17T16:35:30Z&quot;</td><td>[&quot;{{date|November 13, 2024}}&quot;]</td></tr><tr><td>4805240</td><td>3003827</td><td>0</td><td>&quot;2024 ARPS Conference&quot;</td><td>&quot;{{develop}}\n",
       "{{date|November 12…</td><td>&quot;2024-11-19T12:19:00Z&quot;</td><td>[&quot;{{date|November 12, 2024}}&quot;]</td></tr><tr><td>4805272</td><td>3003842</td><td>0</td><td>&quot;Japan&#x27;s oldest Princess Yuriko…</td><td>&quot;{{tasks|src|re-review}}{{date|…</td><td>&quot;2024-11-19T18:23:32Z&quot;</td><td>[&quot;{{date|November 15, 2024}}&quot;]</td></tr><tr><td>4805304</td><td>3003969</td><td>0</td><td>&quot;US sanctions far-right Israeli…</td><td>&quot;{{review}}\n",
       "\n",
       "{{Date|November 18…</td><td>&quot;2024-11-20T05:45:46Z&quot;</td><td>[]</td></tr><tr><td>4805279</td><td>3004021</td><td>0</td><td>&quot;Radwa mohamed (Dodo)&quot;</td><td>&quot;{{Topic cat\n",
       "|intro&nbsp;&nbsp;&nbsp;&nbsp;&nbsp;&nbsp;&nbsp;&nbsp;&nbsp;&nbsp;= …</td><td>&quot;2024-11-19T18:36:45Z&quot;</td><td>[]</td></tr></tbody></table></div>"
      ],
      "text/plain": [
       "shape: (22_109, 7)\n",
       "┌─────────────┬─────────┬──────────────┬──────────────┬──────────────┬──────────────┬──────────────┐\n",
       "│ revision_id ┆ page_id ┆ page_namespa ┆ page_title   ┆ page_text    ┆ last_update_ ┆ page_dates   │\n",
       "│ ---         ┆ ---     ┆ ce           ┆ ---          ┆ ---          ┆ timestamp    ┆ ---          │\n",
       "│ i64         ┆ i64     ┆ ---          ┆ str          ┆ str          ┆ ---          ┆ list[str]    │\n",
       "│             ┆         ┆ i64          ┆              ┆              ┆ str          ┆              │\n",
       "╞═════════════╪═════════╪══════════════╪══════════════╪══════════════╪══════════════╪══════════════╡\n",
       "│ 4516743     ┆ 736     ┆ 0            ┆ President of ┆ {{date|Novem ┆ 2019-09-28T0 ┆ [\"{{date|Nov │\n",
       "│             ┆         ┆              ┆ China        ┆ ber 13,      ┆ 9:51:53Z     ┆ ember 13,    │\n",
       "│             ┆         ┆              ┆ lunches wit… ┆ 2004}}       ┆              ┆ 2004}}\"]     │\n",
       "│             ┆         ┆              ┆              ┆ {{B…         ┆              ┆              │\n",
       "│ 4516759     ┆ 741     ┆ 0            ┆ Palestinians ┆ [[File:Mahmo ┆ 2019-09-28T1 ┆ [\"{{byline|d │\n",
       "│             ┆         ┆              ┆ to elect new ┆ ud abbas.jpg ┆ 0:45:51Z     ┆ ate=November │\n",
       "│             ┆         ┆              ┆ pres…        ┆ |frame…      ┆              ┆ 14, 2…       │\n",
       "│ 2280888     ┆ 743     ┆ 0            ┆ Brazilian    ┆ {{date|Novem ┆ 2014-01-02T1 ┆ [\"{{date|Nov │\n",
       "│             ┆         ┆              ┆ delegation   ┆ ber 13,      ┆ 9:36:05Z     ┆ ember 13,    │\n",
       "│             ┆         ┆              ┆ returns f…   ┆ 2004}}       ┆              ┆ 2004}}\"]     │\n",
       "│             ┆         ┆              ┆              ┆ {{P…         ┆              ┆              │\n",
       "│ 4516758     ┆ 764     ┆ 0            ┆ Hearing      ┆ {{Crime and  ┆ 2019-09-28T1 ┆ [\"{{byline|d │\n",
       "│             ┆         ┆              ┆ begins over  ┆ law}}{{bylin ┆ 0:39:36Z     ┆ ate=November │\n",
       "│             ┆         ┆              ┆ David Hook…  ┆ e|date…      ┆              ┆ 15, 2…       │\n",
       "│ 1973838     ┆ 779     ┆ 0            ┆ Iran close   ┆ {{date|Novem ┆ 2013-08-21T1 ┆ [\"{{date|Nov │\n",
       "│             ┆         ┆              ┆ to decision  ┆ ber 13,      ┆ 6:07:41Z     ┆ ember 13,    │\n",
       "│             ┆         ┆              ┆ on nucl…     ┆ 2004}}       ┆              ┆ 2004}}\"]     │\n",
       "│             ┆         ┆              ┆              ┆ {{I…         ┆              ┆              │\n",
       "│ …           ┆ …       ┆ …            ┆ …            ┆ …            ┆ …            ┆ …            │\n",
       "│ 4805088     ┆ 3003768 ┆ 0            ┆ Prison riot  ┆ {{tasks|src| ┆ 2024-11-17T1 ┆ [\"{{date|Nov │\n",
       "│             ┆         ┆              ┆ in Ecuador,  ┆ npov|mos|re- ┆ 6:35:30Z     ┆ ember 13,    │\n",
       "│             ┆         ┆              ┆ at lea…      ┆ review…      ┆              ┆ 2024}}\"]     │\n",
       "│ 4805240     ┆ 3003827 ┆ 0            ┆ 2024 ARPS    ┆ {{develop}}  ┆ 2024-11-19T1 ┆ [\"{{date|Nov │\n",
       "│             ┆         ┆              ┆ Conference   ┆ {{date|Novem ┆ 2:19:00Z     ┆ ember 12,    │\n",
       "│             ┆         ┆              ┆              ┆ ber 12…      ┆              ┆ 2024}}\"]     │\n",
       "│ 4805272     ┆ 3003842 ┆ 0            ┆ Japan's      ┆ {{tasks|src| ┆ 2024-11-19T1 ┆ [\"{{date|Nov │\n",
       "│             ┆         ┆              ┆ oldest       ┆ re-review}}{ ┆ 8:23:32Z     ┆ ember 15,    │\n",
       "│             ┆         ┆              ┆ Princess     ┆ {date|…      ┆              ┆ 2024}}\"]     │\n",
       "│             ┆         ┆              ┆ Yuriko…      ┆              ┆              ┆              │\n",
       "│ 4805304     ┆ 3003969 ┆ 0            ┆ US sanctions ┆ {{review}}   ┆ 2024-11-20T0 ┆ []           │\n",
       "│             ┆         ┆              ┆ far-right    ┆              ┆ 5:45:46Z     ┆              │\n",
       "│             ┆         ┆              ┆ Israeli…     ┆ {{Date|Novem ┆              ┆              │\n",
       "│             ┆         ┆              ┆              ┆ ber 18…      ┆              ┆              │\n",
       "│ 4805279     ┆ 3004021 ┆ 0            ┆ Radwa        ┆ {{Topic cat  ┆ 2024-11-19T1 ┆ []           │\n",
       "│             ┆         ┆              ┆ mohamed      ┆ |intro       ┆ 8:36:45Z     ┆              │\n",
       "│             ┆         ┆              ┆ (Dodo)       ┆ = …          ┆              ┆              │\n",
       "└─────────────┴─────────┴──────────────┴──────────────┴──────────────┴──────────────┴──────────────┘"
      ]
     },
     "execution_count": 13,
     "metadata": {},
     "output_type": "execute_result"
    }
   ],
   "source": [
    "df = df.filter(~df[\"page_text\"].str.contains(full_deletion_regex))\n",
    "df"
   ]
  },
  {
   "cell_type": "markdown",
   "id": "7ae26fa9",
   "metadata": {
    "papermill": {
     "duration": 0.014726,
     "end_time": "2024-12-11T01:55:38.543286",
     "exception": false,
     "start_time": "2024-12-11T01:55:38.528560",
     "status": "completed"
    },
    "tags": []
   },
   "source": [
    "## Issue #6: Bylines that link to Wikipedia articles\n",
    "\n",
    "Sometimes, bylines contain a conditional link to Wikipedia. These are represented as templates: `{{w|<link target>|anchor=<section>|<link label>}}`. This can still be parsed with regexes since these conditional links cannot be nested - we can add extra cases to handle these conditional links within the list of regexes we use to find dates of creation for pages."
   ]
  },
  {
   "cell_type": "code",
   "execution_count": 14,
   "id": "ee656925",
   "metadata": {
    "execution": {
     "iopub.execute_input": "2024-12-11T01:55:38.576735Z",
     "iopub.status.busy": "2024-12-11T01:55:38.576357Z",
     "iopub.status.idle": "2024-12-11T01:55:38.618449Z",
     "shell.execute_reply": "2024-12-11T01:55:38.617459Z"
    },
    "papermill": {
     "duration": 0.061367,
     "end_time": "2024-12-11T01:55:38.620915",
     "exception": false,
     "start_time": "2024-12-11T01:55:38.559548",
     "status": "completed"
    },
    "tags": []
   },
   "outputs": [
    {
     "data": {
      "text/html": [
       "<div><style>\n",
       ".dataframe > thead > tr,\n",
       ".dataframe > tbody > tr {\n",
       "  text-align: right;\n",
       "  white-space: pre-wrap;\n",
       "}\n",
       "</style>\n",
       "<small>shape: (733, 7)</small><table border=\"1\" class=\"dataframe\"><thead><tr><th>revision_id</th><th>page_id</th><th>page_namespace</th><th>page_title</th><th>page_text</th><th>last_update_timestamp</th><th>page_dates</th></tr><tr><td>i64</td><td>i64</td><td>i64</td><td>str</td><td>str</td><td>str</td><td>list[str]</td></tr></thead><tbody><tr><td>1975609</td><td>783</td><td>0</td><td>&quot;Iran Agrees to Suspend Uranium…</td><td>&quot;{{Iran nuclear program}}{{byli…</td><td>&quot;2013-08-25T23:36:57Z&quot;</td><td>[]</td></tr><tr><td>4516766</td><td>797</td><td>0</td><td>&quot;Brazilian soccer player&#x27;s moth…</td><td>&quot;{{Brazil}}{{byline|date=Novemb…</td><td>&quot;2019-09-28T10:59:26Z&quot;</td><td>[]</td></tr><tr><td>4516748</td><td>1053</td><td>0</td><td>&quot;New Beta Version of MSN Search…</td><td>&quot;{{Microsoft}}{{byline|date=Nov…</td><td>&quot;2019-09-28T10:07:56Z&quot;</td><td>[]</td></tr><tr><td>4663471</td><td>1181</td><td>0</td><td>&quot;Ukraine election results delay…</td><td>&quot;{{Ukraine}}{{byline|date=Novem…</td><td>&quot;2022-02-26T03:49:45Z&quot;</td><td>[]</td></tr><tr><td>440494</td><td>1255</td><td>0</td><td>&quot;US Secretary of Homeland Secur…</td><td>&quot;{{Byline|date=November 30, 200…</td><td>&quot;2007-06-09T00:31:59Z&quot;</td><td>[]</td></tr><tr><td>&hellip;</td><td>&hellip;</td><td>&hellip;</td><td>&hellip;</td><td>&hellip;</td><td>&hellip;</td><td>&hellip;</td></tr><tr><td>4733445</td><td>2973832</td><td>0</td><td>&quot;Shropshire&quot;</td><td>&quot;{{Mainspace disambig}}\n",
       "__DISAM…</td><td>&quot;2023-06-22T13:37:11Z&quot;</td><td>[]</td></tr><tr><td>4784575</td><td>2995324</td><td>0</td><td>&quot;Main Page 2&quot;</td><td>&quot;&lt;templatestyles src=&quot;Main Page…</td><td>&quot;2024-06-05T20:30:21Z&quot;</td><td>[]</td></tr><tr><td>4804852</td><td>3001820</td><td>0</td><td>&quot;Jimmie Johnson&#x27;s Consistency&quot;</td><td>&quot;{{abandoned|October 8, 2024|}}…</td><td>&quot;2024-11-14T17:14:23Z&quot;</td><td>[]</td></tr><tr><td>4805304</td><td>3003969</td><td>0</td><td>&quot;US sanctions far-right Israeli…</td><td>&quot;{{review}}\n",
       "\n",
       "{{Date|November 18…</td><td>&quot;2024-11-20T05:45:46Z&quot;</td><td>[]</td></tr><tr><td>4805279</td><td>3004021</td><td>0</td><td>&quot;Radwa mohamed (Dodo)&quot;</td><td>&quot;{{Topic cat\n",
       "|intro&nbsp;&nbsp;&nbsp;&nbsp;&nbsp;&nbsp;&nbsp;&nbsp;&nbsp;&nbsp;= …</td><td>&quot;2024-11-19T18:36:45Z&quot;</td><td>[]</td></tr></tbody></table></div>"
      ],
      "text/plain": [
       "shape: (733, 7)\n",
       "┌─────────────┬─────────┬───────────────┬───────────────┬──────────────┬──────────────┬────────────┐\n",
       "│ revision_id ┆ page_id ┆ page_namespac ┆ page_title    ┆ page_text    ┆ last_update_ ┆ page_dates │\n",
       "│ ---         ┆ ---     ┆ e             ┆ ---           ┆ ---          ┆ timestamp    ┆ ---        │\n",
       "│ i64         ┆ i64     ┆ ---           ┆ str           ┆ str          ┆ ---          ┆ list[str]  │\n",
       "│             ┆         ┆ i64           ┆               ┆              ┆ str          ┆            │\n",
       "╞═════════════╪═════════╪═══════════════╪═══════════════╪══════════════╪══════════════╪════════════╡\n",
       "│ 1975609     ┆ 783     ┆ 0             ┆ Iran Agrees   ┆ {{Iran       ┆ 2013-08-25T2 ┆ []         │\n",
       "│             ┆         ┆               ┆ to Suspend    ┆ nuclear prog ┆ 3:36:57Z     ┆            │\n",
       "│             ┆         ┆               ┆ Uranium…      ┆ ram}}{{byli… ┆              ┆            │\n",
       "│ 4516766     ┆ 797     ┆ 0             ┆ Brazilian     ┆ {{Brazil}}{{ ┆ 2019-09-28T1 ┆ []         │\n",
       "│             ┆         ┆               ┆ soccer        ┆ byline|date= ┆ 0:59:26Z     ┆            │\n",
       "│             ┆         ┆               ┆ player's      ┆ Novemb…      ┆              ┆            │\n",
       "│             ┆         ┆               ┆ moth…         ┆              ┆              ┆            │\n",
       "│ 4516748     ┆ 1053    ┆ 0             ┆ New Beta      ┆ {{Microsoft} ┆ 2019-09-28T1 ┆ []         │\n",
       "│             ┆         ┆               ┆ Version of    ┆ }{{byline|da ┆ 0:07:56Z     ┆            │\n",
       "│             ┆         ┆               ┆ MSN Search…   ┆ te=Nov…      ┆              ┆            │\n",
       "│ 4663471     ┆ 1181    ┆ 0             ┆ Ukraine       ┆ {{Ukraine}}{ ┆ 2022-02-26T0 ┆ []         │\n",
       "│             ┆         ┆               ┆ election      ┆ {byline|date ┆ 3:49:45Z     ┆            │\n",
       "│             ┆         ┆               ┆ results       ┆ =Novem…      ┆              ┆            │\n",
       "│             ┆         ┆               ┆ delay…        ┆              ┆              ┆            │\n",
       "│ 440494      ┆ 1255    ┆ 0             ┆ US Secretary  ┆ {{Byline|dat ┆ 2007-06-09T0 ┆ []         │\n",
       "│             ┆         ┆               ┆ of Homeland   ┆ e=November   ┆ 0:31:59Z     ┆            │\n",
       "│             ┆         ┆               ┆ Secur…        ┆ 30, 200…     ┆              ┆            │\n",
       "│ …           ┆ …       ┆ …             ┆ …             ┆ …            ┆ …            ┆ …          │\n",
       "│ 4733445     ┆ 2973832 ┆ 0             ┆ Shropshire    ┆ {{Mainspace  ┆ 2023-06-22T1 ┆ []         │\n",
       "│             ┆         ┆               ┆               ┆ disambig}}   ┆ 3:37:11Z     ┆            │\n",
       "│             ┆         ┆               ┆               ┆ __DISAM…     ┆              ┆            │\n",
       "│ 4784575     ┆ 2995324 ┆ 0             ┆ Main Page 2   ┆ <templatesty ┆ 2024-06-05T2 ┆ []         │\n",
       "│             ┆         ┆               ┆               ┆ les          ┆ 0:30:21Z     ┆            │\n",
       "│             ┆         ┆               ┆               ┆ src=\"Main    ┆              ┆            │\n",
       "│             ┆         ┆               ┆               ┆ Page…        ┆              ┆            │\n",
       "│ 4804852     ┆ 3001820 ┆ 0             ┆ Jimmie        ┆ {{abandoned| ┆ 2024-11-14T1 ┆ []         │\n",
       "│             ┆         ┆               ┆ Johnson's     ┆ October 8,   ┆ 7:14:23Z     ┆            │\n",
       "│             ┆         ┆               ┆ Consistency   ┆ 2024|}}…     ┆              ┆            │\n",
       "│ 4805304     ┆ 3003969 ┆ 0             ┆ US sanctions  ┆ {{review}}   ┆ 2024-11-20T0 ┆ []         │\n",
       "│             ┆         ┆               ┆ far-right     ┆              ┆ 5:45:46Z     ┆            │\n",
       "│             ┆         ┆               ┆ Israeli…      ┆ {{Date|Novem ┆              ┆            │\n",
       "│             ┆         ┆               ┆               ┆ ber 18…      ┆              ┆            │\n",
       "│ 4805279     ┆ 3004021 ┆ 0             ┆ Radwa mohamed ┆ {{Topic cat  ┆ 2024-11-19T1 ┆ []         │\n",
       "│             ┆         ┆               ┆ (Dodo)        ┆ |intro       ┆ 8:36:45Z     ┆            │\n",
       "│             ┆         ┆               ┆               ┆ = …          ┆              ┆            │\n",
       "└─────────────┴─────────┴───────────────┴───────────────┴──────────────┴──────────────┴────────────┘"
      ]
     },
     "execution_count": 14,
     "metadata": {},
     "output_type": "execute_result"
    }
   ],
   "source": [
    "df.filter(df[\"page_dates\"].map_elements(len, return_dtype=int) == 0)"
   ]
  },
  {
   "cell_type": "code",
   "execution_count": 15,
   "id": "824a7494",
   "metadata": {
    "execution": {
     "iopub.execute_input": "2024-12-11T01:55:38.654366Z",
     "iopub.status.busy": "2024-12-11T01:55:38.653960Z",
     "iopub.status.idle": "2024-12-11T01:55:38.660466Z",
     "shell.execute_reply": "2024-12-11T01:55:38.659249Z"
    },
    "papermill": {
     "duration": 0.025322,
     "end_time": "2024-12-11T01:55:38.662756",
     "exception": false,
     "start_time": "2024-12-11T01:55:38.637434",
     "status": "completed"
    },
    "tags": []
   },
   "outputs": [
    {
     "name": "stdout",
     "output_type": "stream",
     "text": [
      "{{Brazil}}{{byline|date=November 15, 2004|location={{w|Praia Grande|PRAIA GRANDE}}, [[Brazil]]}} Miss Marina Souza, aged 43, was kidnapped last Saturday, November 6, in Praia Grande, {{w|São Paulo|São Paulo}}, during a barbecue with her relatives. She is the mother of Robson de Souza, known as {{w|Robinho|Robinho}} (Little Robin), a Brazilian {{w|soccer|soccer}} player for the {{w|Santos FC|Santos Football Club}}. Since the incident, Robson De Souza ('Robinho') has made few public appearances and stopped playing soccer, troubling his team Santos.  \"I hope this all finishes well and that I can go back to playing football again,\" he was quoted by ''{{w|Reuters|Reuters}}'' on November 9.\n",
      "\n",
      "Robinho is considered one of the best Brazilian forward players at the present time and he is an important player for Santos.\n",
      "\n",
      "The authorities are cautious to release any information concerning the case, as this could jeopardize both the investigations and Ms. Souza's life.\n",
      "\n",
      "\n",
      "{{haveyoursay}}\n",
      "== Sources ==\n",
      "{{wikipedia|Robinho}}\n",
      "*{{source|url=http://br.news.yahoo.com/041114/4/p0wn.html\n",
      " |title= Robinho desfalca o Santos contra o Goiás \n",
      " |author=\n",
      " |pub=Yahoo! Notícias\n",
      " |date=November 14, 2004\n",
      " |lang=pt\n",
      " |pubtarget=Yahoo! News\n",
      " | brokenURL           = true\n",
      " | archiveurl          = http://web.archive.org/web/20051030033258/http://br.news.yahoo.com/041114/4/p0wn.html\n",
      " | archivedescription  = archived on archive.org, 2005-10-30}}\n",
      "*{{source|url=http://www.dailytimes.com.pk/default.asp?page=story_10-11-2004_pg2_14\n",
      " |title=Robinho asks for his family to be left in peace\n",
      " |author=[[Reuters]]\n",
      " |pub=Daily Times (Pakistan)\n",
      " |date=November 10, 2004\n",
      " | brokenURL = true}}\n",
      "*{{source|url=http://www.reuters.co.uk/newsArticle.jhtml?type=topNews&storyID=6736580\n",
      " |title=Mother of Brazilian forward Robinho kidnapped\n",
      " |author=\n",
      " |pub=Reuters\n",
      " |date=November 7, 2004\n",
      " | brokenURL = true}}\n",
      "*{{source|url=http://elmundodeporte.elmundo.es/elmundodeporte/2004/11/07/futbol/1099836771.html\n",
      " |title=Secuestran a la madre de Robinho, objetivo del Madrid\n",
      " |author=\n",
      " |pub=El Mundo\n",
      " |pubtarget=El Mundo (Spain)\n",
      " |date=November 7, 2004\n",
      " |lang=es\n",
      " | brokenURL           = true\n",
      " | archiveurl          = http://web.archive.org/web/20041109010123/http://elmundodeporte.elmundo.es/elmundodeporte/2004/11/07/futbol/1099836771.html\n",
      " | archivedescription  = archived on archive.org}}\n",
      "\n",
      "{{publish}}\n",
      "{{archived}}\n",
      "{{PD-Article}}\n",
      "\n",
      "[[Category:South America]]\n",
      "[[Category:Brazil]]\n",
      "[[Category:Football (soccer)]]\n",
      "[[Category:Crime and law]]\n",
      "[[Category:Missing persons]]\n"
     ]
    }
   ],
   "source": [
    "print(df.filter(df[\"page_id\"] == 797)[\"page_text\"][0])"
   ]
  },
  {
   "cell_type": "code",
   "execution_count": 16,
   "id": "90d8bcec",
   "metadata": {
    "execution": {
     "iopub.execute_input": "2024-12-11T01:55:38.696207Z",
     "iopub.status.busy": "2024-12-11T01:55:38.695753Z",
     "iopub.status.idle": "2024-12-11T01:55:39.519072Z",
     "shell.execute_reply": "2024-12-11T01:55:39.517835Z"
    },
    "papermill": {
     "duration": 0.842774,
     "end_time": "2024-12-11T01:55:39.521523",
     "exception": false,
     "start_time": "2024-12-11T01:55:38.678749",
     "status": "completed"
    },
    "tags": []
   },
   "outputs": [
    {
     "data": {
      "text/html": [
       "<div><style>\n",
       ".dataframe > thead > tr,\n",
       ".dataframe > tbody > tr {\n",
       "  text-align: right;\n",
       "  white-space: pre-wrap;\n",
       "}\n",
       "</style>\n",
       "<small>shape: (22_109, 7)</small><table border=\"1\" class=\"dataframe\"><thead><tr><th>revision_id</th><th>page_id</th><th>page_namespace</th><th>page_title</th><th>page_text</th><th>last_update_timestamp</th><th>page_dates</th></tr><tr><td>i64</td><td>i64</td><td>i64</td><td>str</td><td>str</td><td>str</td><td>object</td></tr></thead><tbody><tr><td>4516743</td><td>736</td><td>0</td><td>&quot;President of China lunches wit…</td><td>&quot;{{date|November 13, 2004}}\n",
       "{{B…</td><td>&quot;2019-09-28T09:51:53Z&quot;</td><td>[&#x27;{{date|November 13, 2004}}&#x27;]</td></tr><tr><td>4516759</td><td>741</td><td>0</td><td>&quot;Palestinians to elect new pres…</td><td>&quot;[[File:Mahmoud abbas.jpg|frame…</td><td>&quot;2019-09-28T10:45:51Z&quot;</td><td>[&#x27;{{byline|date=November 14, 2004|location=[[w:Ramallah|RAMALLAH]]}}&#x27;]</td></tr><tr><td>2280888</td><td>743</td><td>0</td><td>&quot;Brazilian delegation returns f…</td><td>&quot;{{date|November 13, 2004}}\n",
       "{{P…</td><td>&quot;2014-01-02T19:36:05Z&quot;</td><td>[&#x27;{{date|November 13, 2004}}&#x27;]</td></tr><tr><td>4516758</td><td>764</td><td>0</td><td>&quot;Hearing begins over David Hook…</td><td>&quot;{{Crime and law}}{{byline|date…</td><td>&quot;2019-09-28T10:39:36Z&quot;</td><td>[&#x27;{{byline|date=November 15, 2004|location=[[Melbourne|MELBOURNE]], [[Victoria, Australia|Victoria]]}}&#x27;]</td></tr><tr><td>1973838</td><td>779</td><td>0</td><td>&quot;Iran close to decision on nucl…</td><td>&quot;{{date|November 13, 2004}}\n",
       "{{I…</td><td>&quot;2013-08-21T16:07:41Z&quot;</td><td>[&#x27;{{date|November 13, 2004}}&#x27;]</td></tr><tr><td>&hellip;</td><td>&hellip;</td><td>&hellip;</td><td>&hellip;</td><td>&hellip;</td><td>&hellip;</td><td>&hellip;</td></tr><tr><td>4805088</td><td>3003768</td><td>0</td><td>&quot;Prison riot in Ecuador, at lea…</td><td>&quot;{{tasks|src|npov|mos|re-review…</td><td>&quot;2024-11-17T16:35:30Z&quot;</td><td>[&#x27;{{date|November 13, 2024}}&#x27;]</td></tr><tr><td>4805240</td><td>3003827</td><td>0</td><td>&quot;2024 ARPS Conference&quot;</td><td>&quot;{{develop}}\n",
       "{{date|November 12…</td><td>&quot;2024-11-19T12:19:00Z&quot;</td><td>[&#x27;{{date|November 12, 2024}}&#x27;]</td></tr><tr><td>4805272</td><td>3003842</td><td>0</td><td>&quot;Japan&#x27;s oldest Princess Yuriko…</td><td>&quot;{{tasks|src|re-review}}{{date|…</td><td>&quot;2024-11-19T18:23:32Z&quot;</td><td>[&#x27;{{date|November 15, 2024}}&#x27;]</td></tr><tr><td>4805304</td><td>3003969</td><td>0</td><td>&quot;US sanctions far-right Israeli…</td><td>&quot;{{review}}\n",
       "\n",
       "{{Date|November 18…</td><td>&quot;2024-11-20T05:45:46Z&quot;</td><td>[]</td></tr><tr><td>4805279</td><td>3004021</td><td>0</td><td>&quot;Radwa mohamed (Dodo)&quot;</td><td>&quot;{{Topic cat\n",
       "|intro&nbsp;&nbsp;&nbsp;&nbsp;&nbsp;&nbsp;&nbsp;&nbsp;&nbsp;&nbsp;= …</td><td>&quot;2024-11-19T18:36:45Z&quot;</td><td>[]</td></tr></tbody></table></div>"
      ],
      "text/plain": [
       "shape: (22_109, 7)\n",
       "┌─────────────┬─────────┬──────────────┬──────────────┬──────────────┬──────────────┬──────────────┐\n",
       "│ revision_id ┆ page_id ┆ page_namespa ┆ page_title   ┆ page_text    ┆ last_update_ ┆ page_dates   │\n",
       "│ ---         ┆ ---     ┆ ce           ┆ ---          ┆ ---          ┆ timestamp    ┆ ---          │\n",
       "│ i64         ┆ i64     ┆ ---          ┆ str          ┆ str          ┆ ---          ┆ object       │\n",
       "│             ┆         ┆ i64          ┆              ┆              ┆ str          ┆              │\n",
       "╞═════════════╪═════════╪══════════════╪══════════════╪══════════════╪══════════════╪══════════════╡\n",
       "│ 4516743     ┆ 736     ┆ 0            ┆ President of ┆ {{date|Novem ┆ 2019-09-28T0 ┆ ['{{date|Nov │\n",
       "│             ┆         ┆              ┆ China        ┆ ber 13,      ┆ 9:51:53Z     ┆ ember 13,    │\n",
       "│             ┆         ┆              ┆ lunches wit… ┆ 2004}}       ┆              ┆ 2004}}']     │\n",
       "│             ┆         ┆              ┆              ┆ {{B…         ┆              ┆              │\n",
       "│ 4516759     ┆ 741     ┆ 0            ┆ Palestinians ┆ [[File:Mahmo ┆ 2019-09-28T1 ┆ ['{{byline|d │\n",
       "│             ┆         ┆              ┆ to elect new ┆ ud abbas.jpg ┆ 0:45:51Z     ┆ ate=November │\n",
       "│             ┆         ┆              ┆ pres…        ┆ |frame…      ┆              ┆ 14, 2…       │\n",
       "│ 2280888     ┆ 743     ┆ 0            ┆ Brazilian    ┆ {{date|Novem ┆ 2014-01-02T1 ┆ ['{{date|Nov │\n",
       "│             ┆         ┆              ┆ delegation   ┆ ber 13,      ┆ 9:36:05Z     ┆ ember 13,    │\n",
       "│             ┆         ┆              ┆ returns f…   ┆ 2004}}       ┆              ┆ 2004}}']     │\n",
       "│             ┆         ┆              ┆              ┆ {{P…         ┆              ┆              │\n",
       "│ 4516758     ┆ 764     ┆ 0            ┆ Hearing      ┆ {{Crime and  ┆ 2019-09-28T1 ┆ ['{{byline|d │\n",
       "│             ┆         ┆              ┆ begins over  ┆ law}}{{bylin ┆ 0:39:36Z     ┆ ate=November │\n",
       "│             ┆         ┆              ┆ David Hook…  ┆ e|date…      ┆              ┆ 15, 2…       │\n",
       "│ 1973838     ┆ 779     ┆ 0            ┆ Iran close   ┆ {{date|Novem ┆ 2013-08-21T1 ┆ ['{{date|Nov │\n",
       "│             ┆         ┆              ┆ to decision  ┆ ber 13,      ┆ 6:07:41Z     ┆ ember 13,    │\n",
       "│             ┆         ┆              ┆ on nucl…     ┆ 2004}}       ┆              ┆ 2004}}']     │\n",
       "│             ┆         ┆              ┆              ┆ {{I…         ┆              ┆              │\n",
       "│ …           ┆ …       ┆ …            ┆ …            ┆ …            ┆ …            ┆ …            │\n",
       "│ 4805088     ┆ 3003768 ┆ 0            ┆ Prison riot  ┆ {{tasks|src| ┆ 2024-11-17T1 ┆ ['{{date|Nov │\n",
       "│             ┆         ┆              ┆ in Ecuador,  ┆ npov|mos|re- ┆ 6:35:30Z     ┆ ember 13,    │\n",
       "│             ┆         ┆              ┆ at lea…      ┆ review…      ┆              ┆ 2024}}']     │\n",
       "│ 4805240     ┆ 3003827 ┆ 0            ┆ 2024 ARPS    ┆ {{develop}}  ┆ 2024-11-19T1 ┆ ['{{date|Nov │\n",
       "│             ┆         ┆              ┆ Conference   ┆ {{date|Novem ┆ 2:19:00Z     ┆ ember 12,    │\n",
       "│             ┆         ┆              ┆              ┆ ber 12…      ┆              ┆ 2024}}']     │\n",
       "│ 4805272     ┆ 3003842 ┆ 0            ┆ Japan's      ┆ {{tasks|src| ┆ 2024-11-19T1 ┆ ['{{date|Nov │\n",
       "│             ┆         ┆              ┆ oldest       ┆ re-review}}{ ┆ 8:23:32Z     ┆ ember 15,    │\n",
       "│             ┆         ┆              ┆ Princess     ┆ {date|…      ┆              ┆ 2024}}']     │\n",
       "│             ┆         ┆              ┆ Yuriko…      ┆              ┆              ┆              │\n",
       "│ 4805304     ┆ 3003969 ┆ 0            ┆ US sanctions ┆ {{review}}   ┆ 2024-11-20T0 ┆ []           │\n",
       "│             ┆         ┆              ┆ far-right    ┆              ┆ 5:45:46Z     ┆              │\n",
       "│             ┆         ┆              ┆ Israeli…     ┆ {{Date|Novem ┆              ┆              │\n",
       "│             ┆         ┆              ┆              ┆ ber 18…      ┆              ┆              │\n",
       "│ 4805279     ┆ 3004021 ┆ 0            ┆ Radwa        ┆ {{Topic cat  ┆ 2024-11-19T1 ┆ []           │\n",
       "│             ┆         ┆              ┆ mohamed      ┆ |intro       ┆ 8:36:45Z     ┆              │\n",
       "│             ┆         ┆              ┆ (Dodo)       ┆ = …          ┆              ┆              │\n",
       "└─────────────┴─────────┴──────────────┴──────────────┴──────────────┴──────────────┴──────────────┘"
      ]
     },
     "execution_count": 16,
     "metadata": {},
     "output_type": "execute_result"
    }
   ],
   "source": [
    "article_publish_date_regexes = [\n",
    "    \"{{date\\|[A-Za-z0-9,\\. ]+}}\",\n",
    "    \"{{byline\\|date=[A-Za-z0-9,\\. ]+\\|[^}{]+}}\",\n",
    "    \"{{byline\\|date=[A-Za-z0-9,\\. ]+\\|[^}{]*{{w\\|[^}{]+(\\|[^}{]+)?(\\|[^}{]+)?}}[^}{]*}}\",\n",
    "    \"{{byline\\|[^}{]+\\|date=[A-Za-z0-9,\\. ]+}}\",\n",
    "    \"{{byline\\|[^}{]+{{w\\|[^}{]+(\\|[^}{]+)?(\\|[^}{]+)?}}[^}{]*\\|date=[A-Za-z0-9,\\. ]+}}\",\n",
    "    r\"\\[\\[Category:\\s*[A-Za-z]+\\s*[0-9]+[A-Za-z]{0,2},\\s*[0-9]+\\]\\]\",\n",
    "]\n",
    "full_article_publish_date_regex = \"|\".join(article_publish_date_regexes)\n",
    "\n",
    "def get_date_elements(article_text):\n",
    "    return [m.group(0) for m in re.finditer(full_article_publish_date_regex, article_text)]\n",
    "\n",
    "df = df.with_columns(\n",
    "    pl.col(\"page_text\").map_elements(get_date_elements, return_dtype=pl.Object).alias('page_dates')\n",
    ")\n",
    "df"
   ]
  },
  {
   "cell_type": "code",
   "execution_count": 17,
   "id": "6fe36f24",
   "metadata": {
    "execution": {
     "iopub.execute_input": "2024-12-11T01:55:39.555905Z",
     "iopub.status.busy": "2024-12-11T01:55:39.555516Z",
     "iopub.status.idle": "2024-12-11T01:55:39.570611Z",
     "shell.execute_reply": "2024-12-11T01:55:39.569304Z"
    },
    "papermill": {
     "duration": 0.034931,
     "end_time": "2024-12-11T01:55:39.572767",
     "exception": false,
     "start_time": "2024-12-11T01:55:39.537836",
     "status": "completed"
    },
    "tags": []
   },
   "outputs": [
    {
     "data": {
      "text/html": [
       "<div><style>\n",
       ".dataframe > thead > tr,\n",
       ".dataframe > tbody > tr {\n",
       "  text-align: right;\n",
       "  white-space: pre-wrap;\n",
       "}\n",
       "</style>\n",
       "<small>shape: (725, 7)</small><table border=\"1\" class=\"dataframe\"><thead><tr><th>revision_id</th><th>page_id</th><th>page_namespace</th><th>page_title</th><th>page_text</th><th>last_update_timestamp</th><th>page_dates</th></tr><tr><td>i64</td><td>i64</td><td>i64</td><td>str</td><td>str</td><td>str</td><td>object</td></tr></thead><tbody><tr><td>440494</td><td>1255</td><td>0</td><td>&quot;US Secretary of Homeland Secur…</td><td>&quot;{{Byline|date=November 30, 200…</td><td>&quot;2007-06-09T00:31:59Z&quot;</td><td>[]</td></tr><tr><td>4493894</td><td>1631</td><td>0</td><td>&quot;South American Community of Na…</td><td>&quot;[[File:SACN member states.jpg|…</td><td>&quot;2019-07-26T12:11:46Z&quot;</td><td>[]</td></tr><tr><td>4490582</td><td>1969</td><td>0</td><td>&quot;Draw for Champions League roun…</td><td>&quot;{{Byline|date=December 17, 200…</td><td>&quot;2019-07-17T18:13:45Z&quot;</td><td>[]</td></tr><tr><td>4678714</td><td>2524</td><td>0</td><td>&quot;Digest/14December2004&quot;</td><td>&quot;&lt;div style=&quot;font-size:190%;&quot;&gt;D…</td><td>&quot;2022-05-29T07:40:42Z&quot;</td><td>[]</td></tr><tr><td>809056</td><td>2588</td><td>0</td><td>&quot;Main Page/Sandbox3&quot;</td><td>&quot;Hello all. Is this a sandbox?\n",
       "…</td><td>&quot;2009-04-23T12:54:33Z&quot;</td><td>[]</td></tr><tr><td>&hellip;</td><td>&hellip;</td><td>&hellip;</td><td>&hellip;</td><td>&hellip;</td><td>&hellip;</td><td>&hellip;</td></tr><tr><td>4733445</td><td>2973832</td><td>0</td><td>&quot;Shropshire&quot;</td><td>&quot;{{Mainspace disambig}}\n",
       "__DISAM…</td><td>&quot;2023-06-22T13:37:11Z&quot;</td><td>[]</td></tr><tr><td>4784575</td><td>2995324</td><td>0</td><td>&quot;Main Page 2&quot;</td><td>&quot;&lt;templatestyles src=&quot;Main Page…</td><td>&quot;2024-06-05T20:30:21Z&quot;</td><td>[]</td></tr><tr><td>4804852</td><td>3001820</td><td>0</td><td>&quot;Jimmie Johnson&#x27;s Consistency&quot;</td><td>&quot;{{abandoned|October 8, 2024|}}…</td><td>&quot;2024-11-14T17:14:23Z&quot;</td><td>[]</td></tr><tr><td>4805304</td><td>3003969</td><td>0</td><td>&quot;US sanctions far-right Israeli…</td><td>&quot;{{review}}\n",
       "\n",
       "{{Date|November 18…</td><td>&quot;2024-11-20T05:45:46Z&quot;</td><td>[]</td></tr><tr><td>4805279</td><td>3004021</td><td>0</td><td>&quot;Radwa mohamed (Dodo)&quot;</td><td>&quot;{{Topic cat\n",
       "|intro&nbsp;&nbsp;&nbsp;&nbsp;&nbsp;&nbsp;&nbsp;&nbsp;&nbsp;&nbsp;= …</td><td>&quot;2024-11-19T18:36:45Z&quot;</td><td>[]</td></tr></tbody></table></div>"
      ],
      "text/plain": [
       "shape: (725, 7)\n",
       "┌─────────────┬─────────┬───────────────┬───────────────┬──────────────┬──────────────┬────────────┐\n",
       "│ revision_id ┆ page_id ┆ page_namespac ┆ page_title    ┆ page_text    ┆ last_update_ ┆ page_dates │\n",
       "│ ---         ┆ ---     ┆ e             ┆ ---           ┆ ---          ┆ timestamp    ┆ ---        │\n",
       "│ i64         ┆ i64     ┆ ---           ┆ str           ┆ str          ┆ ---          ┆ object     │\n",
       "│             ┆         ┆ i64           ┆               ┆              ┆ str          ┆            │\n",
       "╞═════════════╪═════════╪═══════════════╪═══════════════╪══════════════╪══════════════╪════════════╡\n",
       "│ 440494      ┆ 1255    ┆ 0             ┆ US Secretary  ┆ {{Byline|dat ┆ 2007-06-09T0 ┆ []         │\n",
       "│             ┆         ┆               ┆ of Homeland   ┆ e=November   ┆ 0:31:59Z     ┆            │\n",
       "│             ┆         ┆               ┆ Secur…        ┆ 30, 200…     ┆              ┆            │\n",
       "│ 4493894     ┆ 1631    ┆ 0             ┆ South         ┆ [[File:SACN  ┆ 2019-07-26T1 ┆ []         │\n",
       "│             ┆         ┆               ┆ American      ┆ member       ┆ 2:11:46Z     ┆            │\n",
       "│             ┆         ┆               ┆ Community of  ┆ states.jpg|… ┆              ┆            │\n",
       "│             ┆         ┆               ┆ Na…           ┆              ┆              ┆            │\n",
       "│ 4490582     ┆ 1969    ┆ 0             ┆ Draw for      ┆ {{Byline|dat ┆ 2019-07-17T1 ┆ []         │\n",
       "│             ┆         ┆               ┆ Champions     ┆ e=December   ┆ 8:13:45Z     ┆            │\n",
       "│             ┆         ┆               ┆ League roun…  ┆ 17, 200…     ┆              ┆            │\n",
       "│ 4678714     ┆ 2524    ┆ 0             ┆ Digest/14Dece ┆ <div style=\" ┆ 2022-05-29T0 ┆ []         │\n",
       "│             ┆         ┆               ┆ mber2004      ┆ font-size:19 ┆ 7:40:42Z     ┆            │\n",
       "│             ┆         ┆               ┆               ┆ 0%;\">D…      ┆              ┆            │\n",
       "│ 809056      ┆ 2588    ┆ 0             ┆ Main          ┆ Hello all.   ┆ 2009-04-23T1 ┆ []         │\n",
       "│             ┆         ┆               ┆ Page/Sandbox3 ┆ Is this a    ┆ 2:54:33Z     ┆            │\n",
       "│             ┆         ┆               ┆               ┆ sandbox?     ┆              ┆            │\n",
       "│             ┆         ┆               ┆               ┆ …            ┆              ┆            │\n",
       "│ …           ┆ …       ┆ …             ┆ …             ┆ …            ┆ …            ┆ …          │\n",
       "│ 4733445     ┆ 2973832 ┆ 0             ┆ Shropshire    ┆ {{Mainspace  ┆ 2023-06-22T1 ┆ []         │\n",
       "│             ┆         ┆               ┆               ┆ disambig}}   ┆ 3:37:11Z     ┆            │\n",
       "│             ┆         ┆               ┆               ┆ __DISAM…     ┆              ┆            │\n",
       "│ 4784575     ┆ 2995324 ┆ 0             ┆ Main Page 2   ┆ <templatesty ┆ 2024-06-05T2 ┆ []         │\n",
       "│             ┆         ┆               ┆               ┆ les          ┆ 0:30:21Z     ┆            │\n",
       "│             ┆         ┆               ┆               ┆ src=\"Main    ┆              ┆            │\n",
       "│             ┆         ┆               ┆               ┆ Page…        ┆              ┆            │\n",
       "│ 4804852     ┆ 3001820 ┆ 0             ┆ Jimmie        ┆ {{abandoned| ┆ 2024-11-14T1 ┆ []         │\n",
       "│             ┆         ┆               ┆ Johnson's     ┆ October 8,   ┆ 7:14:23Z     ┆            │\n",
       "│             ┆         ┆               ┆ Consistency   ┆ 2024|}}…     ┆              ┆            │\n",
       "│ 4805304     ┆ 3003969 ┆ 0             ┆ US sanctions  ┆ {{review}}   ┆ 2024-11-20T0 ┆ []         │\n",
       "│             ┆         ┆               ┆ far-right     ┆              ┆ 5:45:46Z     ┆            │\n",
       "│             ┆         ┆               ┆ Israeli…      ┆ {{Date|Novem ┆              ┆            │\n",
       "│             ┆         ┆               ┆               ┆ ber 18…      ┆              ┆            │\n",
       "│ 4805279     ┆ 3004021 ┆ 0             ┆ Radwa mohamed ┆ {{Topic cat  ┆ 2024-11-19T1 ┆ []         │\n",
       "│             ┆         ┆               ┆ (Dodo)        ┆ |intro       ┆ 8:36:45Z     ┆            │\n",
       "│             ┆         ┆               ┆               ┆ = …          ┆              ┆            │\n",
       "└─────────────┴─────────┴───────────────┴───────────────┴──────────────┴──────────────┴────────────┘"
      ]
     },
     "execution_count": 17,
     "metadata": {},
     "output_type": "execute_result"
    }
   ],
   "source": [
    "df.filter(df[\"page_dates\"].map_elements(len, return_dtype=int) == 0)"
   ]
  },
  {
   "cell_type": "markdown",
   "id": "9b41e112",
   "metadata": {
    "papermill": {
     "duration": 0.015479,
     "end_time": "2024-12-11T01:55:39.605293",
     "exception": false,
     "start_time": "2024-12-11T01:55:39.589814",
     "status": "completed"
    },
    "tags": []
   },
   "source": [
    "## Issue #7: Other case-insensitive Wikipedia templates.\n",
    "\n",
    "It turns out that the `date` and `byline` templates are also case-insensitive. This can be solved easily by converting the article text to lowercase."
   ]
  },
  {
   "cell_type": "code",
   "execution_count": 18,
   "id": "47f50da5",
   "metadata": {
    "execution": {
     "iopub.execute_input": "2024-12-11T01:55:39.639204Z",
     "iopub.status.busy": "2024-12-11T01:55:39.638820Z",
     "iopub.status.idle": "2024-12-11T01:55:41.170526Z",
     "shell.execute_reply": "2024-12-11T01:55:41.169271Z"
    },
    "papermill": {
     "duration": 1.551453,
     "end_time": "2024-12-11T01:55:41.173089",
     "exception": false,
     "start_time": "2024-12-11T01:55:39.621636",
     "status": "completed"
    },
    "tags": []
   },
   "outputs": [
    {
     "data": {
      "text/html": [
       "<div><style>\n",
       ".dataframe > thead > tr,\n",
       ".dataframe > tbody > tr {\n",
       "  text-align: right;\n",
       "  white-space: pre-wrap;\n",
       "}\n",
       "</style>\n",
       "<small>shape: (22_109, 7)</small><table border=\"1\" class=\"dataframe\"><thead><tr><th>revision_id</th><th>page_id</th><th>page_namespace</th><th>page_title</th><th>page_text</th><th>last_update_timestamp</th><th>page_dates</th></tr><tr><td>i64</td><td>i64</td><td>i64</td><td>str</td><td>str</td><td>str</td><td>object</td></tr></thead><tbody><tr><td>4516743</td><td>736</td><td>0</td><td>&quot;President of China lunches wit…</td><td>&quot;{{date|November 13, 2004}}\n",
       "{{B…</td><td>&quot;2019-09-28T09:51:53Z&quot;</td><td>[&#x27;{{date|november 13, 2004}}&#x27;]</td></tr><tr><td>4516759</td><td>741</td><td>0</td><td>&quot;Palestinians to elect new pres…</td><td>&quot;[[File:Mahmoud abbas.jpg|frame…</td><td>&quot;2019-09-28T10:45:51Z&quot;</td><td>[&#x27;{{byline|date=november 14, 2004|location=[[w:ramallah|ramallah]]}}&#x27;]</td></tr><tr><td>2280888</td><td>743</td><td>0</td><td>&quot;Brazilian delegation returns f…</td><td>&quot;{{date|November 13, 2004}}\n",
       "{{P…</td><td>&quot;2014-01-02T19:36:05Z&quot;</td><td>[&#x27;{{date|november 13, 2004}}&#x27;]</td></tr><tr><td>4516758</td><td>764</td><td>0</td><td>&quot;Hearing begins over David Hook…</td><td>&quot;{{Crime and law}}{{byline|date…</td><td>&quot;2019-09-28T10:39:36Z&quot;</td><td>[&#x27;{{byline|date=november 15, 2004|location=[[melbourne|melbourne]], [[victoria, australia|victoria]]}}&#x27;]</td></tr><tr><td>1973838</td><td>779</td><td>0</td><td>&quot;Iran close to decision on nucl…</td><td>&quot;{{date|November 13, 2004}}\n",
       "{{I…</td><td>&quot;2013-08-21T16:07:41Z&quot;</td><td>[&#x27;{{date|november 13, 2004}}&#x27;]</td></tr><tr><td>&hellip;</td><td>&hellip;</td><td>&hellip;</td><td>&hellip;</td><td>&hellip;</td><td>&hellip;</td><td>&hellip;</td></tr><tr><td>4805088</td><td>3003768</td><td>0</td><td>&quot;Prison riot in Ecuador, at lea…</td><td>&quot;{{tasks|src|npov|mos|re-review…</td><td>&quot;2024-11-17T16:35:30Z&quot;</td><td>[&#x27;{{date|november 13, 2024}}&#x27;]</td></tr><tr><td>4805240</td><td>3003827</td><td>0</td><td>&quot;2024 ARPS Conference&quot;</td><td>&quot;{{develop}}\n",
       "{{date|November 12…</td><td>&quot;2024-11-19T12:19:00Z&quot;</td><td>[&#x27;{{date|november 12, 2024}}&#x27;]</td></tr><tr><td>4805272</td><td>3003842</td><td>0</td><td>&quot;Japan&#x27;s oldest Princess Yuriko…</td><td>&quot;{{tasks|src|re-review}}{{date|…</td><td>&quot;2024-11-19T18:23:32Z&quot;</td><td>[&#x27;{{date|november 15, 2024}}&#x27;]</td></tr><tr><td>4805304</td><td>3003969</td><td>0</td><td>&quot;US sanctions far-right Israeli…</td><td>&quot;{{review}}\n",
       "\n",
       "{{Date|November 18…</td><td>&quot;2024-11-20T05:45:46Z&quot;</td><td>[&#x27;{{date|november 18, 2024}}&#x27;]</td></tr><tr><td>4805279</td><td>3004021</td><td>0</td><td>&quot;Radwa mohamed (Dodo)&quot;</td><td>&quot;{{Topic cat\n",
       "|intro&nbsp;&nbsp;&nbsp;&nbsp;&nbsp;&nbsp;&nbsp;&nbsp;&nbsp;&nbsp;= …</td><td>&quot;2024-11-19T18:36:45Z&quot;</td><td>[]</td></tr></tbody></table></div>"
      ],
      "text/plain": [
       "shape: (22_109, 7)\n",
       "┌─────────────┬─────────┬──────────────┬──────────────┬──────────────┬──────────────┬──────────────┐\n",
       "│ revision_id ┆ page_id ┆ page_namespa ┆ page_title   ┆ page_text    ┆ last_update_ ┆ page_dates   │\n",
       "│ ---         ┆ ---     ┆ ce           ┆ ---          ┆ ---          ┆ timestamp    ┆ ---          │\n",
       "│ i64         ┆ i64     ┆ ---          ┆ str          ┆ str          ┆ ---          ┆ object       │\n",
       "│             ┆         ┆ i64          ┆              ┆              ┆ str          ┆              │\n",
       "╞═════════════╪═════════╪══════════════╪══════════════╪══════════════╪══════════════╪══════════════╡\n",
       "│ 4516743     ┆ 736     ┆ 0            ┆ President of ┆ {{date|Novem ┆ 2019-09-28T0 ┆ ['{{date|nov │\n",
       "│             ┆         ┆              ┆ China        ┆ ber 13,      ┆ 9:51:53Z     ┆ ember 13,    │\n",
       "│             ┆         ┆              ┆ lunches wit… ┆ 2004}}       ┆              ┆ 2004}}']     │\n",
       "│             ┆         ┆              ┆              ┆ {{B…         ┆              ┆              │\n",
       "│ 4516759     ┆ 741     ┆ 0            ┆ Palestinians ┆ [[File:Mahmo ┆ 2019-09-28T1 ┆ ['{{byline|d │\n",
       "│             ┆         ┆              ┆ to elect new ┆ ud abbas.jpg ┆ 0:45:51Z     ┆ ate=november │\n",
       "│             ┆         ┆              ┆ pres…        ┆ |frame…      ┆              ┆ 14, 2…       │\n",
       "│ 2280888     ┆ 743     ┆ 0            ┆ Brazilian    ┆ {{date|Novem ┆ 2014-01-02T1 ┆ ['{{date|nov │\n",
       "│             ┆         ┆              ┆ delegation   ┆ ber 13,      ┆ 9:36:05Z     ┆ ember 13,    │\n",
       "│             ┆         ┆              ┆ returns f…   ┆ 2004}}       ┆              ┆ 2004}}']     │\n",
       "│             ┆         ┆              ┆              ┆ {{P…         ┆              ┆              │\n",
       "│ 4516758     ┆ 764     ┆ 0            ┆ Hearing      ┆ {{Crime and  ┆ 2019-09-28T1 ┆ ['{{byline|d │\n",
       "│             ┆         ┆              ┆ begins over  ┆ law}}{{bylin ┆ 0:39:36Z     ┆ ate=november │\n",
       "│             ┆         ┆              ┆ David Hook…  ┆ e|date…      ┆              ┆ 15, 2…       │\n",
       "│ 1973838     ┆ 779     ┆ 0            ┆ Iran close   ┆ {{date|Novem ┆ 2013-08-21T1 ┆ ['{{date|nov │\n",
       "│             ┆         ┆              ┆ to decision  ┆ ber 13,      ┆ 6:07:41Z     ┆ ember 13,    │\n",
       "│             ┆         ┆              ┆ on nucl…     ┆ 2004}}       ┆              ┆ 2004}}']     │\n",
       "│             ┆         ┆              ┆              ┆ {{I…         ┆              ┆              │\n",
       "│ …           ┆ …       ┆ …            ┆ …            ┆ …            ┆ …            ┆ …            │\n",
       "│ 4805088     ┆ 3003768 ┆ 0            ┆ Prison riot  ┆ {{tasks|src| ┆ 2024-11-17T1 ┆ ['{{date|nov │\n",
       "│             ┆         ┆              ┆ in Ecuador,  ┆ npov|mos|re- ┆ 6:35:30Z     ┆ ember 13,    │\n",
       "│             ┆         ┆              ┆ at lea…      ┆ review…      ┆              ┆ 2024}}']     │\n",
       "│ 4805240     ┆ 3003827 ┆ 0            ┆ 2024 ARPS    ┆ {{develop}}  ┆ 2024-11-19T1 ┆ ['{{date|nov │\n",
       "│             ┆         ┆              ┆ Conference   ┆ {{date|Novem ┆ 2:19:00Z     ┆ ember 12,    │\n",
       "│             ┆         ┆              ┆              ┆ ber 12…      ┆              ┆ 2024}}']     │\n",
       "│ 4805272     ┆ 3003842 ┆ 0            ┆ Japan's      ┆ {{tasks|src| ┆ 2024-11-19T1 ┆ ['{{date|nov │\n",
       "│             ┆         ┆              ┆ oldest       ┆ re-review}}{ ┆ 8:23:32Z     ┆ ember 15,    │\n",
       "│             ┆         ┆              ┆ Princess     ┆ {date|…      ┆              ┆ 2024}}']     │\n",
       "│             ┆         ┆              ┆ Yuriko…      ┆              ┆              ┆              │\n",
       "│ 4805304     ┆ 3003969 ┆ 0            ┆ US sanctions ┆ {{review}}   ┆ 2024-11-20T0 ┆ ['{{date|nov │\n",
       "│             ┆         ┆              ┆ far-right    ┆              ┆ 5:45:46Z     ┆ ember 18,    │\n",
       "│             ┆         ┆              ┆ Israeli…     ┆ {{Date|Novem ┆              ┆ 2024}}']     │\n",
       "│             ┆         ┆              ┆              ┆ ber 18…      ┆              ┆              │\n",
       "│ 4805279     ┆ 3004021 ┆ 0            ┆ Radwa        ┆ {{Topic cat  ┆ 2024-11-19T1 ┆ []           │\n",
       "│             ┆         ┆              ┆ mohamed      ┆ |intro       ┆ 8:36:45Z     ┆              │\n",
       "│             ┆         ┆              ┆ (Dodo)       ┆ = …          ┆              ┆              │\n",
       "└─────────────┴─────────┴──────────────┴──────────────┴──────────────┴──────────────┴──────────────┘"
      ]
     },
     "execution_count": 18,
     "metadata": {},
     "output_type": "execute_result"
    }
   ],
   "source": [
    "article_publish_date_regexes = [\n",
    "    \"{{(d|D)ate\\|[A-Za-z0-9,\\. ]+}}\",\n",
    "    \"{{(b|B)yline\\|date=[A-Za-z0-9,\\. ]+\\|[^}{]+}}\",\n",
    "    \"{{(b|B)yline\\|date=[A-Za-z0-9,\\. ]+\\|[^}{]*{{w\\|[^}{]+(\\|[^}{]+)?(\\|[^}{]+)?}}[^}{]*}}\",\n",
    "    \"{{(b|B)yline\\|[^}{]+\\|date=[A-Za-z0-9,\\. ]+}}\",\n",
    "    \"{{(b|B)yline\\|[^}{]+{{w\\|[^}{]+(\\|[^}{]+)?(\\|[^}{]+)?}}[^}{]*\\|date=[A-Za-z0-9,\\. ]+}}\",\n",
    "    r\"\\[\\[(c|C)ategory:\\s*[A-Za-z]+\\s*[0-9]+[A-Za-z]{0,2},\\s*[0-9]+\\]\\]\",\n",
    "]\n",
    "full_article_publish_date_regex = \"|\".join(article_publish_date_regexes)\n",
    "\n",
    "def get_date_elements(article_text):\n",
    "    return [m.group(0) for m in re.finditer(full_article_publish_date_regex, article_text.lower())]\n",
    "\n",
    "df = df.with_columns(\n",
    "    pl.col(\"page_text\").map_elements(get_date_elements, return_dtype=pl.Object).alias('page_dates')\n",
    ")\n",
    "df"
   ]
  },
  {
   "cell_type": "markdown",
   "id": "cec3d199",
   "metadata": {
    "papermill": {
     "duration": 0.017124,
     "end_time": "2024-12-11T01:55:41.209389",
     "exception": false,
     "start_time": "2024-12-11T01:55:41.192265",
     "status": "completed"
    },
    "tags": []
   },
   "source": [
    "## Issue #8: Digest pages\n",
    "\n",
    "Some pages within the main wiki are article digest pages, which we can remove."
   ]
  },
  {
   "cell_type": "code",
   "execution_count": 19,
   "id": "598ff15d",
   "metadata": {
    "execution": {
     "iopub.execute_input": "2024-12-11T01:55:41.244348Z",
     "iopub.status.busy": "2024-12-11T01:55:41.243934Z",
     "iopub.status.idle": "2024-12-11T01:55:41.258559Z",
     "shell.execute_reply": "2024-12-11T01:55:41.257398Z"
    },
    "papermill": {
     "duration": 0.035116,
     "end_time": "2024-12-11T01:55:41.261222",
     "exception": false,
     "start_time": "2024-12-11T01:55:41.226106",
     "status": "completed"
    },
    "tags": []
   },
   "outputs": [
    {
     "data": {
      "text/html": [
       "<div><style>\n",
       ".dataframe > thead > tr,\n",
       ".dataframe > tbody > tr {\n",
       "  text-align: right;\n",
       "  white-space: pre-wrap;\n",
       "}\n",
       "</style>\n",
       "<small>shape: (614, 7)</small><table border=\"1\" class=\"dataframe\"><thead><tr><th>revision_id</th><th>page_id</th><th>page_namespace</th><th>page_title</th><th>page_text</th><th>last_update_timestamp</th><th>page_dates</th></tr><tr><td>i64</td><td>i64</td><td>i64</td><td>str</td><td>str</td><td>str</td><td>object</td></tr></thead><tbody><tr><td>4493894</td><td>1631</td><td>0</td><td>&quot;South American Community of Na…</td><td>&quot;[[File:SACN member states.jpg|…</td><td>&quot;2019-07-26T12:11:46Z&quot;</td><td>[]</td></tr><tr><td>4678714</td><td>2524</td><td>0</td><td>&quot;Digest/14December2004&quot;</td><td>&quot;&lt;div style=&quot;font-size:190%;&quot;&gt;D…</td><td>&quot;2022-05-29T07:40:42Z&quot;</td><td>[]</td></tr><tr><td>809056</td><td>2588</td><td>0</td><td>&quot;Main Page/Sandbox3&quot;</td><td>&quot;Hello all. Is this a sandbox?\n",
       "…</td><td>&quot;2009-04-23T12:54:33Z&quot;</td><td>[]</td></tr><tr><td>4539327</td><td>2619</td><td>0</td><td>&quot;Main Page/Sandbox4&quot;</td><td>&quot;{|{|cellpadding=&quot;4&quot; cellspacin…</td><td>&quot;2020-01-09T23:38:47Z&quot;</td><td>[]</td></tr><tr><td>527576</td><td>2969</td><td>0</td><td>&quot;Digest/1January2005exp&quot;</td><td>&quot;&lt;table valign=top&gt;&lt;tr&gt;&lt;td widt…</td><td>&quot;2007-11-27T00:24:42Z&quot;</td><td>[]</td></tr><tr><td>&hellip;</td><td>&hellip;</td><td>&hellip;</td><td>&hellip;</td><td>&hellip;</td><td>&hellip;</td><td>&hellip;</td></tr><tr><td>4732270</td><td>2973823</td><td>0</td><td>&quot;West Midlands&quot;</td><td>&quot;{{mainspace disambig}}\n",
       "__DISAM…</td><td>&quot;2023-06-13T14:40:33Z&quot;</td><td>[]</td></tr><tr><td>4733445</td><td>2973832</td><td>0</td><td>&quot;Shropshire&quot;</td><td>&quot;{{Mainspace disambig}}\n",
       "__DISAM…</td><td>&quot;2023-06-22T13:37:11Z&quot;</td><td>[]</td></tr><tr><td>4784575</td><td>2995324</td><td>0</td><td>&quot;Main Page 2&quot;</td><td>&quot;&lt;templatestyles src=&quot;Main Page…</td><td>&quot;2024-06-05T20:30:21Z&quot;</td><td>[]</td></tr><tr><td>4804852</td><td>3001820</td><td>0</td><td>&quot;Jimmie Johnson&#x27;s Consistency&quot;</td><td>&quot;{{abandoned|October 8, 2024|}}…</td><td>&quot;2024-11-14T17:14:23Z&quot;</td><td>[]</td></tr><tr><td>4805279</td><td>3004021</td><td>0</td><td>&quot;Radwa mohamed (Dodo)&quot;</td><td>&quot;{{Topic cat\n",
       "|intro&nbsp;&nbsp;&nbsp;&nbsp;&nbsp;&nbsp;&nbsp;&nbsp;&nbsp;&nbsp;= …</td><td>&quot;2024-11-19T18:36:45Z&quot;</td><td>[]</td></tr></tbody></table></div>"
      ],
      "text/plain": [
       "shape: (614, 7)\n",
       "┌─────────────┬─────────┬───────────────┬───────────────┬──────────────┬──────────────┬────────────┐\n",
       "│ revision_id ┆ page_id ┆ page_namespac ┆ page_title    ┆ page_text    ┆ last_update_ ┆ page_dates │\n",
       "│ ---         ┆ ---     ┆ e             ┆ ---           ┆ ---          ┆ timestamp    ┆ ---        │\n",
       "│ i64         ┆ i64     ┆ ---           ┆ str           ┆ str          ┆ ---          ┆ object     │\n",
       "│             ┆         ┆ i64           ┆               ┆              ┆ str          ┆            │\n",
       "╞═════════════╪═════════╪═══════════════╪═══════════════╪══════════════╪══════════════╪════════════╡\n",
       "│ 4493894     ┆ 1631    ┆ 0             ┆ South         ┆ [[File:SACN  ┆ 2019-07-26T1 ┆ []         │\n",
       "│             ┆         ┆               ┆ American      ┆ member       ┆ 2:11:46Z     ┆            │\n",
       "│             ┆         ┆               ┆ Community of  ┆ states.jpg|… ┆              ┆            │\n",
       "│             ┆         ┆               ┆ Na…           ┆              ┆              ┆            │\n",
       "│ 4678714     ┆ 2524    ┆ 0             ┆ Digest/14Dece ┆ <div style=\" ┆ 2022-05-29T0 ┆ []         │\n",
       "│             ┆         ┆               ┆ mber2004      ┆ font-size:19 ┆ 7:40:42Z     ┆            │\n",
       "│             ┆         ┆               ┆               ┆ 0%;\">D…      ┆              ┆            │\n",
       "│ 809056      ┆ 2588    ┆ 0             ┆ Main          ┆ Hello all.   ┆ 2009-04-23T1 ┆ []         │\n",
       "│             ┆         ┆               ┆ Page/Sandbox3 ┆ Is this a    ┆ 2:54:33Z     ┆            │\n",
       "│             ┆         ┆               ┆               ┆ sandbox?     ┆              ┆            │\n",
       "│             ┆         ┆               ┆               ┆ …            ┆              ┆            │\n",
       "│ 4539327     ┆ 2619    ┆ 0             ┆ Main          ┆ {|{|cellpadd ┆ 2020-01-09T2 ┆ []         │\n",
       "│             ┆         ┆               ┆ Page/Sandbox4 ┆ ing=\"4\"      ┆ 3:38:47Z     ┆            │\n",
       "│             ┆         ┆               ┆               ┆ cellspacin…  ┆              ┆            │\n",
       "│ 527576      ┆ 2969    ┆ 0             ┆ Digest/1Janua ┆ <table valig ┆ 2007-11-27T0 ┆ []         │\n",
       "│             ┆         ┆               ┆ ry2005exp     ┆ n=top><tr><t ┆ 0:24:42Z     ┆            │\n",
       "│             ┆         ┆               ┆               ┆ d widt…      ┆              ┆            │\n",
       "│ …           ┆ …       ┆ …             ┆ …             ┆ …            ┆ …            ┆ …          │\n",
       "│ 4732270     ┆ 2973823 ┆ 0             ┆ West Midlands ┆ {{mainspace  ┆ 2023-06-13T1 ┆ []         │\n",
       "│             ┆         ┆               ┆               ┆ disambig}}   ┆ 4:40:33Z     ┆            │\n",
       "│             ┆         ┆               ┆               ┆ __DISAM…     ┆              ┆            │\n",
       "│ 4733445     ┆ 2973832 ┆ 0             ┆ Shropshire    ┆ {{Mainspace  ┆ 2023-06-22T1 ┆ []         │\n",
       "│             ┆         ┆               ┆               ┆ disambig}}   ┆ 3:37:11Z     ┆            │\n",
       "│             ┆         ┆               ┆               ┆ __DISAM…     ┆              ┆            │\n",
       "│ 4784575     ┆ 2995324 ┆ 0             ┆ Main Page 2   ┆ <templatesty ┆ 2024-06-05T2 ┆ []         │\n",
       "│             ┆         ┆               ┆               ┆ les          ┆ 0:30:21Z     ┆            │\n",
       "│             ┆         ┆               ┆               ┆ src=\"Main    ┆              ┆            │\n",
       "│             ┆         ┆               ┆               ┆ Page…        ┆              ┆            │\n",
       "│ 4804852     ┆ 3001820 ┆ 0             ┆ Jimmie        ┆ {{abandoned| ┆ 2024-11-14T1 ┆ []         │\n",
       "│             ┆         ┆               ┆ Johnson's     ┆ October 8,   ┆ 7:14:23Z     ┆            │\n",
       "│             ┆         ┆               ┆ Consistency   ┆ 2024|}}…     ┆              ┆            │\n",
       "│ 4805279     ┆ 3004021 ┆ 0             ┆ Radwa mohamed ┆ {{Topic cat  ┆ 2024-11-19T1 ┆ []         │\n",
       "│             ┆         ┆               ┆ (Dodo)        ┆ |intro       ┆ 8:36:45Z     ┆            │\n",
       "│             ┆         ┆               ┆               ┆ = …          ┆              ┆            │\n",
       "└─────────────┴─────────┴───────────────┴───────────────┴──────────────┴──────────────┴────────────┘"
      ]
     },
     "execution_count": 19,
     "metadata": {},
     "output_type": "execute_result"
    }
   ],
   "source": [
    "df.filter(df[\"page_dates\"].map_elements(len, return_dtype=int) == 0)"
   ]
  },
  {
   "cell_type": "code",
   "execution_count": 20,
   "id": "b745c562",
   "metadata": {
    "execution": {
     "iopub.execute_input": "2024-12-11T01:55:41.297557Z",
     "iopub.status.busy": "2024-12-11T01:55:41.297135Z",
     "iopub.status.idle": "2024-12-11T01:55:41.303801Z",
     "shell.execute_reply": "2024-12-11T01:55:41.302690Z"
    },
    "papermill": {
     "duration": 0.028235,
     "end_time": "2024-12-11T01:55:41.306315",
     "exception": false,
     "start_time": "2024-12-11T01:55:41.278080",
     "status": "completed"
    },
    "tags": []
   },
   "outputs": [
    {
     "name": "stdout",
     "output_type": "stream",
     "text": [
      "<div style=\"font-size:190%;\">Digest for 14-25 December 2004</div>\n",
      "\n",
      "< [[Digest/6December2004|6-13 December 2004]] • [[Wikinews:Digests|Index]] • [[Digest/26December2004|26-31 December 2004 >]]\n",
      "__NOTOC__\n",
      "Articles dated 14 to 25 December 2004 are included in the compilation below.\n",
      "\n",
      "==Articles==\n",
      "'''[[Mumbai officials demolish 39K shanties; 200K homeless.]]'''<br /> \n",
      "25 December 2004<br /> \n",
      "India government demolishes over 6,000 shanties in a push to eradicate the capital city's slums.\n",
      "\n",
      "'''[[Former Indian PM Narasimha Rao passes away]]'''<br /> \n",
      "23 December 2004<br /> \n",
      "Former Indian PM Narasimha Rao passed away after suffering cardiac arrest in a private hospital in New Delhi.\n",
      "\n",
      "'''[[Zambian government launches a new agricultural policy]]<br />\n",
      "22 December 2oo4 <br />\n",
      "African nation moves to modernize food production infrastructure.\n",
      "\n",
      "'''[[Mozambique's ruling party retains control in elections]]'''<br /> \n",
      "22 December 2004<br /> \n",
      "Elections in the Southern African nation Mozambique have resulted in a landslide victory for the ruling Frelimo party.\n",
      "\n",
      "'''[[US army gives medical assistance to Iraq school]]'''<br /> \n",
      "22 December 2004<br /> \n",
      "US soldiers provided medical assistance to Iraq children at an elementary school in Bagdah.\n",
      "\n",
      "'''[[Police raids filesharing resources]]'''<br /> \n",
      "22 December 2004<br /> \n",
      "The largest BitTorrent and ed2k link sites have been closed by police or went offline voluntarily.\n",
      "\n",
      "'''[[European Union Council to accept software patent directive]]'''<br /> \n",
      "22 December 2004\n",
      "\n",
      "'''[[16 Foot Asteroid Passes Between Earth and Satellites]]'''<br /> \n",
      "22 December 2004<br /> \n",
      "Earth's scientists discover the latest astronomical near-miss.\n",
      "\n",
      "'''[[Thieves carry out biggest bank robbery in British history]]'''<br /> \n",
      "21 December 2004<br /> \n",
      "Thieves have gotten away with $39m or $58m from the Northern Bank.\n",
      "\n",
      "'''[[SEALs say US officer's cover-up was reported by fake SEAL]]'''<br /> \n",
      "21 December 2004<br /> \n",
      "US Sergeant Frank Ford has already made several unsubstantiated claims according to VeriSEAL.\n",
      "\n",
      "'''[[Poland made software patent directive stop]]'''<br /> \n",
      "20 December 20 2004<br /> \n",
      "Despite all expectations, the EU Council will further discuss the software patent directive.\n",
      "\n",
      "'''[[Battle of the Bulge reenacted in Belgium]]'''<br /> \n",
      "19 December 2004<br /> \n",
      "Seventeen American paratroopers jumped out of two old Dakota's who date from WWII.\n",
      "\n",
      "'''[[The Deadliest Fall]]'''<br /> \n",
      "18 December 2004<br /> \n",
      "The flu pandemic in the Fall of 1918 killed tens of millions. Can it happen again?\n",
      "\n",
      "{{publish}}\n",
      "{{archived}}\n",
      "\n",
      "[[Category:Science and technology]]\n",
      "[[Category:Politics and conflicts]]\n",
      "[[Category:Crime and law]]\n",
      "[[Category:Economy and business]]\n"
     ]
    }
   ],
   "source": [
    "print(df.filter(df[\"page_id\"] == 2524)[\"page_text\"][0])"
   ]
  },
  {
   "cell_type": "code",
   "execution_count": 21,
   "id": "ca31fd25",
   "metadata": {
    "execution": {
     "iopub.execute_input": "2024-12-11T01:55:41.342223Z",
     "iopub.status.busy": "2024-12-11T01:55:41.341819Z",
     "iopub.status.idle": "2024-12-11T01:55:41.404714Z",
     "shell.execute_reply": "2024-12-11T01:55:41.403421Z"
    },
    "papermill": {
     "duration": 0.084181,
     "end_time": "2024-12-11T01:55:41.407071",
     "exception": false,
     "start_time": "2024-12-11T01:55:41.322890",
     "status": "completed"
    },
    "tags": []
   },
   "outputs": [
    {
     "data": {
      "text/html": [
       "<div><style>\n",
       ".dataframe > thead > tr,\n",
       ".dataframe > tbody > tr {\n",
       "  text-align: right;\n",
       "  white-space: pre-wrap;\n",
       "}\n",
       "</style>\n",
       "<small>shape: (8, 7)</small><table border=\"1\" class=\"dataframe\"><thead><tr><th>revision_id</th><th>page_id</th><th>page_namespace</th><th>page_title</th><th>page_text</th><th>last_update_timestamp</th><th>page_dates</th></tr><tr><td>i64</td><td>i64</td><td>i64</td><td>str</td><td>str</td><td>str</td><td>object</td></tr></thead><tbody><tr><td>1389307</td><td>1445</td><td>0</td><td>&quot;Digest/29November2004&quot;</td><td>&quot;{{date|November 29, 2004}}\n",
       "&lt;Br…</td><td>&quot;2012-02-01T01:12:28Z&quot;</td><td>[&#x27;{{date|november 29, 2004}}&#x27;]</td></tr><tr><td>810579</td><td>1446</td><td>0</td><td>&quot;Digest/22November2004&quot;</td><td>&quot;{{date|November 23, 2004}}\n",
       "\n",
       "&lt;d…</td><td>&quot;2009-04-26T15:32:32Z&quot;</td><td>[&#x27;{{date|november 23, 2004}}&#x27;]</td></tr><tr><td>514779</td><td>2242</td><td>0</td><td>&quot;Digest/6December2004&quot;</td><td>&quot;{{date|December 6, 2004}}\n",
       "&lt;div…</td><td>&quot;2007-11-02T02:15:54Z&quot;</td><td>[&#x27;{{date|december 6, 2004}}&#x27;]</td></tr><tr><td>4678714</td><td>2524</td><td>0</td><td>&quot;Digest/14December2004&quot;</td><td>&quot;&lt;div style=&quot;font-size:190%;&quot;&gt;D…</td><td>&quot;2022-05-29T07:40:42Z&quot;</td><td>[]</td></tr><tr><td>514184</td><td>2526</td><td>0</td><td>&quot;Digest/26December2004&quot;</td><td>&quot;{{date|December 31, 2004}}\n",
       "&lt;di…</td><td>&quot;2007-11-01T03:25:43Z&quot;</td><td>[&#x27;{{date|december 31, 2004}}&#x27;]</td></tr><tr><td>594869</td><td>2639</td><td>0</td><td>&quot;Digest/1January2005&quot;</td><td>&quot;{{date|January 2, 2005}}\n",
       "\n",
       "&lt; [[…</td><td>&quot;2008-03-11T20:56:58Z&quot;</td><td>[&#x27;{{date|january 2, 2005}}&#x27;]</td></tr><tr><td>527576</td><td>2969</td><td>0</td><td>&quot;Digest/1January2005exp&quot;</td><td>&quot;&lt;table valign=top&gt;&lt;tr&gt;&lt;td widt…</td><td>&quot;2007-11-27T00:24:42Z&quot;</td><td>[]</td></tr><tr><td>515719</td><td>3137</td><td>0</td><td>&quot;Digest/11January2005&quot;</td><td>&quot;{{date|January 11, 2005}}\n",
       "\n",
       "&lt; […</td><td>&quot;2007-11-03T20:43:24Z&quot;</td><td>[&#x27;{{date|january 11, 2005}}&#x27;]</td></tr></tbody></table></div>"
      ],
      "text/plain": [
       "shape: (8, 7)\n",
       "┌─────────────┬─────────┬──────────────┬──────────────┬──────────────┬──────────────┬──────────────┐\n",
       "│ revision_id ┆ page_id ┆ page_namespa ┆ page_title   ┆ page_text    ┆ last_update_ ┆ page_dates   │\n",
       "│ ---         ┆ ---     ┆ ce           ┆ ---          ┆ ---          ┆ timestamp    ┆ ---          │\n",
       "│ i64         ┆ i64     ┆ ---          ┆ str          ┆ str          ┆ ---          ┆ object       │\n",
       "│             ┆         ┆ i64          ┆              ┆              ┆ str          ┆              │\n",
       "╞═════════════╪═════════╪══════════════╪══════════════╪══════════════╪══════════════╪══════════════╡\n",
       "│ 1389307     ┆ 1445    ┆ 0            ┆ Digest/29Nov ┆ {{date|Novem ┆ 2012-02-01T0 ┆ ['{{date|nov │\n",
       "│             ┆         ┆              ┆ ember2004    ┆ ber 29,      ┆ 1:12:28Z     ┆ ember 29,    │\n",
       "│             ┆         ┆              ┆              ┆ 2004}}       ┆              ┆ 2004}}']     │\n",
       "│             ┆         ┆              ┆              ┆ <Br…         ┆              ┆              │\n",
       "│ 810579      ┆ 1446    ┆ 0            ┆ Digest/22Nov ┆ {{date|Novem ┆ 2009-04-26T1 ┆ ['{{date|nov │\n",
       "│             ┆         ┆              ┆ ember2004    ┆ ber 23,      ┆ 5:32:32Z     ┆ ember 23,    │\n",
       "│             ┆         ┆              ┆              ┆ 2004}}       ┆              ┆ 2004}}']     │\n",
       "│             ┆         ┆              ┆              ┆              ┆              ┆              │\n",
       "│             ┆         ┆              ┆              ┆ <d…          ┆              ┆              │\n",
       "│ 514779      ┆ 2242    ┆ 0            ┆ Digest/6Dece ┆ {{date|Decem ┆ 2007-11-02T0 ┆ ['{{date|dec │\n",
       "│             ┆         ┆              ┆ mber2004     ┆ ber 6,       ┆ 2:15:54Z     ┆ ember 6,     │\n",
       "│             ┆         ┆              ┆              ┆ 2004}}       ┆              ┆ 2004}}']     │\n",
       "│             ┆         ┆              ┆              ┆ <div…        ┆              ┆              │\n",
       "│ 4678714     ┆ 2524    ┆ 0            ┆ Digest/14Dec ┆ <div style=\" ┆ 2022-05-29T0 ┆ []           │\n",
       "│             ┆         ┆              ┆ ember2004    ┆ font-size:19 ┆ 7:40:42Z     ┆              │\n",
       "│             ┆         ┆              ┆              ┆ 0%;\">D…      ┆              ┆              │\n",
       "│ 514184      ┆ 2526    ┆ 0            ┆ Digest/26Dec ┆ {{date|Decem ┆ 2007-11-01T0 ┆ ['{{date|dec │\n",
       "│             ┆         ┆              ┆ ember2004    ┆ ber 31,      ┆ 3:25:43Z     ┆ ember 31,    │\n",
       "│             ┆         ┆              ┆              ┆ 2004}}       ┆              ┆ 2004}}']     │\n",
       "│             ┆         ┆              ┆              ┆ <di…         ┆              ┆              │\n",
       "│ 594869      ┆ 2639    ┆ 0            ┆ Digest/1Janu ┆ {{date|Janua ┆ 2008-03-11T2 ┆ ['{{date|jan │\n",
       "│             ┆         ┆              ┆ ary2005      ┆ ry 2, 2005}} ┆ 0:56:58Z     ┆ uary 2,      │\n",
       "│             ┆         ┆              ┆              ┆              ┆              ┆ 2005}}']     │\n",
       "│             ┆         ┆              ┆              ┆ < [[…        ┆              ┆              │\n",
       "│ 527576      ┆ 2969    ┆ 0            ┆ Digest/1Janu ┆ <table valig ┆ 2007-11-27T0 ┆ []           │\n",
       "│             ┆         ┆              ┆ ary2005exp   ┆ n=top><tr><t ┆ 0:24:42Z     ┆              │\n",
       "│             ┆         ┆              ┆              ┆ d widt…      ┆              ┆              │\n",
       "│ 515719      ┆ 3137    ┆ 0            ┆ Digest/11Jan ┆ {{date|Janua ┆ 2007-11-03T2 ┆ ['{{date|jan │\n",
       "│             ┆         ┆              ┆ uary2005     ┆ ry 11,       ┆ 0:43:24Z     ┆ uary 11,     │\n",
       "│             ┆         ┆              ┆              ┆ 2005}}       ┆              ┆ 2005}}']     │\n",
       "│             ┆         ┆              ┆              ┆              ┆              ┆              │\n",
       "│             ┆         ┆              ┆              ┆ < […         ┆              ┆              │\n",
       "└─────────────┴─────────┴──────────────┴──────────────┴──────────────┴──────────────┴──────────────┘"
      ]
     },
     "execution_count": 21,
     "metadata": {},
     "output_type": "execute_result"
    }
   ],
   "source": [
    "df.filter(df[\"page_title\"].map_elements(lambda p:re.search(\"\\s*Digest/[^ ]\\s*\", p) != None, return_dtype=bool))"
   ]
  },
  {
   "cell_type": "code",
   "execution_count": 22,
   "id": "c7b66e80",
   "metadata": {
    "execution": {
     "iopub.execute_input": "2024-12-11T01:55:41.442068Z",
     "iopub.status.busy": "2024-12-11T01:55:41.441663Z",
     "iopub.status.idle": "2024-12-11T01:55:41.512892Z",
     "shell.execute_reply": "2024-12-11T01:55:41.511827Z"
    },
    "papermill": {
     "duration": 0.091686,
     "end_time": "2024-12-11T01:55:41.515419",
     "exception": false,
     "start_time": "2024-12-11T01:55:41.423733",
     "status": "completed"
    },
    "tags": []
   },
   "outputs": [
    {
     "data": {
      "text/html": [
       "<div><style>\n",
       ".dataframe > thead > tr,\n",
       ".dataframe > tbody > tr {\n",
       "  text-align: right;\n",
       "  white-space: pre-wrap;\n",
       "}\n",
       "</style>\n",
       "<small>shape: (22_101, 7)</small><table border=\"1\" class=\"dataframe\"><thead><tr><th>revision_id</th><th>page_id</th><th>page_namespace</th><th>page_title</th><th>page_text</th><th>last_update_timestamp</th><th>page_dates</th></tr><tr><td>i64</td><td>i64</td><td>i64</td><td>str</td><td>str</td><td>str</td><td>object</td></tr></thead><tbody><tr><td>4516743</td><td>736</td><td>0</td><td>&quot;President of China lunches wit…</td><td>&quot;{{date|November 13, 2004}}\n",
       "{{B…</td><td>&quot;2019-09-28T09:51:53Z&quot;</td><td>[&#x27;{{date|november 13, 2004}}&#x27;]</td></tr><tr><td>4516759</td><td>741</td><td>0</td><td>&quot;Palestinians to elect new pres…</td><td>&quot;[[File:Mahmoud abbas.jpg|frame…</td><td>&quot;2019-09-28T10:45:51Z&quot;</td><td>[&#x27;{{byline|date=november 14, 2004|location=[[w:ramallah|ramallah]]}}&#x27;]</td></tr><tr><td>2280888</td><td>743</td><td>0</td><td>&quot;Brazilian delegation returns f…</td><td>&quot;{{date|November 13, 2004}}\n",
       "{{P…</td><td>&quot;2014-01-02T19:36:05Z&quot;</td><td>[&#x27;{{date|november 13, 2004}}&#x27;]</td></tr><tr><td>4516758</td><td>764</td><td>0</td><td>&quot;Hearing begins over David Hook…</td><td>&quot;{{Crime and law}}{{byline|date…</td><td>&quot;2019-09-28T10:39:36Z&quot;</td><td>[&#x27;{{byline|date=november 15, 2004|location=[[melbourne|melbourne]], [[victoria, australia|victoria]]}}&#x27;]</td></tr><tr><td>1973838</td><td>779</td><td>0</td><td>&quot;Iran close to decision on nucl…</td><td>&quot;{{date|November 13, 2004}}\n",
       "{{I…</td><td>&quot;2013-08-21T16:07:41Z&quot;</td><td>[&#x27;{{date|november 13, 2004}}&#x27;]</td></tr><tr><td>&hellip;</td><td>&hellip;</td><td>&hellip;</td><td>&hellip;</td><td>&hellip;</td><td>&hellip;</td><td>&hellip;</td></tr><tr><td>4805088</td><td>3003768</td><td>0</td><td>&quot;Prison riot in Ecuador, at lea…</td><td>&quot;{{tasks|src|npov|mos|re-review…</td><td>&quot;2024-11-17T16:35:30Z&quot;</td><td>[&#x27;{{date|november 13, 2024}}&#x27;]</td></tr><tr><td>4805240</td><td>3003827</td><td>0</td><td>&quot;2024 ARPS Conference&quot;</td><td>&quot;{{develop}}\n",
       "{{date|November 12…</td><td>&quot;2024-11-19T12:19:00Z&quot;</td><td>[&#x27;{{date|november 12, 2024}}&#x27;]</td></tr><tr><td>4805272</td><td>3003842</td><td>0</td><td>&quot;Japan&#x27;s oldest Princess Yuriko…</td><td>&quot;{{tasks|src|re-review}}{{date|…</td><td>&quot;2024-11-19T18:23:32Z&quot;</td><td>[&#x27;{{date|november 15, 2024}}&#x27;]</td></tr><tr><td>4805304</td><td>3003969</td><td>0</td><td>&quot;US sanctions far-right Israeli…</td><td>&quot;{{review}}\n",
       "\n",
       "{{Date|November 18…</td><td>&quot;2024-11-20T05:45:46Z&quot;</td><td>[&#x27;{{date|november 18, 2024}}&#x27;]</td></tr><tr><td>4805279</td><td>3004021</td><td>0</td><td>&quot;Radwa mohamed (Dodo)&quot;</td><td>&quot;{{Topic cat\n",
       "|intro&nbsp;&nbsp;&nbsp;&nbsp;&nbsp;&nbsp;&nbsp;&nbsp;&nbsp;&nbsp;= …</td><td>&quot;2024-11-19T18:36:45Z&quot;</td><td>[]</td></tr></tbody></table></div>"
      ],
      "text/plain": [
       "shape: (22_101, 7)\n",
       "┌─────────────┬─────────┬──────────────┬──────────────┬──────────────┬──────────────┬──────────────┐\n",
       "│ revision_id ┆ page_id ┆ page_namespa ┆ page_title   ┆ page_text    ┆ last_update_ ┆ page_dates   │\n",
       "│ ---         ┆ ---     ┆ ce           ┆ ---          ┆ ---          ┆ timestamp    ┆ ---          │\n",
       "│ i64         ┆ i64     ┆ ---          ┆ str          ┆ str          ┆ ---          ┆ object       │\n",
       "│             ┆         ┆ i64          ┆              ┆              ┆ str          ┆              │\n",
       "╞═════════════╪═════════╪══════════════╪══════════════╪══════════════╪══════════════╪══════════════╡\n",
       "│ 4516743     ┆ 736     ┆ 0            ┆ President of ┆ {{date|Novem ┆ 2019-09-28T0 ┆ ['{{date|nov │\n",
       "│             ┆         ┆              ┆ China        ┆ ber 13,      ┆ 9:51:53Z     ┆ ember 13,    │\n",
       "│             ┆         ┆              ┆ lunches wit… ┆ 2004}}       ┆              ┆ 2004}}']     │\n",
       "│             ┆         ┆              ┆              ┆ {{B…         ┆              ┆              │\n",
       "│ 4516759     ┆ 741     ┆ 0            ┆ Palestinians ┆ [[File:Mahmo ┆ 2019-09-28T1 ┆ ['{{byline|d │\n",
       "│             ┆         ┆              ┆ to elect new ┆ ud abbas.jpg ┆ 0:45:51Z     ┆ ate=november │\n",
       "│             ┆         ┆              ┆ pres…        ┆ |frame…      ┆              ┆ 14, 2…       │\n",
       "│ 2280888     ┆ 743     ┆ 0            ┆ Brazilian    ┆ {{date|Novem ┆ 2014-01-02T1 ┆ ['{{date|nov │\n",
       "│             ┆         ┆              ┆ delegation   ┆ ber 13,      ┆ 9:36:05Z     ┆ ember 13,    │\n",
       "│             ┆         ┆              ┆ returns f…   ┆ 2004}}       ┆              ┆ 2004}}']     │\n",
       "│             ┆         ┆              ┆              ┆ {{P…         ┆              ┆              │\n",
       "│ 4516758     ┆ 764     ┆ 0            ┆ Hearing      ┆ {{Crime and  ┆ 2019-09-28T1 ┆ ['{{byline|d │\n",
       "│             ┆         ┆              ┆ begins over  ┆ law}}{{bylin ┆ 0:39:36Z     ┆ ate=november │\n",
       "│             ┆         ┆              ┆ David Hook…  ┆ e|date…      ┆              ┆ 15, 2…       │\n",
       "│ 1973838     ┆ 779     ┆ 0            ┆ Iran close   ┆ {{date|Novem ┆ 2013-08-21T1 ┆ ['{{date|nov │\n",
       "│             ┆         ┆              ┆ to decision  ┆ ber 13,      ┆ 6:07:41Z     ┆ ember 13,    │\n",
       "│             ┆         ┆              ┆ on nucl…     ┆ 2004}}       ┆              ┆ 2004}}']     │\n",
       "│             ┆         ┆              ┆              ┆ {{I…         ┆              ┆              │\n",
       "│ …           ┆ …       ┆ …            ┆ …            ┆ …            ┆ …            ┆ …            │\n",
       "│ 4805088     ┆ 3003768 ┆ 0            ┆ Prison riot  ┆ {{tasks|src| ┆ 2024-11-17T1 ┆ ['{{date|nov │\n",
       "│             ┆         ┆              ┆ in Ecuador,  ┆ npov|mos|re- ┆ 6:35:30Z     ┆ ember 13,    │\n",
       "│             ┆         ┆              ┆ at lea…      ┆ review…      ┆              ┆ 2024}}']     │\n",
       "│ 4805240     ┆ 3003827 ┆ 0            ┆ 2024 ARPS    ┆ {{develop}}  ┆ 2024-11-19T1 ┆ ['{{date|nov │\n",
       "│             ┆         ┆              ┆ Conference   ┆ {{date|Novem ┆ 2:19:00Z     ┆ ember 12,    │\n",
       "│             ┆         ┆              ┆              ┆ ber 12…      ┆              ┆ 2024}}']     │\n",
       "│ 4805272     ┆ 3003842 ┆ 0            ┆ Japan's      ┆ {{tasks|src| ┆ 2024-11-19T1 ┆ ['{{date|nov │\n",
       "│             ┆         ┆              ┆ oldest       ┆ re-review}}{ ┆ 8:23:32Z     ┆ ember 15,    │\n",
       "│             ┆         ┆              ┆ Princess     ┆ {date|…      ┆              ┆ 2024}}']     │\n",
       "│             ┆         ┆              ┆ Yuriko…      ┆              ┆              ┆              │\n",
       "│ 4805304     ┆ 3003969 ┆ 0            ┆ US sanctions ┆ {{review}}   ┆ 2024-11-20T0 ┆ ['{{date|nov │\n",
       "│             ┆         ┆              ┆ far-right    ┆              ┆ 5:45:46Z     ┆ ember 18,    │\n",
       "│             ┆         ┆              ┆ Israeli…     ┆ {{Date|Novem ┆              ┆ 2024}}']     │\n",
       "│             ┆         ┆              ┆              ┆ ber 18…      ┆              ┆              │\n",
       "│ 4805279     ┆ 3004021 ┆ 0            ┆ Radwa        ┆ {{Topic cat  ┆ 2024-11-19T1 ┆ []           │\n",
       "│             ┆         ┆              ┆ mohamed      ┆ |intro       ┆ 8:36:45Z     ┆              │\n",
       "│             ┆         ┆              ┆ (Dodo)       ┆ = …          ┆              ┆              │\n",
       "└─────────────┴─────────┴──────────────┴──────────────┴──────────────┴──────────────┴──────────────┘"
      ]
     },
     "execution_count": 22,
     "metadata": {},
     "output_type": "execute_result"
    }
   ],
   "source": [
    "df = df.filter(df[\"page_title\"].map_elements(lambda p:re.search(\"\\s*Digest/[^ ]\\s*\", p) == None, return_dtype=bool))\n",
    "df"
   ]
  },
  {
   "cell_type": "markdown",
   "id": "e658aff0",
   "metadata": {
    "papermill": {
     "duration": 0.01712,
     "end_time": "2024-12-11T01:55:41.552877",
     "exception": false,
     "start_time": "2024-12-11T01:55:41.535757",
     "status": "completed"
    },
    "tags": []
   },
   "source": [
    "## Issue #9: Main Page Sandboxes\n",
    "\n",
    "There are \"sandbox\" versions of the main page that can safely be deleted."
   ]
  },
  {
   "cell_type": "code",
   "execution_count": 23,
   "id": "5a620a30",
   "metadata": {
    "execution": {
     "iopub.execute_input": "2024-12-11T01:55:41.590317Z",
     "iopub.status.busy": "2024-12-11T01:55:41.589915Z",
     "iopub.status.idle": "2024-12-11T01:55:41.735696Z",
     "shell.execute_reply": "2024-12-11T01:55:41.734606Z"
    },
    "papermill": {
     "duration": 0.166713,
     "end_time": "2024-12-11T01:55:41.737924",
     "exception": false,
     "start_time": "2024-12-11T01:55:41.571211",
     "status": "completed"
    },
    "tags": []
   },
   "outputs": [
    {
     "data": {
      "text/html": [
       "<div><style>\n",
       ".dataframe > thead > tr,\n",
       ".dataframe > tbody > tr {\n",
       "  text-align: right;\n",
       "  white-space: pre-wrap;\n",
       "}\n",
       "</style>\n",
       "<small>shape: (3, 7)</small><table border=\"1\" class=\"dataframe\"><thead><tr><th>revision_id</th><th>page_id</th><th>page_namespace</th><th>page_title</th><th>page_text</th><th>last_update_timestamp</th><th>page_dates</th></tr><tr><td>i64</td><td>i64</td><td>i64</td><td>str</td><td>str</td><td>str</td><td>object</td></tr></thead><tbody><tr><td>809056</td><td>2588</td><td>0</td><td>&quot;Main Page/Sandbox3&quot;</td><td>&quot;Hello all. Is this a sandbox?\n",
       "…</td><td>&quot;2009-04-23T12:54:33Z&quot;</td><td>[]</td></tr><tr><td>4539327</td><td>2619</td><td>0</td><td>&quot;Main Page/Sandbox4&quot;</td><td>&quot;{|{|cellpadding=&quot;4&quot; cellspacin…</td><td>&quot;2020-01-09T23:38:47Z&quot;</td><td>[]</td></tr><tr><td>308595</td><td>26966</td><td>0</td><td>&quot;Main Page/WideSandbox3&quot;</td><td>&quot;[[Category:No publish]]\n",
       "&lt;!-- P…</td><td>&quot;2006-09-05T22:43:17Z&quot;</td><td>[]</td></tr></tbody></table></div>"
      ],
      "text/plain": [
       "shape: (3, 7)\n",
       "┌─────────────┬─────────┬───────────────┬───────────────┬──────────────┬──────────────┬────────────┐\n",
       "│ revision_id ┆ page_id ┆ page_namespac ┆ page_title    ┆ page_text    ┆ last_update_ ┆ page_dates │\n",
       "│ ---         ┆ ---     ┆ e             ┆ ---           ┆ ---          ┆ timestamp    ┆ ---        │\n",
       "│ i64         ┆ i64     ┆ ---           ┆ str           ┆ str          ┆ ---          ┆ object     │\n",
       "│             ┆         ┆ i64           ┆               ┆              ┆ str          ┆            │\n",
       "╞═════════════╪═════════╪═══════════════╪═══════════════╪══════════════╪══════════════╪════════════╡\n",
       "│ 809056      ┆ 2588    ┆ 0             ┆ Main          ┆ Hello all.   ┆ 2009-04-23T1 ┆ []         │\n",
       "│             ┆         ┆               ┆ Page/Sandbox3 ┆ Is this a    ┆ 2:54:33Z     ┆            │\n",
       "│             ┆         ┆               ┆               ┆ sandbox?     ┆              ┆            │\n",
       "│             ┆         ┆               ┆               ┆ …            ┆              ┆            │\n",
       "│ 4539327     ┆ 2619    ┆ 0             ┆ Main          ┆ {|{|cellpadd ┆ 2020-01-09T2 ┆ []         │\n",
       "│             ┆         ┆               ┆ Page/Sandbox4 ┆ ing=\"4\"      ┆ 3:38:47Z     ┆            │\n",
       "│             ┆         ┆               ┆               ┆ cellspacin…  ┆              ┆            │\n",
       "│ 308595      ┆ 26966   ┆ 0             ┆ Main Page/Wid ┆ [[Category:N ┆ 2006-09-05T2 ┆ []         │\n",
       "│             ┆         ┆               ┆ eSandbox3     ┆ o publish]]  ┆ 2:43:17Z     ┆            │\n",
       "│             ┆         ┆               ┆               ┆ <!-- P…      ┆              ┆            │\n",
       "└─────────────┴─────────┴───────────────┴───────────────┴──────────────┴──────────────┴────────────┘"
      ]
     },
     "execution_count": 23,
     "metadata": {},
     "output_type": "execute_result"
    }
   ],
   "source": [
    "df.filter(df[\"page_title\"].map_elements(lambda p:re.search(\".*Sandbox.*\", p) != None, return_dtype=bool))"
   ]
  },
  {
   "cell_type": "code",
   "execution_count": 24,
   "id": "4d909a46",
   "metadata": {
    "execution": {
     "iopub.execute_input": "2024-12-11T01:55:41.777649Z",
     "iopub.status.busy": "2024-12-11T01:55:41.777263Z",
     "iopub.status.idle": "2024-12-11T01:55:41.931426Z",
     "shell.execute_reply": "2024-12-11T01:55:41.930358Z"
    },
    "papermill": {
     "duration": 0.176599,
     "end_time": "2024-12-11T01:55:41.933834",
     "exception": false,
     "start_time": "2024-12-11T01:55:41.757235",
     "status": "completed"
    },
    "tags": []
   },
   "outputs": [
    {
     "data": {
      "text/html": [
       "<div><style>\n",
       ".dataframe > thead > tr,\n",
       ".dataframe > tbody > tr {\n",
       "  text-align: right;\n",
       "  white-space: pre-wrap;\n",
       "}\n",
       "</style>\n",
       "<small>shape: (22_098, 7)</small><table border=\"1\" class=\"dataframe\"><thead><tr><th>revision_id</th><th>page_id</th><th>page_namespace</th><th>page_title</th><th>page_text</th><th>last_update_timestamp</th><th>page_dates</th></tr><tr><td>i64</td><td>i64</td><td>i64</td><td>str</td><td>str</td><td>str</td><td>object</td></tr></thead><tbody><tr><td>4516743</td><td>736</td><td>0</td><td>&quot;President of China lunches wit…</td><td>&quot;{{date|November 13, 2004}}\n",
       "{{B…</td><td>&quot;2019-09-28T09:51:53Z&quot;</td><td>[&#x27;{{date|november 13, 2004}}&#x27;]</td></tr><tr><td>4516759</td><td>741</td><td>0</td><td>&quot;Palestinians to elect new pres…</td><td>&quot;[[File:Mahmoud abbas.jpg|frame…</td><td>&quot;2019-09-28T10:45:51Z&quot;</td><td>[&#x27;{{byline|date=november 14, 2004|location=[[w:ramallah|ramallah]]}}&#x27;]</td></tr><tr><td>2280888</td><td>743</td><td>0</td><td>&quot;Brazilian delegation returns f…</td><td>&quot;{{date|November 13, 2004}}\n",
       "{{P…</td><td>&quot;2014-01-02T19:36:05Z&quot;</td><td>[&#x27;{{date|november 13, 2004}}&#x27;]</td></tr><tr><td>4516758</td><td>764</td><td>0</td><td>&quot;Hearing begins over David Hook…</td><td>&quot;{{Crime and law}}{{byline|date…</td><td>&quot;2019-09-28T10:39:36Z&quot;</td><td>[&#x27;{{byline|date=november 15, 2004|location=[[melbourne|melbourne]], [[victoria, australia|victoria]]}}&#x27;]</td></tr><tr><td>1973838</td><td>779</td><td>0</td><td>&quot;Iran close to decision on nucl…</td><td>&quot;{{date|November 13, 2004}}\n",
       "{{I…</td><td>&quot;2013-08-21T16:07:41Z&quot;</td><td>[&#x27;{{date|november 13, 2004}}&#x27;]</td></tr><tr><td>&hellip;</td><td>&hellip;</td><td>&hellip;</td><td>&hellip;</td><td>&hellip;</td><td>&hellip;</td><td>&hellip;</td></tr><tr><td>4805088</td><td>3003768</td><td>0</td><td>&quot;Prison riot in Ecuador, at lea…</td><td>&quot;{{tasks|src|npov|mos|re-review…</td><td>&quot;2024-11-17T16:35:30Z&quot;</td><td>[&#x27;{{date|november 13, 2024}}&#x27;]</td></tr><tr><td>4805240</td><td>3003827</td><td>0</td><td>&quot;2024 ARPS Conference&quot;</td><td>&quot;{{develop}}\n",
       "{{date|November 12…</td><td>&quot;2024-11-19T12:19:00Z&quot;</td><td>[&#x27;{{date|november 12, 2024}}&#x27;]</td></tr><tr><td>4805272</td><td>3003842</td><td>0</td><td>&quot;Japan&#x27;s oldest Princess Yuriko…</td><td>&quot;{{tasks|src|re-review}}{{date|…</td><td>&quot;2024-11-19T18:23:32Z&quot;</td><td>[&#x27;{{date|november 15, 2024}}&#x27;]</td></tr><tr><td>4805304</td><td>3003969</td><td>0</td><td>&quot;US sanctions far-right Israeli…</td><td>&quot;{{review}}\n",
       "\n",
       "{{Date|November 18…</td><td>&quot;2024-11-20T05:45:46Z&quot;</td><td>[&#x27;{{date|november 18, 2024}}&#x27;]</td></tr><tr><td>4805279</td><td>3004021</td><td>0</td><td>&quot;Radwa mohamed (Dodo)&quot;</td><td>&quot;{{Topic cat\n",
       "|intro&nbsp;&nbsp;&nbsp;&nbsp;&nbsp;&nbsp;&nbsp;&nbsp;&nbsp;&nbsp;= …</td><td>&quot;2024-11-19T18:36:45Z&quot;</td><td>[]</td></tr></tbody></table></div>"
      ],
      "text/plain": [
       "shape: (22_098, 7)\n",
       "┌─────────────┬─────────┬──────────────┬──────────────┬──────────────┬──────────────┬──────────────┐\n",
       "│ revision_id ┆ page_id ┆ page_namespa ┆ page_title   ┆ page_text    ┆ last_update_ ┆ page_dates   │\n",
       "│ ---         ┆ ---     ┆ ce           ┆ ---          ┆ ---          ┆ timestamp    ┆ ---          │\n",
       "│ i64         ┆ i64     ┆ ---          ┆ str          ┆ str          ┆ ---          ┆ object       │\n",
       "│             ┆         ┆ i64          ┆              ┆              ┆ str          ┆              │\n",
       "╞═════════════╪═════════╪══════════════╪══════════════╪══════════════╪══════════════╪══════════════╡\n",
       "│ 4516743     ┆ 736     ┆ 0            ┆ President of ┆ {{date|Novem ┆ 2019-09-28T0 ┆ ['{{date|nov │\n",
       "│             ┆         ┆              ┆ China        ┆ ber 13,      ┆ 9:51:53Z     ┆ ember 13,    │\n",
       "│             ┆         ┆              ┆ lunches wit… ┆ 2004}}       ┆              ┆ 2004}}']     │\n",
       "│             ┆         ┆              ┆              ┆ {{B…         ┆              ┆              │\n",
       "│ 4516759     ┆ 741     ┆ 0            ┆ Palestinians ┆ [[File:Mahmo ┆ 2019-09-28T1 ┆ ['{{byline|d │\n",
       "│             ┆         ┆              ┆ to elect new ┆ ud abbas.jpg ┆ 0:45:51Z     ┆ ate=november │\n",
       "│             ┆         ┆              ┆ pres…        ┆ |frame…      ┆              ┆ 14, 2…       │\n",
       "│ 2280888     ┆ 743     ┆ 0            ┆ Brazilian    ┆ {{date|Novem ┆ 2014-01-02T1 ┆ ['{{date|nov │\n",
       "│             ┆         ┆              ┆ delegation   ┆ ber 13,      ┆ 9:36:05Z     ┆ ember 13,    │\n",
       "│             ┆         ┆              ┆ returns f…   ┆ 2004}}       ┆              ┆ 2004}}']     │\n",
       "│             ┆         ┆              ┆              ┆ {{P…         ┆              ┆              │\n",
       "│ 4516758     ┆ 764     ┆ 0            ┆ Hearing      ┆ {{Crime and  ┆ 2019-09-28T1 ┆ ['{{byline|d │\n",
       "│             ┆         ┆              ┆ begins over  ┆ law}}{{bylin ┆ 0:39:36Z     ┆ ate=november │\n",
       "│             ┆         ┆              ┆ David Hook…  ┆ e|date…      ┆              ┆ 15, 2…       │\n",
       "│ 1973838     ┆ 779     ┆ 0            ┆ Iran close   ┆ {{date|Novem ┆ 2013-08-21T1 ┆ ['{{date|nov │\n",
       "│             ┆         ┆              ┆ to decision  ┆ ber 13,      ┆ 6:07:41Z     ┆ ember 13,    │\n",
       "│             ┆         ┆              ┆ on nucl…     ┆ 2004}}       ┆              ┆ 2004}}']     │\n",
       "│             ┆         ┆              ┆              ┆ {{I…         ┆              ┆              │\n",
       "│ …           ┆ …       ┆ …            ┆ …            ┆ …            ┆ …            ┆ …            │\n",
       "│ 4805088     ┆ 3003768 ┆ 0            ┆ Prison riot  ┆ {{tasks|src| ┆ 2024-11-17T1 ┆ ['{{date|nov │\n",
       "│             ┆         ┆              ┆ in Ecuador,  ┆ npov|mos|re- ┆ 6:35:30Z     ┆ ember 13,    │\n",
       "│             ┆         ┆              ┆ at lea…      ┆ review…      ┆              ┆ 2024}}']     │\n",
       "│ 4805240     ┆ 3003827 ┆ 0            ┆ 2024 ARPS    ┆ {{develop}}  ┆ 2024-11-19T1 ┆ ['{{date|nov │\n",
       "│             ┆         ┆              ┆ Conference   ┆ {{date|Novem ┆ 2:19:00Z     ┆ ember 12,    │\n",
       "│             ┆         ┆              ┆              ┆ ber 12…      ┆              ┆ 2024}}']     │\n",
       "│ 4805272     ┆ 3003842 ┆ 0            ┆ Japan's      ┆ {{tasks|src| ┆ 2024-11-19T1 ┆ ['{{date|nov │\n",
       "│             ┆         ┆              ┆ oldest       ┆ re-review}}{ ┆ 8:23:32Z     ┆ ember 15,    │\n",
       "│             ┆         ┆              ┆ Princess     ┆ {date|…      ┆              ┆ 2024}}']     │\n",
       "│             ┆         ┆              ┆ Yuriko…      ┆              ┆              ┆              │\n",
       "│ 4805304     ┆ 3003969 ┆ 0            ┆ US sanctions ┆ {{review}}   ┆ 2024-11-20T0 ┆ ['{{date|nov │\n",
       "│             ┆         ┆              ┆ far-right    ┆              ┆ 5:45:46Z     ┆ ember 18,    │\n",
       "│             ┆         ┆              ┆ Israeli…     ┆ {{Date|Novem ┆              ┆ 2024}}']     │\n",
       "│             ┆         ┆              ┆              ┆ ber 18…      ┆              ┆              │\n",
       "│ 4805279     ┆ 3004021 ┆ 0            ┆ Radwa        ┆ {{Topic cat  ┆ 2024-11-19T1 ┆ []           │\n",
       "│             ┆         ┆              ┆ mohamed      ┆ |intro       ┆ 8:36:45Z     ┆              │\n",
       "│             ┆         ┆              ┆ (Dodo)       ┆ = …          ┆              ┆              │\n",
       "└─────────────┴─────────┴──────────────┴──────────────┴──────────────┴──────────────┴──────────────┘"
      ]
     },
     "execution_count": 24,
     "metadata": {},
     "output_type": "execute_result"
    }
   ],
   "source": [
    "df = df.filter(df[\"page_title\"].map_elements(lambda p:re.search(\".*Sandbox.*\", p) == None, return_dtype=bool))\n",
    "df"
   ]
  },
  {
   "cell_type": "markdown",
   "id": "924a556b",
   "metadata": {
    "papermill": {
     "duration": 0.017234,
     "end_time": "2024-12-11T01:55:41.969015",
     "exception": false,
     "start_time": "2024-12-11T01:55:41.951781",
     "status": "completed"
    },
    "tags": []
   },
   "source": [
    "## Issue #10: More date formats\n",
    "\n",
    "`{{date|January 19, 2005|2005}}`, `{{date|1=January 26, 2005}}`, and `{{date|1=January 26, 2005|2=2005}}` are also valid formats."
   ]
  },
  {
   "cell_type": "code",
   "execution_count": 25,
   "id": "5cea637a",
   "metadata": {
    "execution": {
     "iopub.execute_input": "2024-12-11T01:55:42.006060Z",
     "iopub.status.busy": "2024-12-11T01:55:42.005636Z",
     "iopub.status.idle": "2024-12-11T01:55:42.018466Z",
     "shell.execute_reply": "2024-12-11T01:55:42.017366Z"
    },
    "papermill": {
     "duration": 0.034137,
     "end_time": "2024-12-11T01:55:42.020642",
     "exception": false,
     "start_time": "2024-12-11T01:55:41.986505",
     "status": "completed"
    },
    "tags": []
   },
   "outputs": [
    {
     "data": {
      "text/html": [
       "<div><style>\n",
       ".dataframe > thead > tr,\n",
       ".dataframe > tbody > tr {\n",
       "  text-align: right;\n",
       "  white-space: pre-wrap;\n",
       "}\n",
       "</style>\n",
       "<small>shape: (609, 7)</small><table border=\"1\" class=\"dataframe\"><thead><tr><th>revision_id</th><th>page_id</th><th>page_namespace</th><th>page_title</th><th>page_text</th><th>last_update_timestamp</th><th>page_dates</th></tr><tr><td>i64</td><td>i64</td><td>i64</td><td>str</td><td>str</td><td>str</td><td>object</td></tr></thead><tbody><tr><td>4493894</td><td>1631</td><td>0</td><td>&quot;South American Community of Na…</td><td>&quot;[[File:SACN member states.jpg|…</td><td>&quot;2019-07-26T12:11:46Z&quot;</td><td>[]</td></tr><tr><td>4412005</td><td>3331</td><td>0</td><td>&quot;2005/01/19 Pacific Northwest s…</td><td>&quot;{{date|January 19, 2005|2005}}…</td><td>&quot;2018-06-09T02:24:15Z&quot;</td><td>[]</td></tr><tr><td>3888809</td><td>3697</td><td>0</td><td>&quot;Iraq: Marines killed in helico…</td><td>&quot;{{date|1=January 26, 2005}}\n",
       "\n",
       "A…</td><td>&quot;2015-10-11T17:39:29Z&quot;</td><td>[]</td></tr><tr><td>527593</td><td>3882</td><td>0</td><td>&quot;Crosswords/2005/February&quot;</td><td>&quot;;&lt; [[Crosswords/2005/January|J…</td><td>&quot;2007-11-27T00:41:37Z&quot;</td><td>[]</td></tr><tr><td>1089693</td><td>4618</td><td>0</td><td>&quot;&#x27;The Gates&#x27; opens in New York …</td><td>&quot;__NOTOC__\n",
       "\n",
       "{{byline|\n",
       "date=Febr…</td><td>&quot;2010-09-06T20:26:56Z&quot;</td><td>[]</td></tr><tr><td>&hellip;</td><td>&hellip;</td><td>&hellip;</td><td>&hellip;</td><td>&hellip;</td><td>&hellip;</td><td>&hellip;</td></tr><tr><td>4732270</td><td>2973823</td><td>0</td><td>&quot;West Midlands&quot;</td><td>&quot;{{mainspace disambig}}\n",
       "__DISAM…</td><td>&quot;2023-06-13T14:40:33Z&quot;</td><td>[]</td></tr><tr><td>4733445</td><td>2973832</td><td>0</td><td>&quot;Shropshire&quot;</td><td>&quot;{{Mainspace disambig}}\n",
       "__DISAM…</td><td>&quot;2023-06-22T13:37:11Z&quot;</td><td>[]</td></tr><tr><td>4784575</td><td>2995324</td><td>0</td><td>&quot;Main Page 2&quot;</td><td>&quot;&lt;templatestyles src=&quot;Main Page…</td><td>&quot;2024-06-05T20:30:21Z&quot;</td><td>[]</td></tr><tr><td>4804852</td><td>3001820</td><td>0</td><td>&quot;Jimmie Johnson&#x27;s Consistency&quot;</td><td>&quot;{{abandoned|October 8, 2024|}}…</td><td>&quot;2024-11-14T17:14:23Z&quot;</td><td>[]</td></tr><tr><td>4805279</td><td>3004021</td><td>0</td><td>&quot;Radwa mohamed (Dodo)&quot;</td><td>&quot;{{Topic cat\n",
       "|intro&nbsp;&nbsp;&nbsp;&nbsp;&nbsp;&nbsp;&nbsp;&nbsp;&nbsp;&nbsp;= …</td><td>&quot;2024-11-19T18:36:45Z&quot;</td><td>[]</td></tr></tbody></table></div>"
      ],
      "text/plain": [
       "shape: (609, 7)\n",
       "┌─────────────┬─────────┬───────────────┬───────────────┬──────────────┬──────────────┬────────────┐\n",
       "│ revision_id ┆ page_id ┆ page_namespac ┆ page_title    ┆ page_text    ┆ last_update_ ┆ page_dates │\n",
       "│ ---         ┆ ---     ┆ e             ┆ ---           ┆ ---          ┆ timestamp    ┆ ---        │\n",
       "│ i64         ┆ i64     ┆ ---           ┆ str           ┆ str          ┆ ---          ┆ object     │\n",
       "│             ┆         ┆ i64           ┆               ┆              ┆ str          ┆            │\n",
       "╞═════════════╪═════════╪═══════════════╪═══════════════╪══════════════╪══════════════╪════════════╡\n",
       "│ 4493894     ┆ 1631    ┆ 0             ┆ South         ┆ [[File:SACN  ┆ 2019-07-26T1 ┆ []         │\n",
       "│             ┆         ┆               ┆ American      ┆ member       ┆ 2:11:46Z     ┆            │\n",
       "│             ┆         ┆               ┆ Community of  ┆ states.jpg|… ┆              ┆            │\n",
       "│             ┆         ┆               ┆ Na…           ┆              ┆              ┆            │\n",
       "│ 4412005     ┆ 3331    ┆ 0             ┆ 2005/01/19    ┆ {{date|Janua ┆ 2018-06-09T0 ┆ []         │\n",
       "│             ┆         ┆               ┆ Pacific       ┆ ry 19,       ┆ 2:24:15Z     ┆            │\n",
       "│             ┆         ┆               ┆ Northwest s…  ┆ 2005|2005}}… ┆              ┆            │\n",
       "│ 3888809     ┆ 3697    ┆ 0             ┆ Iraq: Marines ┆ {{date|1=Jan ┆ 2015-10-11T1 ┆ []         │\n",
       "│             ┆         ┆               ┆ killed in     ┆ uary 26,     ┆ 7:39:29Z     ┆            │\n",
       "│             ┆         ┆               ┆ helico…       ┆ 2005}}       ┆              ┆            │\n",
       "│             ┆         ┆               ┆               ┆              ┆              ┆            │\n",
       "│             ┆         ┆               ┆               ┆ A…           ┆              ┆            │\n",
       "│ 527593      ┆ 3882    ┆ 0             ┆ Crosswords/20 ┆ ;< [[Crosswo ┆ 2007-11-27T0 ┆ []         │\n",
       "│             ┆         ┆               ┆ 05/February   ┆ rds/2005/Jan ┆ 0:41:37Z     ┆            │\n",
       "│             ┆         ┆               ┆               ┆ uary|J…      ┆              ┆            │\n",
       "│ 1089693     ┆ 4618    ┆ 0             ┆ 'The Gates'   ┆ __NOTOC__    ┆ 2010-09-06T2 ┆ []         │\n",
       "│             ┆         ┆               ┆ opens in New  ┆              ┆ 0:26:56Z     ┆            │\n",
       "│             ┆         ┆               ┆ York …        ┆ {{byline|    ┆              ┆            │\n",
       "│             ┆         ┆               ┆               ┆ date=Febr…   ┆              ┆            │\n",
       "│ …           ┆ …       ┆ …             ┆ …             ┆ …            ┆ …            ┆ …          │\n",
       "│ 4732270     ┆ 2973823 ┆ 0             ┆ West Midlands ┆ {{mainspace  ┆ 2023-06-13T1 ┆ []         │\n",
       "│             ┆         ┆               ┆               ┆ disambig}}   ┆ 4:40:33Z     ┆            │\n",
       "│             ┆         ┆               ┆               ┆ __DISAM…     ┆              ┆            │\n",
       "│ 4733445     ┆ 2973832 ┆ 0             ┆ Shropshire    ┆ {{Mainspace  ┆ 2023-06-22T1 ┆ []         │\n",
       "│             ┆         ┆               ┆               ┆ disambig}}   ┆ 3:37:11Z     ┆            │\n",
       "│             ┆         ┆               ┆               ┆ __DISAM…     ┆              ┆            │\n",
       "│ 4784575     ┆ 2995324 ┆ 0             ┆ Main Page 2   ┆ <templatesty ┆ 2024-06-05T2 ┆ []         │\n",
       "│             ┆         ┆               ┆               ┆ les          ┆ 0:30:21Z     ┆            │\n",
       "│             ┆         ┆               ┆               ┆ src=\"Main    ┆              ┆            │\n",
       "│             ┆         ┆               ┆               ┆ Page…        ┆              ┆            │\n",
       "│ 4804852     ┆ 3001820 ┆ 0             ┆ Jimmie        ┆ {{abandoned| ┆ 2024-11-14T1 ┆ []         │\n",
       "│             ┆         ┆               ┆ Johnson's     ┆ October 8,   ┆ 7:14:23Z     ┆            │\n",
       "│             ┆         ┆               ┆ Consistency   ┆ 2024|}}…     ┆              ┆            │\n",
       "│ 4805279     ┆ 3004021 ┆ 0             ┆ Radwa mohamed ┆ {{Topic cat  ┆ 2024-11-19T1 ┆ []         │\n",
       "│             ┆         ┆               ┆ (Dodo)        ┆ |intro       ┆ 8:36:45Z     ┆            │\n",
       "│             ┆         ┆               ┆               ┆ = …          ┆              ┆            │\n",
       "└─────────────┴─────────┴───────────────┴───────────────┴──────────────┴──────────────┴────────────┘"
      ]
     },
     "execution_count": 25,
     "metadata": {},
     "output_type": "execute_result"
    }
   ],
   "source": [
    "df.filter(df[\"page_dates\"].map_elements(len, return_dtype=int) == 0)"
   ]
  },
  {
   "cell_type": "code",
   "execution_count": 26,
   "id": "e51bd5c3",
   "metadata": {
    "execution": {
     "iopub.execute_input": "2024-12-11T01:55:42.058780Z",
     "iopub.status.busy": "2024-12-11T01:55:42.058384Z",
     "iopub.status.idle": "2024-12-11T01:55:43.860831Z",
     "shell.execute_reply": "2024-12-11T01:55:43.859839Z"
    },
    "papermill": {
     "duration": 1.824027,
     "end_time": "2024-12-11T01:55:43.863218",
     "exception": false,
     "start_time": "2024-12-11T01:55:42.039191",
     "status": "completed"
    },
    "tags": []
   },
   "outputs": [
    {
     "data": {
      "text/html": [
       "<div><style>\n",
       ".dataframe > thead > tr,\n",
       ".dataframe > tbody > tr {\n",
       "  text-align: right;\n",
       "  white-space: pre-wrap;\n",
       "}\n",
       "</style>\n",
       "<small>shape: (22_098, 7)</small><table border=\"1\" class=\"dataframe\"><thead><tr><th>revision_id</th><th>page_id</th><th>page_namespace</th><th>page_title</th><th>page_text</th><th>last_update_timestamp</th><th>page_dates</th></tr><tr><td>i64</td><td>i64</td><td>i64</td><td>str</td><td>str</td><td>str</td><td>list[str]</td></tr></thead><tbody><tr><td>4516743</td><td>736</td><td>0</td><td>&quot;President of China lunches wit…</td><td>&quot;{{date|November 13, 2004}}\n",
       "{{B…</td><td>&quot;2019-09-28T09:51:53Z&quot;</td><td>[&quot;{{date|november 13, 2004}}&quot;]</td></tr><tr><td>4516759</td><td>741</td><td>0</td><td>&quot;Palestinians to elect new pres…</td><td>&quot;[[File:Mahmoud abbas.jpg|frame…</td><td>&quot;2019-09-28T10:45:51Z&quot;</td><td>[&quot;{{byline|date=november 14, 2004|location=[[w:ramallah|ramallah]]}}&quot;]</td></tr><tr><td>2280888</td><td>743</td><td>0</td><td>&quot;Brazilian delegation returns f…</td><td>&quot;{{date|November 13, 2004}}\n",
       "{{P…</td><td>&quot;2014-01-02T19:36:05Z&quot;</td><td>[&quot;{{date|november 13, 2004}}&quot;]</td></tr><tr><td>4516758</td><td>764</td><td>0</td><td>&quot;Hearing begins over David Hook…</td><td>&quot;{{Crime and law}}{{byline|date…</td><td>&quot;2019-09-28T10:39:36Z&quot;</td><td>[&quot;{{byline|date=november 15, 2004|location=[[melbourne|melbourne]], [[victoria, australia|victoria]]}}&quot;]</td></tr><tr><td>1973838</td><td>779</td><td>0</td><td>&quot;Iran close to decision on nucl…</td><td>&quot;{{date|November 13, 2004}}\n",
       "{{I…</td><td>&quot;2013-08-21T16:07:41Z&quot;</td><td>[&quot;{{date|november 13, 2004}}&quot;]</td></tr><tr><td>&hellip;</td><td>&hellip;</td><td>&hellip;</td><td>&hellip;</td><td>&hellip;</td><td>&hellip;</td><td>&hellip;</td></tr><tr><td>4805088</td><td>3003768</td><td>0</td><td>&quot;Prison riot in Ecuador, at lea…</td><td>&quot;{{tasks|src|npov|mos|re-review…</td><td>&quot;2024-11-17T16:35:30Z&quot;</td><td>[&quot;{{date|november 13, 2024}}&quot;]</td></tr><tr><td>4805240</td><td>3003827</td><td>0</td><td>&quot;2024 ARPS Conference&quot;</td><td>&quot;{{develop}}\n",
       "{{date|November 12…</td><td>&quot;2024-11-19T12:19:00Z&quot;</td><td>[&quot;{{date|november 12, 2024}}&quot;]</td></tr><tr><td>4805272</td><td>3003842</td><td>0</td><td>&quot;Japan&#x27;s oldest Princess Yuriko…</td><td>&quot;{{tasks|src|re-review}}{{date|…</td><td>&quot;2024-11-19T18:23:32Z&quot;</td><td>[&quot;{{date|november 15, 2024}}&quot;]</td></tr><tr><td>4805304</td><td>3003969</td><td>0</td><td>&quot;US sanctions far-right Israeli…</td><td>&quot;{{review}}\n",
       "\n",
       "{{Date|November 18…</td><td>&quot;2024-11-20T05:45:46Z&quot;</td><td>[&quot;{{date|november 18, 2024}}&quot;]</td></tr><tr><td>4805279</td><td>3004021</td><td>0</td><td>&quot;Radwa mohamed (Dodo)&quot;</td><td>&quot;{{Topic cat\n",
       "|intro&nbsp;&nbsp;&nbsp;&nbsp;&nbsp;&nbsp;&nbsp;&nbsp;&nbsp;&nbsp;= …</td><td>&quot;2024-11-19T18:36:45Z&quot;</td><td>[]</td></tr></tbody></table></div>"
      ],
      "text/plain": [
       "shape: (22_098, 7)\n",
       "┌─────────────┬─────────┬──────────────┬──────────────┬──────────────┬──────────────┬──────────────┐\n",
       "│ revision_id ┆ page_id ┆ page_namespa ┆ page_title   ┆ page_text    ┆ last_update_ ┆ page_dates   │\n",
       "│ ---         ┆ ---     ┆ ce           ┆ ---          ┆ ---          ┆ timestamp    ┆ ---          │\n",
       "│ i64         ┆ i64     ┆ ---          ┆ str          ┆ str          ┆ ---          ┆ list[str]    │\n",
       "│             ┆         ┆ i64          ┆              ┆              ┆ str          ┆              │\n",
       "╞═════════════╪═════════╪══════════════╪══════════════╪══════════════╪══════════════╪══════════════╡\n",
       "│ 4516743     ┆ 736     ┆ 0            ┆ President of ┆ {{date|Novem ┆ 2019-09-28T0 ┆ [\"{{date|nov │\n",
       "│             ┆         ┆              ┆ China        ┆ ber 13,      ┆ 9:51:53Z     ┆ ember 13,    │\n",
       "│             ┆         ┆              ┆ lunches wit… ┆ 2004}}       ┆              ┆ 2004}}\"]     │\n",
       "│             ┆         ┆              ┆              ┆ {{B…         ┆              ┆              │\n",
       "│ 4516759     ┆ 741     ┆ 0            ┆ Palestinians ┆ [[File:Mahmo ┆ 2019-09-28T1 ┆ [\"{{byline|d │\n",
       "│             ┆         ┆              ┆ to elect new ┆ ud abbas.jpg ┆ 0:45:51Z     ┆ ate=november │\n",
       "│             ┆         ┆              ┆ pres…        ┆ |frame…      ┆              ┆ 14, 2…       │\n",
       "│ 2280888     ┆ 743     ┆ 0            ┆ Brazilian    ┆ {{date|Novem ┆ 2014-01-02T1 ┆ [\"{{date|nov │\n",
       "│             ┆         ┆              ┆ delegation   ┆ ber 13,      ┆ 9:36:05Z     ┆ ember 13,    │\n",
       "│             ┆         ┆              ┆ returns f…   ┆ 2004}}       ┆              ┆ 2004}}\"]     │\n",
       "│             ┆         ┆              ┆              ┆ {{P…         ┆              ┆              │\n",
       "│ 4516758     ┆ 764     ┆ 0            ┆ Hearing      ┆ {{Crime and  ┆ 2019-09-28T1 ┆ [\"{{byline|d │\n",
       "│             ┆         ┆              ┆ begins over  ┆ law}}{{bylin ┆ 0:39:36Z     ┆ ate=november │\n",
       "│             ┆         ┆              ┆ David Hook…  ┆ e|date…      ┆              ┆ 15, 2…       │\n",
       "│ 1973838     ┆ 779     ┆ 0            ┆ Iran close   ┆ {{date|Novem ┆ 2013-08-21T1 ┆ [\"{{date|nov │\n",
       "│             ┆         ┆              ┆ to decision  ┆ ber 13,      ┆ 6:07:41Z     ┆ ember 13,    │\n",
       "│             ┆         ┆              ┆ on nucl…     ┆ 2004}}       ┆              ┆ 2004}}\"]     │\n",
       "│             ┆         ┆              ┆              ┆ {{I…         ┆              ┆              │\n",
       "│ …           ┆ …       ┆ …            ┆ …            ┆ …            ┆ …            ┆ …            │\n",
       "│ 4805088     ┆ 3003768 ┆ 0            ┆ Prison riot  ┆ {{tasks|src| ┆ 2024-11-17T1 ┆ [\"{{date|nov │\n",
       "│             ┆         ┆              ┆ in Ecuador,  ┆ npov|mos|re- ┆ 6:35:30Z     ┆ ember 13,    │\n",
       "│             ┆         ┆              ┆ at lea…      ┆ review…      ┆              ┆ 2024}}\"]     │\n",
       "│ 4805240     ┆ 3003827 ┆ 0            ┆ 2024 ARPS    ┆ {{develop}}  ┆ 2024-11-19T1 ┆ [\"{{date|nov │\n",
       "│             ┆         ┆              ┆ Conference   ┆ {{date|Novem ┆ 2:19:00Z     ┆ ember 12,    │\n",
       "│             ┆         ┆              ┆              ┆ ber 12…      ┆              ┆ 2024}}\"]     │\n",
       "│ 4805272     ┆ 3003842 ┆ 0            ┆ Japan's      ┆ {{tasks|src| ┆ 2024-11-19T1 ┆ [\"{{date|nov │\n",
       "│             ┆         ┆              ┆ oldest       ┆ re-review}}{ ┆ 8:23:32Z     ┆ ember 15,    │\n",
       "│             ┆         ┆              ┆ Princess     ┆ {date|…      ┆              ┆ 2024}}\"]     │\n",
       "│             ┆         ┆              ┆ Yuriko…      ┆              ┆              ┆              │\n",
       "│ 4805304     ┆ 3003969 ┆ 0            ┆ US sanctions ┆ {{review}}   ┆ 2024-11-20T0 ┆ [\"{{date|nov │\n",
       "│             ┆         ┆              ┆ far-right    ┆              ┆ 5:45:46Z     ┆ ember 18,    │\n",
       "│             ┆         ┆              ┆ Israeli…     ┆ {{Date|Novem ┆              ┆ 2024}}\"]     │\n",
       "│             ┆         ┆              ┆              ┆ ber 18…      ┆              ┆              │\n",
       "│ 4805279     ┆ 3004021 ┆ 0            ┆ Radwa        ┆ {{Topic cat  ┆ 2024-11-19T1 ┆ []           │\n",
       "│             ┆         ┆              ┆ mohamed      ┆ |intro       ┆ 8:36:45Z     ┆              │\n",
       "│             ┆         ┆              ┆ (Dodo)       ┆ = …          ┆              ┆              │\n",
       "└─────────────┴─────────┴──────────────┴──────────────┴──────────────┴──────────────┴──────────────┘"
      ]
     },
     "execution_count": 26,
     "metadata": {},
     "output_type": "execute_result"
    }
   ],
   "source": [
    "article_publish_date_regexes = [\n",
    "    \"{{(d|D)ate\\|[A-Za-z0-9=,\\. ]+}}\",\n",
    "    \"{{(d|D)ate\\|[A-Za-z0-9=,\\. ]+\\|[A-Za-z0-9=,\\. ]+}}\",\n",
    "    \"{{(b|B)yline\\|date=[A-Za-z0-9,\\. ]+\\|[^}{]+}}\",\n",
    "    \"{{(b|B)yline\\|date=[A-Za-z0-9,\\. ]+\\|[^}{]*{{w\\|[^}{]+(\\|[^}{]+)?(\\|[^}{]+)?}}[^}{]*}}\",\n",
    "    \"{{(b|B)yline\\|[^}{]+\\|date=[A-Za-z0-9,\\. ]+}}\",\n",
    "    \"{{(b|B)yline\\|[^}{]+{{w\\|[^}{]+(\\|[^}{]+)?(\\|[^}{]+)?}}[^}{]*\\|date=[A-Za-z0-9,\\. ]+}}\",\n",
    "    r\"\\[\\[(c|C)ategory:\\s*[A-Za-z]+\\s*[0-9]+[A-Za-z]{0,2},\\s*[0-9]+\\]\\]\",\n",
    "]\n",
    "full_article_publish_date_regex = \"|\".join(article_publish_date_regexes)\n",
    "\n",
    "def get_date_elements(article_text):\n",
    "    return [m.group(0) for m in re.finditer(full_article_publish_date_regex, article_text.lower())]\n",
    "\n",
    "df = df.with_columns(\n",
    "    pl.col(\"page_text\").map_elements(get_date_elements, return_dtype=pl.List(str)).alias('page_dates')\n",
    ")\n",
    "df"
   ]
  },
  {
   "cell_type": "markdown",
   "id": "fd2ddd5c",
   "metadata": {
    "papermill": {
     "duration": 0.017445,
     "end_time": "2024-12-11T01:55:43.898251",
     "exception": false,
     "start_time": "2024-12-11T01:55:43.880806",
     "status": "completed"
    },
    "tags": []
   },
   "source": [
    "## Issue #11: Crossword Puzzles\n",
    "\n",
    "WikiNews also has crossword puzzles, which we have to remove (since they are not news articles)."
   ]
  },
  {
   "cell_type": "code",
   "execution_count": 27,
   "id": "a78504c3",
   "metadata": {
    "execution": {
     "iopub.execute_input": "2024-12-11T01:55:43.935319Z",
     "iopub.status.busy": "2024-12-11T01:55:43.934922Z",
     "iopub.status.idle": "2024-12-11T01:55:43.977002Z",
     "shell.execute_reply": "2024-12-11T01:55:43.975833Z"
    },
    "papermill": {
     "duration": 0.063133,
     "end_time": "2024-12-11T01:55:43.979229",
     "exception": false,
     "start_time": "2024-12-11T01:55:43.916096",
     "status": "completed"
    },
    "tags": []
   },
   "outputs": [
    {
     "data": {
      "text/html": [
       "<div><style>\n",
       ".dataframe > thead > tr,\n",
       ".dataframe > tbody > tr {\n",
       "  text-align: right;\n",
       "  white-space: pre-wrap;\n",
       "}\n",
       "</style>\n",
       "<small>shape: (604, 7)</small><table border=\"1\" class=\"dataframe\"><thead><tr><th>revision_id</th><th>page_id</th><th>page_namespace</th><th>page_title</th><th>page_text</th><th>last_update_timestamp</th><th>page_dates</th></tr><tr><td>i64</td><td>i64</td><td>i64</td><td>str</td><td>str</td><td>str</td><td>list[str]</td></tr></thead><tbody><tr><td>4493894</td><td>1631</td><td>0</td><td>&quot;South American Community of Na…</td><td>&quot;[[File:SACN member states.jpg|…</td><td>&quot;2019-07-26T12:11:46Z&quot;</td><td>[]</td></tr><tr><td>527593</td><td>3882</td><td>0</td><td>&quot;Crosswords/2005/February&quot;</td><td>&quot;;&lt; [[Crosswords/2005/January|J…</td><td>&quot;2007-11-27T00:41:37Z&quot;</td><td>[]</td></tr><tr><td>1089693</td><td>4618</td><td>0</td><td>&quot;&#x27;The Gates&#x27; opens in New York …</td><td>&quot;__NOTOC__\n",
       "\n",
       "{{byline|\n",
       "date=Febr…</td><td>&quot;2010-09-06T20:26:56Z&quot;</td><td>[]</td></tr><tr><td>4520272</td><td>5131</td><td>0</td><td>&quot;Princeton media class discusse…</td><td>&quot;{{WikimediaMention}}\n",
       "{{datelin…</td><td>&quot;2019-10-09T00:27:06Z&quot;</td><td>[]</td></tr><tr><td>434369</td><td>5140</td><td>0</td><td>&quot;Bank of America declares 1.2 m…</td><td>&quot;{{dateline|date=February 28, 2…</td><td>&quot;2007-06-03T09:15:32Z&quot;</td><td>[]</td></tr><tr><td>&hellip;</td><td>&hellip;</td><td>&hellip;</td><td>&hellip;</td><td>&hellip;</td><td>&hellip;</td><td>&hellip;</td></tr><tr><td>4732270</td><td>2973823</td><td>0</td><td>&quot;West Midlands&quot;</td><td>&quot;{{mainspace disambig}}\n",
       "__DISAM…</td><td>&quot;2023-06-13T14:40:33Z&quot;</td><td>[]</td></tr><tr><td>4733445</td><td>2973832</td><td>0</td><td>&quot;Shropshire&quot;</td><td>&quot;{{Mainspace disambig}}\n",
       "__DISAM…</td><td>&quot;2023-06-22T13:37:11Z&quot;</td><td>[]</td></tr><tr><td>4784575</td><td>2995324</td><td>0</td><td>&quot;Main Page 2&quot;</td><td>&quot;&lt;templatestyles src=&quot;Main Page…</td><td>&quot;2024-06-05T20:30:21Z&quot;</td><td>[]</td></tr><tr><td>4804852</td><td>3001820</td><td>0</td><td>&quot;Jimmie Johnson&#x27;s Consistency&quot;</td><td>&quot;{{abandoned|October 8, 2024|}}…</td><td>&quot;2024-11-14T17:14:23Z&quot;</td><td>[]</td></tr><tr><td>4805279</td><td>3004021</td><td>0</td><td>&quot;Radwa mohamed (Dodo)&quot;</td><td>&quot;{{Topic cat\n",
       "|intro&nbsp;&nbsp;&nbsp;&nbsp;&nbsp;&nbsp;&nbsp;&nbsp;&nbsp;&nbsp;= …</td><td>&quot;2024-11-19T18:36:45Z&quot;</td><td>[]</td></tr></tbody></table></div>"
      ],
      "text/plain": [
       "shape: (604, 7)\n",
       "┌─────────────┬─────────┬───────────────┬───────────────┬──────────────┬──────────────┬────────────┐\n",
       "│ revision_id ┆ page_id ┆ page_namespac ┆ page_title    ┆ page_text    ┆ last_update_ ┆ page_dates │\n",
       "│ ---         ┆ ---     ┆ e             ┆ ---           ┆ ---          ┆ timestamp    ┆ ---        │\n",
       "│ i64         ┆ i64     ┆ ---           ┆ str           ┆ str          ┆ ---          ┆ list[str]  │\n",
       "│             ┆         ┆ i64           ┆               ┆              ┆ str          ┆            │\n",
       "╞═════════════╪═════════╪═══════════════╪═══════════════╪══════════════╪══════════════╪════════════╡\n",
       "│ 4493894     ┆ 1631    ┆ 0             ┆ South         ┆ [[File:SACN  ┆ 2019-07-26T1 ┆ []         │\n",
       "│             ┆         ┆               ┆ American      ┆ member       ┆ 2:11:46Z     ┆            │\n",
       "│             ┆         ┆               ┆ Community of  ┆ states.jpg|… ┆              ┆            │\n",
       "│             ┆         ┆               ┆ Na…           ┆              ┆              ┆            │\n",
       "│ 527593      ┆ 3882    ┆ 0             ┆ Crosswords/20 ┆ ;< [[Crosswo ┆ 2007-11-27T0 ┆ []         │\n",
       "│             ┆         ┆               ┆ 05/February   ┆ rds/2005/Jan ┆ 0:41:37Z     ┆            │\n",
       "│             ┆         ┆               ┆               ┆ uary|J…      ┆              ┆            │\n",
       "│ 1089693     ┆ 4618    ┆ 0             ┆ 'The Gates'   ┆ __NOTOC__    ┆ 2010-09-06T2 ┆ []         │\n",
       "│             ┆         ┆               ┆ opens in New  ┆              ┆ 0:26:56Z     ┆            │\n",
       "│             ┆         ┆               ┆ York …        ┆ {{byline|    ┆              ┆            │\n",
       "│             ┆         ┆               ┆               ┆ date=Febr…   ┆              ┆            │\n",
       "│ 4520272     ┆ 5131    ┆ 0             ┆ Princeton     ┆ {{WikimediaM ┆ 2019-10-09T0 ┆ []         │\n",
       "│             ┆         ┆               ┆ media class   ┆ ention}}     ┆ 0:27:06Z     ┆            │\n",
       "│             ┆         ┆               ┆ discusse…     ┆ {{datelin…   ┆              ┆            │\n",
       "│ 434369      ┆ 5140    ┆ 0             ┆ Bank of       ┆ {{dateline|d ┆ 2007-06-03T0 ┆ []         │\n",
       "│             ┆         ┆               ┆ America       ┆ ate=February ┆ 9:15:32Z     ┆            │\n",
       "│             ┆         ┆               ┆ declares 1.2  ┆ 28, 2…       ┆              ┆            │\n",
       "│             ┆         ┆               ┆ m…            ┆              ┆              ┆            │\n",
       "│ …           ┆ …       ┆ …             ┆ …             ┆ …            ┆ …            ┆ …          │\n",
       "│ 4732270     ┆ 2973823 ┆ 0             ┆ West Midlands ┆ {{mainspace  ┆ 2023-06-13T1 ┆ []         │\n",
       "│             ┆         ┆               ┆               ┆ disambig}}   ┆ 4:40:33Z     ┆            │\n",
       "│             ┆         ┆               ┆               ┆ __DISAM…     ┆              ┆            │\n",
       "│ 4733445     ┆ 2973832 ┆ 0             ┆ Shropshire    ┆ {{Mainspace  ┆ 2023-06-22T1 ┆ []         │\n",
       "│             ┆         ┆               ┆               ┆ disambig}}   ┆ 3:37:11Z     ┆            │\n",
       "│             ┆         ┆               ┆               ┆ __DISAM…     ┆              ┆            │\n",
       "│ 4784575     ┆ 2995324 ┆ 0             ┆ Main Page 2   ┆ <templatesty ┆ 2024-06-05T2 ┆ []         │\n",
       "│             ┆         ┆               ┆               ┆ les          ┆ 0:30:21Z     ┆            │\n",
       "│             ┆         ┆               ┆               ┆ src=\"Main    ┆              ┆            │\n",
       "│             ┆         ┆               ┆               ┆ Page…        ┆              ┆            │\n",
       "│ 4804852     ┆ 3001820 ┆ 0             ┆ Jimmie        ┆ {{abandoned| ┆ 2024-11-14T1 ┆ []         │\n",
       "│             ┆         ┆               ┆ Johnson's     ┆ October 8,   ┆ 7:14:23Z     ┆            │\n",
       "│             ┆         ┆               ┆ Consistency   ┆ 2024|}}…     ┆              ┆            │\n",
       "│ 4805279     ┆ 3004021 ┆ 0             ┆ Radwa mohamed ┆ {{Topic cat  ┆ 2024-11-19T1 ┆ []         │\n",
       "│             ┆         ┆               ┆ (Dodo)        ┆ |intro       ┆ 8:36:45Z     ┆            │\n",
       "│             ┆         ┆               ┆               ┆ = …          ┆              ┆            │\n",
       "└─────────────┴─────────┴───────────────┴───────────────┴──────────────┴──────────────┴────────────┘"
      ]
     },
     "execution_count": 27,
     "metadata": {},
     "output_type": "execute_result"
    }
   ],
   "source": [
    "df.filter(df[\"page_dates\"].map_elements(len, return_dtype=int) == 0)"
   ]
  },
  {
   "cell_type": "code",
   "execution_count": 28,
   "id": "ff1f6bf0",
   "metadata": {
    "execution": {
     "iopub.execute_input": "2024-12-11T01:55:44.018195Z",
     "iopub.status.busy": "2024-12-11T01:55:44.017789Z",
     "iopub.status.idle": "2024-12-11T01:55:44.024333Z",
     "shell.execute_reply": "2024-12-11T01:55:44.023122Z"
    },
    "papermill": {
     "duration": 0.028998,
     "end_time": "2024-12-11T01:55:44.026740",
     "exception": false,
     "start_time": "2024-12-11T01:55:43.997742",
     "status": "completed"
    },
    "tags": []
   },
   "outputs": [
    {
     "name": "stdout",
     "output_type": "stream",
     "text": [
      ";< [[Crosswords/2005/January|January crosswords]]\n",
      "Quick crosswords for February (solutions are on following days):\n",
      "\n",
      "==February==\n",
      "* [[Crosswords/2005/February/1|1 February 2005]]\n",
      "* [[Crosswords/2005/February/2|2 February 2005]]\n",
      "* [[Crosswords/2005/February/3|3 February 2005]]\n",
      "* [[Crosswords/2005/February/4|4 February 2005]]\n",
      "* [[Crosswords/2005/February/5|5 February 2005]]\n",
      "* [[Crosswords/2005/February/6|6 February 2005]]\n",
      "* [[Crosswords/2005/February/7|7 February 2005]]\n",
      "* [[Crosswords/2005/February/8|8 February 2005]]\n",
      "* [[Crosswords/2005/February/9|9 February 2005]]\n",
      "* [[Crosswords/2005/February/10|10 February 2005]]\n",
      "* [[Crosswords/2005/February/11|11 February 2005]]\n",
      "* [[Crosswords/2005/February/12|12 February 2005]]\n",
      "* [[Crosswords/2005/February/13|13 February 2005]]\n",
      "* [[Crosswords/2005/February/14|14 February 2005]]\n",
      "* [[Crosswords/2005/February/15|15 February 2005]]\n",
      "* [[Crosswords/2005/February/16|16 February 2005]]\n",
      "* [[Crosswords/2005/February/17|17 February 2005]]\n",
      "* [[Crosswords/2005/February/18|18 February 2005]]\n",
      "* [[Crosswords/2005/February/19|19 February 2005]]\n",
      "* [[Crosswords/2005/February/20|20 February 2005]]\n",
      "* [[Crosswords/2005/February/21|21 February 2005]]\n",
      "* [[Crosswords/2005/February/22|22 February 2005]]\n",
      "* [[Crosswords/2005/February/23|23 February 2005]]\n",
      "* [[Crosswords/2005/February/24|24 February 2005]]\n",
      "* [[Crosswords/2005/February/25|25 February 2005]]\n",
      "* [[Crosswords/2005/February/26|26 February 2005]]\n",
      "* [[Crosswords/2005/February/27|27 February 2005]]\n",
      "* [[Crosswords/2005/February/28|28 February 2005]]\n",
      "\n",
      ";> [[Crosswords/2005/March|March crosswords]]\n",
      "\n",
      "{{nopublish}}\n"
     ]
    }
   ],
   "source": [
    "print(df.filter(df[\"page_id\"] == 3882)[\"page_text\"][0])"
   ]
  },
  {
   "cell_type": "code",
   "execution_count": 29,
   "id": "ee369544",
   "metadata": {
    "execution": {
     "iopub.execute_input": "2024-12-11T01:55:44.067533Z",
     "iopub.status.busy": "2024-12-11T01:55:44.066397Z",
     "iopub.status.idle": "2024-12-11T01:55:44.107708Z",
     "shell.execute_reply": "2024-12-11T01:55:44.106709Z"
    },
    "papermill": {
     "duration": 0.063743,
     "end_time": "2024-12-11T01:55:44.109919",
     "exception": false,
     "start_time": "2024-12-11T01:55:44.046176",
     "status": "completed"
    },
    "tags": []
   },
   "outputs": [
    {
     "data": {
      "text/html": [
       "<div><style>\n",
       ".dataframe > thead > tr,\n",
       ".dataframe > tbody > tr {\n",
       "  text-align: right;\n",
       "  white-space: pre-wrap;\n",
       "}\n",
       "</style>\n",
       "<small>shape: (41, 7)</small><table border=\"1\" class=\"dataframe\"><thead><tr><th>revision_id</th><th>page_id</th><th>page_namespace</th><th>page_title</th><th>page_text</th><th>last_update_timestamp</th><th>page_dates</th></tr><tr><td>i64</td><td>i64</td><td>i64</td><td>str</td><td>str</td><td>str</td><td>list[str]</td></tr></thead><tbody><tr><td>515766</td><td>3726</td><td>0</td><td>&quot;Crosswords/2005/January/27&quot;</td><td>&quot;{{date|January 27, 2005}}\n",
       "\n",
       "Fee…</td><td>&quot;2007-11-03T21:30:24Z&quot;</td><td>[&quot;{{date|january 27, 2005}}&quot;]</td></tr><tr><td>515752</td><td>3771</td><td>0</td><td>&quot;Crosswords/2005/January/28&quot;</td><td>&quot;{{date|January 28, 2007}}\n",
       "\n",
       "Fee…</td><td>&quot;2007-11-03T21:22:55Z&quot;</td><td>[&quot;{{date|january 28, 2007}}&quot;]</td></tr><tr><td>515737</td><td>3808</td><td>0</td><td>&quot;Crosswords/2005/January/29&quot;</td><td>&quot;{{date|January 29, 2005}}\n",
       "\n",
       "Fee…</td><td>&quot;2007-11-03T21:08:00Z&quot;</td><td>[&quot;{{date|january 29, 2005}}&quot;]</td></tr><tr><td>517667</td><td>3850</td><td>0</td><td>&quot;Crosswords/2005/January/30&quot;</td><td>&quot;{{date|January 30, 2005}}\n",
       "\n",
       "Fee…</td><td>&quot;2007-11-07T03:14:58Z&quot;</td><td>[&quot;{{date|january 30, 2005}}&quot;]</td></tr><tr><td>517677</td><td>3877</td><td>0</td><td>&quot;Crosswords/2005/January/31&quot;</td><td>&quot;{{date|January 31, 2005}}\n",
       "\n",
       "Fee…</td><td>&quot;2007-11-07T03:18:45Z&quot;</td><td>[&quot;{{date|january 31, 2005}}&quot;]</td></tr><tr><td>&hellip;</td><td>&hellip;</td><td>&hellip;</td><td>&hellip;</td><td>&hellip;</td><td>&hellip;</td><td>&hellip;</td></tr><tr><td>515729</td><td>5619</td><td>0</td><td>&quot;Crosswords/2005/March/12&quot;</td><td>&quot;{{date|March 12, 2005}}\n",
       "\n",
       "{{cro…</td><td>&quot;2007-11-03T21:01:37Z&quot;</td><td>[&quot;{{date|march 12, 2005}}&quot;]</td></tr><tr><td>516197</td><td>5976</td><td>0</td><td>&quot;Crosswords/2005/March/19&quot;</td><td>&quot;{{date|March 19, 2005}}\n",
       "\n",
       "{{cro…</td><td>&quot;2007-11-04T21:08:26Z&quot;</td><td>[&quot;{{date|march 19, 2005}}&quot;]</td></tr><tr><td>517670</td><td>7078</td><td>0</td><td>&quot;Crosswords/2005/April/2&quot;</td><td>&quot;{{date|April 2, 2005}}\n",
       "\n",
       "{{cros…</td><td>&quot;2007-11-07T03:16:38Z&quot;</td><td>[&quot;{{date|april 2, 2005}}&quot;]</td></tr><tr><td>525647</td><td>18191</td><td>0</td><td>&quot;Crosswords/2005/August/11&quot;</td><td>&quot;{{date|August 11, 2005}}\n",
       "{{cro…</td><td>&quot;2007-11-23T00:40:36Z&quot;</td><td>[&quot;{{date|august 11, 2005}}&quot;]</td></tr><tr><td>527553</td><td>20949</td><td>0</td><td>&quot;Crosswords/2005/September/5&quot;</td><td>&quot;{{date|September 5, 2005}}\n",
       "\n",
       "{{…</td><td>&quot;2007-11-27T00:08:13Z&quot;</td><td>[&quot;{{date|september 5, 2005}}&quot;]</td></tr></tbody></table></div>"
      ],
      "text/plain": [
       "shape: (41, 7)\n",
       "┌─────────────┬─────────┬──────────────┬──────────────┬──────────────┬──────────────┬──────────────┐\n",
       "│ revision_id ┆ page_id ┆ page_namespa ┆ page_title   ┆ page_text    ┆ last_update_ ┆ page_dates   │\n",
       "│ ---         ┆ ---     ┆ ce           ┆ ---          ┆ ---          ┆ timestamp    ┆ ---          │\n",
       "│ i64         ┆ i64     ┆ ---          ┆ str          ┆ str          ┆ ---          ┆ list[str]    │\n",
       "│             ┆         ┆ i64          ┆              ┆              ┆ str          ┆              │\n",
       "╞═════════════╪═════════╪══════════════╪══════════════╪══════════════╪══════════════╪══════════════╡\n",
       "│ 515766      ┆ 3726    ┆ 0            ┆ Crosswords/2 ┆ {{date|Janua ┆ 2007-11-03T2 ┆ [\"{{date|jan │\n",
       "│             ┆         ┆              ┆ 005/January/ ┆ ry 27,       ┆ 1:30:24Z     ┆ uary 27,     │\n",
       "│             ┆         ┆              ┆ 27           ┆ 2005}}       ┆              ┆ 2005}}\"]     │\n",
       "│             ┆         ┆              ┆              ┆              ┆              ┆              │\n",
       "│             ┆         ┆              ┆              ┆ Fee…         ┆              ┆              │\n",
       "│ 515752      ┆ 3771    ┆ 0            ┆ Crosswords/2 ┆ {{date|Janua ┆ 2007-11-03T2 ┆ [\"{{date|jan │\n",
       "│             ┆         ┆              ┆ 005/January/ ┆ ry 28,       ┆ 1:22:55Z     ┆ uary 28,     │\n",
       "│             ┆         ┆              ┆ 28           ┆ 2007}}       ┆              ┆ 2007}}\"]     │\n",
       "│             ┆         ┆              ┆              ┆              ┆              ┆              │\n",
       "│             ┆         ┆              ┆              ┆ Fee…         ┆              ┆              │\n",
       "│ 515737      ┆ 3808    ┆ 0            ┆ Crosswords/2 ┆ {{date|Janua ┆ 2007-11-03T2 ┆ [\"{{date|jan │\n",
       "│             ┆         ┆              ┆ 005/January/ ┆ ry 29,       ┆ 1:08:00Z     ┆ uary 29,     │\n",
       "│             ┆         ┆              ┆ 29           ┆ 2005}}       ┆              ┆ 2005}}\"]     │\n",
       "│             ┆         ┆              ┆              ┆              ┆              ┆              │\n",
       "│             ┆         ┆              ┆              ┆ Fee…         ┆              ┆              │\n",
       "│ 517667      ┆ 3850    ┆ 0            ┆ Crosswords/2 ┆ {{date|Janua ┆ 2007-11-07T0 ┆ [\"{{date|jan │\n",
       "│             ┆         ┆              ┆ 005/January/ ┆ ry 30,       ┆ 3:14:58Z     ┆ uary 30,     │\n",
       "│             ┆         ┆              ┆ 30           ┆ 2005}}       ┆              ┆ 2005}}\"]     │\n",
       "│             ┆         ┆              ┆              ┆              ┆              ┆              │\n",
       "│             ┆         ┆              ┆              ┆ Fee…         ┆              ┆              │\n",
       "│ 517677      ┆ 3877    ┆ 0            ┆ Crosswords/2 ┆ {{date|Janua ┆ 2007-11-07T0 ┆ [\"{{date|jan │\n",
       "│             ┆         ┆              ┆ 005/January/ ┆ ry 31,       ┆ 3:18:45Z     ┆ uary 31,     │\n",
       "│             ┆         ┆              ┆ 31           ┆ 2005}}       ┆              ┆ 2005}}\"]     │\n",
       "│             ┆         ┆              ┆              ┆              ┆              ┆              │\n",
       "│             ┆         ┆              ┆              ┆ Fee…         ┆              ┆              │\n",
       "│ …           ┆ …       ┆ …            ┆ …            ┆ …            ┆ …            ┆ …            │\n",
       "│ 515729      ┆ 5619    ┆ 0            ┆ Crosswords/2 ┆ {{date|March ┆ 2007-11-03T2 ┆ [\"{{date|mar │\n",
       "│             ┆         ┆              ┆ 005/March/12 ┆ 12, 2005}}   ┆ 1:01:37Z     ┆ ch 12,       │\n",
       "│             ┆         ┆              ┆              ┆              ┆              ┆ 2005}}\"]     │\n",
       "│             ┆         ┆              ┆              ┆ {{cro…       ┆              ┆              │\n",
       "│ 516197      ┆ 5976    ┆ 0            ┆ Crosswords/2 ┆ {{date|March ┆ 2007-11-04T2 ┆ [\"{{date|mar │\n",
       "│             ┆         ┆              ┆ 005/March/19 ┆ 19, 2005}}   ┆ 1:08:26Z     ┆ ch 19,       │\n",
       "│             ┆         ┆              ┆              ┆              ┆              ┆ 2005}}\"]     │\n",
       "│             ┆         ┆              ┆              ┆ {{cro…       ┆              ┆              │\n",
       "│ 517670      ┆ 7078    ┆ 0            ┆ Crosswords/2 ┆ {{date|April ┆ 2007-11-07T0 ┆ [\"{{date|apr │\n",
       "│             ┆         ┆              ┆ 005/April/2  ┆ 2, 2005}}    ┆ 3:16:38Z     ┆ il 2,        │\n",
       "│             ┆         ┆              ┆              ┆              ┆              ┆ 2005}}\"]     │\n",
       "│             ┆         ┆              ┆              ┆ {{cros…      ┆              ┆              │\n",
       "│ 525647      ┆ 18191   ┆ 0            ┆ Crosswords/2 ┆ {{date|Augus ┆ 2007-11-23T0 ┆ [\"{{date|aug │\n",
       "│             ┆         ┆              ┆ 005/August/1 ┆ t 11, 2005}} ┆ 0:40:36Z     ┆ ust 11,      │\n",
       "│             ┆         ┆              ┆ 1            ┆ {{cro…       ┆              ┆ 2005}}\"]     │\n",
       "│ 527553      ┆ 20949   ┆ 0            ┆ Crosswords/2 ┆ {{date|Septe ┆ 2007-11-27T0 ┆ [\"{{date|sep │\n",
       "│             ┆         ┆              ┆ 005/Septembe ┆ mber 5,      ┆ 0:08:13Z     ┆ tember 5,    │\n",
       "│             ┆         ┆              ┆ r/5          ┆ 2005}}       ┆              ┆ 2005}}\"]     │\n",
       "│             ┆         ┆              ┆              ┆              ┆              ┆              │\n",
       "│             ┆         ┆              ┆              ┆ {{…          ┆              ┆              │\n",
       "└─────────────┴─────────┴──────────────┴──────────────┴──────────────┴──────────────┴──────────────┘"
      ]
     },
     "execution_count": 29,
     "metadata": {},
     "output_type": "execute_result"
    }
   ],
   "source": [
    "df.filter(df[\"page_title\"].map_elements(lambda p:re.search(\"^Crosswords/.*$\", p) != None, return_dtype=bool))"
   ]
  },
  {
   "cell_type": "code",
   "execution_count": 30,
   "id": "c3c7837f",
   "metadata": {
    "execution": {
     "iopub.execute_input": "2024-12-11T01:55:44.150938Z",
     "iopub.status.busy": "2024-12-11T01:55:44.150225Z",
     "iopub.status.idle": "2024-12-11T01:55:44.192790Z",
     "shell.execute_reply": "2024-12-11T01:55:44.191764Z"
    },
    "papermill": {
     "duration": 0.066062,
     "end_time": "2024-12-11T01:55:44.195254",
     "exception": false,
     "start_time": "2024-12-11T01:55:44.129192",
     "status": "completed"
    },
    "tags": []
   },
   "outputs": [
    {
     "data": {
      "text/html": [
       "<div><style>\n",
       ".dataframe > thead > tr,\n",
       ".dataframe > tbody > tr {\n",
       "  text-align: right;\n",
       "  white-space: pre-wrap;\n",
       "}\n",
       "</style>\n",
       "<small>shape: (22_057, 7)</small><table border=\"1\" class=\"dataframe\"><thead><tr><th>revision_id</th><th>page_id</th><th>page_namespace</th><th>page_title</th><th>page_text</th><th>last_update_timestamp</th><th>page_dates</th></tr><tr><td>i64</td><td>i64</td><td>i64</td><td>str</td><td>str</td><td>str</td><td>list[str]</td></tr></thead><tbody><tr><td>4516743</td><td>736</td><td>0</td><td>&quot;President of China lunches wit…</td><td>&quot;{{date|November 13, 2004}}\n",
       "{{B…</td><td>&quot;2019-09-28T09:51:53Z&quot;</td><td>[&quot;{{date|november 13, 2004}}&quot;]</td></tr><tr><td>4516759</td><td>741</td><td>0</td><td>&quot;Palestinians to elect new pres…</td><td>&quot;[[File:Mahmoud abbas.jpg|frame…</td><td>&quot;2019-09-28T10:45:51Z&quot;</td><td>[&quot;{{byline|date=november 14, 2004|location=[[w:ramallah|ramallah]]}}&quot;]</td></tr><tr><td>2280888</td><td>743</td><td>0</td><td>&quot;Brazilian delegation returns f…</td><td>&quot;{{date|November 13, 2004}}\n",
       "{{P…</td><td>&quot;2014-01-02T19:36:05Z&quot;</td><td>[&quot;{{date|november 13, 2004}}&quot;]</td></tr><tr><td>4516758</td><td>764</td><td>0</td><td>&quot;Hearing begins over David Hook…</td><td>&quot;{{Crime and law}}{{byline|date…</td><td>&quot;2019-09-28T10:39:36Z&quot;</td><td>[&quot;{{byline|date=november 15, 2004|location=[[melbourne|melbourne]], [[victoria, australia|victoria]]}}&quot;]</td></tr><tr><td>1973838</td><td>779</td><td>0</td><td>&quot;Iran close to decision on nucl…</td><td>&quot;{{date|November 13, 2004}}\n",
       "{{I…</td><td>&quot;2013-08-21T16:07:41Z&quot;</td><td>[&quot;{{date|november 13, 2004}}&quot;]</td></tr><tr><td>&hellip;</td><td>&hellip;</td><td>&hellip;</td><td>&hellip;</td><td>&hellip;</td><td>&hellip;</td><td>&hellip;</td></tr><tr><td>4805088</td><td>3003768</td><td>0</td><td>&quot;Prison riot in Ecuador, at lea…</td><td>&quot;{{tasks|src|npov|mos|re-review…</td><td>&quot;2024-11-17T16:35:30Z&quot;</td><td>[&quot;{{date|november 13, 2024}}&quot;]</td></tr><tr><td>4805240</td><td>3003827</td><td>0</td><td>&quot;2024 ARPS Conference&quot;</td><td>&quot;{{develop}}\n",
       "{{date|November 12…</td><td>&quot;2024-11-19T12:19:00Z&quot;</td><td>[&quot;{{date|november 12, 2024}}&quot;]</td></tr><tr><td>4805272</td><td>3003842</td><td>0</td><td>&quot;Japan&#x27;s oldest Princess Yuriko…</td><td>&quot;{{tasks|src|re-review}}{{date|…</td><td>&quot;2024-11-19T18:23:32Z&quot;</td><td>[&quot;{{date|november 15, 2024}}&quot;]</td></tr><tr><td>4805304</td><td>3003969</td><td>0</td><td>&quot;US sanctions far-right Israeli…</td><td>&quot;{{review}}\n",
       "\n",
       "{{Date|November 18…</td><td>&quot;2024-11-20T05:45:46Z&quot;</td><td>[&quot;{{date|november 18, 2024}}&quot;]</td></tr><tr><td>4805279</td><td>3004021</td><td>0</td><td>&quot;Radwa mohamed (Dodo)&quot;</td><td>&quot;{{Topic cat\n",
       "|intro&nbsp;&nbsp;&nbsp;&nbsp;&nbsp;&nbsp;&nbsp;&nbsp;&nbsp;&nbsp;= …</td><td>&quot;2024-11-19T18:36:45Z&quot;</td><td>[]</td></tr></tbody></table></div>"
      ],
      "text/plain": [
       "shape: (22_057, 7)\n",
       "┌─────────────┬─────────┬──────────────┬──────────────┬──────────────┬──────────────┬──────────────┐\n",
       "│ revision_id ┆ page_id ┆ page_namespa ┆ page_title   ┆ page_text    ┆ last_update_ ┆ page_dates   │\n",
       "│ ---         ┆ ---     ┆ ce           ┆ ---          ┆ ---          ┆ timestamp    ┆ ---          │\n",
       "│ i64         ┆ i64     ┆ ---          ┆ str          ┆ str          ┆ ---          ┆ list[str]    │\n",
       "│             ┆         ┆ i64          ┆              ┆              ┆ str          ┆              │\n",
       "╞═════════════╪═════════╪══════════════╪══════════════╪══════════════╪══════════════╪══════════════╡\n",
       "│ 4516743     ┆ 736     ┆ 0            ┆ President of ┆ {{date|Novem ┆ 2019-09-28T0 ┆ [\"{{date|nov │\n",
       "│             ┆         ┆              ┆ China        ┆ ber 13,      ┆ 9:51:53Z     ┆ ember 13,    │\n",
       "│             ┆         ┆              ┆ lunches wit… ┆ 2004}}       ┆              ┆ 2004}}\"]     │\n",
       "│             ┆         ┆              ┆              ┆ {{B…         ┆              ┆              │\n",
       "│ 4516759     ┆ 741     ┆ 0            ┆ Palestinians ┆ [[File:Mahmo ┆ 2019-09-28T1 ┆ [\"{{byline|d │\n",
       "│             ┆         ┆              ┆ to elect new ┆ ud abbas.jpg ┆ 0:45:51Z     ┆ ate=november │\n",
       "│             ┆         ┆              ┆ pres…        ┆ |frame…      ┆              ┆ 14, 2…       │\n",
       "│ 2280888     ┆ 743     ┆ 0            ┆ Brazilian    ┆ {{date|Novem ┆ 2014-01-02T1 ┆ [\"{{date|nov │\n",
       "│             ┆         ┆              ┆ delegation   ┆ ber 13,      ┆ 9:36:05Z     ┆ ember 13,    │\n",
       "│             ┆         ┆              ┆ returns f…   ┆ 2004}}       ┆              ┆ 2004}}\"]     │\n",
       "│             ┆         ┆              ┆              ┆ {{P…         ┆              ┆              │\n",
       "│ 4516758     ┆ 764     ┆ 0            ┆ Hearing      ┆ {{Crime and  ┆ 2019-09-28T1 ┆ [\"{{byline|d │\n",
       "│             ┆         ┆              ┆ begins over  ┆ law}}{{bylin ┆ 0:39:36Z     ┆ ate=november │\n",
       "│             ┆         ┆              ┆ David Hook…  ┆ e|date…      ┆              ┆ 15, 2…       │\n",
       "│ 1973838     ┆ 779     ┆ 0            ┆ Iran close   ┆ {{date|Novem ┆ 2013-08-21T1 ┆ [\"{{date|nov │\n",
       "│             ┆         ┆              ┆ to decision  ┆ ber 13,      ┆ 6:07:41Z     ┆ ember 13,    │\n",
       "│             ┆         ┆              ┆ on nucl…     ┆ 2004}}       ┆              ┆ 2004}}\"]     │\n",
       "│             ┆         ┆              ┆              ┆ {{I…         ┆              ┆              │\n",
       "│ …           ┆ …       ┆ …            ┆ …            ┆ …            ┆ …            ┆ …            │\n",
       "│ 4805088     ┆ 3003768 ┆ 0            ┆ Prison riot  ┆ {{tasks|src| ┆ 2024-11-17T1 ┆ [\"{{date|nov │\n",
       "│             ┆         ┆              ┆ in Ecuador,  ┆ npov|mos|re- ┆ 6:35:30Z     ┆ ember 13,    │\n",
       "│             ┆         ┆              ┆ at lea…      ┆ review…      ┆              ┆ 2024}}\"]     │\n",
       "│ 4805240     ┆ 3003827 ┆ 0            ┆ 2024 ARPS    ┆ {{develop}}  ┆ 2024-11-19T1 ┆ [\"{{date|nov │\n",
       "│             ┆         ┆              ┆ Conference   ┆ {{date|Novem ┆ 2:19:00Z     ┆ ember 12,    │\n",
       "│             ┆         ┆              ┆              ┆ ber 12…      ┆              ┆ 2024}}\"]     │\n",
       "│ 4805272     ┆ 3003842 ┆ 0            ┆ Japan's      ┆ {{tasks|src| ┆ 2024-11-19T1 ┆ [\"{{date|nov │\n",
       "│             ┆         ┆              ┆ oldest       ┆ re-review}}{ ┆ 8:23:32Z     ┆ ember 15,    │\n",
       "│             ┆         ┆              ┆ Princess     ┆ {date|…      ┆              ┆ 2024}}\"]     │\n",
       "│             ┆         ┆              ┆ Yuriko…      ┆              ┆              ┆              │\n",
       "│ 4805304     ┆ 3003969 ┆ 0            ┆ US sanctions ┆ {{review}}   ┆ 2024-11-20T0 ┆ [\"{{date|nov │\n",
       "│             ┆         ┆              ┆ far-right    ┆              ┆ 5:45:46Z     ┆ ember 18,    │\n",
       "│             ┆         ┆              ┆ Israeli…     ┆ {{Date|Novem ┆              ┆ 2024}}\"]     │\n",
       "│             ┆         ┆              ┆              ┆ ber 18…      ┆              ┆              │\n",
       "│ 4805279     ┆ 3004021 ┆ 0            ┆ Radwa        ┆ {{Topic cat  ┆ 2024-11-19T1 ┆ []           │\n",
       "│             ┆         ┆              ┆ mohamed      ┆ |intro       ┆ 8:36:45Z     ┆              │\n",
       "│             ┆         ┆              ┆ (Dodo)       ┆ = …          ┆              ┆              │\n",
       "└─────────────┴─────────┴──────────────┴──────────────┴──────────────┴──────────────┴──────────────┘"
      ]
     },
     "execution_count": 30,
     "metadata": {},
     "output_type": "execute_result"
    }
   ],
   "source": [
    "df = df.filter(df[\"page_title\"].map_elements(lambda p:re.search(\"^Crosswords/.*$\", p) == None, return_dtype=bool))\n",
    "df"
   ]
  },
  {
   "cell_type": "markdown",
   "id": "fcf8f1ce",
   "metadata": {
    "papermill": {
     "duration": 0.019042,
     "end_time": "2024-12-11T01:55:44.233995",
     "exception": false,
     "start_time": "2024-12-11T01:55:44.214953",
     "status": "completed"
    },
    "tags": []
   },
   "source": [
    "## Issue #12: More date formats (again)\n",
    "\n",
    "- The `dateline` template also provides another way for articles to define dates. It is identical to the byline template, for all intents and purposes.\n",
    "- The `byline` template can also have spaces around keyword arguments\n",
    "- Also some general issues with spacing"
   ]
  },
  {
   "cell_type": "code",
   "execution_count": 31,
   "id": "d208cc76",
   "metadata": {
    "execution": {
     "iopub.execute_input": "2024-12-11T01:55:44.275271Z",
     "iopub.status.busy": "2024-12-11T01:55:44.274359Z",
     "iopub.status.idle": "2024-12-11T01:55:44.316013Z",
     "shell.execute_reply": "2024-12-11T01:55:44.314958Z"
    },
    "papermill": {
     "duration": 0.064658,
     "end_time": "2024-12-11T01:55:44.318151",
     "exception": false,
     "start_time": "2024-12-11T01:55:44.253493",
     "status": "completed"
    },
    "tags": []
   },
   "outputs": [
    {
     "data": {
      "text/html": [
       "<div><style>\n",
       ".dataframe > thead > tr,\n",
       ".dataframe > tbody > tr {\n",
       "  text-align: right;\n",
       "  white-space: pre-wrap;\n",
       "}\n",
       "</style>\n",
       "<small>shape: (603, 7)</small><table border=\"1\" class=\"dataframe\"><thead><tr><th>revision_id</th><th>page_id</th><th>page_namespace</th><th>page_title</th><th>page_text</th><th>last_update_timestamp</th><th>page_dates</th></tr><tr><td>i64</td><td>i64</td><td>i64</td><td>str</td><td>str</td><td>str</td><td>list[str]</td></tr></thead><tbody><tr><td>4493894</td><td>1631</td><td>0</td><td>&quot;South American Community of Na…</td><td>&quot;[[File:SACN member states.jpg|…</td><td>&quot;2019-07-26T12:11:46Z&quot;</td><td>[]</td></tr><tr><td>1089693</td><td>4618</td><td>0</td><td>&quot;&#x27;The Gates&#x27; opens in New York …</td><td>&quot;__NOTOC__\n",
       "\n",
       "{{byline|\n",
       "date=Febr…</td><td>&quot;2010-09-06T20:26:56Z&quot;</td><td>[]</td></tr><tr><td>4520272</td><td>5131</td><td>0</td><td>&quot;Princeton media class discusse…</td><td>&quot;{{WikimediaMention}}\n",
       "{{datelin…</td><td>&quot;2019-10-09T00:27:06Z&quot;</td><td>[]</td></tr><tr><td>434369</td><td>5140</td><td>0</td><td>&quot;Bank of America declares 1.2 m…</td><td>&quot;{{dateline|date=February 28, 2…</td><td>&quot;2007-06-03T09:15:32Z&quot;</td><td>[]</td></tr><tr><td>1884991</td><td>5148</td><td>0</td><td>&quot;Romania announces 18 percent i…</td><td>&quot;[[Image:CJROCetatuie 2.jpg|thu…</td><td>&quot;2013-04-25T14:39:41Z&quot;</td><td>[]</td></tr><tr><td>&hellip;</td><td>&hellip;</td><td>&hellip;</td><td>&hellip;</td><td>&hellip;</td><td>&hellip;</td><td>&hellip;</td></tr><tr><td>4732270</td><td>2973823</td><td>0</td><td>&quot;West Midlands&quot;</td><td>&quot;{{mainspace disambig}}\n",
       "__DISAM…</td><td>&quot;2023-06-13T14:40:33Z&quot;</td><td>[]</td></tr><tr><td>4733445</td><td>2973832</td><td>0</td><td>&quot;Shropshire&quot;</td><td>&quot;{{Mainspace disambig}}\n",
       "__DISAM…</td><td>&quot;2023-06-22T13:37:11Z&quot;</td><td>[]</td></tr><tr><td>4784575</td><td>2995324</td><td>0</td><td>&quot;Main Page 2&quot;</td><td>&quot;&lt;templatestyles src=&quot;Main Page…</td><td>&quot;2024-06-05T20:30:21Z&quot;</td><td>[]</td></tr><tr><td>4804852</td><td>3001820</td><td>0</td><td>&quot;Jimmie Johnson&#x27;s Consistency&quot;</td><td>&quot;{{abandoned|October 8, 2024|}}…</td><td>&quot;2024-11-14T17:14:23Z&quot;</td><td>[]</td></tr><tr><td>4805279</td><td>3004021</td><td>0</td><td>&quot;Radwa mohamed (Dodo)&quot;</td><td>&quot;{{Topic cat\n",
       "|intro&nbsp;&nbsp;&nbsp;&nbsp;&nbsp;&nbsp;&nbsp;&nbsp;&nbsp;&nbsp;= …</td><td>&quot;2024-11-19T18:36:45Z&quot;</td><td>[]</td></tr></tbody></table></div>"
      ],
      "text/plain": [
       "shape: (603, 7)\n",
       "┌─────────────┬─────────┬───────────────┬───────────────┬──────────────┬──────────────┬────────────┐\n",
       "│ revision_id ┆ page_id ┆ page_namespac ┆ page_title    ┆ page_text    ┆ last_update_ ┆ page_dates │\n",
       "│ ---         ┆ ---     ┆ e             ┆ ---           ┆ ---          ┆ timestamp    ┆ ---        │\n",
       "│ i64         ┆ i64     ┆ ---           ┆ str           ┆ str          ┆ ---          ┆ list[str]  │\n",
       "│             ┆         ┆ i64           ┆               ┆              ┆ str          ┆            │\n",
       "╞═════════════╪═════════╪═══════════════╪═══════════════╪══════════════╪══════════════╪════════════╡\n",
       "│ 4493894     ┆ 1631    ┆ 0             ┆ South         ┆ [[File:SACN  ┆ 2019-07-26T1 ┆ []         │\n",
       "│             ┆         ┆               ┆ American      ┆ member       ┆ 2:11:46Z     ┆            │\n",
       "│             ┆         ┆               ┆ Community of  ┆ states.jpg|… ┆              ┆            │\n",
       "│             ┆         ┆               ┆ Na…           ┆              ┆              ┆            │\n",
       "│ 1089693     ┆ 4618    ┆ 0             ┆ 'The Gates'   ┆ __NOTOC__    ┆ 2010-09-06T2 ┆ []         │\n",
       "│             ┆         ┆               ┆ opens in New  ┆              ┆ 0:26:56Z     ┆            │\n",
       "│             ┆         ┆               ┆ York …        ┆ {{byline|    ┆              ┆            │\n",
       "│             ┆         ┆               ┆               ┆ date=Febr…   ┆              ┆            │\n",
       "│ 4520272     ┆ 5131    ┆ 0             ┆ Princeton     ┆ {{WikimediaM ┆ 2019-10-09T0 ┆ []         │\n",
       "│             ┆         ┆               ┆ media class   ┆ ention}}     ┆ 0:27:06Z     ┆            │\n",
       "│             ┆         ┆               ┆ discusse…     ┆ {{datelin…   ┆              ┆            │\n",
       "│ 434369      ┆ 5140    ┆ 0             ┆ Bank of       ┆ {{dateline|d ┆ 2007-06-03T0 ┆ []         │\n",
       "│             ┆         ┆               ┆ America       ┆ ate=February ┆ 9:15:32Z     ┆            │\n",
       "│             ┆         ┆               ┆ declares 1.2  ┆ 28, 2…       ┆              ┆            │\n",
       "│             ┆         ┆               ┆ m…            ┆              ┆              ┆            │\n",
       "│ 1884991     ┆ 5148    ┆ 0             ┆ Romania       ┆ [[Image:CJRO ┆ 2013-04-25T1 ┆ []         │\n",
       "│             ┆         ┆               ┆ announces 18  ┆ Cetatuie     ┆ 4:39:41Z     ┆            │\n",
       "│             ┆         ┆               ┆ percent i…    ┆ 2.jpg|thu…   ┆              ┆            │\n",
       "│ …           ┆ …       ┆ …             ┆ …             ┆ …            ┆ …            ┆ …          │\n",
       "│ 4732270     ┆ 2973823 ┆ 0             ┆ West Midlands ┆ {{mainspace  ┆ 2023-06-13T1 ┆ []         │\n",
       "│             ┆         ┆               ┆               ┆ disambig}}   ┆ 4:40:33Z     ┆            │\n",
       "│             ┆         ┆               ┆               ┆ __DISAM…     ┆              ┆            │\n",
       "│ 4733445     ┆ 2973832 ┆ 0             ┆ Shropshire    ┆ {{Mainspace  ┆ 2023-06-22T1 ┆ []         │\n",
       "│             ┆         ┆               ┆               ┆ disambig}}   ┆ 3:37:11Z     ┆            │\n",
       "│             ┆         ┆               ┆               ┆ __DISAM…     ┆              ┆            │\n",
       "│ 4784575     ┆ 2995324 ┆ 0             ┆ Main Page 2   ┆ <templatesty ┆ 2024-06-05T2 ┆ []         │\n",
       "│             ┆         ┆               ┆               ┆ les          ┆ 0:30:21Z     ┆            │\n",
       "│             ┆         ┆               ┆               ┆ src=\"Main    ┆              ┆            │\n",
       "│             ┆         ┆               ┆               ┆ Page…        ┆              ┆            │\n",
       "│ 4804852     ┆ 3001820 ┆ 0             ┆ Jimmie        ┆ {{abandoned| ┆ 2024-11-14T1 ┆ []         │\n",
       "│             ┆         ┆               ┆ Johnson's     ┆ October 8,   ┆ 7:14:23Z     ┆            │\n",
       "│             ┆         ┆               ┆ Consistency   ┆ 2024|}}…     ┆              ┆            │\n",
       "│ 4805279     ┆ 3004021 ┆ 0             ┆ Radwa mohamed ┆ {{Topic cat  ┆ 2024-11-19T1 ┆ []         │\n",
       "│             ┆         ┆               ┆ (Dodo)        ┆ |intro       ┆ 8:36:45Z     ┆            │\n",
       "│             ┆         ┆               ┆               ┆ = …          ┆              ┆            │\n",
       "└─────────────┴─────────┴───────────────┴───────────────┴──────────────┴──────────────┴────────────┘"
      ]
     },
     "execution_count": 31,
     "metadata": {},
     "output_type": "execute_result"
    }
   ],
   "source": [
    "df.filter(df[\"page_dates\"].map_elements(len, return_dtype=int) == 0)"
   ]
  },
  {
   "cell_type": "code",
   "execution_count": 32,
   "id": "fbf0c354",
   "metadata": {
    "execution": {
     "iopub.execute_input": "2024-12-11T01:55:44.358187Z",
     "iopub.status.busy": "2024-12-11T01:55:44.357797Z",
     "iopub.status.idle": "2024-12-11T01:55:44.363425Z",
     "shell.execute_reply": "2024-12-11T01:55:44.362353Z"
    },
    "papermill": {
     "duration": 0.028724,
     "end_time": "2024-12-11T01:55:44.366060",
     "exception": false,
     "start_time": "2024-12-11T01:55:44.337336",
     "status": "completed"
    },
    "tags": []
   },
   "outputs": [
    {
     "name": "stdout",
     "output_type": "stream",
     "text": [
      "{{dateline|date=February 28, 2005|location=Charlotte, North Carolina}} One of the biggest domestic banks in the [[w:United States|United States]], [[w:Bank of America|Bank of America]], has admitted to losing computer tapes containing 1.2 million federal employee accounts,  including the accounts of several U.S. senators, in a statement by the bank. According to the [[w:Pentagon|Pentagon]], most of the accounts belong to  staff and civilians in the [[w:Department of Defense|Department of Defense]]. The bank said the tapes were lost in December 2004 as they were being transported to a  data back-up centre by a commercial plane.\n",
      "\n",
      "Currently, the U.S. [[W:Secret Service|Secret Service]] are looking in to the matter, a federal agency whose brief includes investigations of serious financial crime such as this. All parties concerned are worrying about possible [[w:identity theft|identity theft]] as it contained valuable information such as bank account numbers, names and addresses.   \n",
      "\n",
      "== Sources==\n",
      "*{{source|url=http://www.bankofamerica.com/newsroom/press/press.cfm?PressID=press.20050225.04.htm\n",
      "|title=Bank of America confirms lost data tapes |author= |pub=Bank of America |date=February 25, 2005}}\n",
      "*{{source|url=http://www.boston.com/business/articles/2005/02/26/financial_data_lost_by_bank_of_america/\n",
      "|title=Financial data lost by Bank of America |author=Sasha Talcott |pub=The Boston Globe (via boston.com) |date=February 26, 2005}}\n",
      "*{{source|url=http://news.bbc.co.uk/1/hi/business/4300371.stm |title=US bank 'loses' customer details |author= |pub=BBC News |date=February 26, 2005}}\n",
      "\n",
      "   \n",
      "\n",
      "{{archive}}\n",
      "[[Category:United States]]\n",
      "[[Category:North America]]\n",
      "[[Category:Economy and business]]\n",
      "[[Category:published]]\n",
      "\n",
      "[[sv:Bank of America \"tappade bort\" 1.2 miljoner konton]]\n"
     ]
    }
   ],
   "source": [
    "print(df.filter(df[\"page_id\"] == 5140)[\"page_text\"][0])"
   ]
  },
  {
   "cell_type": "code",
   "execution_count": 33,
   "id": "616090ba",
   "metadata": {
    "execution": {
     "iopub.execute_input": "2024-12-11T01:55:44.405871Z",
     "iopub.status.busy": "2024-12-11T01:55:44.405496Z",
     "iopub.status.idle": "2024-12-11T01:55:46.326078Z",
     "shell.execute_reply": "2024-12-11T01:55:46.325000Z"
    },
    "papermill": {
     "duration": 1.943003,
     "end_time": "2024-12-11T01:55:46.328187",
     "exception": false,
     "start_time": "2024-12-11T01:55:44.385184",
     "status": "completed"
    },
    "tags": []
   },
   "outputs": [
    {
     "data": {
      "text/html": [
       "<div><style>\n",
       ".dataframe > thead > tr,\n",
       ".dataframe > tbody > tr {\n",
       "  text-align: right;\n",
       "  white-space: pre-wrap;\n",
       "}\n",
       "</style>\n",
       "<small>shape: (22_057, 7)</small><table border=\"1\" class=\"dataframe\"><thead><tr><th>revision_id</th><th>page_id</th><th>page_namespace</th><th>page_title</th><th>page_text</th><th>last_update_timestamp</th><th>page_dates</th></tr><tr><td>i64</td><td>i64</td><td>i64</td><td>str</td><td>str</td><td>str</td><td>list[str]</td></tr></thead><tbody><tr><td>4516743</td><td>736</td><td>0</td><td>&quot;President of China lunches wit…</td><td>&quot;{{date|November 13, 2004}}\n",
       "{{B…</td><td>&quot;2019-09-28T09:51:53Z&quot;</td><td>[&quot;{{date|november 13, 2004}}&quot;]</td></tr><tr><td>4516759</td><td>741</td><td>0</td><td>&quot;Palestinians to elect new pres…</td><td>&quot;[[File:Mahmoud abbas.jpg|frame…</td><td>&quot;2019-09-28T10:45:51Z&quot;</td><td>[&quot;{{byline|date=november 14, 2004|location=[[w:ramallah|ramallah]]}}&quot;]</td></tr><tr><td>2280888</td><td>743</td><td>0</td><td>&quot;Brazilian delegation returns f…</td><td>&quot;{{date|November 13, 2004}}\n",
       "{{P…</td><td>&quot;2014-01-02T19:36:05Z&quot;</td><td>[&quot;{{date|november 13, 2004}}&quot;]</td></tr><tr><td>4516758</td><td>764</td><td>0</td><td>&quot;Hearing begins over David Hook…</td><td>&quot;{{Crime and law}}{{byline|date…</td><td>&quot;2019-09-28T10:39:36Z&quot;</td><td>[&quot;{{byline|date=november 15, 2004|location=[[melbourne|melbourne]], [[victoria, australia|victoria]]}}&quot;]</td></tr><tr><td>1973838</td><td>779</td><td>0</td><td>&quot;Iran close to decision on nucl…</td><td>&quot;{{date|November 13, 2004}}\n",
       "{{I…</td><td>&quot;2013-08-21T16:07:41Z&quot;</td><td>[&quot;{{date|november 13, 2004}}&quot;]</td></tr><tr><td>&hellip;</td><td>&hellip;</td><td>&hellip;</td><td>&hellip;</td><td>&hellip;</td><td>&hellip;</td><td>&hellip;</td></tr><tr><td>4805088</td><td>3003768</td><td>0</td><td>&quot;Prison riot in Ecuador, at lea…</td><td>&quot;{{tasks|src|npov|mos|re-review…</td><td>&quot;2024-11-17T16:35:30Z&quot;</td><td>[&quot;{{date|november 13, 2024}}&quot;]</td></tr><tr><td>4805240</td><td>3003827</td><td>0</td><td>&quot;2024 ARPS Conference&quot;</td><td>&quot;{{develop}}\n",
       "{{date|November 12…</td><td>&quot;2024-11-19T12:19:00Z&quot;</td><td>[&quot;{{date|november 12, 2024}}&quot;]</td></tr><tr><td>4805272</td><td>3003842</td><td>0</td><td>&quot;Japan&#x27;s oldest Princess Yuriko…</td><td>&quot;{{tasks|src|re-review}}{{date|…</td><td>&quot;2024-11-19T18:23:32Z&quot;</td><td>[&quot;{{date|november 15, 2024}}&quot;]</td></tr><tr><td>4805304</td><td>3003969</td><td>0</td><td>&quot;US sanctions far-right Israeli…</td><td>&quot;{{review}}\n",
       "\n",
       "{{Date|November 18…</td><td>&quot;2024-11-20T05:45:46Z&quot;</td><td>[&quot;{{date|november 18, 2024}}&quot;]</td></tr><tr><td>4805279</td><td>3004021</td><td>0</td><td>&quot;Radwa mohamed (Dodo)&quot;</td><td>&quot;{{Topic cat\n",
       "|intro&nbsp;&nbsp;&nbsp;&nbsp;&nbsp;&nbsp;&nbsp;&nbsp;&nbsp;&nbsp;= …</td><td>&quot;2024-11-19T18:36:45Z&quot;</td><td>[]</td></tr></tbody></table></div>"
      ],
      "text/plain": [
       "shape: (22_057, 7)\n",
       "┌─────────────┬─────────┬──────────────┬──────────────┬──────────────┬──────────────┬──────────────┐\n",
       "│ revision_id ┆ page_id ┆ page_namespa ┆ page_title   ┆ page_text    ┆ last_update_ ┆ page_dates   │\n",
       "│ ---         ┆ ---     ┆ ce           ┆ ---          ┆ ---          ┆ timestamp    ┆ ---          │\n",
       "│ i64         ┆ i64     ┆ ---          ┆ str          ┆ str          ┆ ---          ┆ list[str]    │\n",
       "│             ┆         ┆ i64          ┆              ┆              ┆ str          ┆              │\n",
       "╞═════════════╪═════════╪══════════════╪══════════════╪══════════════╪══════════════╪══════════════╡\n",
       "│ 4516743     ┆ 736     ┆ 0            ┆ President of ┆ {{date|Novem ┆ 2019-09-28T0 ┆ [\"{{date|nov │\n",
       "│             ┆         ┆              ┆ China        ┆ ber 13,      ┆ 9:51:53Z     ┆ ember 13,    │\n",
       "│             ┆         ┆              ┆ lunches wit… ┆ 2004}}       ┆              ┆ 2004}}\"]     │\n",
       "│             ┆         ┆              ┆              ┆ {{B…         ┆              ┆              │\n",
       "│ 4516759     ┆ 741     ┆ 0            ┆ Palestinians ┆ [[File:Mahmo ┆ 2019-09-28T1 ┆ [\"{{byline|d │\n",
       "│             ┆         ┆              ┆ to elect new ┆ ud abbas.jpg ┆ 0:45:51Z     ┆ ate=november │\n",
       "│             ┆         ┆              ┆ pres…        ┆ |frame…      ┆              ┆ 14, 2…       │\n",
       "│ 2280888     ┆ 743     ┆ 0            ┆ Brazilian    ┆ {{date|Novem ┆ 2014-01-02T1 ┆ [\"{{date|nov │\n",
       "│             ┆         ┆              ┆ delegation   ┆ ber 13,      ┆ 9:36:05Z     ┆ ember 13,    │\n",
       "│             ┆         ┆              ┆ returns f…   ┆ 2004}}       ┆              ┆ 2004}}\"]     │\n",
       "│             ┆         ┆              ┆              ┆ {{P…         ┆              ┆              │\n",
       "│ 4516758     ┆ 764     ┆ 0            ┆ Hearing      ┆ {{Crime and  ┆ 2019-09-28T1 ┆ [\"{{byline|d │\n",
       "│             ┆         ┆              ┆ begins over  ┆ law}}{{bylin ┆ 0:39:36Z     ┆ ate=november │\n",
       "│             ┆         ┆              ┆ David Hook…  ┆ e|date…      ┆              ┆ 15, 2…       │\n",
       "│ 1973838     ┆ 779     ┆ 0            ┆ Iran close   ┆ {{date|Novem ┆ 2013-08-21T1 ┆ [\"{{date|nov │\n",
       "│             ┆         ┆              ┆ to decision  ┆ ber 13,      ┆ 6:07:41Z     ┆ ember 13,    │\n",
       "│             ┆         ┆              ┆ on nucl…     ┆ 2004}}       ┆              ┆ 2004}}\"]     │\n",
       "│             ┆         ┆              ┆              ┆ {{I…         ┆              ┆              │\n",
       "│ …           ┆ …       ┆ …            ┆ …            ┆ …            ┆ …            ┆ …            │\n",
       "│ 4805088     ┆ 3003768 ┆ 0            ┆ Prison riot  ┆ {{tasks|src| ┆ 2024-11-17T1 ┆ [\"{{date|nov │\n",
       "│             ┆         ┆              ┆ in Ecuador,  ┆ npov|mos|re- ┆ 6:35:30Z     ┆ ember 13,    │\n",
       "│             ┆         ┆              ┆ at lea…      ┆ review…      ┆              ┆ 2024}}\"]     │\n",
       "│ 4805240     ┆ 3003827 ┆ 0            ┆ 2024 ARPS    ┆ {{develop}}  ┆ 2024-11-19T1 ┆ [\"{{date|nov │\n",
       "│             ┆         ┆              ┆ Conference   ┆ {{date|Novem ┆ 2:19:00Z     ┆ ember 12,    │\n",
       "│             ┆         ┆              ┆              ┆ ber 12…      ┆              ┆ 2024}}\"]     │\n",
       "│ 4805272     ┆ 3003842 ┆ 0            ┆ Japan's      ┆ {{tasks|src| ┆ 2024-11-19T1 ┆ [\"{{date|nov │\n",
       "│             ┆         ┆              ┆ oldest       ┆ re-review}}{ ┆ 8:23:32Z     ┆ ember 15,    │\n",
       "│             ┆         ┆              ┆ Princess     ┆ {date|…      ┆              ┆ 2024}}\"]     │\n",
       "│             ┆         ┆              ┆ Yuriko…      ┆              ┆              ┆              │\n",
       "│ 4805304     ┆ 3003969 ┆ 0            ┆ US sanctions ┆ {{review}}   ┆ 2024-11-20T0 ┆ [\"{{date|nov │\n",
       "│             ┆         ┆              ┆ far-right    ┆              ┆ 5:45:46Z     ┆ ember 18,    │\n",
       "│             ┆         ┆              ┆ Israeli…     ┆ {{Date|Novem ┆              ┆ 2024}}\"]     │\n",
       "│             ┆         ┆              ┆              ┆ ber 18…      ┆              ┆              │\n",
       "│ 4805279     ┆ 3004021 ┆ 0            ┆ Radwa        ┆ {{Topic cat  ┆ 2024-11-19T1 ┆ []           │\n",
       "│             ┆         ┆              ┆ mohamed      ┆ |intro       ┆ 8:36:45Z     ┆              │\n",
       "│             ┆         ┆              ┆ (Dodo)       ┆ = …          ┆              ┆              │\n",
       "└─────────────┴─────────┴──────────────┴──────────────┴──────────────┴──────────────┴──────────────┘"
      ]
     },
     "execution_count": 33,
     "metadata": {},
     "output_type": "execute_result"
    }
   ],
   "source": [
    "article_publish_date_regexes = [\n",
    "    \"{{(d|D)ate\\|[A-Za-z0-9=,\\. ]+}}\",\n",
    "    \"{{(d|D)ate\\|[A-Za-z0-9=,\\. ]+\\|[A-Za-z0-9=,\\. ]+}}\",\n",
    "    \"{{((b|B)yline|(d|D)ateline)\\|date=[A-Za-z0-9,\\. ]+\\|[^}{]+}}\",\n",
    "    \"{{((b|B)yline|(d|D)ateline)\\|date=[A-Za-z0-9,\\. ]+\\|[^}{]*{{w\\|[^}{]+(\\|[^}{]+)?(\\|[^}{]+)?}}[^}{]*}}\",\n",
    "    \"{{((b|B)yline|(d|D)ateline)\\|[^}{]+\\|date=[A-Za-z0-9,\\. ]+}}\",\n",
    "    \"{{((b|B)yline|(d|D)ateline)\\|[^}{]+{{w\\|[^}{]+(\\|[^}{]+)?(\\|[^}{]+)?}}[^}{]*\\|date=[A-Za-z0-9,\\. ]+}}\",\n",
    "    r\"\\[\\[(c|C)ategory:\\s*[A-Za-z]+\\s*[0-9]+[A-Za-z]{0,2},\\s*[0-9]+\\]\\]\",\n",
    "]\n",
    "full_article_publish_date_regex = \"|\".join(article_publish_date_regexes)\n",
    "\n",
    "def get_date_elements(article_text):\n",
    "    return [m.group(0) for m in re.finditer(full_article_publish_date_regex, article_text.lower())]\n",
    "\n",
    "df = df.with_columns(\n",
    "    pl.col(\"page_text\").map_elements(get_date_elements, return_dtype=pl.List(str)).alias('page_dates')\n",
    ")\n",
    "df"
   ]
  },
  {
   "cell_type": "markdown",
   "id": "b4ed5548",
   "metadata": {
    "papermill": {
     "duration": 0.019938,
     "end_time": "2024-12-11T01:55:46.369048",
     "exception": false,
     "start_time": "2024-12-11T01:55:46.349110",
     "status": "completed"
    },
    "tags": []
   },
   "source": [
    "## Issue #13: More date formats (again)\n",
    "\n",
    "It turns out that Wikitext template tags can also span newlines. We can correctly parse the date by removing newlines from the text of the article before looking for date tags."
   ]
  },
  {
   "cell_type": "code",
   "execution_count": 34,
   "id": "adb683c7",
   "metadata": {
    "execution": {
     "iopub.execute_input": "2024-12-11T01:55:46.409913Z",
     "iopub.status.busy": "2024-12-11T01:55:46.409532Z",
     "iopub.status.idle": "2024-12-11T01:55:46.451055Z",
     "shell.execute_reply": "2024-12-11T01:55:46.449893Z"
    },
    "papermill": {
     "duration": 0.064704,
     "end_time": "2024-12-11T01:55:46.453542",
     "exception": false,
     "start_time": "2024-12-11T01:55:46.388838",
     "status": "completed"
    },
    "tags": []
   },
   "outputs": [
    {
     "data": {
      "text/html": [
       "<div><style>\n",
       ".dataframe > thead > tr,\n",
       ".dataframe > tbody > tr {\n",
       "  text-align: right;\n",
       "  white-space: pre-wrap;\n",
       "}\n",
       "</style>\n",
       "<small>shape: (407, 7)</small><table border=\"1\" class=\"dataframe\"><thead><tr><th>revision_id</th><th>page_id</th><th>page_namespace</th><th>page_title</th><th>page_text</th><th>last_update_timestamp</th><th>page_dates</th></tr><tr><td>i64</td><td>i64</td><td>i64</td><td>str</td><td>str</td><td>str</td><td>list[str]</td></tr></thead><tbody><tr><td>4493894</td><td>1631</td><td>0</td><td>&quot;South American Community of Na…</td><td>&quot;[[File:SACN member states.jpg|…</td><td>&quot;2019-07-26T12:11:46Z&quot;</td><td>[]</td></tr><tr><td>1089693</td><td>4618</td><td>0</td><td>&quot;&#x27;The Gates&#x27; opens in New York …</td><td>&quot;__NOTOC__\n",
       "\n",
       "{{byline|\n",
       "date=Febr…</td><td>&quot;2010-09-06T20:26:56Z&quot;</td><td>[]</td></tr><tr><td>1321145</td><td>6221</td><td>0</td><td>&quot;Market Data&quot;</td><td>&quot;[[Image:Stop hand.svg|left|50p…</td><td>&quot;2011-11-12T22:32:27Z&quot;</td><td>[]</td></tr><tr><td>4562001</td><td>6222</td><td>0</td><td>&quot;Market Data/^DJI&quot;</td><td>&quot;{{historical}}\n",
       "===Latest data=…</td><td>&quot;2020-04-30T02:40:00Z&quot;</td><td>[]</td></tr><tr><td>4561994</td><td>6314</td><td>0</td><td>&quot;Market Data/Homepage&quot;</td><td>&quot;{{historical}}&lt;div style=&quot;bord…</td><td>&quot;2020-04-30T02:35:34Z&quot;</td><td>[]</td></tr><tr><td>&hellip;</td><td>&hellip;</td><td>&hellip;</td><td>&hellip;</td><td>&hellip;</td><td>&hellip;</td><td>&hellip;</td></tr><tr><td>4732270</td><td>2973823</td><td>0</td><td>&quot;West Midlands&quot;</td><td>&quot;{{mainspace disambig}}\n",
       "__DISAM…</td><td>&quot;2023-06-13T14:40:33Z&quot;</td><td>[]</td></tr><tr><td>4733445</td><td>2973832</td><td>0</td><td>&quot;Shropshire&quot;</td><td>&quot;{{Mainspace disambig}}\n",
       "__DISAM…</td><td>&quot;2023-06-22T13:37:11Z&quot;</td><td>[]</td></tr><tr><td>4784575</td><td>2995324</td><td>0</td><td>&quot;Main Page 2&quot;</td><td>&quot;&lt;templatestyles src=&quot;Main Page…</td><td>&quot;2024-06-05T20:30:21Z&quot;</td><td>[]</td></tr><tr><td>4804852</td><td>3001820</td><td>0</td><td>&quot;Jimmie Johnson&#x27;s Consistency&quot;</td><td>&quot;{{abandoned|October 8, 2024|}}…</td><td>&quot;2024-11-14T17:14:23Z&quot;</td><td>[]</td></tr><tr><td>4805279</td><td>3004021</td><td>0</td><td>&quot;Radwa mohamed (Dodo)&quot;</td><td>&quot;{{Topic cat\n",
       "|intro&nbsp;&nbsp;&nbsp;&nbsp;&nbsp;&nbsp;&nbsp;&nbsp;&nbsp;&nbsp;= …</td><td>&quot;2024-11-19T18:36:45Z&quot;</td><td>[]</td></tr></tbody></table></div>"
      ],
      "text/plain": [
       "shape: (407, 7)\n",
       "┌─────────────┬─────────┬───────────────┬───────────────┬──────────────┬──────────────┬────────────┐\n",
       "│ revision_id ┆ page_id ┆ page_namespac ┆ page_title    ┆ page_text    ┆ last_update_ ┆ page_dates │\n",
       "│ ---         ┆ ---     ┆ e             ┆ ---           ┆ ---          ┆ timestamp    ┆ ---        │\n",
       "│ i64         ┆ i64     ┆ ---           ┆ str           ┆ str          ┆ ---          ┆ list[str]  │\n",
       "│             ┆         ┆ i64           ┆               ┆              ┆ str          ┆            │\n",
       "╞═════════════╪═════════╪═══════════════╪═══════════════╪══════════════╪══════════════╪════════════╡\n",
       "│ 4493894     ┆ 1631    ┆ 0             ┆ South         ┆ [[File:SACN  ┆ 2019-07-26T1 ┆ []         │\n",
       "│             ┆         ┆               ┆ American      ┆ member       ┆ 2:11:46Z     ┆            │\n",
       "│             ┆         ┆               ┆ Community of  ┆ states.jpg|… ┆              ┆            │\n",
       "│             ┆         ┆               ┆ Na…           ┆              ┆              ┆            │\n",
       "│ 1089693     ┆ 4618    ┆ 0             ┆ 'The Gates'   ┆ __NOTOC__    ┆ 2010-09-06T2 ┆ []         │\n",
       "│             ┆         ┆               ┆ opens in New  ┆              ┆ 0:26:56Z     ┆            │\n",
       "│             ┆         ┆               ┆ York …        ┆ {{byline|    ┆              ┆            │\n",
       "│             ┆         ┆               ┆               ┆ date=Febr…   ┆              ┆            │\n",
       "│ 1321145     ┆ 6221    ┆ 0             ┆ Market Data   ┆ [[Image:Stop ┆ 2011-11-12T2 ┆ []         │\n",
       "│             ┆         ┆               ┆               ┆ hand.svg|lef ┆ 2:32:27Z     ┆            │\n",
       "│             ┆         ┆               ┆               ┆ t|50p…       ┆              ┆            │\n",
       "│ 4562001     ┆ 6222    ┆ 0             ┆ Market        ┆ {{historical ┆ 2020-04-30T0 ┆ []         │\n",
       "│             ┆         ┆               ┆ Data/^DJI     ┆ }}           ┆ 2:40:00Z     ┆            │\n",
       "│             ┆         ┆               ┆               ┆ ===Latest    ┆              ┆            │\n",
       "│             ┆         ┆               ┆               ┆ data=…       ┆              ┆            │\n",
       "│ 4561994     ┆ 6314    ┆ 0             ┆ Market        ┆ {{historical ┆ 2020-04-30T0 ┆ []         │\n",
       "│             ┆         ┆               ┆ Data/Homepage ┆ }}<div       ┆ 2:35:34Z     ┆            │\n",
       "│             ┆         ┆               ┆               ┆ style=\"bord… ┆              ┆            │\n",
       "│ …           ┆ …       ┆ …             ┆ …             ┆ …            ┆ …            ┆ …          │\n",
       "│ 4732270     ┆ 2973823 ┆ 0             ┆ West Midlands ┆ {{mainspace  ┆ 2023-06-13T1 ┆ []         │\n",
       "│             ┆         ┆               ┆               ┆ disambig}}   ┆ 4:40:33Z     ┆            │\n",
       "│             ┆         ┆               ┆               ┆ __DISAM…     ┆              ┆            │\n",
       "│ 4733445     ┆ 2973832 ┆ 0             ┆ Shropshire    ┆ {{Mainspace  ┆ 2023-06-22T1 ┆ []         │\n",
       "│             ┆         ┆               ┆               ┆ disambig}}   ┆ 3:37:11Z     ┆            │\n",
       "│             ┆         ┆               ┆               ┆ __DISAM…     ┆              ┆            │\n",
       "│ 4784575     ┆ 2995324 ┆ 0             ┆ Main Page 2   ┆ <templatesty ┆ 2024-06-05T2 ┆ []         │\n",
       "│             ┆         ┆               ┆               ┆ les          ┆ 0:30:21Z     ┆            │\n",
       "│             ┆         ┆               ┆               ┆ src=\"Main    ┆              ┆            │\n",
       "│             ┆         ┆               ┆               ┆ Page…        ┆              ┆            │\n",
       "│ 4804852     ┆ 3001820 ┆ 0             ┆ Jimmie        ┆ {{abandoned| ┆ 2024-11-14T1 ┆ []         │\n",
       "│             ┆         ┆               ┆ Johnson's     ┆ October 8,   ┆ 7:14:23Z     ┆            │\n",
       "│             ┆         ┆               ┆ Consistency   ┆ 2024|}}…     ┆              ┆            │\n",
       "│ 4805279     ┆ 3004021 ┆ 0             ┆ Radwa mohamed ┆ {{Topic cat  ┆ 2024-11-19T1 ┆ []         │\n",
       "│             ┆         ┆               ┆ (Dodo)        ┆ |intro       ┆ 8:36:45Z     ┆            │\n",
       "│             ┆         ┆               ┆               ┆ = …          ┆              ┆            │\n",
       "└─────────────┴─────────┴───────────────┴───────────────┴──────────────┴──────────────┴────────────┘"
      ]
     },
     "execution_count": 34,
     "metadata": {},
     "output_type": "execute_result"
    }
   ],
   "source": [
    "df.filter(df[\"page_dates\"].map_elements(len, return_dtype=int) == 0)"
   ]
  },
  {
   "cell_type": "code",
   "execution_count": 35,
   "id": "f335eda0",
   "metadata": {
    "execution": {
     "iopub.execute_input": "2024-12-11T01:55:46.495167Z",
     "iopub.status.busy": "2024-12-11T01:55:46.494770Z",
     "iopub.status.idle": "2024-12-11T01:55:46.501528Z",
     "shell.execute_reply": "2024-12-11T01:55:46.500335Z"
    },
    "papermill": {
     "duration": 0.030941,
     "end_time": "2024-12-11T01:55:46.504554",
     "exception": false,
     "start_time": "2024-12-11T01:55:46.473613",
     "status": "completed"
    },
    "tags": []
   },
   "outputs": [
    {
     "name": "stdout",
     "output_type": "stream",
     "text": [
      "__NOTOC__\n",
      "\n",
      "{{byline|\n",
      "date=February 16, 2005|\n",
      "location=New York, New York}}\n",
      "On [[w:February 12|February 12]], [[w:2005|2005]], at 8:30 a.m., New York Mayor [[w:Michael Bloomberg|Michael Bloomberg]] dropped the first piece of fabric in '''[[w:The Gates|The Gates]]''', a [[w:Land art|land art]] project by [[w:Christo|Christo]] and [[w:Jeanne-Claude Denat de Guillebon|Jeanne Claude]].\n",
      "\n",
      "The artists installed 7,500 metal \"gates\" along 23 miles of pathways in [[w:New York City|New York City's]] [[w:Central Park|Central Park]]. Each gate supported a flag-shaped piece of saffron fabric. The project is scheduled to run from [[w:February 12, 2005|Feb. 12]], [[w:2005|2005]] through [[w:February 27|Feb. 27]], [[w:2005|2005]]. The project is sometimes referred to as \"''The Gates'', Central Park, New York, 1979-2005\" in reference to the time between the artists' initial proposal and the present day.\n",
      "\n",
      "== Installation ==\n",
      "\n",
      "The installation of the project began on [[w:January 3|January 3]], [[w:2005|2005]].\n",
      "\n",
      "During the week of January 17th, the park was filled with workers using fork lifts to move the rectangular metal plates into position all over Central Park.\n",
      "<!-- [[Image:Gates_base.jpg|thumb|450px|''The Gates'' during construction: One of the many metal base parts (February 6, 2005)]] -->\n",
      "\n",
      "There were small signs placed on every walkway in the park with alphanumeric codes that the workers were using to place the metal places onto the designated spots.\n",
      "\n",
      "As of January 27, most of the plates had been placed in their positions. Many had small orange plastic markers sticking up a foot or two (around half a metre) from each end, possibly intended to help people find the base plates if they were covered with snow. A major snow storm and extreme cold hampered progress in late January.\n",
      "\n",
      "As of February 7, there were many teams of workers wearing silver grey smocks moving the vertical parts of the gates and attaching them to the base plates. The documentation describes the color as \"saffron\" but local observers describe it as orange.\n",
      "<!--\n",
      "{|\n",
      "|-\n",
      "|[[File:Gates_parts.jpg|none|thumb|400px|Hardware being used to assemble \"The Gates\"]]\n",
      "|[[File:Gates_up.jpg|none|thumb|400px|Some of The Gates, assembled.]]\n",
      "|-\n",
      "|}\n",
      "-->\n",
      "\n",
      "When attached, the vertical pieces are about 6 metres high, with a cross bar at the top from which the flag piece hangs.  The most common width seems to be 11 feet (3.35 metres), though they vary considerably (depending on the width of the path) from around 6 feet (2 metres) to over 20 feet (6 metres).\n",
      "\n",
      "== Opening ==\n",
      "\n",
      "Once Bloomberg released the first piece of cloth, the rest of the gates were opened over the course of the next few hours, with large crowds of people watching.  Generally, the crews of people who erected the gates were assigned to open them. They simply had to walk underneath, and use a hook at the end of a long stick to pull a loop hanging from the cross bar of each gate.  That opened the cloth bag which contained the \"flag\" part of the gate. The bag fell to the ground, along with a card board tube around which the flag was rolled. The flag then hung majestically from the cross bar.\n",
      "\n",
      "As of [[w:February 13, 2005|Feb. 13]], all of the gates have been opened. The project staff is still deployed in the park, patrolling, and replacing a few of the gates that have become damaged.  There are many more people then usual walking around in the park, looking and photographing '''The Gates'''.\n",
      "<!--\n",
      "[[File:Gates opened.jpg|none|thumb|400px|Some of the gates, on Feb. 13, 2005 (these are between the Great Lawn oval, and the 86th Street Transverse).]]\n",
      "-->\n",
      "\n",
      "{{haveyoursay}}\n",
      "== Sources ==\n",
      "{{wikipedia|The Gates}}\n",
      "* [http://www.christojeanneclaude.net/tg.html The Gates on the Christo and Jeanne Claude website]\n",
      "* [http://nycgates.blogspot.com/ The Gates @ Central Park] A community blog on which anyone may post comments about The Gates via email or mobile phone.\n",
      "* [http://www.geocities.com/qubestrader/TheGates.html The Gates - Art Work] {{Source offline}}\n",
      "* Pictures, a map, and more coverage, The New York Times, February 12-13, 2005\n",
      "\n",
      "{{publish}}\n",
      "{{archived}}\n",
      "\n",
      "[[Category:New York]]\n",
      "[[Category:United States]]\n",
      "[[Category:North America]]\n",
      "[[Category:Michael Bloomberg]]\n",
      "[[Category:Art]]\n",
      "[[Category:Culture and entertainment]]\n",
      "\n",
      "[[de:Christo startet in New York seine neueste Ausstellung]]\n"
     ]
    }
   ],
   "source": [
    "print(df.filter(df[\"page_id\"] == 4618)[\"page_text\"][0])"
   ]
  },
  {
   "cell_type": "code",
   "execution_count": 36,
   "id": "e166fc03",
   "metadata": {
    "execution": {
     "iopub.execute_input": "2024-12-11T01:55:46.549921Z",
     "iopub.status.busy": "2024-12-11T01:55:46.549526Z",
     "iopub.status.idle": "2024-12-11T01:55:48.659434Z",
     "shell.execute_reply": "2024-12-11T01:55:48.658312Z"
    },
    "papermill": {
     "duration": 2.136652,
     "end_time": "2024-12-11T01:55:48.662187",
     "exception": false,
     "start_time": "2024-12-11T01:55:46.525535",
     "status": "completed"
    },
    "tags": []
   },
   "outputs": [
    {
     "data": {
      "text/html": [
       "<div><style>\n",
       ".dataframe > thead > tr,\n",
       ".dataframe > tbody > tr {\n",
       "  text-align: right;\n",
       "  white-space: pre-wrap;\n",
       "}\n",
       "</style>\n",
       "<small>shape: (22_057, 7)</small><table border=\"1\" class=\"dataframe\"><thead><tr><th>revision_id</th><th>page_id</th><th>page_namespace</th><th>page_title</th><th>page_text</th><th>last_update_timestamp</th><th>page_dates</th></tr><tr><td>i64</td><td>i64</td><td>i64</td><td>str</td><td>str</td><td>str</td><td>list[str]</td></tr></thead><tbody><tr><td>4516743</td><td>736</td><td>0</td><td>&quot;President of China lunches wit…</td><td>&quot;{{date|November 13, 2004}}\n",
       "{{B…</td><td>&quot;2019-09-28T09:51:53Z&quot;</td><td>[&quot;{{date|november 13, 2004}}&quot;]</td></tr><tr><td>4516759</td><td>741</td><td>0</td><td>&quot;Palestinians to elect new pres…</td><td>&quot;[[File:Mahmoud abbas.jpg|frame…</td><td>&quot;2019-09-28T10:45:51Z&quot;</td><td>[&quot;{{byline|date=november 14, 2004|location=[[w:ramallah|ramallah]]}}&quot;]</td></tr><tr><td>2280888</td><td>743</td><td>0</td><td>&quot;Brazilian delegation returns f…</td><td>&quot;{{date|November 13, 2004}}\n",
       "{{P…</td><td>&quot;2014-01-02T19:36:05Z&quot;</td><td>[&quot;{{date|november 13, 2004}}&quot;]</td></tr><tr><td>4516758</td><td>764</td><td>0</td><td>&quot;Hearing begins over David Hook…</td><td>&quot;{{Crime and law}}{{byline|date…</td><td>&quot;2019-09-28T10:39:36Z&quot;</td><td>[&quot;{{byline|date=november 15, 2004|location=[[melbourne|melbourne]], [[victoria, australia|victoria]]}}&quot;]</td></tr><tr><td>1973838</td><td>779</td><td>0</td><td>&quot;Iran close to decision on nucl…</td><td>&quot;{{date|November 13, 2004}}\n",
       "{{I…</td><td>&quot;2013-08-21T16:07:41Z&quot;</td><td>[&quot;{{date|november 13, 2004}}&quot;]</td></tr><tr><td>&hellip;</td><td>&hellip;</td><td>&hellip;</td><td>&hellip;</td><td>&hellip;</td><td>&hellip;</td><td>&hellip;</td></tr><tr><td>4805088</td><td>3003768</td><td>0</td><td>&quot;Prison riot in Ecuador, at lea…</td><td>&quot;{{tasks|src|npov|mos|re-review…</td><td>&quot;2024-11-17T16:35:30Z&quot;</td><td>[&quot;{{date|november 13, 2024}}&quot;]</td></tr><tr><td>4805240</td><td>3003827</td><td>0</td><td>&quot;2024 ARPS Conference&quot;</td><td>&quot;{{develop}}\n",
       "{{date|November 12…</td><td>&quot;2024-11-19T12:19:00Z&quot;</td><td>[&quot;{{date|november 12, 2024}}&quot;]</td></tr><tr><td>4805272</td><td>3003842</td><td>0</td><td>&quot;Japan&#x27;s oldest Princess Yuriko…</td><td>&quot;{{tasks|src|re-review}}{{date|…</td><td>&quot;2024-11-19T18:23:32Z&quot;</td><td>[&quot;{{date|november 15, 2024}}&quot;]</td></tr><tr><td>4805304</td><td>3003969</td><td>0</td><td>&quot;US sanctions far-right Israeli…</td><td>&quot;{{review}}\n",
       "\n",
       "{{Date|November 18…</td><td>&quot;2024-11-20T05:45:46Z&quot;</td><td>[&quot;{{date|november 18, 2024}}&quot;]</td></tr><tr><td>4805279</td><td>3004021</td><td>0</td><td>&quot;Radwa mohamed (Dodo)&quot;</td><td>&quot;{{Topic cat\n",
       "|intro&nbsp;&nbsp;&nbsp;&nbsp;&nbsp;&nbsp;&nbsp;&nbsp;&nbsp;&nbsp;= …</td><td>&quot;2024-11-19T18:36:45Z&quot;</td><td>[]</td></tr></tbody></table></div>"
      ],
      "text/plain": [
       "shape: (22_057, 7)\n",
       "┌─────────────┬─────────┬──────────────┬──────────────┬──────────────┬──────────────┬──────────────┐\n",
       "│ revision_id ┆ page_id ┆ page_namespa ┆ page_title   ┆ page_text    ┆ last_update_ ┆ page_dates   │\n",
       "│ ---         ┆ ---     ┆ ce           ┆ ---          ┆ ---          ┆ timestamp    ┆ ---          │\n",
       "│ i64         ┆ i64     ┆ ---          ┆ str          ┆ str          ┆ ---          ┆ list[str]    │\n",
       "│             ┆         ┆ i64          ┆              ┆              ┆ str          ┆              │\n",
       "╞═════════════╪═════════╪══════════════╪══════════════╪══════════════╪══════════════╪══════════════╡\n",
       "│ 4516743     ┆ 736     ┆ 0            ┆ President of ┆ {{date|Novem ┆ 2019-09-28T0 ┆ [\"{{date|nov │\n",
       "│             ┆         ┆              ┆ China        ┆ ber 13,      ┆ 9:51:53Z     ┆ ember 13,    │\n",
       "│             ┆         ┆              ┆ lunches wit… ┆ 2004}}       ┆              ┆ 2004}}\"]     │\n",
       "│             ┆         ┆              ┆              ┆ {{B…         ┆              ┆              │\n",
       "│ 4516759     ┆ 741     ┆ 0            ┆ Palestinians ┆ [[File:Mahmo ┆ 2019-09-28T1 ┆ [\"{{byline|d │\n",
       "│             ┆         ┆              ┆ to elect new ┆ ud abbas.jpg ┆ 0:45:51Z     ┆ ate=november │\n",
       "│             ┆         ┆              ┆ pres…        ┆ |frame…      ┆              ┆ 14, 2…       │\n",
       "│ 2280888     ┆ 743     ┆ 0            ┆ Brazilian    ┆ {{date|Novem ┆ 2014-01-02T1 ┆ [\"{{date|nov │\n",
       "│             ┆         ┆              ┆ delegation   ┆ ber 13,      ┆ 9:36:05Z     ┆ ember 13,    │\n",
       "│             ┆         ┆              ┆ returns f…   ┆ 2004}}       ┆              ┆ 2004}}\"]     │\n",
       "│             ┆         ┆              ┆              ┆ {{P…         ┆              ┆              │\n",
       "│ 4516758     ┆ 764     ┆ 0            ┆ Hearing      ┆ {{Crime and  ┆ 2019-09-28T1 ┆ [\"{{byline|d │\n",
       "│             ┆         ┆              ┆ begins over  ┆ law}}{{bylin ┆ 0:39:36Z     ┆ ate=november │\n",
       "│             ┆         ┆              ┆ David Hook…  ┆ e|date…      ┆              ┆ 15, 2…       │\n",
       "│ 1973838     ┆ 779     ┆ 0            ┆ Iran close   ┆ {{date|Novem ┆ 2013-08-21T1 ┆ [\"{{date|nov │\n",
       "│             ┆         ┆              ┆ to decision  ┆ ber 13,      ┆ 6:07:41Z     ┆ ember 13,    │\n",
       "│             ┆         ┆              ┆ on nucl…     ┆ 2004}}       ┆              ┆ 2004}}\"]     │\n",
       "│             ┆         ┆              ┆              ┆ {{I…         ┆              ┆              │\n",
       "│ …           ┆ …       ┆ …            ┆ …            ┆ …            ┆ …            ┆ …            │\n",
       "│ 4805088     ┆ 3003768 ┆ 0            ┆ Prison riot  ┆ {{tasks|src| ┆ 2024-11-17T1 ┆ [\"{{date|nov │\n",
       "│             ┆         ┆              ┆ in Ecuador,  ┆ npov|mos|re- ┆ 6:35:30Z     ┆ ember 13,    │\n",
       "│             ┆         ┆              ┆ at lea…      ┆ review…      ┆              ┆ 2024}}\"]     │\n",
       "│ 4805240     ┆ 3003827 ┆ 0            ┆ 2024 ARPS    ┆ {{develop}}  ┆ 2024-11-19T1 ┆ [\"{{date|nov │\n",
       "│             ┆         ┆              ┆ Conference   ┆ {{date|Novem ┆ 2:19:00Z     ┆ ember 12,    │\n",
       "│             ┆         ┆              ┆              ┆ ber 12…      ┆              ┆ 2024}}\"]     │\n",
       "│ 4805272     ┆ 3003842 ┆ 0            ┆ Japan's      ┆ {{tasks|src| ┆ 2024-11-19T1 ┆ [\"{{date|nov │\n",
       "│             ┆         ┆              ┆ oldest       ┆ re-review}}{ ┆ 8:23:32Z     ┆ ember 15,    │\n",
       "│             ┆         ┆              ┆ Princess     ┆ {date|…      ┆              ┆ 2024}}\"]     │\n",
       "│             ┆         ┆              ┆ Yuriko…      ┆              ┆              ┆              │\n",
       "│ 4805304     ┆ 3003969 ┆ 0            ┆ US sanctions ┆ {{review}}   ┆ 2024-11-20T0 ┆ [\"{{date|nov │\n",
       "│             ┆         ┆              ┆ far-right    ┆              ┆ 5:45:46Z     ┆ ember 18,    │\n",
       "│             ┆         ┆              ┆ Israeli…     ┆ {{Date|Novem ┆              ┆ 2024}}\"]     │\n",
       "│             ┆         ┆              ┆              ┆ ber 18…      ┆              ┆              │\n",
       "│ 4805279     ┆ 3004021 ┆ 0            ┆ Radwa        ┆ {{Topic cat  ┆ 2024-11-19T1 ┆ []           │\n",
       "│             ┆         ┆              ┆ mohamed      ┆ |intro       ┆ 8:36:45Z     ┆              │\n",
       "│             ┆         ┆              ┆ (Dodo)       ┆ = …          ┆              ┆              │\n",
       "└─────────────┴─────────┴──────────────┴──────────────┴──────────────┴──────────────┴──────────────┘"
      ]
     },
     "execution_count": 36,
     "metadata": {},
     "output_type": "execute_result"
    }
   ],
   "source": [
    "article_publish_date_regexes = [\n",
    "    r\"{{(d|D)ate\\s*\\|[A-Za-z0-9=,\\. ]+(\\|?)}}\",\n",
    "    r\"{{(d|D)ate\\s*\\|[A-Za-z0-9=,\\. ]+\\|[A-Za-z0-9=,\\. ]+}}\",\n",
    "    r\"{{((b|B)yline|(d|D)ateline)\\s*\\|\\s*date=[A-Za-z0-9,\\. ]+\\s*\\|\\s*[^}{]+}}\",\n",
    "    r\"{{((b|B)yline|(d|D)ateline)\\s*\\|\\s*date=[A-Za-z0-9,\\. ]+\\s*\\|\\s*[^}{]*{{w\\|[^}{]+(\\|[^}{]+)?(\\|[^}{]+)?}}[^}{]*}}\",\n",
    "    r\"{{((b|B)yline|(d|D)ateline)\\s*\\|\\s*[^}{]+\\s*\\|\\s*date=[A-Za-z0-9,\\. ]+}}\",\n",
    "    r\"{{((b|B)yline|(d|D)ateline)\\s*\\|\\s*[^}{]+{{w\\|[^}{]+(\\|[^}{]+)?(\\|[^}{]+)?}}[^}{]*\\s*\\|\\s*date=[A-Za-z0-9,\\. ]+}}\",\n",
    "    r\"\\[\\[(c|C)ategory:\\s*[A-Za-z]+\\s*[0-9]+[A-Za-z]{0,2},\\s*[0-9]+\\]\\]\",\n",
    "]\n",
    "full_article_publish_date_regex = \"|\".join(article_publish_date_regexes)\n",
    "\n",
    "def get_date_elements(article_text):\n",
    "    return [m.group(0) for m in re.finditer(full_article_publish_date_regex, article_text.lower().replace(\"\\n\", \"\").replace(\"\\r\", \"\"))]\n",
    "\n",
    "df = df.with_columns(\n",
    "    pl.col(\"page_text\").map_elements(get_date_elements, return_dtype=pl.List(str)).alias('page_dates')\n",
    ")\n",
    "df"
   ]
  },
  {
   "cell_type": "markdown",
   "id": "0ff663ed",
   "metadata": {
    "papermill": {
     "duration": 0.020858,
     "end_time": "2024-12-11T01:55:48.703930",
     "exception": false,
     "start_time": "2024-12-11T01:55:48.683072",
     "status": "completed"
    },
    "tags": []
   },
   "source": [
    "## Issue #14: Disambiguation pages & \"No Publish\" pages\n",
    "\n",
    "Some pages are marked as not published, and some pages are disambiguation pages meant to redirect the user to one of multiple pages, depending on what they mean."
   ]
  },
  {
   "cell_type": "code",
   "execution_count": 37,
   "id": "2d70896d",
   "metadata": {
    "execution": {
     "iopub.execute_input": "2024-12-11T01:55:48.745561Z",
     "iopub.status.busy": "2024-12-11T01:55:48.745179Z",
     "iopub.status.idle": "2024-12-11T01:55:48.786625Z",
     "shell.execute_reply": "2024-12-11T01:55:48.785571Z"
    },
    "papermill": {
     "duration": 0.064536,
     "end_time": "2024-12-11T01:55:48.788667",
     "exception": false,
     "start_time": "2024-12-11T01:55:48.724131",
     "status": "completed"
    },
    "tags": []
   },
   "outputs": [
    {
     "data": {
      "text/html": [
       "<div><style>\n",
       ".dataframe > thead > tr,\n",
       ".dataframe > tbody > tr {\n",
       "  text-align: right;\n",
       "  white-space: pre-wrap;\n",
       "}\n",
       "</style>\n",
       "<small>shape: (396, 7)</small><table border=\"1\" class=\"dataframe\"><thead><tr><th>revision_id</th><th>page_id</th><th>page_namespace</th><th>page_title</th><th>page_text</th><th>last_update_timestamp</th><th>page_dates</th></tr><tr><td>i64</td><td>i64</td><td>i64</td><td>str</td><td>str</td><td>str</td><td>list[str]</td></tr></thead><tbody><tr><td>4493894</td><td>1631</td><td>0</td><td>&quot;South American Community of Na…</td><td>&quot;[[File:SACN member states.jpg|…</td><td>&quot;2019-07-26T12:11:46Z&quot;</td><td>[]</td></tr><tr><td>1321145</td><td>6221</td><td>0</td><td>&quot;Market Data&quot;</td><td>&quot;[[Image:Stop hand.svg|left|50p…</td><td>&quot;2011-11-12T22:32:27Z&quot;</td><td>[]</td></tr><tr><td>4562001</td><td>6222</td><td>0</td><td>&quot;Market Data/^DJI&quot;</td><td>&quot;{{historical}}\n",
       "===Latest data=…</td><td>&quot;2020-04-30T02:40:00Z&quot;</td><td>[]</td></tr><tr><td>4561994</td><td>6314</td><td>0</td><td>&quot;Market Data/Homepage&quot;</td><td>&quot;{{historical}}&lt;div style=&quot;bord…</td><td>&quot;2020-04-30T02:35:34Z&quot;</td><td>[]</td></tr><tr><td>4562016</td><td>6316</td><td>0</td><td>&quot;Market Data/^MERV&quot;</td><td>&quot;{{historical}}\n",
       "The MerVal inde…</td><td>&quot;2020-04-30T03:06:21Z&quot;</td><td>[]</td></tr><tr><td>&hellip;</td><td>&hellip;</td><td>&hellip;</td><td>&hellip;</td><td>&hellip;</td><td>&hellip;</td><td>&hellip;</td></tr><tr><td>4732270</td><td>2973823</td><td>0</td><td>&quot;West Midlands&quot;</td><td>&quot;{{mainspace disambig}}\n",
       "__DISAM…</td><td>&quot;2023-06-13T14:40:33Z&quot;</td><td>[]</td></tr><tr><td>4733445</td><td>2973832</td><td>0</td><td>&quot;Shropshire&quot;</td><td>&quot;{{Mainspace disambig}}\n",
       "__DISAM…</td><td>&quot;2023-06-22T13:37:11Z&quot;</td><td>[]</td></tr><tr><td>4784575</td><td>2995324</td><td>0</td><td>&quot;Main Page 2&quot;</td><td>&quot;&lt;templatestyles src=&quot;Main Page…</td><td>&quot;2024-06-05T20:30:21Z&quot;</td><td>[]</td></tr><tr><td>4804852</td><td>3001820</td><td>0</td><td>&quot;Jimmie Johnson&#x27;s Consistency&quot;</td><td>&quot;{{abandoned|October 8, 2024|}}…</td><td>&quot;2024-11-14T17:14:23Z&quot;</td><td>[]</td></tr><tr><td>4805279</td><td>3004021</td><td>0</td><td>&quot;Radwa mohamed (Dodo)&quot;</td><td>&quot;{{Topic cat\n",
       "|intro&nbsp;&nbsp;&nbsp;&nbsp;&nbsp;&nbsp;&nbsp;&nbsp;&nbsp;&nbsp;= …</td><td>&quot;2024-11-19T18:36:45Z&quot;</td><td>[]</td></tr></tbody></table></div>"
      ],
      "text/plain": [
       "shape: (396, 7)\n",
       "┌─────────────┬─────────┬───────────────┬───────────────┬──────────────┬──────────────┬────────────┐\n",
       "│ revision_id ┆ page_id ┆ page_namespac ┆ page_title    ┆ page_text    ┆ last_update_ ┆ page_dates │\n",
       "│ ---         ┆ ---     ┆ e             ┆ ---           ┆ ---          ┆ timestamp    ┆ ---        │\n",
       "│ i64         ┆ i64     ┆ ---           ┆ str           ┆ str          ┆ ---          ┆ list[str]  │\n",
       "│             ┆         ┆ i64           ┆               ┆              ┆ str          ┆            │\n",
       "╞═════════════╪═════════╪═══════════════╪═══════════════╪══════════════╪══════════════╪════════════╡\n",
       "│ 4493894     ┆ 1631    ┆ 0             ┆ South         ┆ [[File:SACN  ┆ 2019-07-26T1 ┆ []         │\n",
       "│             ┆         ┆               ┆ American      ┆ member       ┆ 2:11:46Z     ┆            │\n",
       "│             ┆         ┆               ┆ Community of  ┆ states.jpg|… ┆              ┆            │\n",
       "│             ┆         ┆               ┆ Na…           ┆              ┆              ┆            │\n",
       "│ 1321145     ┆ 6221    ┆ 0             ┆ Market Data   ┆ [[Image:Stop ┆ 2011-11-12T2 ┆ []         │\n",
       "│             ┆         ┆               ┆               ┆ hand.svg|lef ┆ 2:32:27Z     ┆            │\n",
       "│             ┆         ┆               ┆               ┆ t|50p…       ┆              ┆            │\n",
       "│ 4562001     ┆ 6222    ┆ 0             ┆ Market        ┆ {{historical ┆ 2020-04-30T0 ┆ []         │\n",
       "│             ┆         ┆               ┆ Data/^DJI     ┆ }}           ┆ 2:40:00Z     ┆            │\n",
       "│             ┆         ┆               ┆               ┆ ===Latest    ┆              ┆            │\n",
       "│             ┆         ┆               ┆               ┆ data=…       ┆              ┆            │\n",
       "│ 4561994     ┆ 6314    ┆ 0             ┆ Market        ┆ {{historical ┆ 2020-04-30T0 ┆ []         │\n",
       "│             ┆         ┆               ┆ Data/Homepage ┆ }}<div       ┆ 2:35:34Z     ┆            │\n",
       "│             ┆         ┆               ┆               ┆ style=\"bord… ┆              ┆            │\n",
       "│ 4562016     ┆ 6316    ┆ 0             ┆ Market        ┆ {{historical ┆ 2020-04-30T0 ┆ []         │\n",
       "│             ┆         ┆               ┆ Data/^MERV    ┆ }}           ┆ 3:06:21Z     ┆            │\n",
       "│             ┆         ┆               ┆               ┆ The MerVal   ┆              ┆            │\n",
       "│             ┆         ┆               ┆               ┆ inde…        ┆              ┆            │\n",
       "│ …           ┆ …       ┆ …             ┆ …             ┆ …            ┆ …            ┆ …          │\n",
       "│ 4732270     ┆ 2973823 ┆ 0             ┆ West Midlands ┆ {{mainspace  ┆ 2023-06-13T1 ┆ []         │\n",
       "│             ┆         ┆               ┆               ┆ disambig}}   ┆ 4:40:33Z     ┆            │\n",
       "│             ┆         ┆               ┆               ┆ __DISAM…     ┆              ┆            │\n",
       "│ 4733445     ┆ 2973832 ┆ 0             ┆ Shropshire    ┆ {{Mainspace  ┆ 2023-06-22T1 ┆ []         │\n",
       "│             ┆         ┆               ┆               ┆ disambig}}   ┆ 3:37:11Z     ┆            │\n",
       "│             ┆         ┆               ┆               ┆ __DISAM…     ┆              ┆            │\n",
       "│ 4784575     ┆ 2995324 ┆ 0             ┆ Main Page 2   ┆ <templatesty ┆ 2024-06-05T2 ┆ []         │\n",
       "│             ┆         ┆               ┆               ┆ les          ┆ 0:30:21Z     ┆            │\n",
       "│             ┆         ┆               ┆               ┆ src=\"Main    ┆              ┆            │\n",
       "│             ┆         ┆               ┆               ┆ Page…        ┆              ┆            │\n",
       "│ 4804852     ┆ 3001820 ┆ 0             ┆ Jimmie        ┆ {{abandoned| ┆ 2024-11-14T1 ┆ []         │\n",
       "│             ┆         ┆               ┆ Johnson's     ┆ October 8,   ┆ 7:14:23Z     ┆            │\n",
       "│             ┆         ┆               ┆ Consistency   ┆ 2024|}}…     ┆              ┆            │\n",
       "│ 4805279     ┆ 3004021 ┆ 0             ┆ Radwa mohamed ┆ {{Topic cat  ┆ 2024-11-19T1 ┆ []         │\n",
       "│             ┆         ┆               ┆ (Dodo)        ┆ |intro       ┆ 8:36:45Z     ┆            │\n",
       "│             ┆         ┆               ┆               ┆ = …          ┆              ┆            │\n",
       "└─────────────┴─────────┴───────────────┴───────────────┴──────────────┴──────────────┴────────────┘"
      ]
     },
     "execution_count": 37,
     "metadata": {},
     "output_type": "execute_result"
    }
   ],
   "source": [
    "df.filter(df[\"page_dates\"].map_elements(len, return_dtype=int) == 0)"
   ]
  },
  {
   "cell_type": "code",
   "execution_count": 38,
   "id": "7953735f",
   "metadata": {
    "execution": {
     "iopub.execute_input": "2024-12-11T01:55:48.832744Z",
     "iopub.status.busy": "2024-12-11T01:55:48.832355Z",
     "iopub.status.idle": "2024-12-11T01:55:48.839093Z",
     "shell.execute_reply": "2024-12-11T01:55:48.837774Z"
    },
    "papermill": {
     "duration": 0.031081,
     "end_time": "2024-12-11T01:55:48.841351",
     "exception": false,
     "start_time": "2024-12-11T01:55:48.810270",
     "status": "completed"
    },
    "tags": []
   },
   "outputs": [
    {
     "name": "stdout",
     "output_type": "stream",
     "text": [
      "{{mainspace disambig}}\n",
      "__DISAMBIG__\n",
      "\n",
      "[[Category:No publish]]\n",
      "[[Category:Protected disambiguation pages]]\n"
     ]
    }
   ],
   "source": [
    "print(df.filter(df[\"page_id\"] == 2971496)[\"page_text\"][0])"
   ]
  },
  {
   "cell_type": "code",
   "execution_count": 39,
   "id": "c29bdf08",
   "metadata": {
    "execution": {
     "iopub.execute_input": "2024-12-11T01:55:48.884969Z",
     "iopub.status.busy": "2024-12-11T01:55:48.884568Z",
     "iopub.status.idle": "2024-12-11T01:55:49.604365Z",
     "shell.execute_reply": "2024-12-11T01:55:49.602915Z"
    },
    "papermill": {
     "duration": 0.745945,
     "end_time": "2024-12-11T01:55:49.607209",
     "exception": false,
     "start_time": "2024-12-11T01:55:48.861264",
     "status": "completed"
    },
    "tags": []
   },
   "outputs": [
    {
     "data": {
      "text/html": [
       "<div><style>\n",
       ".dataframe > thead > tr,\n",
       ".dataframe > tbody > tr {\n",
       "  text-align: right;\n",
       "  white-space: pre-wrap;\n",
       "}\n",
       "</style>\n",
       "<small>shape: (202, 7)</small><table border=\"1\" class=\"dataframe\"><thead><tr><th>revision_id</th><th>page_id</th><th>page_namespace</th><th>page_title</th><th>page_text</th><th>last_update_timestamp</th><th>page_dates</th></tr><tr><td>i64</td><td>i64</td><td>i64</td><td>str</td><td>str</td><td>str</td><td>list[str]</td></tr></thead><tbody><tr><td>4562001</td><td>6222</td><td>0</td><td>&quot;Market Data/^DJI&quot;</td><td>&quot;{{historical}}\n",
       "===Latest data=…</td><td>&quot;2020-04-30T02:40:00Z&quot;</td><td>[]</td></tr><tr><td>4561994</td><td>6314</td><td>0</td><td>&quot;Market Data/Homepage&quot;</td><td>&quot;{{historical}}&lt;div style=&quot;bord…</td><td>&quot;2020-04-30T02:35:34Z&quot;</td><td>[]</td></tr><tr><td>4562016</td><td>6316</td><td>0</td><td>&quot;Market Data/^MERV&quot;</td><td>&quot;{{historical}}\n",
       "The MerVal inde…</td><td>&quot;2020-04-30T03:06:21Z&quot;</td><td>[]</td></tr><tr><td>4562003</td><td>6509</td><td>0</td><td>&quot;Market Data/^FTSE&quot;</td><td>&quot;{{historical}}\n",
       "===Latest data …</td><td>&quot;2020-04-30T02:42:12Z&quot;</td><td>[]</td></tr><tr><td>4562002</td><td>6510</td><td>0</td><td>&quot;Market Data/^FCHI&quot;</td><td>&quot;{{historical}}\n",
       "===Latest data …</td><td>&quot;2020-04-30T02:40:32Z&quot;</td><td>[]</td></tr><tr><td>&hellip;</td><td>&hellip;</td><td>&hellip;</td><td>&hellip;</td><td>&hellip;</td><td>&hellip;</td><td>&hellip;</td></tr><tr><td>4718990</td><td>2969011</td><td>0</td><td>&quot;IPCC&quot;</td><td>&quot;{{mainspace disambig}}\n",
       "__DISAM…</td><td>&quot;2023-04-02T10:37:32Z&quot;</td><td>[]</td></tr><tr><td>4726230</td><td>2971496</td><td>0</td><td>&quot;AI&quot;</td><td>&quot;{{mainspace disambig}}\n",
       "__DISAM…</td><td>&quot;2023-05-10T06:51:56Z&quot;</td><td>[]</td></tr><tr><td>4732270</td><td>2973823</td><td>0</td><td>&quot;West Midlands&quot;</td><td>&quot;{{mainspace disambig}}\n",
       "__DISAM…</td><td>&quot;2023-06-13T14:40:33Z&quot;</td><td>[]</td></tr><tr><td>4733445</td><td>2973832</td><td>0</td><td>&quot;Shropshire&quot;</td><td>&quot;{{Mainspace disambig}}\n",
       "__DISAM…</td><td>&quot;2023-06-22T13:37:11Z&quot;</td><td>[]</td></tr><tr><td>4784575</td><td>2995324</td><td>0</td><td>&quot;Main Page 2&quot;</td><td>&quot;&lt;templatestyles src=&quot;Main Page…</td><td>&quot;2024-06-05T20:30:21Z&quot;</td><td>[]</td></tr></tbody></table></div>"
      ],
      "text/plain": [
       "shape: (202, 7)\n",
       "┌─────────────┬─────────┬───────────────┬───────────────┬──────────────┬──────────────┬────────────┐\n",
       "│ revision_id ┆ page_id ┆ page_namespac ┆ page_title    ┆ page_text    ┆ last_update_ ┆ page_dates │\n",
       "│ ---         ┆ ---     ┆ e             ┆ ---           ┆ ---          ┆ timestamp    ┆ ---        │\n",
       "│ i64         ┆ i64     ┆ ---           ┆ str           ┆ str          ┆ ---          ┆ list[str]  │\n",
       "│             ┆         ┆ i64           ┆               ┆              ┆ str          ┆            │\n",
       "╞═════════════╪═════════╪═══════════════╪═══════════════╪══════════════╪══════════════╪════════════╡\n",
       "│ 4562001     ┆ 6222    ┆ 0             ┆ Market        ┆ {{historical ┆ 2020-04-30T0 ┆ []         │\n",
       "│             ┆         ┆               ┆ Data/^DJI     ┆ }}           ┆ 2:40:00Z     ┆            │\n",
       "│             ┆         ┆               ┆               ┆ ===Latest    ┆              ┆            │\n",
       "│             ┆         ┆               ┆               ┆ data=…       ┆              ┆            │\n",
       "│ 4561994     ┆ 6314    ┆ 0             ┆ Market        ┆ {{historical ┆ 2020-04-30T0 ┆ []         │\n",
       "│             ┆         ┆               ┆ Data/Homepage ┆ }}<div       ┆ 2:35:34Z     ┆            │\n",
       "│             ┆         ┆               ┆               ┆ style=\"bord… ┆              ┆            │\n",
       "│ 4562016     ┆ 6316    ┆ 0             ┆ Market        ┆ {{historical ┆ 2020-04-30T0 ┆ []         │\n",
       "│             ┆         ┆               ┆ Data/^MERV    ┆ }}           ┆ 3:06:21Z     ┆            │\n",
       "│             ┆         ┆               ┆               ┆ The MerVal   ┆              ┆            │\n",
       "│             ┆         ┆               ┆               ┆ inde…        ┆              ┆            │\n",
       "│ 4562003     ┆ 6509    ┆ 0             ┆ Market        ┆ {{historical ┆ 2020-04-30T0 ┆ []         │\n",
       "│             ┆         ┆               ┆ Data/^FTSE    ┆ }}           ┆ 2:42:12Z     ┆            │\n",
       "│             ┆         ┆               ┆               ┆ ===Latest    ┆              ┆            │\n",
       "│             ┆         ┆               ┆               ┆ data …       ┆              ┆            │\n",
       "│ 4562002     ┆ 6510    ┆ 0             ┆ Market        ┆ {{historical ┆ 2020-04-30T0 ┆ []         │\n",
       "│             ┆         ┆               ┆ Data/^FCHI    ┆ }}           ┆ 2:40:32Z     ┆            │\n",
       "│             ┆         ┆               ┆               ┆ ===Latest    ┆              ┆            │\n",
       "│             ┆         ┆               ┆               ┆ data …       ┆              ┆            │\n",
       "│ …           ┆ …       ┆ …             ┆ …             ┆ …            ┆ …            ┆ …          │\n",
       "│ 4718990     ┆ 2969011 ┆ 0             ┆ IPCC          ┆ {{mainspace  ┆ 2023-04-02T1 ┆ []         │\n",
       "│             ┆         ┆               ┆               ┆ disambig}}   ┆ 0:37:32Z     ┆            │\n",
       "│             ┆         ┆               ┆               ┆ __DISAM…     ┆              ┆            │\n",
       "│ 4726230     ┆ 2971496 ┆ 0             ┆ AI            ┆ {{mainspace  ┆ 2023-05-10T0 ┆ []         │\n",
       "│             ┆         ┆               ┆               ┆ disambig}}   ┆ 6:51:56Z     ┆            │\n",
       "│             ┆         ┆               ┆               ┆ __DISAM…     ┆              ┆            │\n",
       "│ 4732270     ┆ 2973823 ┆ 0             ┆ West Midlands ┆ {{mainspace  ┆ 2023-06-13T1 ┆ []         │\n",
       "│             ┆         ┆               ┆               ┆ disambig}}   ┆ 4:40:33Z     ┆            │\n",
       "│             ┆         ┆               ┆               ┆ __DISAM…     ┆              ┆            │\n",
       "│ 4733445     ┆ 2973832 ┆ 0             ┆ Shropshire    ┆ {{Mainspace  ┆ 2023-06-22T1 ┆ []         │\n",
       "│             ┆         ┆               ┆               ┆ disambig}}   ┆ 3:37:11Z     ┆            │\n",
       "│             ┆         ┆               ┆               ┆ __DISAM…     ┆              ┆            │\n",
       "│ 4784575     ┆ 2995324 ┆ 0             ┆ Main Page 2   ┆ <templatesty ┆ 2024-06-05T2 ┆ []         │\n",
       "│             ┆         ┆               ┆               ┆ les          ┆ 0:30:21Z     ┆            │\n",
       "│             ┆         ┆               ┆               ┆ src=\"Main    ┆              ┆            │\n",
       "│             ┆         ┆               ┆               ┆ Page…        ┆              ┆            │\n",
       "└─────────────┴─────────┴───────────────┴───────────────┴──────────────┴──────────────┴────────────┘"
      ]
     },
     "execution_count": 39,
     "metadata": {},
     "output_type": "execute_result"
    }
   ],
   "source": [
    "deletion_regexes = [\n",
    "    r\"{{\\s*mainspace disambig\\s*}}\",\n",
    "    r\"__DISAMBIG__\",\n",
    "    r\"\\[\\[\\s*Category\\s*:\\s*No publish\\s*\\]\\]\",\n",
    "    r\"\\[\\[\\s*Category\\s*:\\s*Protected disambiguation pages\\s*\\]\\]\",\n",
    "    r\"{{\\s*nopublish\\s*}}\"\n",
    "]\n",
    "full_deletion_regex = \"|\".join(deletion_regexes)\n",
    "\n",
    "df.filter(df[\"page_text\"].map_elements(lambda p:re.search(full_deletion_regex, p) != None, return_dtype=bool))"
   ]
  },
  {
   "cell_type": "code",
   "execution_count": 40,
   "id": "0a6c6ae3",
   "metadata": {
    "execution": {
     "iopub.execute_input": "2024-12-11T01:55:49.651535Z",
     "iopub.status.busy": "2024-12-11T01:55:49.651158Z",
     "iopub.status.idle": "2024-12-11T01:55:50.405088Z",
     "shell.execute_reply": "2024-12-11T01:55:50.404081Z"
    },
    "papermill": {
     "duration": 0.780708,
     "end_time": "2024-12-11T01:55:50.408888",
     "exception": false,
     "start_time": "2024-12-11T01:55:49.628180",
     "status": "completed"
    },
    "tags": []
   },
   "outputs": [
    {
     "data": {
      "text/html": [
       "<div><style>\n",
       ".dataframe > thead > tr,\n",
       ".dataframe > tbody > tr {\n",
       "  text-align: right;\n",
       "  white-space: pre-wrap;\n",
       "}\n",
       "</style>\n",
       "<small>shape: (21_855, 7)</small><table border=\"1\" class=\"dataframe\"><thead><tr><th>revision_id</th><th>page_id</th><th>page_namespace</th><th>page_title</th><th>page_text</th><th>last_update_timestamp</th><th>page_dates</th></tr><tr><td>i64</td><td>i64</td><td>i64</td><td>str</td><td>str</td><td>str</td><td>list[str]</td></tr></thead><tbody><tr><td>4516743</td><td>736</td><td>0</td><td>&quot;President of China lunches wit…</td><td>&quot;{{date|November 13, 2004}}\n",
       "{{B…</td><td>&quot;2019-09-28T09:51:53Z&quot;</td><td>[&quot;{{date|november 13, 2004}}&quot;]</td></tr><tr><td>4516759</td><td>741</td><td>0</td><td>&quot;Palestinians to elect new pres…</td><td>&quot;[[File:Mahmoud abbas.jpg|frame…</td><td>&quot;2019-09-28T10:45:51Z&quot;</td><td>[&quot;{{byline|date=november 14, 2004|location=[[w:ramallah|ramallah]]}}&quot;]</td></tr><tr><td>2280888</td><td>743</td><td>0</td><td>&quot;Brazilian delegation returns f…</td><td>&quot;{{date|November 13, 2004}}\n",
       "{{P…</td><td>&quot;2014-01-02T19:36:05Z&quot;</td><td>[&quot;{{date|november 13, 2004}}&quot;]</td></tr><tr><td>4516758</td><td>764</td><td>0</td><td>&quot;Hearing begins over David Hook…</td><td>&quot;{{Crime and law}}{{byline|date…</td><td>&quot;2019-09-28T10:39:36Z&quot;</td><td>[&quot;{{byline|date=november 15, 2004|location=[[melbourne|melbourne]], [[victoria, australia|victoria]]}}&quot;]</td></tr><tr><td>1973838</td><td>779</td><td>0</td><td>&quot;Iran close to decision on nucl…</td><td>&quot;{{date|November 13, 2004}}\n",
       "{{I…</td><td>&quot;2013-08-21T16:07:41Z&quot;</td><td>[&quot;{{date|november 13, 2004}}&quot;]</td></tr><tr><td>&hellip;</td><td>&hellip;</td><td>&hellip;</td><td>&hellip;</td><td>&hellip;</td><td>&hellip;</td><td>&hellip;</td></tr><tr><td>4805088</td><td>3003768</td><td>0</td><td>&quot;Prison riot in Ecuador, at lea…</td><td>&quot;{{tasks|src|npov|mos|re-review…</td><td>&quot;2024-11-17T16:35:30Z&quot;</td><td>[&quot;{{date|november 13, 2024}}&quot;]</td></tr><tr><td>4805240</td><td>3003827</td><td>0</td><td>&quot;2024 ARPS Conference&quot;</td><td>&quot;{{develop}}\n",
       "{{date|November 12…</td><td>&quot;2024-11-19T12:19:00Z&quot;</td><td>[&quot;{{date|november 12, 2024}}&quot;]</td></tr><tr><td>4805272</td><td>3003842</td><td>0</td><td>&quot;Japan&#x27;s oldest Princess Yuriko…</td><td>&quot;{{tasks|src|re-review}}{{date|…</td><td>&quot;2024-11-19T18:23:32Z&quot;</td><td>[&quot;{{date|november 15, 2024}}&quot;]</td></tr><tr><td>4805304</td><td>3003969</td><td>0</td><td>&quot;US sanctions far-right Israeli…</td><td>&quot;{{review}}\n",
       "\n",
       "{{Date|November 18…</td><td>&quot;2024-11-20T05:45:46Z&quot;</td><td>[&quot;{{date|november 18, 2024}}&quot;]</td></tr><tr><td>4805279</td><td>3004021</td><td>0</td><td>&quot;Radwa mohamed (Dodo)&quot;</td><td>&quot;{{Topic cat\n",
       "|intro&nbsp;&nbsp;&nbsp;&nbsp;&nbsp;&nbsp;&nbsp;&nbsp;&nbsp;&nbsp;= …</td><td>&quot;2024-11-19T18:36:45Z&quot;</td><td>[]</td></tr></tbody></table></div>"
      ],
      "text/plain": [
       "shape: (21_855, 7)\n",
       "┌─────────────┬─────────┬──────────────┬──────────────┬──────────────┬──────────────┬──────────────┐\n",
       "│ revision_id ┆ page_id ┆ page_namespa ┆ page_title   ┆ page_text    ┆ last_update_ ┆ page_dates   │\n",
       "│ ---         ┆ ---     ┆ ce           ┆ ---          ┆ ---          ┆ timestamp    ┆ ---          │\n",
       "│ i64         ┆ i64     ┆ ---          ┆ str          ┆ str          ┆ ---          ┆ list[str]    │\n",
       "│             ┆         ┆ i64          ┆              ┆              ┆ str          ┆              │\n",
       "╞═════════════╪═════════╪══════════════╪══════════════╪══════════════╪══════════════╪══════════════╡\n",
       "│ 4516743     ┆ 736     ┆ 0            ┆ President of ┆ {{date|Novem ┆ 2019-09-28T0 ┆ [\"{{date|nov │\n",
       "│             ┆         ┆              ┆ China        ┆ ber 13,      ┆ 9:51:53Z     ┆ ember 13,    │\n",
       "│             ┆         ┆              ┆ lunches wit… ┆ 2004}}       ┆              ┆ 2004}}\"]     │\n",
       "│             ┆         ┆              ┆              ┆ {{B…         ┆              ┆              │\n",
       "│ 4516759     ┆ 741     ┆ 0            ┆ Palestinians ┆ [[File:Mahmo ┆ 2019-09-28T1 ┆ [\"{{byline|d │\n",
       "│             ┆         ┆              ┆ to elect new ┆ ud abbas.jpg ┆ 0:45:51Z     ┆ ate=november │\n",
       "│             ┆         ┆              ┆ pres…        ┆ |frame…      ┆              ┆ 14, 2…       │\n",
       "│ 2280888     ┆ 743     ┆ 0            ┆ Brazilian    ┆ {{date|Novem ┆ 2014-01-02T1 ┆ [\"{{date|nov │\n",
       "│             ┆         ┆              ┆ delegation   ┆ ber 13,      ┆ 9:36:05Z     ┆ ember 13,    │\n",
       "│             ┆         ┆              ┆ returns f…   ┆ 2004}}       ┆              ┆ 2004}}\"]     │\n",
       "│             ┆         ┆              ┆              ┆ {{P…         ┆              ┆              │\n",
       "│ 4516758     ┆ 764     ┆ 0            ┆ Hearing      ┆ {{Crime and  ┆ 2019-09-28T1 ┆ [\"{{byline|d │\n",
       "│             ┆         ┆              ┆ begins over  ┆ law}}{{bylin ┆ 0:39:36Z     ┆ ate=november │\n",
       "│             ┆         ┆              ┆ David Hook…  ┆ e|date…      ┆              ┆ 15, 2…       │\n",
       "│ 1973838     ┆ 779     ┆ 0            ┆ Iran close   ┆ {{date|Novem ┆ 2013-08-21T1 ┆ [\"{{date|nov │\n",
       "│             ┆         ┆              ┆ to decision  ┆ ber 13,      ┆ 6:07:41Z     ┆ ember 13,    │\n",
       "│             ┆         ┆              ┆ on nucl…     ┆ 2004}}       ┆              ┆ 2004}}\"]     │\n",
       "│             ┆         ┆              ┆              ┆ {{I…         ┆              ┆              │\n",
       "│ …           ┆ …       ┆ …            ┆ …            ┆ …            ┆ …            ┆ …            │\n",
       "│ 4805088     ┆ 3003768 ┆ 0            ┆ Prison riot  ┆ {{tasks|src| ┆ 2024-11-17T1 ┆ [\"{{date|nov │\n",
       "│             ┆         ┆              ┆ in Ecuador,  ┆ npov|mos|re- ┆ 6:35:30Z     ┆ ember 13,    │\n",
       "│             ┆         ┆              ┆ at lea…      ┆ review…      ┆              ┆ 2024}}\"]     │\n",
       "│ 4805240     ┆ 3003827 ┆ 0            ┆ 2024 ARPS    ┆ {{develop}}  ┆ 2024-11-19T1 ┆ [\"{{date|nov │\n",
       "│             ┆         ┆              ┆ Conference   ┆ {{date|Novem ┆ 2:19:00Z     ┆ ember 12,    │\n",
       "│             ┆         ┆              ┆              ┆ ber 12…      ┆              ┆ 2024}}\"]     │\n",
       "│ 4805272     ┆ 3003842 ┆ 0            ┆ Japan's      ┆ {{tasks|src| ┆ 2024-11-19T1 ┆ [\"{{date|nov │\n",
       "│             ┆         ┆              ┆ oldest       ┆ re-review}}{ ┆ 8:23:32Z     ┆ ember 15,    │\n",
       "│             ┆         ┆              ┆ Princess     ┆ {date|…      ┆              ┆ 2024}}\"]     │\n",
       "│             ┆         ┆              ┆ Yuriko…      ┆              ┆              ┆              │\n",
       "│ 4805304     ┆ 3003969 ┆ 0            ┆ US sanctions ┆ {{review}}   ┆ 2024-11-20T0 ┆ [\"{{date|nov │\n",
       "│             ┆         ┆              ┆ far-right    ┆              ┆ 5:45:46Z     ┆ ember 18,    │\n",
       "│             ┆         ┆              ┆ Israeli…     ┆ {{Date|Novem ┆              ┆ 2024}}\"]     │\n",
       "│             ┆         ┆              ┆              ┆ ber 18…      ┆              ┆              │\n",
       "│ 4805279     ┆ 3004021 ┆ 0            ┆ Radwa        ┆ {{Topic cat  ┆ 2024-11-19T1 ┆ []           │\n",
       "│             ┆         ┆              ┆ mohamed      ┆ |intro       ┆ 8:36:45Z     ┆              │\n",
       "│             ┆         ┆              ┆ (Dodo)       ┆ = …          ┆              ┆              │\n",
       "└─────────────┴─────────┴──────────────┴──────────────┴──────────────┴──────────────┴──────────────┘"
      ]
     },
     "execution_count": 40,
     "metadata": {},
     "output_type": "execute_result"
    }
   ],
   "source": [
    "df = df.filter(df[\"page_text\"].map_elements(lambda p:re.search(full_deletion_regex, p) == None, return_dtype=bool))\n",
    "df"
   ]
  },
  {
   "cell_type": "markdown",
   "id": "ee7fb7be",
   "metadata": {
    "papermill": {
     "duration": 0.024703,
     "end_time": "2024-12-11T01:55:50.463319",
     "exception": false,
     "start_time": "2024-12-11T01:55:50.438616",
     "status": "completed"
    },
    "tags": []
   },
   "source": [
    "## Issue #15: \"Market Data\" pages"
   ]
  },
  {
   "cell_type": "code",
   "execution_count": 41,
   "id": "184b08bb",
   "metadata": {
    "execution": {
     "iopub.execute_input": "2024-12-11T01:55:50.521939Z",
     "iopub.status.busy": "2024-12-11T01:55:50.521548Z",
     "iopub.status.idle": "2024-12-11T01:55:50.567923Z",
     "shell.execute_reply": "2024-12-11T01:55:50.566658Z"
    },
    "papermill": {
     "duration": 0.08143,
     "end_time": "2024-12-11T01:55:50.570227",
     "exception": false,
     "start_time": "2024-12-11T01:55:50.488797",
     "status": "completed"
    },
    "tags": []
   },
   "outputs": [
    {
     "data": {
      "text/html": [
       "<div><style>\n",
       ".dataframe > thead > tr,\n",
       ".dataframe > tbody > tr {\n",
       "  text-align: right;\n",
       "  white-space: pre-wrap;\n",
       "}\n",
       "</style>\n",
       "<small>shape: (198, 7)</small><table border=\"1\" class=\"dataframe\"><thead><tr><th>revision_id</th><th>page_id</th><th>page_namespace</th><th>page_title</th><th>page_text</th><th>last_update_timestamp</th><th>page_dates</th></tr><tr><td>i64</td><td>i64</td><td>i64</td><td>str</td><td>str</td><td>str</td><td>list[str]</td></tr></thead><tbody><tr><td>4493894</td><td>1631</td><td>0</td><td>&quot;South American Community of Na…</td><td>&quot;[[File:SACN member states.jpg|…</td><td>&quot;2019-07-26T12:11:46Z&quot;</td><td>[]</td></tr><tr><td>1321145</td><td>6221</td><td>0</td><td>&quot;Market Data&quot;</td><td>&quot;[[Image:Stop hand.svg|left|50p…</td><td>&quot;2011-11-12T22:32:27Z&quot;</td><td>[]</td></tr><tr><td>510074</td><td>9607</td><td>0</td><td>&quot;Kentucky Derby field chart&quot;</td><td>&quot;{| border=1 cellpadding=4 cell…</td><td>&quot;2007-10-25T21:24:16Z&quot;</td><td>[]</td></tr><tr><td>4576378</td><td>60209</td><td>0</td><td>&quot;Wikinews Shorts: February 8, 2…</td><td>&quot;{{Wikinews Shorts header|Febru…</td><td>&quot;2020-07-30T08:07:31Z&quot;</td><td>[]</td></tr><tr><td>860355</td><td>60521</td><td>0</td><td>&quot;Wikinews Shorts: February 12, …</td><td>&quot;{{Wikinews Shorts header|Febru…</td><td>&quot;2009-08-12T09:48:48Z&quot;</td><td>[]</td></tr><tr><td>&hellip;</td><td>&hellip;</td><td>&hellip;</td><td>&hellip;</td><td>&hellip;</td><td>&hellip;</td><td>&hellip;</td></tr><tr><td>4281914</td><td>2796391</td><td>0</td><td>&quot;Wikinews Shorts: August 15, 20…</td><td>&quot;{{Wikinews Shorts header|Augus…</td><td>&quot;2017-01-23T23:23:21Z&quot;</td><td>[]</td></tr><tr><td>4658703</td><td>2932497</td><td>0</td><td>&quot;North Korea launches &quot;early-st…</td><td>&quot;{{Correction\n",
       "| label = Retract…</td><td>&quot;2022-01-27T17:46:34Z&quot;</td><td>[]</td></tr><tr><td>4671338</td><td>2945126</td><td>0</td><td>&quot;Wikisource&quot;</td><td>&quot;{{softredirect|s:Main page|Wik…</td><td>&quot;2022-03-31T20:55:44Z&quot;</td><td>[]</td></tr><tr><td>4804852</td><td>3001820</td><td>0</td><td>&quot;Jimmie Johnson&#x27;s Consistency&quot;</td><td>&quot;{{abandoned|October 8, 2024|}}…</td><td>&quot;2024-11-14T17:14:23Z&quot;</td><td>[]</td></tr><tr><td>4805279</td><td>3004021</td><td>0</td><td>&quot;Radwa mohamed (Dodo)&quot;</td><td>&quot;{{Topic cat\n",
       "|intro&nbsp;&nbsp;&nbsp;&nbsp;&nbsp;&nbsp;&nbsp;&nbsp;&nbsp;&nbsp;= …</td><td>&quot;2024-11-19T18:36:45Z&quot;</td><td>[]</td></tr></tbody></table></div>"
      ],
      "text/plain": [
       "shape: (198, 7)\n",
       "┌─────────────┬─────────┬───────────────┬───────────────┬──────────────┬──────────────┬────────────┐\n",
       "│ revision_id ┆ page_id ┆ page_namespac ┆ page_title    ┆ page_text    ┆ last_update_ ┆ page_dates │\n",
       "│ ---         ┆ ---     ┆ e             ┆ ---           ┆ ---          ┆ timestamp    ┆ ---        │\n",
       "│ i64         ┆ i64     ┆ ---           ┆ str           ┆ str          ┆ ---          ┆ list[str]  │\n",
       "│             ┆         ┆ i64           ┆               ┆              ┆ str          ┆            │\n",
       "╞═════════════╪═════════╪═══════════════╪═══════════════╪══════════════╪══════════════╪════════════╡\n",
       "│ 4493894     ┆ 1631    ┆ 0             ┆ South         ┆ [[File:SACN  ┆ 2019-07-26T1 ┆ []         │\n",
       "│             ┆         ┆               ┆ American      ┆ member       ┆ 2:11:46Z     ┆            │\n",
       "│             ┆         ┆               ┆ Community of  ┆ states.jpg|… ┆              ┆            │\n",
       "│             ┆         ┆               ┆ Na…           ┆              ┆              ┆            │\n",
       "│ 1321145     ┆ 6221    ┆ 0             ┆ Market Data   ┆ [[Image:Stop ┆ 2011-11-12T2 ┆ []         │\n",
       "│             ┆         ┆               ┆               ┆ hand.svg|lef ┆ 2:32:27Z     ┆            │\n",
       "│             ┆         ┆               ┆               ┆ t|50p…       ┆              ┆            │\n",
       "│ 510074      ┆ 9607    ┆ 0             ┆ Kentucky      ┆ {| border=1  ┆ 2007-10-25T2 ┆ []         │\n",
       "│             ┆         ┆               ┆ Derby field   ┆ cellpadding= ┆ 1:24:16Z     ┆            │\n",
       "│             ┆         ┆               ┆ chart         ┆ 4 cell…      ┆              ┆            │\n",
       "│ 4576378     ┆ 60209   ┆ 0             ┆ Wikinews      ┆ {{Wikinews   ┆ 2020-07-30T0 ┆ []         │\n",
       "│             ┆         ┆               ┆ Shorts:       ┆ Shorts heade ┆ 8:07:31Z     ┆            │\n",
       "│             ┆         ┆               ┆ February 8,   ┆ r|Febru…     ┆              ┆            │\n",
       "│             ┆         ┆               ┆ 2…            ┆              ┆              ┆            │\n",
       "│ 860355      ┆ 60521   ┆ 0             ┆ Wikinews      ┆ {{Wikinews   ┆ 2009-08-12T0 ┆ []         │\n",
       "│             ┆         ┆               ┆ Shorts:       ┆ Shorts heade ┆ 9:48:48Z     ┆            │\n",
       "│             ┆         ┆               ┆ February 12,  ┆ r|Febru…     ┆              ┆            │\n",
       "│             ┆         ┆               ┆ …             ┆              ┆              ┆            │\n",
       "│ …           ┆ …       ┆ …             ┆ …             ┆ …            ┆ …            ┆ …          │\n",
       "│ 4281914     ┆ 2796391 ┆ 0             ┆ Wikinews      ┆ {{Wikinews   ┆ 2017-01-23T2 ┆ []         │\n",
       "│             ┆         ┆               ┆ Shorts:       ┆ Shorts heade ┆ 3:23:21Z     ┆            │\n",
       "│             ┆         ┆               ┆ August 15,    ┆ r|Augus…     ┆              ┆            │\n",
       "│             ┆         ┆               ┆ 20…           ┆              ┆              ┆            │\n",
       "│ 4658703     ┆ 2932497 ┆ 0             ┆ North Korea   ┆ {{Correction ┆ 2022-01-27T1 ┆ []         │\n",
       "│             ┆         ┆               ┆ launches      ┆ | label =    ┆ 7:46:34Z     ┆            │\n",
       "│             ┆         ┆               ┆ \"early-st…    ┆ Retract…     ┆              ┆            │\n",
       "│ 4671338     ┆ 2945126 ┆ 0             ┆ Wikisource    ┆ {{softredire ┆ 2022-03-31T2 ┆ []         │\n",
       "│             ┆         ┆               ┆               ┆ ct|s:Main    ┆ 0:55:44Z     ┆            │\n",
       "│             ┆         ┆               ┆               ┆ page|Wik…    ┆              ┆            │\n",
       "│ 4804852     ┆ 3001820 ┆ 0             ┆ Jimmie        ┆ {{abandoned| ┆ 2024-11-14T1 ┆ []         │\n",
       "│             ┆         ┆               ┆ Johnson's     ┆ October 8,   ┆ 7:14:23Z     ┆            │\n",
       "│             ┆         ┆               ┆ Consistency   ┆ 2024|}}…     ┆              ┆            │\n",
       "│ 4805279     ┆ 3004021 ┆ 0             ┆ Radwa mohamed ┆ {{Topic cat  ┆ 2024-11-19T1 ┆ []         │\n",
       "│             ┆         ┆               ┆ (Dodo)        ┆ |intro       ┆ 8:36:45Z     ┆            │\n",
       "│             ┆         ┆               ┆               ┆ = …          ┆              ┆            │\n",
       "└─────────────┴─────────┴───────────────┴───────────────┴──────────────┴──────────────┴────────────┘"
      ]
     },
     "execution_count": 41,
     "metadata": {},
     "output_type": "execute_result"
    }
   ],
   "source": [
    "df.filter(df[\"page_dates\"].map_elements(len, return_dtype=int) == 0)"
   ]
  },
  {
   "cell_type": "code",
   "execution_count": 42,
   "id": "0daad5d6",
   "metadata": {
    "execution": {
     "iopub.execute_input": "2024-12-11T01:55:50.617134Z",
     "iopub.status.busy": "2024-12-11T01:55:50.616637Z",
     "iopub.status.idle": "2024-12-11T01:55:50.624123Z",
     "shell.execute_reply": "2024-12-11T01:55:50.622916Z"
    },
    "papermill": {
     "duration": 0.034094,
     "end_time": "2024-12-11T01:55:50.626394",
     "exception": false,
     "start_time": "2024-12-11T01:55:50.592300",
     "status": "completed"
    },
    "tags": []
   },
   "outputs": [
    {
     "name": "stdout",
     "output_type": "stream",
     "text": [
      "[[Image:Stop hand.svg|left|50px]]\n",
      "<big><span style=\"color:red;\">'''Warning:'''</span> '''''The information on this page may be incorrect and/or outdated. Don't trust it.'''''</big>\n",
      "<br style=\"clear:both;\" />\n",
      "----\n",
      "\n",
      "Information about the world's markets index, no longer maintained.\n",
      "\n",
      "{| style=\"background: #EEEEEE; border: 1px dotted #666666;\"\n",
      "|- style=\"background: #DDDDDD; border: 1px solid #666666;\" \n",
      "! Index Name\n",
      "! Description\n",
      "! Current Value\n",
      "! Change \n",
      "! Updated\n",
      "{{Market Data/Index/Summary}}\n",
      "|}\n",
      "\n",
      "===Market Data===\n",
      "{{:Market Data/Homepage}}\n",
      "===Commodities===\n",
      "\n",
      "==== Metals ====\n",
      "*'''[[w:Forex Gold Index|Forex Gold Index]]:''' $424.30/[[w:barrel|barrel]], [[Image:Arrowupred.png]] $0.80\n",
      "\n",
      "===Currencies</hr>===\n",
      "*[[W:US dollar|1 US Dollar]] (US$):\n",
      ":= STG£0.5349 = €0.7727 = ¥106.4000\n",
      "*[[w:Euro|1 Euro]] (€):\n",
      ":= STG£0.6923 = $1.2942 = ¥137.6900\n",
      "*[[w:Pound sterling|1 Pound Sterling]] (STG£):\n",
      ":= US$1.8694 = €1.4443 = ¥198.8550\n",
      "*[[w:Yen|1 Japanese Yen]] (¥)\n",
      ":= STG£0.0050 = $0.0094 = €0.0073\n",
      "''(Commodities & currencies as of 2005-03-24 T 23:00 [[w:UTC|UTC]], or last close were applicable. '''None of this data is guaranteed to be correct'''. Please read our [[Wikinews:General disclaimer|General disclaimer]] and [[Wikinews:Risk disclaimer|Risk disclaimer]].)''\n",
      "|}\n",
      "\n",
      "= Other Specialiced Markets =\n",
      "* [[Market Data/Energy]]\n"
     ]
    }
   ],
   "source": [
    "print(df.filter(df[\"page_id\"] == 6221)[\"page_text\"][0])"
   ]
  },
  {
   "cell_type": "code",
   "execution_count": 43,
   "id": "63428259",
   "metadata": {
    "execution": {
     "iopub.execute_input": "2024-12-11T01:55:50.684819Z",
     "iopub.status.busy": "2024-12-11T01:55:50.684425Z",
     "iopub.status.idle": "2024-12-11T01:55:50.744897Z",
     "shell.execute_reply": "2024-12-11T01:55:50.743321Z"
    },
    "papermill": {
     "duration": 0.099009,
     "end_time": "2024-12-11T01:55:50.747626",
     "exception": false,
     "start_time": "2024-12-11T01:55:50.648617",
     "status": "completed"
    },
    "tags": []
   },
   "outputs": [
    {
     "data": {
      "text/html": [
       "<div><style>\n",
       ".dataframe > thead > tr,\n",
       ".dataframe > tbody > tr {\n",
       "  text-align: right;\n",
       "  white-space: pre-wrap;\n",
       "}\n",
       "</style>\n",
       "<small>shape: (1, 7)</small><table border=\"1\" class=\"dataframe\"><thead><tr><th>revision_id</th><th>page_id</th><th>page_namespace</th><th>page_title</th><th>page_text</th><th>last_update_timestamp</th><th>page_dates</th></tr><tr><td>i64</td><td>i64</td><td>i64</td><td>str</td><td>str</td><td>str</td><td>list[str]</td></tr></thead><tbody><tr><td>1321145</td><td>6221</td><td>0</td><td>&quot;Market Data&quot;</td><td>&quot;[[Image:Stop hand.svg|left|50p…</td><td>&quot;2011-11-12T22:32:27Z&quot;</td><td>[]</td></tr></tbody></table></div>"
      ],
      "text/plain": [
       "shape: (1, 7)\n",
       "┌─────────────┬─────────┬───────────────┬─────────────┬───────────────┬───────────────┬────────────┐\n",
       "│ revision_id ┆ page_id ┆ page_namespac ┆ page_title  ┆ page_text     ┆ last_update_t ┆ page_dates │\n",
       "│ ---         ┆ ---     ┆ e             ┆ ---         ┆ ---           ┆ imestamp      ┆ ---        │\n",
       "│ i64         ┆ i64     ┆ ---           ┆ str         ┆ str           ┆ ---           ┆ list[str]  │\n",
       "│             ┆         ┆ i64           ┆             ┆               ┆ str           ┆            │\n",
       "╞═════════════╪═════════╪═══════════════╪═════════════╪═══════════════╪═══════════════╪════════════╡\n",
       "│ 1321145     ┆ 6221    ┆ 0             ┆ Market Data ┆ [[Image:Stop  ┆ 2011-11-12T22 ┆ []         │\n",
       "│             ┆         ┆               ┆             ┆ hand.svg|left ┆ :32:27Z       ┆            │\n",
       "│             ┆         ┆               ┆             ┆ |50p…         ┆               ┆            │\n",
       "└─────────────┴─────────┴───────────────┴─────────────┴───────────────┴───────────────┴────────────┘"
      ]
     },
     "execution_count": 43,
     "metadata": {},
     "output_type": "execute_result"
    }
   ],
   "source": [
    "deletion_regex = r\"\\s*Market *Data/?.*\"\n",
    "\n",
    "df.filter(df[\"page_title\"].map_elements(lambda p:re.search(deletion_regex, p) != None, return_dtype=bool))"
   ]
  },
  {
   "cell_type": "code",
   "execution_count": 44,
   "id": "b322bef7",
   "metadata": {
    "execution": {
     "iopub.execute_input": "2024-12-11T01:55:50.802970Z",
     "iopub.status.busy": "2024-12-11T01:55:50.802472Z",
     "iopub.status.idle": "2024-12-11T01:55:50.870262Z",
     "shell.execute_reply": "2024-12-11T01:55:50.868731Z"
    },
    "papermill": {
     "duration": 0.098288,
     "end_time": "2024-12-11T01:55:50.873140",
     "exception": false,
     "start_time": "2024-12-11T01:55:50.774852",
     "status": "completed"
    },
    "tags": []
   },
   "outputs": [
    {
     "data": {
      "text/html": [
       "<div><style>\n",
       ".dataframe > thead > tr,\n",
       ".dataframe > tbody > tr {\n",
       "  text-align: right;\n",
       "  white-space: pre-wrap;\n",
       "}\n",
       "</style>\n",
       "<small>shape: (21_854, 7)</small><table border=\"1\" class=\"dataframe\"><thead><tr><th>revision_id</th><th>page_id</th><th>page_namespace</th><th>page_title</th><th>page_text</th><th>last_update_timestamp</th><th>page_dates</th></tr><tr><td>i64</td><td>i64</td><td>i64</td><td>str</td><td>str</td><td>str</td><td>list[str]</td></tr></thead><tbody><tr><td>4516743</td><td>736</td><td>0</td><td>&quot;President of China lunches wit…</td><td>&quot;{{date|November 13, 2004}}\n",
       "{{B…</td><td>&quot;2019-09-28T09:51:53Z&quot;</td><td>[&quot;{{date|november 13, 2004}}&quot;]</td></tr><tr><td>4516759</td><td>741</td><td>0</td><td>&quot;Palestinians to elect new pres…</td><td>&quot;[[File:Mahmoud abbas.jpg|frame…</td><td>&quot;2019-09-28T10:45:51Z&quot;</td><td>[&quot;{{byline|date=november 14, 2004|location=[[w:ramallah|ramallah]]}}&quot;]</td></tr><tr><td>2280888</td><td>743</td><td>0</td><td>&quot;Brazilian delegation returns f…</td><td>&quot;{{date|November 13, 2004}}\n",
       "{{P…</td><td>&quot;2014-01-02T19:36:05Z&quot;</td><td>[&quot;{{date|november 13, 2004}}&quot;]</td></tr><tr><td>4516758</td><td>764</td><td>0</td><td>&quot;Hearing begins over David Hook…</td><td>&quot;{{Crime and law}}{{byline|date…</td><td>&quot;2019-09-28T10:39:36Z&quot;</td><td>[&quot;{{byline|date=november 15, 2004|location=[[melbourne|melbourne]], [[victoria, australia|victoria]]}}&quot;]</td></tr><tr><td>1973838</td><td>779</td><td>0</td><td>&quot;Iran close to decision on nucl…</td><td>&quot;{{date|November 13, 2004}}\n",
       "{{I…</td><td>&quot;2013-08-21T16:07:41Z&quot;</td><td>[&quot;{{date|november 13, 2004}}&quot;]</td></tr><tr><td>&hellip;</td><td>&hellip;</td><td>&hellip;</td><td>&hellip;</td><td>&hellip;</td><td>&hellip;</td><td>&hellip;</td></tr><tr><td>4805088</td><td>3003768</td><td>0</td><td>&quot;Prison riot in Ecuador, at lea…</td><td>&quot;{{tasks|src|npov|mos|re-review…</td><td>&quot;2024-11-17T16:35:30Z&quot;</td><td>[&quot;{{date|november 13, 2024}}&quot;]</td></tr><tr><td>4805240</td><td>3003827</td><td>0</td><td>&quot;2024 ARPS Conference&quot;</td><td>&quot;{{develop}}\n",
       "{{date|November 12…</td><td>&quot;2024-11-19T12:19:00Z&quot;</td><td>[&quot;{{date|november 12, 2024}}&quot;]</td></tr><tr><td>4805272</td><td>3003842</td><td>0</td><td>&quot;Japan&#x27;s oldest Princess Yuriko…</td><td>&quot;{{tasks|src|re-review}}{{date|…</td><td>&quot;2024-11-19T18:23:32Z&quot;</td><td>[&quot;{{date|november 15, 2024}}&quot;]</td></tr><tr><td>4805304</td><td>3003969</td><td>0</td><td>&quot;US sanctions far-right Israeli…</td><td>&quot;{{review}}\n",
       "\n",
       "{{Date|November 18…</td><td>&quot;2024-11-20T05:45:46Z&quot;</td><td>[&quot;{{date|november 18, 2024}}&quot;]</td></tr><tr><td>4805279</td><td>3004021</td><td>0</td><td>&quot;Radwa mohamed (Dodo)&quot;</td><td>&quot;{{Topic cat\n",
       "|intro&nbsp;&nbsp;&nbsp;&nbsp;&nbsp;&nbsp;&nbsp;&nbsp;&nbsp;&nbsp;= …</td><td>&quot;2024-11-19T18:36:45Z&quot;</td><td>[]</td></tr></tbody></table></div>"
      ],
      "text/plain": [
       "shape: (21_854, 7)\n",
       "┌─────────────┬─────────┬──────────────┬──────────────┬──────────────┬──────────────┬──────────────┐\n",
       "│ revision_id ┆ page_id ┆ page_namespa ┆ page_title   ┆ page_text    ┆ last_update_ ┆ page_dates   │\n",
       "│ ---         ┆ ---     ┆ ce           ┆ ---          ┆ ---          ┆ timestamp    ┆ ---          │\n",
       "│ i64         ┆ i64     ┆ ---          ┆ str          ┆ str          ┆ ---          ┆ list[str]    │\n",
       "│             ┆         ┆ i64          ┆              ┆              ┆ str          ┆              │\n",
       "╞═════════════╪═════════╪══════════════╪══════════════╪══════════════╪══════════════╪══════════════╡\n",
       "│ 4516743     ┆ 736     ┆ 0            ┆ President of ┆ {{date|Novem ┆ 2019-09-28T0 ┆ [\"{{date|nov │\n",
       "│             ┆         ┆              ┆ China        ┆ ber 13,      ┆ 9:51:53Z     ┆ ember 13,    │\n",
       "│             ┆         ┆              ┆ lunches wit… ┆ 2004}}       ┆              ┆ 2004}}\"]     │\n",
       "│             ┆         ┆              ┆              ┆ {{B…         ┆              ┆              │\n",
       "│ 4516759     ┆ 741     ┆ 0            ┆ Palestinians ┆ [[File:Mahmo ┆ 2019-09-28T1 ┆ [\"{{byline|d │\n",
       "│             ┆         ┆              ┆ to elect new ┆ ud abbas.jpg ┆ 0:45:51Z     ┆ ate=november │\n",
       "│             ┆         ┆              ┆ pres…        ┆ |frame…      ┆              ┆ 14, 2…       │\n",
       "│ 2280888     ┆ 743     ┆ 0            ┆ Brazilian    ┆ {{date|Novem ┆ 2014-01-02T1 ┆ [\"{{date|nov │\n",
       "│             ┆         ┆              ┆ delegation   ┆ ber 13,      ┆ 9:36:05Z     ┆ ember 13,    │\n",
       "│             ┆         ┆              ┆ returns f…   ┆ 2004}}       ┆              ┆ 2004}}\"]     │\n",
       "│             ┆         ┆              ┆              ┆ {{P…         ┆              ┆              │\n",
       "│ 4516758     ┆ 764     ┆ 0            ┆ Hearing      ┆ {{Crime and  ┆ 2019-09-28T1 ┆ [\"{{byline|d │\n",
       "│             ┆         ┆              ┆ begins over  ┆ law}}{{bylin ┆ 0:39:36Z     ┆ ate=november │\n",
       "│             ┆         ┆              ┆ David Hook…  ┆ e|date…      ┆              ┆ 15, 2…       │\n",
       "│ 1973838     ┆ 779     ┆ 0            ┆ Iran close   ┆ {{date|Novem ┆ 2013-08-21T1 ┆ [\"{{date|nov │\n",
       "│             ┆         ┆              ┆ to decision  ┆ ber 13,      ┆ 6:07:41Z     ┆ ember 13,    │\n",
       "│             ┆         ┆              ┆ on nucl…     ┆ 2004}}       ┆              ┆ 2004}}\"]     │\n",
       "│             ┆         ┆              ┆              ┆ {{I…         ┆              ┆              │\n",
       "│ …           ┆ …       ┆ …            ┆ …            ┆ …            ┆ …            ┆ …            │\n",
       "│ 4805088     ┆ 3003768 ┆ 0            ┆ Prison riot  ┆ {{tasks|src| ┆ 2024-11-17T1 ┆ [\"{{date|nov │\n",
       "│             ┆         ┆              ┆ in Ecuador,  ┆ npov|mos|re- ┆ 6:35:30Z     ┆ ember 13,    │\n",
       "│             ┆         ┆              ┆ at lea…      ┆ review…      ┆              ┆ 2024}}\"]     │\n",
       "│ 4805240     ┆ 3003827 ┆ 0            ┆ 2024 ARPS    ┆ {{develop}}  ┆ 2024-11-19T1 ┆ [\"{{date|nov │\n",
       "│             ┆         ┆              ┆ Conference   ┆ {{date|Novem ┆ 2:19:00Z     ┆ ember 12,    │\n",
       "│             ┆         ┆              ┆              ┆ ber 12…      ┆              ┆ 2024}}\"]     │\n",
       "│ 4805272     ┆ 3003842 ┆ 0            ┆ Japan's      ┆ {{tasks|src| ┆ 2024-11-19T1 ┆ [\"{{date|nov │\n",
       "│             ┆         ┆              ┆ oldest       ┆ re-review}}{ ┆ 8:23:32Z     ┆ ember 15,    │\n",
       "│             ┆         ┆              ┆ Princess     ┆ {date|…      ┆              ┆ 2024}}\"]     │\n",
       "│             ┆         ┆              ┆ Yuriko…      ┆              ┆              ┆              │\n",
       "│ 4805304     ┆ 3003969 ┆ 0            ┆ US sanctions ┆ {{review}}   ┆ 2024-11-20T0 ┆ [\"{{date|nov │\n",
       "│             ┆         ┆              ┆ far-right    ┆              ┆ 5:45:46Z     ┆ ember 18,    │\n",
       "│             ┆         ┆              ┆ Israeli…     ┆ {{Date|Novem ┆              ┆ 2024}}\"]     │\n",
       "│             ┆         ┆              ┆              ┆ ber 18…      ┆              ┆              │\n",
       "│ 4805279     ┆ 3004021 ┆ 0            ┆ Radwa        ┆ {{Topic cat  ┆ 2024-11-19T1 ┆ []           │\n",
       "│             ┆         ┆              ┆ mohamed      ┆ |intro       ┆ 8:36:45Z     ┆              │\n",
       "│             ┆         ┆              ┆ (Dodo)       ┆ = …          ┆              ┆              │\n",
       "└─────────────┴─────────┴──────────────┴──────────────┴──────────────┴──────────────┴──────────────┘"
      ]
     },
     "execution_count": 44,
     "metadata": {},
     "output_type": "execute_result"
    }
   ],
   "source": [
    "df = df.filter(df[\"page_title\"].map_elements(lambda p:re.search(deletion_regex, p) == None, return_dtype=bool))\n",
    "df"
   ]
  },
  {
   "cell_type": "markdown",
   "id": "3eef7aac",
   "metadata": {
    "papermill": {
     "duration": 0.021236,
     "end_time": "2024-12-11T01:55:50.917185",
     "exception": false,
     "start_time": "2024-12-11T01:55:50.895949",
     "status": "completed"
    },
    "tags": []
   },
   "source": [
    "## Issue #16 - Anything else remaining\n",
    "\n",
    "After being very liberal with parsing, we can be relatively assured that anything else remaining is likely not a news article. I estimate that we may have only rejected about ~10-20 news articles total due to poor formatting."
   ]
  },
  {
   "cell_type": "code",
   "execution_count": 45,
   "id": "55c5ef95",
   "metadata": {
    "execution": {
     "iopub.execute_input": "2024-12-11T01:55:50.965248Z",
     "iopub.status.busy": "2024-12-11T01:55:50.964326Z",
     "iopub.status.idle": "2024-12-11T01:55:51.018161Z",
     "shell.execute_reply": "2024-12-11T01:55:51.017064Z"
    },
    "papermill": {
     "duration": 0.0806,
     "end_time": "2024-12-11T01:55:51.020884",
     "exception": false,
     "start_time": "2024-12-11T01:55:50.940284",
     "status": "completed"
    },
    "tags": []
   },
   "outputs": [
    {
     "data": {
      "text/html": [
       "<div><style>\n",
       ".dataframe > thead > tr,\n",
       ".dataframe > tbody > tr {\n",
       "  text-align: right;\n",
       "  white-space: pre-wrap;\n",
       "}\n",
       "</style>\n",
       "<small>shape: (21_657, 7)</small><table border=\"1\" class=\"dataframe\"><thead><tr><th>revision_id</th><th>page_id</th><th>page_namespace</th><th>page_title</th><th>page_text</th><th>last_update_timestamp</th><th>page_dates</th></tr><tr><td>i64</td><td>i64</td><td>i64</td><td>str</td><td>str</td><td>str</td><td>list[str]</td></tr></thead><tbody><tr><td>4516743</td><td>736</td><td>0</td><td>&quot;President of China lunches wit…</td><td>&quot;{{date|November 13, 2004}}\n",
       "{{B…</td><td>&quot;2019-09-28T09:51:53Z&quot;</td><td>[&quot;{{date|november 13, 2004}}&quot;]</td></tr><tr><td>4516759</td><td>741</td><td>0</td><td>&quot;Palestinians to elect new pres…</td><td>&quot;[[File:Mahmoud abbas.jpg|frame…</td><td>&quot;2019-09-28T10:45:51Z&quot;</td><td>[&quot;{{byline|date=november 14, 2004|location=[[w:ramallah|ramallah]]}}&quot;]</td></tr><tr><td>2280888</td><td>743</td><td>0</td><td>&quot;Brazilian delegation returns f…</td><td>&quot;{{date|November 13, 2004}}\n",
       "{{P…</td><td>&quot;2014-01-02T19:36:05Z&quot;</td><td>[&quot;{{date|november 13, 2004}}&quot;]</td></tr><tr><td>4516758</td><td>764</td><td>0</td><td>&quot;Hearing begins over David Hook…</td><td>&quot;{{Crime and law}}{{byline|date…</td><td>&quot;2019-09-28T10:39:36Z&quot;</td><td>[&quot;{{byline|date=november 15, 2004|location=[[melbourne|melbourne]], [[victoria, australia|victoria]]}}&quot;]</td></tr><tr><td>1973838</td><td>779</td><td>0</td><td>&quot;Iran close to decision on nucl…</td><td>&quot;{{date|November 13, 2004}}\n",
       "{{I…</td><td>&quot;2013-08-21T16:07:41Z&quot;</td><td>[&quot;{{date|november 13, 2004}}&quot;]</td></tr><tr><td>&hellip;</td><td>&hellip;</td><td>&hellip;</td><td>&hellip;</td><td>&hellip;</td><td>&hellip;</td><td>&hellip;</td></tr><tr><td>4804529</td><td>3003708</td><td>0</td><td>&quot;Man drives car into crowd of p…</td><td>&quot;{{develop}}\n",
       "{{date|November 12…</td><td>&quot;2024-11-12T17:32:29Z&quot;</td><td>[&quot;{{date|november 12, 2024}}&quot;]</td></tr><tr><td>4805088</td><td>3003768</td><td>0</td><td>&quot;Prison riot in Ecuador, at lea…</td><td>&quot;{{tasks|src|npov|mos|re-review…</td><td>&quot;2024-11-17T16:35:30Z&quot;</td><td>[&quot;{{date|november 13, 2024}}&quot;]</td></tr><tr><td>4805240</td><td>3003827</td><td>0</td><td>&quot;2024 ARPS Conference&quot;</td><td>&quot;{{develop}}\n",
       "{{date|November 12…</td><td>&quot;2024-11-19T12:19:00Z&quot;</td><td>[&quot;{{date|november 12, 2024}}&quot;]</td></tr><tr><td>4805272</td><td>3003842</td><td>0</td><td>&quot;Japan&#x27;s oldest Princess Yuriko…</td><td>&quot;{{tasks|src|re-review}}{{date|…</td><td>&quot;2024-11-19T18:23:32Z&quot;</td><td>[&quot;{{date|november 15, 2024}}&quot;]</td></tr><tr><td>4805304</td><td>3003969</td><td>0</td><td>&quot;US sanctions far-right Israeli…</td><td>&quot;{{review}}\n",
       "\n",
       "{{Date|November 18…</td><td>&quot;2024-11-20T05:45:46Z&quot;</td><td>[&quot;{{date|november 18, 2024}}&quot;]</td></tr></tbody></table></div>"
      ],
      "text/plain": [
       "shape: (21_657, 7)\n",
       "┌─────────────┬─────────┬──────────────┬──────────────┬──────────────┬──────────────┬──────────────┐\n",
       "│ revision_id ┆ page_id ┆ page_namespa ┆ page_title   ┆ page_text    ┆ last_update_ ┆ page_dates   │\n",
       "│ ---         ┆ ---     ┆ ce           ┆ ---          ┆ ---          ┆ timestamp    ┆ ---          │\n",
       "│ i64         ┆ i64     ┆ ---          ┆ str          ┆ str          ┆ ---          ┆ list[str]    │\n",
       "│             ┆         ┆ i64          ┆              ┆              ┆ str          ┆              │\n",
       "╞═════════════╪═════════╪══════════════╪══════════════╪══════════════╪══════════════╪══════════════╡\n",
       "│ 4516743     ┆ 736     ┆ 0            ┆ President of ┆ {{date|Novem ┆ 2019-09-28T0 ┆ [\"{{date|nov │\n",
       "│             ┆         ┆              ┆ China        ┆ ber 13,      ┆ 9:51:53Z     ┆ ember 13,    │\n",
       "│             ┆         ┆              ┆ lunches wit… ┆ 2004}}       ┆              ┆ 2004}}\"]     │\n",
       "│             ┆         ┆              ┆              ┆ {{B…         ┆              ┆              │\n",
       "│ 4516759     ┆ 741     ┆ 0            ┆ Palestinians ┆ [[File:Mahmo ┆ 2019-09-28T1 ┆ [\"{{byline|d │\n",
       "│             ┆         ┆              ┆ to elect new ┆ ud abbas.jpg ┆ 0:45:51Z     ┆ ate=november │\n",
       "│             ┆         ┆              ┆ pres…        ┆ |frame…      ┆              ┆ 14, 2…       │\n",
       "│ 2280888     ┆ 743     ┆ 0            ┆ Brazilian    ┆ {{date|Novem ┆ 2014-01-02T1 ┆ [\"{{date|nov │\n",
       "│             ┆         ┆              ┆ delegation   ┆ ber 13,      ┆ 9:36:05Z     ┆ ember 13,    │\n",
       "│             ┆         ┆              ┆ returns f…   ┆ 2004}}       ┆              ┆ 2004}}\"]     │\n",
       "│             ┆         ┆              ┆              ┆ {{P…         ┆              ┆              │\n",
       "│ 4516758     ┆ 764     ┆ 0            ┆ Hearing      ┆ {{Crime and  ┆ 2019-09-28T1 ┆ [\"{{byline|d │\n",
       "│             ┆         ┆              ┆ begins over  ┆ law}}{{bylin ┆ 0:39:36Z     ┆ ate=november │\n",
       "│             ┆         ┆              ┆ David Hook…  ┆ e|date…      ┆              ┆ 15, 2…       │\n",
       "│ 1973838     ┆ 779     ┆ 0            ┆ Iran close   ┆ {{date|Novem ┆ 2013-08-21T1 ┆ [\"{{date|nov │\n",
       "│             ┆         ┆              ┆ to decision  ┆ ber 13,      ┆ 6:07:41Z     ┆ ember 13,    │\n",
       "│             ┆         ┆              ┆ on nucl…     ┆ 2004}}       ┆              ┆ 2004}}\"]     │\n",
       "│             ┆         ┆              ┆              ┆ {{I…         ┆              ┆              │\n",
       "│ …           ┆ …       ┆ …            ┆ …            ┆ …            ┆ …            ┆ …            │\n",
       "│ 4804529     ┆ 3003708 ┆ 0            ┆ Man drives   ┆ {{develop}}  ┆ 2024-11-12T1 ┆ [\"{{date|nov │\n",
       "│             ┆         ┆              ┆ car into     ┆ {{date|Novem ┆ 7:32:29Z     ┆ ember 12,    │\n",
       "│             ┆         ┆              ┆ crowd of p…  ┆ ber 12…      ┆              ┆ 2024}}\"]     │\n",
       "│ 4805088     ┆ 3003768 ┆ 0            ┆ Prison riot  ┆ {{tasks|src| ┆ 2024-11-17T1 ┆ [\"{{date|nov │\n",
       "│             ┆         ┆              ┆ in Ecuador,  ┆ npov|mos|re- ┆ 6:35:30Z     ┆ ember 13,    │\n",
       "│             ┆         ┆              ┆ at lea…      ┆ review…      ┆              ┆ 2024}}\"]     │\n",
       "│ 4805240     ┆ 3003827 ┆ 0            ┆ 2024 ARPS    ┆ {{develop}}  ┆ 2024-11-19T1 ┆ [\"{{date|nov │\n",
       "│             ┆         ┆              ┆ Conference   ┆ {{date|Novem ┆ 2:19:00Z     ┆ ember 12,    │\n",
       "│             ┆         ┆              ┆              ┆ ber 12…      ┆              ┆ 2024}}\"]     │\n",
       "│ 4805272     ┆ 3003842 ┆ 0            ┆ Japan's      ┆ {{tasks|src| ┆ 2024-11-19T1 ┆ [\"{{date|nov │\n",
       "│             ┆         ┆              ┆ oldest       ┆ re-review}}{ ┆ 8:23:32Z     ┆ ember 15,    │\n",
       "│             ┆         ┆              ┆ Princess     ┆ {date|…      ┆              ┆ 2024}}\"]     │\n",
       "│             ┆         ┆              ┆ Yuriko…      ┆              ┆              ┆              │\n",
       "│ 4805304     ┆ 3003969 ┆ 0            ┆ US sanctions ┆ {{review}}   ┆ 2024-11-20T0 ┆ [\"{{date|nov │\n",
       "│             ┆         ┆              ┆ far-right    ┆              ┆ 5:45:46Z     ┆ ember 18,    │\n",
       "│             ┆         ┆              ┆ Israeli…     ┆ {{Date|Novem ┆              ┆ 2024}}\"]     │\n",
       "│             ┆         ┆              ┆              ┆ ber 18…      ┆              ┆              │\n",
       "└─────────────┴─────────┴──────────────┴──────────────┴──────────────┴──────────────┴──────────────┘"
      ]
     },
     "execution_count": 45,
     "metadata": {},
     "output_type": "execute_result"
    }
   ],
   "source": [
    "df = df.filter(df[\"page_dates\"].map_elements(len, return_dtype=int) > 0)\n",
    "df"
   ]
  },
  {
   "cell_type": "markdown",
   "id": "1b35491f",
   "metadata": {
    "papermill": {
     "duration": 0.023237,
     "end_time": "2024-12-11T01:55:51.071937",
     "exception": false,
     "start_time": "2024-12-11T01:55:51.048700",
     "status": "completed"
    },
    "tags": []
   },
   "source": [
    "### Note: \n",
    "\n",
    "Some articles still have multiple dates due to the variety of ways we probed for dates. This will be handled later."
   ]
  },
  {
   "cell_type": "code",
   "execution_count": 46,
   "id": "2f398b4c",
   "metadata": {
    "execution": {
     "iopub.execute_input": "2024-12-11T01:55:51.121451Z",
     "iopub.status.busy": "2024-12-11T01:55:51.121018Z",
     "iopub.status.idle": "2024-12-11T01:55:51.173996Z",
     "shell.execute_reply": "2024-12-11T01:55:51.172896Z"
    },
    "papermill": {
     "duration": 0.081304,
     "end_time": "2024-12-11T01:55:51.177526",
     "exception": false,
     "start_time": "2024-12-11T01:55:51.096222",
     "status": "completed"
    },
    "tags": []
   },
   "outputs": [
    {
     "data": {
      "text/html": [
       "<div><style>\n",
       ".dataframe > thead > tr,\n",
       ".dataframe > tbody > tr {\n",
       "  text-align: right;\n",
       "  white-space: pre-wrap;\n",
       "}\n",
       "</style>\n",
       "<small>shape: (137, 7)</small><table border=\"1\" class=\"dataframe\"><thead><tr><th>revision_id</th><th>page_id</th><th>page_namespace</th><th>page_title</th><th>page_text</th><th>last_update_timestamp</th><th>page_dates</th></tr><tr><td>i64</td><td>i64</td><td>i64</td><td>str</td><td>str</td><td>str</td><td>list[str]</td></tr></thead><tbody><tr><td>1535527</td><td>1003</td><td>0</td><td>&quot;Israeli army kills three Egypt…</td><td>&quot;{{date|November 18, 2004}}\n",
       "[[I…</td><td>&quot;2012-06-21T15:36:10Z&quot;</td><td>[&quot;{{date|november 18, 2004}}&quot;, &quot;[[category:november 18, 2004]]&quot;]</td></tr><tr><td>1525575</td><td>1083</td><td>0</td><td>&quot;Sudanese parties sign peace pl…</td><td>&quot;[[Image:Darfur map.png|right|3…</td><td>&quot;2012-06-10T16:02:34Z&quot;</td><td>[&quot;{{byline|date=november 19, 2004|location={{w|nairobi|nairobi}}}}&quot;, &quot;[[category:november 29, 2004]]&quot;]</td></tr><tr><td>931431</td><td>1089</td><td>0</td><td>&quot;Spanish tourist fatally shot i…</td><td>&quot;{{byline|date=November 19, 200…</td><td>&quot;2010-01-03T00:00:22Z&quot;</td><td>[&quot;{{byline|date=november 19, 2004|location=rio de janeiro}}&quot;, &quot;[[category:november 19, 2004]]&quot;]</td></tr><tr><td>354699</td><td>1095</td><td>0</td><td>&quot;19 Burmese political prisoners…</td><td>&quot;{{byline|date=November 20, 200…</td><td>&quot;2006-12-19T12:08:24Z&quot;</td><td>[&quot;{{byline|date=november 20, 2004|location=yangon, myanmar}}&quot;, &quot;[[category:november 20, 2004]]&quot;]</td></tr><tr><td>715647</td><td>1103</td><td>0</td><td>&quot;Brazilian economist Celso Furt…</td><td>&quot;[[Image:CFurtado4.jpg|thumb|Ce…</td><td>&quot;2008-10-26T19:18:32Z&quot;</td><td>[&quot;{{byline|date=november 20, 2004|location=rio de janeiro}}&quot;, &quot;[[category:november 20, 2004]]&quot;]</td></tr><tr><td>&hellip;</td><td>&hellip;</td><td>&hellip;</td><td>&hellip;</td><td>&hellip;</td><td>&hellip;</td><td>&hellip;</td></tr><tr><td>1643896</td><td>537233</td><td>0</td><td>&quot;Hailemariam Desalegn sworn in …</td><td>&quot;{{date|September 21, 2012}}\n",
       "{{…</td><td>&quot;2012-10-01T14:27:00Z&quot;</td><td>[&quot;{{date|september 21, 2012}}&quot;, &quot;[[category:september 21, 2012]]&quot;]</td></tr><tr><td>4404330</td><td>783911</td><td>0</td><td>&quot;United States spies accused of…</td><td>&quot;{{date|August 26, 2013}}\n",
       "\n",
       "[[Fi…</td><td>&quot;2018-05-06T23:49:56Z&quot;</td><td>[&quot;{{date|august 26, 2013}}&quot;, &quot;[[category:august 26, 2013]]&quot;]</td></tr><tr><td>3065067</td><td>1734356</td><td>0</td><td>&quot;Philae space probe lands on co…</td><td>&quot;{{date|November 13, 2014}}\n",
       "{{s…</td><td>&quot;2014-11-30T01:46:04Z&quot;</td><td>[&quot;{{date|november 13, 2014}}&quot;, &quot;[[category:november 12, 2014]]&quot;]</td></tr><tr><td>4627193</td><td>2506784</td><td>0</td><td>&quot;Scottish Ebola nurse Pauline C…</td><td>&quot;{{date|October 15, 2015}}\n",
       "{{Au…</td><td>&quot;2021-07-11T06:14:40Z&quot;</td><td>[&quot;{{date|october 15, 2015}}&quot;, &quot;[[category: october 14, 2015]]&quot;]</td></tr><tr><td>4015636</td><td>2594623</td><td>0</td><td>&quot;Australian Eddie Jones named a…</td><td>&quot;{{date|November 22, 2015}} \n",
       "{{…</td><td>&quot;2015-11-29T12:31:47Z&quot;</td><td>[&quot;{{date|november 22, 2015}}&quot;, &quot;[[category: november 20, 2015]]&quot;]</td></tr></tbody></table></div>"
      ],
      "text/plain": [
       "shape: (137, 7)\n",
       "┌─────────────┬─────────┬──────────────┬──────────────┬──────────────┬──────────────┬──────────────┐\n",
       "│ revision_id ┆ page_id ┆ page_namespa ┆ page_title   ┆ page_text    ┆ last_update_ ┆ page_dates   │\n",
       "│ ---         ┆ ---     ┆ ce           ┆ ---          ┆ ---          ┆ timestamp    ┆ ---          │\n",
       "│ i64         ┆ i64     ┆ ---          ┆ str          ┆ str          ┆ ---          ┆ list[str]    │\n",
       "│             ┆         ┆ i64          ┆              ┆              ┆ str          ┆              │\n",
       "╞═════════════╪═════════╪══════════════╪══════════════╪══════════════╪══════════════╪══════════════╡\n",
       "│ 1535527     ┆ 1003    ┆ 0            ┆ Israeli army ┆ {{date|Novem ┆ 2012-06-21T1 ┆ [\"{{date|nov │\n",
       "│             ┆         ┆              ┆ kills three  ┆ ber 18,      ┆ 5:36:10Z     ┆ ember 18,    │\n",
       "│             ┆         ┆              ┆ Egypt…       ┆ 2004}}       ┆              ┆ 2004}}\",…    │\n",
       "│             ┆         ┆              ┆              ┆ [[I…         ┆              ┆              │\n",
       "│ 1525575     ┆ 1083    ┆ 0            ┆ Sudanese     ┆ [[Image:Darf ┆ 2012-06-10T1 ┆ [\"{{byline|d │\n",
       "│             ┆         ┆              ┆ parties sign ┆ ur map.png|r ┆ 6:02:34Z     ┆ ate=november │\n",
       "│             ┆         ┆              ┆ peace pl…    ┆ ight|3…      ┆              ┆ 19, 2…       │\n",
       "│ 931431      ┆ 1089    ┆ 0            ┆ Spanish      ┆ {{byline|dat ┆ 2010-01-03T0 ┆ [\"{{byline|d │\n",
       "│             ┆         ┆              ┆ tourist      ┆ e=November   ┆ 0:00:22Z     ┆ ate=november │\n",
       "│             ┆         ┆              ┆ fatally shot ┆ 19, 200…     ┆              ┆ 19, 2…       │\n",
       "│             ┆         ┆              ┆ i…           ┆              ┆              ┆              │\n",
       "│ 354699      ┆ 1095    ┆ 0            ┆ 19 Burmese   ┆ {{byline|dat ┆ 2006-12-19T1 ┆ [\"{{byline|d │\n",
       "│             ┆         ┆              ┆ political    ┆ e=November   ┆ 2:08:24Z     ┆ ate=november │\n",
       "│             ┆         ┆              ┆ prisoners…   ┆ 20, 200…     ┆              ┆ 20, 2…       │\n",
       "│ 715647      ┆ 1103    ┆ 0            ┆ Brazilian    ┆ [[Image:CFur ┆ 2008-10-26T1 ┆ [\"{{byline|d │\n",
       "│             ┆         ┆              ┆ economist    ┆ tado4.jpg|th ┆ 9:18:32Z     ┆ ate=november │\n",
       "│             ┆         ┆              ┆ Celso Furt…  ┆ umb|Ce…      ┆              ┆ 20, 2…       │\n",
       "│ …           ┆ …       ┆ …            ┆ …            ┆ …            ┆ …            ┆ …            │\n",
       "│ 1643896     ┆ 537233  ┆ 0            ┆ Hailemariam  ┆ {{date|Septe ┆ 2012-10-01T1 ┆ [\"{{date|sep │\n",
       "│             ┆         ┆              ┆ Desalegn     ┆ mber 21,     ┆ 4:27:00Z     ┆ tember 21,   │\n",
       "│             ┆         ┆              ┆ sworn in …   ┆ 2012}}       ┆              ┆ 2012}}\"…     │\n",
       "│             ┆         ┆              ┆              ┆ {{…          ┆              ┆              │\n",
       "│ 4404330     ┆ 783911  ┆ 0            ┆ United       ┆ {{date|Augus ┆ 2018-05-06T2 ┆ [\"{{date|aug │\n",
       "│             ┆         ┆              ┆ States spies ┆ t 26, 2013}} ┆ 3:49:56Z     ┆ ust 26,      │\n",
       "│             ┆         ┆              ┆ accused of…  ┆              ┆              ┆ 2013}}\", \"…  │\n",
       "│             ┆         ┆              ┆              ┆ [[Fi…        ┆              ┆              │\n",
       "│ 3065067     ┆ 1734356 ┆ 0            ┆ Philae space ┆ {{date|Novem ┆ 2014-11-30T0 ┆ [\"{{date|nov │\n",
       "│             ┆         ┆              ┆ probe lands  ┆ ber 13,      ┆ 1:46:04Z     ┆ ember 13,    │\n",
       "│             ┆         ┆              ┆ on co…       ┆ 2014}}       ┆              ┆ 2014}}\",…    │\n",
       "│             ┆         ┆              ┆              ┆ {{s…         ┆              ┆              │\n",
       "│ 4627193     ┆ 2506784 ┆ 0            ┆ Scottish     ┆ {{date|Octob ┆ 2021-07-11T0 ┆ [\"{{date|oct │\n",
       "│             ┆         ┆              ┆ Ebola nurse  ┆ er 15,       ┆ 6:14:40Z     ┆ ober 15,     │\n",
       "│             ┆         ┆              ┆ Pauline C…   ┆ 2015}}       ┆              ┆ 2015}}\", …   │\n",
       "│             ┆         ┆              ┆              ┆ {{Au…        ┆              ┆              │\n",
       "│ 4015636     ┆ 2594623 ┆ 0            ┆ Australian   ┆ {{date|Novem ┆ 2015-11-29T1 ┆ [\"{{date|nov │\n",
       "│             ┆         ┆              ┆ Eddie Jones  ┆ ber 22,      ┆ 2:31:47Z     ┆ ember 22,    │\n",
       "│             ┆         ┆              ┆ named a…     ┆ 2015}}       ┆              ┆ 2015}}\",…    │\n",
       "│             ┆         ┆              ┆              ┆ {{…          ┆              ┆              │\n",
       "└─────────────┴─────────┴──────────────┴──────────────┴──────────────┴──────────────┴──────────────┘"
      ]
     },
     "execution_count": 46,
     "metadata": {},
     "output_type": "execute_result"
    }
   ],
   "source": [
    "df.filter(df[\"page_dates\"].map_elements(len, return_dtype=int) > 1)"
   ]
  },
  {
   "cell_type": "markdown",
   "id": "ae938ba8",
   "metadata": {
    "papermill": {
     "duration": 0.023186,
     "end_time": "2024-12-11T01:55:51.230819",
     "exception": false,
     "start_time": "2024-12-11T01:55:51.207633",
     "status": "completed"
    },
    "tags": []
   },
   "source": [
    "# Step 3. Obtaining Plain-Text versions of the Wikipedia articles found\n",
    "\n",
    "The original plan here was to parse the WikiText of the articles and use this to get plain text versions of each of the articles. However, the MediaWiki text format is poorly specified and has no formal grammar, which makes it difficult to parse. Therefore, we are using the MediaWiki API in order to obtain HTML versions of each of the articles that we want, which we can then parse with an HTML parsing library to more easily convert into plain text."
   ]
  },
  {
   "cell_type": "code",
   "execution_count": 47,
   "id": "221d6957",
   "metadata": {
    "execution": {
     "iopub.execute_input": "2024-12-11T01:55:51.280890Z",
     "iopub.status.busy": "2024-12-11T01:55:51.280376Z",
     "iopub.status.idle": "2024-12-11T01:55:51.365602Z",
     "shell.execute_reply": "2024-12-11T01:55:51.363819Z"
    },
    "papermill": {
     "duration": 0.113299,
     "end_time": "2024-12-11T01:55:51.368088",
     "exception": false,
     "start_time": "2024-12-11T01:55:51.254789",
     "status": "completed"
    },
    "tags": []
   },
   "outputs": [],
   "source": [
    "import requests\n",
    "import time\n",
    "def get_page_text_extract(rev_id):\n",
    "    backoff = 0.05\n",
    "    response = None\n",
    "    while response is None or response.status_code != 200:\n",
    "        response = requests.get(\n",
    "            'https://en.wikinews.org/w/api.php',\n",
    "            params={\n",
    "                'action': 'query',\n",
    "                'format': 'json',\n",
    "                'revids': rev_id,\n",
    "                'prop': 'extracts',\n",
    "                'exlimit': 'max',\n",
    "                'exsectionformat': 'plain',\n",
    "                'explaintext': 'true'\n",
    "            }\n",
    "        )\n",
    "        if response is None or response.status_code != 200:\n",
    "            print(\"failed, backoff\")\n",
    "            time.sleep(backoff)\n",
    "            backoff *= 1.5\n",
    "\n",
    "    return response.text    "
   ]
  },
  {
   "cell_type": "code",
   "execution_count": 48,
   "id": "9720945c",
   "metadata": {
    "execution": {
     "iopub.execute_input": "2024-12-11T01:55:51.415192Z",
     "iopub.status.busy": "2024-12-11T01:55:51.414769Z",
     "iopub.status.idle": "2024-12-11T02:51:38.636510Z",
     "shell.execute_reply": "2024-12-11T02:51:38.635347Z"
    },
    "papermill": {
     "duration": 3347.247217,
     "end_time": "2024-12-11T02:51:38.638584",
     "exception": false,
     "start_time": "2024-12-11T01:55:51.391367",
     "status": "completed"
    },
    "tags": []
   },
   "outputs": [
    {
     "data": {
      "application/vnd.jupyter.widget-view+json": {
       "model_id": "b08cfd367b5f4055ba2df8686347d6fc",
       "version_major": 2,
       "version_minor": 0
      },
      "text/plain": [
       "  0%|          | 0/21657 [00:00<?, ?it/s]"
      ]
     },
     "metadata": {},
     "output_type": "display_data"
    }
   ],
   "source": [
    "from tqdm.auto import tqdm\n",
    "import numpy as np\n",
    "\n",
    "df = df.with_columns(\n",
    "    pl.Series(map(get_page_text_extract, tqdm(df[\"revision_id\"].to_list())), dtype=str).alias(\"page_text_extract_result\")\n",
    ")"
   ]
  },
  {
   "cell_type": "code",
   "execution_count": 49,
   "id": "9e77454d",
   "metadata": {
    "execution": {
     "iopub.execute_input": "2024-12-11T02:51:38.684873Z",
     "iopub.status.busy": "2024-12-11T02:51:38.684472Z",
     "iopub.status.idle": "2024-12-11T02:51:38.693921Z",
     "shell.execute_reply": "2024-12-11T02:51:38.692968Z"
    },
    "papermill": {
     "duration": 0.034832,
     "end_time": "2024-12-11T02:51:38.695848",
     "exception": false,
     "start_time": "2024-12-11T02:51:38.661016",
     "status": "completed"
    },
    "tags": []
   },
   "outputs": [
    {
     "data": {
      "text/html": [
       "<div><style>\n",
       ".dataframe > thead > tr,\n",
       ".dataframe > tbody > tr {\n",
       "  text-align: right;\n",
       "  white-space: pre-wrap;\n",
       "}\n",
       "</style>\n",
       "<small>shape: (21_657, 8)</small><table border=\"1\" class=\"dataframe\"><thead><tr><th>revision_id</th><th>page_id</th><th>page_namespace</th><th>page_title</th><th>page_text</th><th>last_update_timestamp</th><th>page_dates</th><th>page_text_extract_result</th></tr><tr><td>i64</td><td>i64</td><td>i64</td><td>str</td><td>str</td><td>str</td><td>list[str]</td><td>str</td></tr></thead><tbody><tr><td>4516743</td><td>736</td><td>0</td><td>&quot;President of China lunches wit…</td><td>&quot;{{date|November 13, 2004}}\n",
       "{{B…</td><td>&quot;2019-09-28T09:51:53Z&quot;</td><td>[&quot;{{date|november 13, 2004}}&quot;]</td><td>&quot;{&quot;batchcomplete&quot;:&quot;&quot;,&quot;query&quot;:{&quot;…</td></tr><tr><td>4516759</td><td>741</td><td>0</td><td>&quot;Palestinians to elect new pres…</td><td>&quot;[[File:Mahmoud abbas.jpg|frame…</td><td>&quot;2019-09-28T10:45:51Z&quot;</td><td>[&quot;{{byline|date=november 14, 2004|location=[[w:ramallah|ramallah]]}}&quot;]</td><td>&quot;{&quot;batchcomplete&quot;:&quot;&quot;,&quot;query&quot;:{&quot;…</td></tr><tr><td>2280888</td><td>743</td><td>0</td><td>&quot;Brazilian delegation returns f…</td><td>&quot;{{date|November 13, 2004}}\n",
       "{{P…</td><td>&quot;2014-01-02T19:36:05Z&quot;</td><td>[&quot;{{date|november 13, 2004}}&quot;]</td><td>&quot;{&quot;batchcomplete&quot;:&quot;&quot;,&quot;query&quot;:{&quot;…</td></tr><tr><td>4516758</td><td>764</td><td>0</td><td>&quot;Hearing begins over David Hook…</td><td>&quot;{{Crime and law}}{{byline|date…</td><td>&quot;2019-09-28T10:39:36Z&quot;</td><td>[&quot;{{byline|date=november 15, 2004|location=[[melbourne|melbourne]], [[victoria, australia|victoria]]}}&quot;]</td><td>&quot;{&quot;batchcomplete&quot;:&quot;&quot;,&quot;query&quot;:{&quot;…</td></tr><tr><td>1973838</td><td>779</td><td>0</td><td>&quot;Iran close to decision on nucl…</td><td>&quot;{{date|November 13, 2004}}\n",
       "{{I…</td><td>&quot;2013-08-21T16:07:41Z&quot;</td><td>[&quot;{{date|november 13, 2004}}&quot;]</td><td>&quot;{&quot;batchcomplete&quot;:&quot;&quot;,&quot;query&quot;:{&quot;…</td></tr><tr><td>&hellip;</td><td>&hellip;</td><td>&hellip;</td><td>&hellip;</td><td>&hellip;</td><td>&hellip;</td><td>&hellip;</td><td>&hellip;</td></tr><tr><td>4804529</td><td>3003708</td><td>0</td><td>&quot;Man drives car into crowd of p…</td><td>&quot;{{develop}}\n",
       "{{date|November 12…</td><td>&quot;2024-11-12T17:32:29Z&quot;</td><td>[&quot;{{date|november 12, 2024}}&quot;]</td><td>&quot;{&quot;batchcomplete&quot;:&quot;&quot;,&quot;query&quot;:{&quot;…</td></tr><tr><td>4805088</td><td>3003768</td><td>0</td><td>&quot;Prison riot in Ecuador, at lea…</td><td>&quot;{{tasks|src|npov|mos|re-review…</td><td>&quot;2024-11-17T16:35:30Z&quot;</td><td>[&quot;{{date|november 13, 2024}}&quot;]</td><td>&quot;{&quot;batchcomplete&quot;:&quot;&quot;,&quot;query&quot;:{&quot;…</td></tr><tr><td>4805240</td><td>3003827</td><td>0</td><td>&quot;2024 ARPS Conference&quot;</td><td>&quot;{{develop}}\n",
       "{{date|November 12…</td><td>&quot;2024-11-19T12:19:00Z&quot;</td><td>[&quot;{{date|november 12, 2024}}&quot;]</td><td>&quot;{&quot;batchcomplete&quot;:&quot;&quot;,&quot;query&quot;:{&quot;…</td></tr><tr><td>4805272</td><td>3003842</td><td>0</td><td>&quot;Japan&#x27;s oldest Princess Yuriko…</td><td>&quot;{{tasks|src|re-review}}{{date|…</td><td>&quot;2024-11-19T18:23:32Z&quot;</td><td>[&quot;{{date|november 15, 2024}}&quot;]</td><td>&quot;{&quot;batchcomplete&quot;:&quot;&quot;,&quot;query&quot;:{&quot;…</td></tr><tr><td>4805304</td><td>3003969</td><td>0</td><td>&quot;US sanctions far-right Israeli…</td><td>&quot;{{review}}\n",
       "\n",
       "{{Date|November 18…</td><td>&quot;2024-11-20T05:45:46Z&quot;</td><td>[&quot;{{date|november 18, 2024}}&quot;]</td><td>&quot;{&quot;batchcomplete&quot;:&quot;&quot;,&quot;query&quot;:{&quot;…</td></tr></tbody></table></div>"
      ],
      "text/plain": [
       "shape: (21_657, 8)\n",
       "┌────────────┬─────────┬────────────┬────────────┬────────────┬────────────┬───────────┬───────────┐\n",
       "│ revision_i ┆ page_id ┆ page_names ┆ page_title ┆ page_text  ┆ last_updat ┆ page_date ┆ page_text │\n",
       "│ d          ┆ ---     ┆ pace       ┆ ---        ┆ ---        ┆ e_timestam ┆ s         ┆ _extract_ │\n",
       "│ ---        ┆ i64     ┆ ---        ┆ str        ┆ str        ┆ p          ┆ ---       ┆ result    │\n",
       "│ i64        ┆         ┆ i64        ┆            ┆            ┆ ---        ┆ list[str] ┆ ---       │\n",
       "│            ┆         ┆            ┆            ┆            ┆ str        ┆           ┆ str       │\n",
       "╞════════════╪═════════╪════════════╪════════════╪════════════╪════════════╪═══════════╪═══════════╡\n",
       "│ 4516743    ┆ 736     ┆ 0          ┆ President  ┆ {{date|Nov ┆ 2019-09-28 ┆ [\"{{date| ┆ {\"batchco │\n",
       "│            ┆         ┆            ┆ of China   ┆ ember 13,  ┆ T09:51:53Z ┆ november  ┆ mplete\":\" │\n",
       "│            ┆         ┆            ┆ lunches    ┆ 2004}}     ┆            ┆ 13,       ┆ \",\"query\" │\n",
       "│            ┆         ┆            ┆ wit…       ┆ {{B…       ┆            ┆ 2004}}\"]  ┆ :{\"…      │\n",
       "│ 4516759    ┆ 741     ┆ 0          ┆ Palestinia ┆ [[File:Mah ┆ 2019-09-28 ┆ [\"{{bylin ┆ {\"batchco │\n",
       "│            ┆         ┆            ┆ ns to      ┆ moud abbas ┆ T10:45:51Z ┆ e|date=no ┆ mplete\":\" │\n",
       "│            ┆         ┆            ┆ elect new  ┆ .jpg|frame ┆            ┆ vember    ┆ \",\"query\" │\n",
       "│            ┆         ┆            ┆ pres…      ┆ …          ┆            ┆ 14, 2…    ┆ :{\"…      │\n",
       "│ 2280888    ┆ 743     ┆ 0          ┆ Brazilian  ┆ {{date|Nov ┆ 2014-01-02 ┆ [\"{{date| ┆ {\"batchco │\n",
       "│            ┆         ┆            ┆ delegation ┆ ember 13,  ┆ T19:36:05Z ┆ november  ┆ mplete\":\" │\n",
       "│            ┆         ┆            ┆ returns f… ┆ 2004}}     ┆            ┆ 13,       ┆ \",\"query\" │\n",
       "│            ┆         ┆            ┆            ┆ {{P…       ┆            ┆ 2004}}\"]  ┆ :{\"…      │\n",
       "│ 4516758    ┆ 764     ┆ 0          ┆ Hearing    ┆ {{Crime    ┆ 2019-09-28 ┆ [\"{{bylin ┆ {\"batchco │\n",
       "│            ┆         ┆            ┆ begins     ┆ and law}}{ ┆ T10:39:36Z ┆ e|date=no ┆ mplete\":\" │\n",
       "│            ┆         ┆            ┆ over David ┆ {byline|da ┆            ┆ vember    ┆ \",\"query\" │\n",
       "│            ┆         ┆            ┆ Hook…      ┆ te…        ┆            ┆ 15, 2…    ┆ :{\"…      │\n",
       "│ 1973838    ┆ 779     ┆ 0          ┆ Iran close ┆ {{date|Nov ┆ 2013-08-21 ┆ [\"{{date| ┆ {\"batchco │\n",
       "│            ┆         ┆            ┆ to         ┆ ember 13,  ┆ T16:07:41Z ┆ november  ┆ mplete\":\" │\n",
       "│            ┆         ┆            ┆ decision   ┆ 2004}}     ┆            ┆ 13,       ┆ \",\"query\" │\n",
       "│            ┆         ┆            ┆ on nucl…   ┆ {{I…       ┆            ┆ 2004}}\"]  ┆ :{\"…      │\n",
       "│ …          ┆ …       ┆ …          ┆ …          ┆ …          ┆ …          ┆ …         ┆ …         │\n",
       "│ 4804529    ┆ 3003708 ┆ 0          ┆ Man drives ┆ {{develop} ┆ 2024-11-12 ┆ [\"{{date| ┆ {\"batchco │\n",
       "│            ┆         ┆            ┆ car into   ┆ }          ┆ T17:32:29Z ┆ november  ┆ mplete\":\" │\n",
       "│            ┆         ┆            ┆ crowd of   ┆ {{date|Nov ┆            ┆ 12,       ┆ \",\"query\" │\n",
       "│            ┆         ┆            ┆ p…         ┆ ember 12…  ┆            ┆ 2024}}\"]  ┆ :{\"…      │\n",
       "│ 4805088    ┆ 3003768 ┆ 0          ┆ Prison     ┆ {{tasks|sr ┆ 2024-11-17 ┆ [\"{{date| ┆ {\"batchco │\n",
       "│            ┆         ┆            ┆ riot in    ┆ c|npov|mos ┆ T16:35:30Z ┆ november  ┆ mplete\":\" │\n",
       "│            ┆         ┆            ┆ Ecuador,   ┆ |re-review ┆            ┆ 13,       ┆ \",\"query\" │\n",
       "│            ┆         ┆            ┆ at lea…    ┆ …          ┆            ┆ 2024}}\"]  ┆ :{\"…      │\n",
       "│ 4805240    ┆ 3003827 ┆ 0          ┆ 2024 ARPS  ┆ {{develop} ┆ 2024-11-19 ┆ [\"{{date| ┆ {\"batchco │\n",
       "│            ┆         ┆            ┆ Conference ┆ }          ┆ T12:19:00Z ┆ november  ┆ mplete\":\" │\n",
       "│            ┆         ┆            ┆            ┆ {{date|Nov ┆            ┆ 12,       ┆ \",\"query\" │\n",
       "│            ┆         ┆            ┆            ┆ ember 12…  ┆            ┆ 2024}}\"]  ┆ :{\"…      │\n",
       "│ 4805272    ┆ 3003842 ┆ 0          ┆ Japan's    ┆ {{tasks|sr ┆ 2024-11-19 ┆ [\"{{date| ┆ {\"batchco │\n",
       "│            ┆         ┆            ┆ oldest     ┆ c|re-revie ┆ T18:23:32Z ┆ november  ┆ mplete\":\" │\n",
       "│            ┆         ┆            ┆ Princess   ┆ w}}{{date| ┆            ┆ 15,       ┆ \",\"query\" │\n",
       "│            ┆         ┆            ┆ Yuriko…    ┆ …          ┆            ┆ 2024}}\"]  ┆ :{\"…      │\n",
       "│ 4805304    ┆ 3003969 ┆ 0          ┆ US         ┆ {{review}} ┆ 2024-11-20 ┆ [\"{{date| ┆ {\"batchco │\n",
       "│            ┆         ┆            ┆ sanctions  ┆            ┆ T05:45:46Z ┆ november  ┆ mplete\":\" │\n",
       "│            ┆         ┆            ┆ far-right  ┆ {{Date|Nov ┆            ┆ 18,       ┆ \",\"query\" │\n",
       "│            ┆         ┆            ┆ Israeli…   ┆ ember 18…  ┆            ┆ 2024}}\"]  ┆ :{\"…      │\n",
       "└────────────┴─────────┴────────────┴────────────┴────────────┴────────────┴───────────┴───────────┘"
      ]
     },
     "execution_count": 49,
     "metadata": {},
     "output_type": "execute_result"
    }
   ],
   "source": [
    "df"
   ]
  },
  {
   "cell_type": "code",
   "execution_count": 50,
   "id": "85e60c01",
   "metadata": {
    "execution": {
     "iopub.execute_input": "2024-12-11T02:51:38.742382Z",
     "iopub.status.busy": "2024-12-11T02:51:38.741969Z",
     "iopub.status.idle": "2024-12-11T02:52:47.747964Z",
     "shell.execute_reply": "2024-12-11T02:52:47.746968Z"
    },
    "papermill": {
     "duration": 69.03216,
     "end_time": "2024-12-11T02:52:47.750311",
     "exception": false,
     "start_time": "2024-12-11T02:51:38.718151",
     "status": "completed"
    },
    "tags": []
   },
   "outputs": [],
   "source": [
    "df.write_parquet(\"enwikinews-pages-revdocs.parquet\", compression=\"zstd\", compression_level=22)"
   ]
  }
 ],
 "metadata": {
  "kaggle": {
   "accelerator": "none",
   "dataSources": [
    {
     "sourceId": 211098184,
     "sourceType": "kernelVersion"
    }
   ],
   "dockerImageVersionId": 30804,
   "isGpuEnabled": false,
   "isInternetEnabled": true,
   "language": "python",
   "sourceType": "notebook"
  },
  "kernelspec": {
   "display_name": "Python 3",
   "language": "python",
   "name": "python3"
  },
  "language_info": {
   "codemirror_mode": {
    "name": "ipython",
    "version": 3
   },
   "file_extension": ".py",
   "mimetype": "text/x-python",
   "name": "python",
   "nbconvert_exporter": "python",
   "pygments_lexer": "ipython3",
   "version": "3.10.14"
  },
  "papermill": {
   "default_parameters": {},
   "duration": 3440.043985,
   "end_time": "2024-12-11T02:52:48.295865",
   "environment_variables": {},
   "exception": null,
   "input_path": "__notebook__.ipynb",
   "output_path": "__notebook__.ipynb",
   "parameters": {},
   "start_time": "2024-12-11T01:55:28.251880",
   "version": "2.6.0"
  },
  "widgets": {
   "application/vnd.jupyter.widget-state+json": {
    "state": {
     "10ca9b22f36642fc8c31d158bfda8b6a": {
      "model_module": "@jupyter-widgets/base",
      "model_module_version": "2.0.0",
      "model_name": "LayoutModel",
      "state": {
       "_model_module": "@jupyter-widgets/base",
       "_model_module_version": "2.0.0",
       "_model_name": "LayoutModel",
       "_view_count": null,
       "_view_module": "@jupyter-widgets/base",
       "_view_module_version": "2.0.0",
       "_view_name": "LayoutView",
       "align_content": null,
       "align_items": null,
       "align_self": null,
       "border_bottom": null,
       "border_left": null,
       "border_right": null,
       "border_top": null,
       "bottom": null,
       "display": null,
       "flex": null,
       "flex_flow": null,
       "grid_area": null,
       "grid_auto_columns": null,
       "grid_auto_flow": null,
       "grid_auto_rows": null,
       "grid_column": null,
       "grid_gap": null,
       "grid_row": null,
       "grid_template_areas": null,
       "grid_template_columns": null,
       "grid_template_rows": null,
       "height": null,
       "justify_content": null,
       "justify_items": null,
       "left": null,
       "margin": null,
       "max_height": null,
       "max_width": null,
       "min_height": null,
       "min_width": null,
       "object_fit": null,
       "object_position": null,
       "order": null,
       "overflow": null,
       "padding": null,
       "right": null,
       "top": null,
       "visibility": null,
       "width": null
      }
     },
     "359eb644df5443249e7ff4c9955d420f": {
      "model_module": "@jupyter-widgets/controls",
      "model_module_version": "2.0.0",
      "model_name": "HTMLModel",
      "state": {
       "_dom_classes": [],
       "_model_module": "@jupyter-widgets/controls",
       "_model_module_version": "2.0.0",
       "_model_name": "HTMLModel",
       "_view_count": null,
       "_view_module": "@jupyter-widgets/controls",
       "_view_module_version": "2.0.0",
       "_view_name": "HTMLView",
       "description": "",
       "description_allow_html": false,
       "layout": "IPY_MODEL_38744fc86ddf419699c6cd4e6475eecf",
       "placeholder": "​",
       "style": "IPY_MODEL_5c4f899903fa4e5a988c6738e7b73d20",
       "tabbable": null,
       "tooltip": null,
       "value": " 21657/21657 [55:47&lt;00:00,  5.41it/s]"
      }
     },
     "38744fc86ddf419699c6cd4e6475eecf": {
      "model_module": "@jupyter-widgets/base",
      "model_module_version": "2.0.0",
      "model_name": "LayoutModel",
      "state": {
       "_model_module": "@jupyter-widgets/base",
       "_model_module_version": "2.0.0",
       "_model_name": "LayoutModel",
       "_view_count": null,
       "_view_module": "@jupyter-widgets/base",
       "_view_module_version": "2.0.0",
       "_view_name": "LayoutView",
       "align_content": null,
       "align_items": null,
       "align_self": null,
       "border_bottom": null,
       "border_left": null,
       "border_right": null,
       "border_top": null,
       "bottom": null,
       "display": null,
       "flex": null,
       "flex_flow": null,
       "grid_area": null,
       "grid_auto_columns": null,
       "grid_auto_flow": null,
       "grid_auto_rows": null,
       "grid_column": null,
       "grid_gap": null,
       "grid_row": null,
       "grid_template_areas": null,
       "grid_template_columns": null,
       "grid_template_rows": null,
       "height": null,
       "justify_content": null,
       "justify_items": null,
       "left": null,
       "margin": null,
       "max_height": null,
       "max_width": null,
       "min_height": null,
       "min_width": null,
       "object_fit": null,
       "object_position": null,
       "order": null,
       "overflow": null,
       "padding": null,
       "right": null,
       "top": null,
       "visibility": null,
       "width": null
      }
     },
     "4cdda55d8b0e4af1a35c084a8f57ba61": {
      "model_module": "@jupyter-widgets/controls",
      "model_module_version": "2.0.0",
      "model_name": "ProgressStyleModel",
      "state": {
       "_model_module": "@jupyter-widgets/controls",
       "_model_module_version": "2.0.0",
       "_model_name": "ProgressStyleModel",
       "_view_count": null,
       "_view_module": "@jupyter-widgets/base",
       "_view_module_version": "2.0.0",
       "_view_name": "StyleView",
       "bar_color": null,
       "description_width": ""
      }
     },
     "5c4f899903fa4e5a988c6738e7b73d20": {
      "model_module": "@jupyter-widgets/controls",
      "model_module_version": "2.0.0",
      "model_name": "HTMLStyleModel",
      "state": {
       "_model_module": "@jupyter-widgets/controls",
       "_model_module_version": "2.0.0",
       "_model_name": "HTMLStyleModel",
       "_view_count": null,
       "_view_module": "@jupyter-widgets/base",
       "_view_module_version": "2.0.0",
       "_view_name": "StyleView",
       "background": null,
       "description_width": "",
       "font_size": null,
       "text_color": null
      }
     },
     "91444678dd0844ca819d894c87d5abc3": {
      "model_module": "@jupyter-widgets/base",
      "model_module_version": "2.0.0",
      "model_name": "LayoutModel",
      "state": {
       "_model_module": "@jupyter-widgets/base",
       "_model_module_version": "2.0.0",
       "_model_name": "LayoutModel",
       "_view_count": null,
       "_view_module": "@jupyter-widgets/base",
       "_view_module_version": "2.0.0",
       "_view_name": "LayoutView",
       "align_content": null,
       "align_items": null,
       "align_self": null,
       "border_bottom": null,
       "border_left": null,
       "border_right": null,
       "border_top": null,
       "bottom": null,
       "display": null,
       "flex": null,
       "flex_flow": null,
       "grid_area": null,
       "grid_auto_columns": null,
       "grid_auto_flow": null,
       "grid_auto_rows": null,
       "grid_column": null,
       "grid_gap": null,
       "grid_row": null,
       "grid_template_areas": null,
       "grid_template_columns": null,
       "grid_template_rows": null,
       "height": null,
       "justify_content": null,
       "justify_items": null,
       "left": null,
       "margin": null,
       "max_height": null,
       "max_width": null,
       "min_height": null,
       "min_width": null,
       "object_fit": null,
       "object_position": null,
       "order": null,
       "overflow": null,
       "padding": null,
       "right": null,
       "top": null,
       "visibility": null,
       "width": null
      }
     },
     "977835c35a82482f94c4eec6ef80fb8f": {
      "model_module": "@jupyter-widgets/base",
      "model_module_version": "2.0.0",
      "model_name": "LayoutModel",
      "state": {
       "_model_module": "@jupyter-widgets/base",
       "_model_module_version": "2.0.0",
       "_model_name": "LayoutModel",
       "_view_count": null,
       "_view_module": "@jupyter-widgets/base",
       "_view_module_version": "2.0.0",
       "_view_name": "LayoutView",
       "align_content": null,
       "align_items": null,
       "align_self": null,
       "border_bottom": null,
       "border_left": null,
       "border_right": null,
       "border_top": null,
       "bottom": null,
       "display": null,
       "flex": null,
       "flex_flow": null,
       "grid_area": null,
       "grid_auto_columns": null,
       "grid_auto_flow": null,
       "grid_auto_rows": null,
       "grid_column": null,
       "grid_gap": null,
       "grid_row": null,
       "grid_template_areas": null,
       "grid_template_columns": null,
       "grid_template_rows": null,
       "height": null,
       "justify_content": null,
       "justify_items": null,
       "left": null,
       "margin": null,
       "max_height": null,
       "max_width": null,
       "min_height": null,
       "min_width": null,
       "object_fit": null,
       "object_position": null,
       "order": null,
       "overflow": null,
       "padding": null,
       "right": null,
       "top": null,
       "visibility": null,
       "width": null
      }
     },
     "b08cfd367b5f4055ba2df8686347d6fc": {
      "model_module": "@jupyter-widgets/controls",
      "model_module_version": "2.0.0",
      "model_name": "HBoxModel",
      "state": {
       "_dom_classes": [],
       "_model_module": "@jupyter-widgets/controls",
       "_model_module_version": "2.0.0",
       "_model_name": "HBoxModel",
       "_view_count": null,
       "_view_module": "@jupyter-widgets/controls",
       "_view_module_version": "2.0.0",
       "_view_name": "HBoxView",
       "box_style": "",
       "children": [
        "IPY_MODEL_c5bd22c9a3e74da5a6cf88f298a16883",
        "IPY_MODEL_be221b8cf97d4a01b6e2220e695e2a6d",
        "IPY_MODEL_359eb644df5443249e7ff4c9955d420f"
       ],
       "layout": "IPY_MODEL_977835c35a82482f94c4eec6ef80fb8f",
       "tabbable": null,
       "tooltip": null
      }
     },
     "be221b8cf97d4a01b6e2220e695e2a6d": {
      "model_module": "@jupyter-widgets/controls",
      "model_module_version": "2.0.0",
      "model_name": "FloatProgressModel",
      "state": {
       "_dom_classes": [],
       "_model_module": "@jupyter-widgets/controls",
       "_model_module_version": "2.0.0",
       "_model_name": "FloatProgressModel",
       "_view_count": null,
       "_view_module": "@jupyter-widgets/controls",
       "_view_module_version": "2.0.0",
       "_view_name": "ProgressView",
       "bar_style": "success",
       "description": "",
       "description_allow_html": false,
       "layout": "IPY_MODEL_91444678dd0844ca819d894c87d5abc3",
       "max": 21657.0,
       "min": 0.0,
       "orientation": "horizontal",
       "style": "IPY_MODEL_4cdda55d8b0e4af1a35c084a8f57ba61",
       "tabbable": null,
       "tooltip": null,
       "value": 21657.0
      }
     },
     "c5bd22c9a3e74da5a6cf88f298a16883": {
      "model_module": "@jupyter-widgets/controls",
      "model_module_version": "2.0.0",
      "model_name": "HTMLModel",
      "state": {
       "_dom_classes": [],
       "_model_module": "@jupyter-widgets/controls",
       "_model_module_version": "2.0.0",
       "_model_name": "HTMLModel",
       "_view_count": null,
       "_view_module": "@jupyter-widgets/controls",
       "_view_module_version": "2.0.0",
       "_view_name": "HTMLView",
       "description": "",
       "description_allow_html": false,
       "layout": "IPY_MODEL_10ca9b22f36642fc8c31d158bfda8b6a",
       "placeholder": "​",
       "style": "IPY_MODEL_cf5e8cc84b9e462ca5dd2984707ddabe",
       "tabbable": null,
       "tooltip": null,
       "value": "100%"
      }
     },
     "cf5e8cc84b9e462ca5dd2984707ddabe": {
      "model_module": "@jupyter-widgets/controls",
      "model_module_version": "2.0.0",
      "model_name": "HTMLStyleModel",
      "state": {
       "_model_module": "@jupyter-widgets/controls",
       "_model_module_version": "2.0.0",
       "_model_name": "HTMLStyleModel",
       "_view_count": null,
       "_view_module": "@jupyter-widgets/base",
       "_view_module_version": "2.0.0",
       "_view_name": "StyleView",
       "background": null,
       "description_width": "",
       "font_size": null,
       "text_color": null
      }
     }
    },
    "version_major": 2,
    "version_minor": 0
   }
  }
 },
 "nbformat": 4,
 "nbformat_minor": 5
}
